{
 "metadata": {
  "name": "",
  "signature": "sha256:7ad9f820ae3b55bad5f75202dbb3622a68a9a9e15e184f4fd598b52155e25414"
 },
 "nbformat": 3,
 "nbformat_minor": 0,
 "worksheets": [
  {
   "cells": [
    {
     "cell_type": "markdown",
     "metadata": {},
     "source": [
      "# PDataFrame"
     ]
    },
    {
     "cell_type": "code",
     "collapsed": false,
     "input": [
      "#!wget https://www.dropbox.com/s//PDataFrame.py -O PDataFrame.py\n",
      "import PDataFrame as pdf\n",
      "#help('PDataFrame')\n",
      "#!cat PDataFrame.py"
     ],
     "language": "python",
     "metadata": {},
     "outputs": [],
     "prompt_number": 10
    },
    {
     "cell_type": "markdown",
     "metadata": {},
     "source": [
      "The `PDataFrame` class provides a persistant data frame (it is saved to a csv file on the disk). This is useful to collect information in iPython notebooks without having to add it into the notebooks itself. Use cases\n",
      "\n",
      "- **Bookmarks** - a notebook might rely on a number of different URL's eg to download different data series; those URL's can be stored in the notebook, but if there are too many of them then it might be cleaner to save them in a separate (and transferable!) bookmarks file\n",
      "\n",
      "- **Results** - when running various analysis / simulations (eg by changing the initial conditions) one might want to keep track of the results; again a `PDataFrame` might be a good target for that\n",
      "\n"
     ]
    },
    {
     "cell_type": "markdown",
     "metadata": {},
     "source": [
      "## Example: Bookmarks\n",
      "\n",
      "create a persistant data frame (run only once; will erase all data otherwise!)"
     ]
    },
    {
     "cell_type": "code",
     "collapsed": false,
     "input": [
      "pdf.PDataFrame.create('PDataFrame.csv', ('key', 'description'))"
     ],
     "language": "python",
     "metadata": {},
     "outputs": [],
     "prompt_number": 2
    },
    {
     "cell_type": "markdown",
     "metadata": {},
     "source": [
      "enter data into the dataframe; this code only has to be run once, ie it can be removed afterwards; it can be run more than once without issue though, as long as the keys don't change the contents is simply overwritten"
     ]
    },
    {
     "cell_type": "code",
     "collapsed": false,
     "input": [
      "bm = pdf.PDataFrame('PDataFrame.csv')\n",
      "bm.set('deposit', ('ILM.W.U2.C.L022.U2.EUR', 'current usage of the deposit facility'))\n",
      "bm.set('lending', ('ILM.M.U2.C.A05B.U2.EUR', 'current aggregate usage of major lending facilities'))\n",
      "bm.set('lending_marg', ('ILM.W.U2.C.A055.U2.EUR', 'current usage of the marginal lending facility'))\n",
      "bm.set('another_one', ('NA.NA', 'lorem ipsum'))"
     ],
     "language": "python",
     "metadata": {},
     "outputs": [],
     "prompt_number": 3
    },
    {
     "cell_type": "markdown",
     "metadata": {},
     "source": [
      "the `get` method allows to retrieve the data"
     ]
    },
    {
     "cell_type": "code",
     "collapsed": false,
     "input": [
      "bm.get('deposit')"
     ],
     "language": "python",
     "metadata": {},
     "outputs": [
      {
       "metadata": {},
       "output_type": "pyout",
       "prompt_number": 4,
       "text": [
        "{'description': 'current usage of the deposit facility',\n",
        " 'key': 'ILM.W.U2.C.L022.U2.EUR'}"
       ]
      }
     ],
     "prompt_number": 4
    },
    {
     "cell_type": "code",
     "collapsed": false,
     "input": [
      "bm.get('deposit', 'key')"
     ],
     "language": "python",
     "metadata": {},
     "outputs": [
      {
       "metadata": {},
       "output_type": "pyout",
       "prompt_number": 5,
       "text": [
        "'ILM.W.U2.C.L022.U2.EUR'"
       ]
      }
     ],
     "prompt_number": 5
    },
    {
     "cell_type": "markdown",
     "metadata": {},
     "source": [
      "`df()` returns the underlying dataframe"
     ]
    },
    {
     "cell_type": "code",
     "collapsed": false,
     "input": [
      "bm = pdf.PDataFrame('PDataFrame.csv')\n",
      "bm.df()"
     ],
     "language": "python",
     "metadata": {},
     "outputs": [
      {
       "html": [
        "<div style=\"max-height:1000px;max-width:1500px;overflow:auto;\">\n",
        "<table border=\"1\" class=\"dataframe\">\n",
        "  <thead>\n",
        "    <tr style=\"text-align: right;\">\n",
        "      <th></th>\n",
        "      <th>key</th>\n",
        "      <th>description</th>\n",
        "    </tr>\n",
        "  </thead>\n",
        "  <tbody>\n",
        "    <tr>\n",
        "      <th>deposit</th>\n",
        "      <td> ILM.W.U2.C.L022.U2.EUR</td>\n",
        "      <td>             current usage of the deposit facility</td>\n",
        "    </tr>\n",
        "    <tr>\n",
        "      <th>lending</th>\n",
        "      <td> ILM.M.U2.C.A05B.U2.EUR</td>\n",
        "      <td> current aggregate usage of major lending facil...</td>\n",
        "    </tr>\n",
        "    <tr>\n",
        "      <th>lending_marg</th>\n",
        "      <td> ILM.W.U2.C.A055.U2.EUR</td>\n",
        "      <td>    current usage of the marginal lending facility</td>\n",
        "    </tr>\n",
        "    <tr>\n",
        "      <th>another_one</th>\n",
        "      <td>                  NA.NA</td>\n",
        "      <td>                                       lorem ipsum</td>\n",
        "    </tr>\n",
        "  </tbody>\n",
        "</table>\n",
        "<p>4 rows \u00d7 2 columns</p>\n",
        "</div>"
       ],
       "metadata": {},
       "output_type": "pyout",
       "prompt_number": 6,
       "text": [
        "                                 key  \\\n",
        "deposit       ILM.W.U2.C.L022.U2.EUR   \n",
        "lending       ILM.M.U2.C.A05B.U2.EUR   \n",
        "lending_marg  ILM.W.U2.C.A055.U2.EUR   \n",
        "another_one                    NA.NA   \n",
        "\n",
        "                                                    description  \n",
        "deposit                   current usage of the deposit facility  \n",
        "lending       current aggregate usage of major lending facil...  \n",
        "lending_marg     current usage of the marginal lending facility  \n",
        "another_one                                         lorem ipsum  \n",
        "\n",
        "[4 rows x 2 columns]"
       ]
      }
     ],
     "prompt_number": 6
    },
    {
     "cell_type": "markdown",
     "metadata": {},
     "source": [
      "rows can be deleted using `delete`"
     ]
    },
    {
     "cell_type": "code",
     "collapsed": false,
     "input": [
      "bm.delete('another_one')"
     ],
     "language": "python",
     "metadata": {},
     "outputs": [],
     "prompt_number": 7
    },
    {
     "cell_type": "code",
     "collapsed": false,
     "input": [
      "bm = pdf.PDataFrame('PDataFrame.csv')\n",
      "bm.df()"
     ],
     "language": "python",
     "metadata": {},
     "outputs": [
      {
       "html": [
        "<div style=\"max-height:1000px;max-width:1500px;overflow:auto;\">\n",
        "<table border=\"1\" class=\"dataframe\">\n",
        "  <thead>\n",
        "    <tr style=\"text-align: right;\">\n",
        "      <th></th>\n",
        "      <th>key</th>\n",
        "      <th>description</th>\n",
        "    </tr>\n",
        "  </thead>\n",
        "  <tbody>\n",
        "    <tr>\n",
        "      <th>deposit</th>\n",
        "      <td> ILM.W.U2.C.L022.U2.EUR</td>\n",
        "      <td>             current usage of the deposit facility</td>\n",
        "    </tr>\n",
        "    <tr>\n",
        "      <th>lending</th>\n",
        "      <td> ILM.M.U2.C.A05B.U2.EUR</td>\n",
        "      <td> current aggregate usage of major lending facil...</td>\n",
        "    </tr>\n",
        "    <tr>\n",
        "      <th>lending_marg</th>\n",
        "      <td> ILM.W.U2.C.A055.U2.EUR</td>\n",
        "      <td>    current usage of the marginal lending facility</td>\n",
        "    </tr>\n",
        "  </tbody>\n",
        "</table>\n",
        "<p>3 rows \u00d7 2 columns</p>\n",
        "</div>"
       ],
       "metadata": {},
       "output_type": "pyout",
       "prompt_number": 8,
       "text": [
        "                                 key  \\\n",
        "deposit       ILM.W.U2.C.L022.U2.EUR   \n",
        "lending       ILM.M.U2.C.A05B.U2.EUR   \n",
        "lending_marg  ILM.W.U2.C.A055.U2.EUR   \n",
        "\n",
        "                                                    description  \n",
        "deposit                   current usage of the deposit facility  \n",
        "lending       current aggregate usage of major lending facil...  \n",
        "lending_marg     current usage of the marginal lending facility  \n",
        "\n",
        "[3 rows x 2 columns]"
       ]
      }
     ],
     "prompt_number": 8
    },
    {
     "cell_type": "code",
     "collapsed": false,
     "input": [],
     "language": "python",
     "metadata": {},
     "outputs": [],
     "prompt_number": 8
    }
   ],
   "metadata": {}
  }
 ]
}