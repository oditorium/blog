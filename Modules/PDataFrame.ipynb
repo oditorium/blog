{
 "cells": [
  {
   "cell_type": "markdown",
   "metadata": {},
   "source": [
    "# PDataFrame"
   ]
  },
  {
   "cell_type": "code",
   "execution_count": 10,
   "metadata": {
    "collapsed": false
   },
   "outputs": [],
   "source": [
    "#!wget https://www.dropbox.com/s//PDataFrame.py -O PDataFrame.py\n",
    "import PDataFrame as pdf\n",
    "#help('PDataFrame')\n",
    "#!cat PDataFrame.py"
   ]
  },
  {
   "cell_type": "markdown",
   "metadata": {},
   "source": [
    "The `PDataFrame` class provides a persistant data frame (it is saved to a csv file on the disk). This is useful to collect information in iPython notebooks without having to add it into the notebooks itself. Use cases\n",
    "\n",
    "- **Bookmarks** - a notebook might rely on a number of different URL's eg to download different data series; those URL's can be stored in the notebook, but if there are too many of them then it might be cleaner to save them in a separate (and transferable!) bookmarks file\n",
    "\n",
    "- **Results** - when running various analysis / simulations (eg by changing the initial conditions) one might want to keep track of the results; again a `PDataFrame` might be a good target for that\n",
    "\n"
   ]
  },
  {
   "cell_type": "markdown",
   "metadata": {},
   "source": [
    "## Example: Bookmarks\n",
    "\n",
    "create a persistant data frame (run only once; will erase all data otherwise!)"
   ]
  },
  {
   "cell_type": "code",
   "execution_count": 2,
   "metadata": {
    "collapsed": false
   },
   "outputs": [],
   "source": [
    "pdf.PDataFrame.create('PDataFrame.csv', ('key', 'description'))"
   ]
  },
  {
   "cell_type": "markdown",
   "metadata": {},
   "source": [
    "enter data into the dataframe; this code only has to be run once, ie it can be removed afterwards; it can be run more than once without issue though, as long as the keys don't change the contents is simply overwritten"
   ]
  },
  {
   "cell_type": "code",
   "execution_count": 3,
   "metadata": {
    "collapsed": false
   },
   "outputs": [],
   "source": [
    "bm = pdf.PDataFrame('PDataFrame.csv')\n",
    "bm.set('deposit', ('ILM.W.U2.C.L022.U2.EUR', 'current usage of the deposit facility'))\n",
    "bm.set('lending', ('ILM.M.U2.C.A05B.U2.EUR', 'current aggregate usage of major lending facilities'))\n",
    "bm.set('lending_marg', ('ILM.W.U2.C.A055.U2.EUR', 'current usage of the marginal lending facility'))\n",
    "bm.set('another_one', ('NA.NA', 'lorem ipsum'))"
   ]
  },
  {
   "cell_type": "markdown",
   "metadata": {},
   "source": [
    "the `get` method allows to retrieve the data"
   ]
  },
  {
   "cell_type": "code",
   "execution_count": 4,
   "metadata": {
    "collapsed": false
   },
   "outputs": [
    {
     "data": {
      "text/plain": [
       "{'description': 'current usage of the deposit facility',\n",
       " 'key': 'ILM.W.U2.C.L022.U2.EUR'}"
      ]
     },
     "execution_count": 4,
     "metadata": {},
     "output_type": "execute_result"
    }
   ],
   "source": [
    "bm.get('deposit')"
   ]
  },
  {
   "cell_type": "code",
   "execution_count": 5,
   "metadata": {
    "collapsed": false
   },
   "outputs": [
    {
     "data": {
      "text/plain": [
       "'ILM.W.U2.C.L022.U2.EUR'"
      ]
     },
     "execution_count": 5,
     "metadata": {},
     "output_type": "execute_result"
    }
   ],
   "source": [
    "bm.get('deposit', 'key')"
   ]
  },
  {
   "cell_type": "markdown",
   "metadata": {},
   "source": [
    "`df()` returns the underlying dataframe"
   ]
  },
  {
   "cell_type": "code",
   "execution_count": 6,
   "metadata": {
    "collapsed": false
   },
   "outputs": [
    {
     "data": {
      "text/html": [
       "<div style=\"max-height:1000px;max-width:1500px;overflow:auto;\">\n",
       "<table border=\"1\" class=\"dataframe\">\n",
       "  <thead>\n",
       "    <tr style=\"text-align: right;\">\n",
       "      <th></th>\n",
       "      <th>key</th>\n",
       "      <th>description</th>\n",
       "    </tr>\n",
       "  </thead>\n",
       "  <tbody>\n",
       "    <tr>\n",
       "      <th>deposit</th>\n",
       "      <td> ILM.W.U2.C.L022.U2.EUR</td>\n",
       "      <td>             current usage of the deposit facility</td>\n",
       "    </tr>\n",
       "    <tr>\n",
       "      <th>lending</th>\n",
       "      <td> ILM.M.U2.C.A05B.U2.EUR</td>\n",
       "      <td> current aggregate usage of major lending facil...</td>\n",
       "    </tr>\n",
       "    <tr>\n",
       "      <th>lending_marg</th>\n",
       "      <td> ILM.W.U2.C.A055.U2.EUR</td>\n",
       "      <td>    current usage of the marginal lending facility</td>\n",
       "    </tr>\n",
       "    <tr>\n",
       "      <th>another_one</th>\n",
       "      <td>                  NA.NA</td>\n",
       "      <td>                                       lorem ipsum</td>\n",
       "    </tr>\n",
       "  </tbody>\n",
       "</table>\n",
       "<p>4 rows × 2 columns</p>\n",
       "</div>"
      ],
      "text/plain": [
       "                                 key  \\\n",
       "deposit       ILM.W.U2.C.L022.U2.EUR   \n",
       "lending       ILM.M.U2.C.A05B.U2.EUR   \n",
       "lending_marg  ILM.W.U2.C.A055.U2.EUR   \n",
       "another_one                    NA.NA   \n",
       "\n",
       "                                                    description  \n",
       "deposit                   current usage of the deposit facility  \n",
       "lending       current aggregate usage of major lending facil...  \n",
       "lending_marg     current usage of the marginal lending facility  \n",
       "another_one                                         lorem ipsum  \n",
       "\n",
       "[4 rows x 2 columns]"
      ]
     },
     "execution_count": 6,
     "metadata": {},
     "output_type": "execute_result"
    }
   ],
   "source": [
    "bm = pdf.PDataFrame('PDataFrame.csv')\n",
    "bm.df()"
   ]
  },
  {
   "cell_type": "markdown",
   "metadata": {},
   "source": [
    "rows can be deleted using `delete`"
   ]
  },
  {
   "cell_type": "code",
   "execution_count": 7,
   "metadata": {
    "collapsed": false
   },
   "outputs": [],
   "source": [
    "bm.delete('another_one')"
   ]
  },
  {
   "cell_type": "code",
   "execution_count": 8,
   "metadata": {
    "collapsed": false
   },
   "outputs": [
    {
     "data": {
      "text/html": [
       "<div style=\"max-height:1000px;max-width:1500px;overflow:auto;\">\n",
       "<table border=\"1\" class=\"dataframe\">\n",
       "  <thead>\n",
       "    <tr style=\"text-align: right;\">\n",
       "      <th></th>\n",
       "      <th>key</th>\n",
       "      <th>description</th>\n",
       "    </tr>\n",
       "  </thead>\n",
       "  <tbody>\n",
       "    <tr>\n",
       "      <th>deposit</th>\n",
       "      <td> ILM.W.U2.C.L022.U2.EUR</td>\n",
       "      <td>             current usage of the deposit facility</td>\n",
       "    </tr>\n",
       "    <tr>\n",
       "      <th>lending</th>\n",
       "      <td> ILM.M.U2.C.A05B.U2.EUR</td>\n",
       "      <td> current aggregate usage of major lending facil...</td>\n",
       "    </tr>\n",
       "    <tr>\n",
       "      <th>lending_marg</th>\n",
       "      <td> ILM.W.U2.C.A055.U2.EUR</td>\n",
       "      <td>    current usage of the marginal lending facility</td>\n",
       "    </tr>\n",
       "  </tbody>\n",
       "</table>\n",
       "<p>3 rows × 2 columns</p>\n",
       "</div>"
      ],
      "text/plain": [
       "                                 key  \\\n",
       "deposit       ILM.W.U2.C.L022.U2.EUR   \n",
       "lending       ILM.M.U2.C.A05B.U2.EUR   \n",
       "lending_marg  ILM.W.U2.C.A055.U2.EUR   \n",
       "\n",
       "                                                    description  \n",
       "deposit                   current usage of the deposit facility  \n",
       "lending       current aggregate usage of major lending facil...  \n",
       "lending_marg     current usage of the marginal lending facility  \n",
       "\n",
       "[3 rows x 2 columns]"
      ]
     },
     "execution_count": 8,
     "metadata": {},
     "output_type": "execute_result"
    }
   ],
   "source": [
    "bm = pdf.PDataFrame('PDataFrame.csv')\n",
    "bm.df()"
   ]
  },
  {
   "cell_type": "code",
   "execution_count": 8,
   "metadata": {
    "collapsed": false
   },
   "outputs": [],
   "source": []
  }
 ],
 "metadata": {
  "kernelspec": {
   "display_name": "Python 3",
   "language": "python",
   "name": "python3"
  },
  "language_info": {
   "codemirror_mode": {
    "name": "ipython",
    "version": 3
   },
   "file_extension": ".py",
   "mimetype": "text/x-python",
   "name": "python",
   "nbconvert_exporter": "python",
   "pygments_lexer": "ipython3",
   "version": "3.4.3"
  }
 },
 "nbformat": 4,
 "nbformat_minor": 0
}
