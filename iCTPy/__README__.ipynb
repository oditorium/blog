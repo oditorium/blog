{
 "metadata": {
  "name": "",
  "signature": "sha256:a0b0cc7c79e5d05c83da8d671f1d381862b2f99faade09bd3cae11bcad88f9a4"
 },
 "nbformat": 3,
 "nbformat_minor": 0,
 "worksheets": [
  {
   "cells": [
    {
     "cell_type": "markdown",
     "metadata": {},
     "source": [
      "# iCT-Python\n",
      "\n",
      "Python for ICT"
     ]
    },
    {
     "cell_type": "code",
     "collapsed": false,
     "input": [],
     "language": "python",
     "metadata": {},
     "outputs": []
    }
   ],
   "metadata": {}
  }
 ]
}