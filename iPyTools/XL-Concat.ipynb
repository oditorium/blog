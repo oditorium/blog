{
 "metadata": {
  "name": "",
  "signature": "sha256:d071203d9de7be88356eac3c8dc126779b1fef7f3285770dd0a7fc8f8e953f3c"
 },
 "nbformat": 3,
 "nbformat_minor": 0,
 "worksheets": [
  {
   "cells": [
    {
     "cell_type": "markdown",
     "metadata": {},
     "source": [
      "# Excel Concatenation\n",
      "just paste a range here (if it is rectangular, the concatenation happens first along the rows)"
     ]
    },
    {
     "cell_type": "code",
     "collapsed": false,
     "input": [
      "cells = \"\"\"\n",
      "1\t2\t3\t4\n",
      "1\t2\t3\t4\n",
      "1\t2\t3\t4\n",
      "\"\"\""
     ],
     "language": "python",
     "metadata": {},
     "outputs": [],
     "prompt_number": 1
    },
    {
     "cell_type": "code",
     "collapsed": false,
     "input": [
      "import re\n",
      "\", \".join(re.split(\"\\n|\\t\", cells.strip()))"
     ],
     "language": "python",
     "metadata": {},
     "outputs": [
      {
       "metadata": {},
       "output_type": "pyout",
       "prompt_number": 2,
       "text": [
        "'1, 2, 3, 4, 1, 2, 3, 4, 1, 2, 3, 4'"
       ]
      }
     ],
     "prompt_number": 2
    }
   ],
   "metadata": {}
  }
 ]
}