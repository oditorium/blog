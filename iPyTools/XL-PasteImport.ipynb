{
 "metadata": {
  "name": "",
  "signature": "sha256:27ee6479d9a69a06c90dcbfd3657417589b48cfaa002db352b97eac26924546c"
 },
 "nbformat": 3,
 "nbformat_minor": 0,
 "worksheets": [
  {
   "cells": [
    {
     "cell_type": "markdown",
     "metadata": {},
     "source": [
      "# Excel - Paste Import\n",
      "sometimes we just want to import Excel data by pasting it (it pastes as `\\n` separated rows, where the fields are separated by `\\t`"
     ]
    },
    {
     "cell_type": "markdown",
     "metadata": {},
     "source": [
      "## Ranges"
     ]
    },
    {
     "cell_type": "code",
     "collapsed": false,
     "input": [
      "data_string = \"\"\"\n",
      "1\t2\t3\t4\n",
      "11\t12\t13\t14\n",
      "21\t22\t23\t24\n",
      "31\t32\t33\t34\n",
      "41\t42\t43\t44\n",
      "51\t52\t53\t54\n",
      "\"\"\"\n",
      "data_string = data_string.strip()"
     ],
     "language": "python",
     "metadata": {},
     "outputs": [],
     "prompt_number": 1
    },
    {
     "cell_type": "code",
     "collapsed": false,
     "input": [
      "data = [line.split('\\t') for line in data_string.split('\\n')]\n",
      "data"
     ],
     "language": "python",
     "metadata": {},
     "outputs": [
      {
       "metadata": {},
       "output_type": "pyout",
       "prompt_number": 2,
       "text": [
        "[['1', '2', '3', '4'],\n",
        " ['11', '12', '13', '14'],\n",
        " ['21', '22', '23', '24'],\n",
        " ['31', '32', '33', '34'],\n",
        " ['41', '42', '43', '44'],\n",
        " ['51', '52', '53', '54']]"
       ]
      }
     ],
     "prompt_number": 2
    },
    {
     "cell_type": "code",
     "collapsed": false,
     "input": [
      "data_f = [list(map(float,line.split('\\t'))) for line in data_string.split('\\n')]\n",
      "data_f"
     ],
     "language": "python",
     "metadata": {},
     "outputs": [
      {
       "metadata": {},
       "output_type": "pyout",
       "prompt_number": 3,
       "text": [
        "[[1.0, 2.0, 3.0, 4.0],\n",
        " [11.0, 12.0, 13.0, 14.0],\n",
        " [21.0, 22.0, 23.0, 24.0],\n",
        " [31.0, 32.0, 33.0, 34.0],\n",
        " [41.0, 42.0, 43.0, 44.0],\n",
        " [51.0, 52.0, 53.0, 54.0]]"
       ]
      }
     ],
     "prompt_number": 3
    },
    {
     "cell_type": "code",
     "collapsed": false,
     "input": [
      "data_i = [list(map(int,line.split('\\t'))) for line in data_string.split('\\n')]\n",
      "data_i"
     ],
     "language": "python",
     "metadata": {},
     "outputs": [
      {
       "metadata": {},
       "output_type": "pyout",
       "prompt_number": 4,
       "text": [
        "[[1, 2, 3, 4],\n",
        " [11, 12, 13, 14],\n",
        " [21, 22, 23, 24],\n",
        " [31, 32, 33, 34],\n",
        " [41, 42, 43, 44],\n",
        " [51, 52, 53, 54]]"
       ]
      }
     ],
     "prompt_number": 4
    },
    {
     "cell_type": "code",
     "collapsed": false,
     "input": [
      "data_i = [list(map(int, row)) for row in data]\n",
      "data_i"
     ],
     "language": "python",
     "metadata": {},
     "outputs": [
      {
       "metadata": {},
       "output_type": "pyout",
       "prompt_number": 5,
       "text": [
        "[[1, 2, 3, 4],\n",
        " [11, 12, 13, 14],\n",
        " [21, 22, 23, 24],\n",
        " [31, 32, 33, 34],\n",
        " [41, 42, 43, 44],\n",
        " [51, 52, 53, 54]]"
       ]
      }
     ],
     "prompt_number": 5
    },
    {
     "cell_type": "markdown",
     "metadata": {},
     "source": [
      "### Export\n",
      "the table below can be pasted into Excel; then apply `Text to Columns...` from the `Data` menu to expand it into a full range (must choose `delimited` and `comma` for this to work)"
     ]
    },
    {
     "cell_type": "code",
     "collapsed": false,
     "input": [
      "str0 = \"\\n\".join(\",\".join(map(str, data_row)) for data_row in data_i)\n",
      "print (str0)"
     ],
     "language": "python",
     "metadata": {},
     "outputs": [
      {
       "output_type": "stream",
       "stream": "stdout",
       "text": [
        "1,2,3,4\n",
        "11,12,13,14\n",
        "21,22,23,24\n",
        "31,32,33,34\n",
        "41,42,43,44\n",
        "51,52,53,54\n"
       ]
      }
     ],
     "prompt_number": 6
    },
    {
     "cell_type": "markdown",
     "metadata": {},
     "source": [
      "## Rows or Colums"
     ]
    },
    {
     "cell_type": "code",
     "collapsed": false,
     "input": [
      "data_string = \"\"\"\n",
      "1\n",
      "11\n",
      "21\n",
      "31\n",
      "41\n",
      "51\n",
      "\"\"\"\n",
      "data_string = data_string.strip()"
     ],
     "language": "python",
     "metadata": {},
     "outputs": [],
     "prompt_number": 7
    },
    {
     "cell_type": "code",
     "collapsed": false,
     "input": [
      "#data_string = \"\"\"\n",
      "#1\t2\t3\t4\n",
      "#\"\"\"\n",
      "#data_string = data_string.strip()"
     ],
     "language": "python",
     "metadata": {},
     "outputs": [],
     "prompt_number": 8
    },
    {
     "cell_type": "code",
     "collapsed": false,
     "input": [
      "import re\n",
      "data = re.split(\"\\t|\\n\", data_string)\n",
      "data"
     ],
     "language": "python",
     "metadata": {},
     "outputs": [
      {
       "metadata": {},
       "output_type": "pyout",
       "prompt_number": 9,
       "text": [
        "['1', '11', '21', '31', '41', '51']"
       ]
      }
     ],
     "prompt_number": 9
    },
    {
     "cell_type": "code",
     "collapsed": false,
     "input": [
      "data_f = list(map(float,re.split(\"\\t|\\n\", data_string)))\n",
      "data_f"
     ],
     "language": "python",
     "metadata": {},
     "outputs": [
      {
       "metadata": {},
       "output_type": "pyout",
       "prompt_number": 10,
       "text": [
        "[1.0, 11.0, 21.0, 31.0, 41.0, 51.0]"
       ]
      }
     ],
     "prompt_number": 10
    },
    {
     "cell_type": "code",
     "collapsed": false,
     "input": [
      "data_i = list(map(int,re.split(\"\\t|\\n\", data_string)))\n",
      "data_i"
     ],
     "language": "python",
     "metadata": {},
     "outputs": [
      {
       "metadata": {},
       "output_type": "pyout",
       "prompt_number": 11,
       "text": [
        "[1, 11, 21, 31, 41, 51]"
       ]
      }
     ],
     "prompt_number": 11
    },
    {
     "cell_type": "markdown",
     "metadata": {},
     "source": [
      "### Export\n",
      "the first emits rows that paste directly into Excel; for the second, like about `Text to Columns...` has to be used"
     ]
    },
    {
     "cell_type": "code",
     "collapsed": false,
     "input": [
      "str0 = \"\\n\".join(map(str, data_i))\n",
      "print (str0)"
     ],
     "language": "python",
     "metadata": {},
     "outputs": [
      {
       "output_type": "stream",
       "stream": "stdout",
       "text": [
        "1\n",
        "11\n",
        "21\n",
        "31\n",
        "41\n",
        "51\n"
       ]
      }
     ],
     "prompt_number": 12
    },
    {
     "cell_type": "code",
     "collapsed": false,
     "input": [
      "str0 = \",\".join(map(str, data_i))\n",
      "print (str0)"
     ],
     "language": "python",
     "metadata": {},
     "outputs": [
      {
       "output_type": "stream",
       "stream": "stdout",
       "text": [
        "1,11,21,31,41,51\n"
       ]
      }
     ],
     "prompt_number": 13
    }
   ],
   "metadata": {}
  }
 ]
}