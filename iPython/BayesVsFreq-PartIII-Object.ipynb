{
 "cells": [
  {
   "cell_type": "code",
   "execution_count": 1,
   "metadata": {
    "collapsed": false
   },
   "outputs": [],
   "source": [
    "import numpy as np\n",
    "import matplotlib.pyplot as plt\n",
    "\n",
    "\n",
    "import operator as op\n",
    "import functools as ft\n",
    "\n",
    "def summ(a_map):\n",
    "    \"sum(map) does not do what one would expect it to do, but summ(map) does\"\n",
    "    return ft.reduce(op.add, a_map)\n",
    "\n",
    "def integr(acc, new):\n",
    "    \"reduction function to compute an integral\"\n",
    "    if not acc: \n",
    "        acc = [0]\n",
    "        last = 0\n",
    "    else:\n",
    "        last = acc[-1]\n",
    "        \n",
    "    acc.append(last+new)\n",
    "    return acc\n",
    "  \n",
    "def pf(Proba):\n",
    "    \"converting uniform draw into binary draw (factory function)\"\n",
    "    def f(x):\n",
    "        return 0 if x>P else 1\n",
    "    f.__doc__ = \"converts uniform draw into binary draw with proba %.4f\" % Proba\n",
    "    return f\n",
    "\n",
    "from scipy.misc import comb\n",
    "def pdf(n,p,k):\n",
    "    \"the binomial density function B(n,p,k)\"\n",
    "    return comb(n, k) * p**k * (1-p)**(n-k)"
   ]
  },
  {
   "cell_type": "code",
   "execution_count": 2,
   "metadata": {
    "collapsed": false
   },
   "outputs": [],
   "source": [
    "def gaussf(mu=0.0,sig=1.0):\n",
    "    \"factory function, returning an unnormalised Gaussian\"\n",
    "    def _gaussf(x):\n",
    "        z = (x - mu)/sig\n",
    "        return exp(-z*z)\n",
    "    \n",
    "    _gaussf.__doc__ = \"unnormalised Gaussian (mu=%f, sig=%f)\" % (mu,sig)\n",
    "    return _gaussf\n",
    "\n",
    "def constf(c=1.0):\n",
    "    \"factory function, returning an constant function\"\n",
    "    def _constf(x):\n",
    "        return c + 0 * x\n",
    "\n",
    "    _constf.__doc__ = \"constant function (c=%f)\" % (c)\n",
    "    return _constf\n",
    "\n",
    "def normalised(y, x):\n",
    "    \"returns normalised y-vector (unity integral, over x; x assumed to be equally spaced)\"\n",
    "    dx = x[1] - x[0]\n",
    "    s = sum(y) * dx\n",
    "    return y / s\n",
    "\n",
    "#f = constf()\n",
    "#g = gaussf()\n",
    "#help(g)"
   ]
  },
  {
   "cell_type": "code",
   "execution_count": 3,
   "metadata": {
    "collapsed": false
   },
   "outputs": [],
   "source": [
    "class bayes2:\n",
    "    \"\"\"simple class allowing to compute Bayesian combination of two measurements\n",
    "    \n",
    "    DESCRIPTION\n",
    "        \n",
    "        the following properties are used to construct the data\n",
    "\n",
    "            min, max, n - support area (and grid steps)\n",
    "            mu1, sig1 - first measurement\n",
    "            mu2, sig2 - second measurement\n",
    "\n",
    "            title, xlabel, ylabel - graph labels\n",
    "       \n",
    "       the function draw() then draws it\n",
    "        \n",
    "    DEPENDENCIES\n",
    "        \n",
    "        normalised()\n",
    "        gaussf()\n",
    "        constf()\n",
    "    \"\"\"\n",
    "\n",
    "    \n",
    "    def __init__(self):\n",
    "        self.n = 1000\n",
    "        \n",
    "        self.mu1 = 5\n",
    "        self.sig1 = 1\n",
    "        self.mu2 = 6\n",
    "        self.sig2 = 2\n",
    "        \n",
    "        self.min = 0.\n",
    "        self.max = 10.\n",
    "        \n",
    "        self.title = 'Measurements and Bayesian post density function'\n",
    "        self.xlabel = 'probability space location'\n",
    "        self.ylabel = 'probability density'\n",
    "        \n",
    "    def draw(self):\n",
    "        x = np.linspace(self.min, self.max, 1000)\n",
    "        prior = constf(0.5)(x)\n",
    "        f1 = normalised(gaussf(self.mu1,self.sig1)(x),x)\n",
    "        f2 = normalised(gaussf(self.mu2,self.sig2)(x),x)\n",
    "        ff = normalised(f1 * f2,x)\n",
    "        #plt.plot(x,prior, label='prior')\n",
    "        plt.plot(x,f1, 'k--', label='m1')\n",
    "        plt.plot(x,f2,  'k--', label='m2')\n",
    "        plt.plot(x,ff, 'r-', label='post')\n",
    "        plt.title(self.title)\n",
    "        plt.xlabel(self.xlabel)\n",
    "        plt.ylabel(self.ylabel)\n",
    "        plt.legend()\n",
    "        plt.show()\n",
    "\n",
    "b = bayes2()"
   ]
  },
  {
   "cell_type": "code",
   "execution_count": 50,
   "metadata": {
    "collapsed": false
   },
   "outputs": [],
   "source": [
    "def gaussf(mu=0.0,sig=1.0):\n",
    "    \"\"\"factory function, returning an unnormalised Gaussian\n",
    "    \"\"\"\n",
    "    def _gaussf(x):\n",
    "        z = (x - mu)/sig\n",
    "        return exp(-z*z)\n",
    "\n",
    "    _gaussf.__doc__ = \"unnormalised Gaussian (mu=%f, sig=%f)\" % (mu,sig)\n",
    "    return _gaussf\n",
    "\n",
    "def stepf (min=None, max=None):\n",
    "    \"\"\"factory function, returning a step function\n",
    "\n",
    "    the returned function yields 1 between min and max (inclusive), 0 else\n",
    "    None means -infty / +infty respectively\n",
    "    \"\"\"\n",
    "    if min == None: min = float(\"-inf\")\n",
    "    if max == None: max = float(\"inf\")\n",
    "        \n",
    "    def _stepf(x):\n",
    "        if x > max or x < min: return 0.\n",
    "        else: return 1.\n",
    "\n",
    "    _stepf.__doc__ = \"step function (min=%f, max=%f)\" % (min,max)\n",
    "    return _stepf\n",
    "\n",
    "\n",
    "class bayes:\n",
    "    \n",
    "    def __init__(self, min=0., max=1., steps=100):\n",
    "        self.min = min\n",
    "        self.max = max\n",
    "        self.steps = steps\n",
    "        self.dx = (max-min)/steps\n",
    "        self.x = np.linspace(self.min, self.max, self.steps)\n",
    "        \n",
    "        self.title = 'Measurements and Bayesian post density function'\n",
    "        self.xlabel = 'probability space location'\n",
    "        self.ylabel = 'probability density'\n",
    "\n",
    "        self._funcs = []\n",
    "        self.labels = []\n",
    "        return\n",
    "    \n",
    "    def normalise(self, f):\n",
    "        \"\"\"normalise a function vector to unit mass\"\"\"\n",
    "        \n",
    "        integral = sum(f) * self.dx\n",
    "        return f/integral\n",
    "        \n",
    "    \n",
    "    def addf (self, f, label=None, normalise=True):\n",
    "        y = list(map(f, self.x))\n",
    "        y = self.normalise(y)\n",
    "        self._funcs.append(y)\n",
    "        self.labels.append(label)\n",
    "        \n",
    "    def plot(self):\n",
    "        \n",
    "        for i, y in enumerate(self._funcs):\n",
    "            plt.plot(self.x, y, label=self.labels[i])\n",
    "        \n",
    "        plt.title(self.title)\n",
    "        plt.xlabel(self.xlabel)\n",
    "        plt.ylabel(self.ylabel)\n",
    "        plt.legend()\n",
    "        plt.show()\n",
    "\n",
    "            \n",
    "b = bayes()            \n",
    "    "
   ]
  },
  {
   "cell_type": "code",
   "execution_count": 55,
   "metadata": {
    "collapsed": false
   },
   "outputs": [
    {
     "data": {
      "image/png": "[encoded data removed]",
      "text/plain": [
       "<matplotlib.figure.Figure at 0x107696cf8>"
      ]
     },
     "metadata": {},
     "output_type": "display_data"
    }
   ],
   "source": [
    "b = bayes(0., 100., 100)\n",
    "b.addf(stepf(50, 70), \"step\")\n",
    "b.addf(gaussf(50,10), \"gaus\")\n",
    "b.addf(gaussf(30,5))\n",
    "b.plot()"
   ]
  },
  {
   "cell_type": "markdown",
   "metadata": {},
   "source": [
    "#Frequentist vs Bayesian statistics - Part II"
   ]
  },
  {
   "cell_type": "markdown",
   "metadata": {},
   "source": [
    "We know that in a Bayesian setting the probability of our hypothesis conditional on our data is\n",
    "$$\n",
    "P(H|D) \\propto P(D|H) \\times P(H)\n",
    "$$\n",
    "where $P(H)$ is the prior, and $P(D|H)$ is the probability of our data conditional on the hypothesis. \n",
    "\n",
    "What we are looking at now is a situation where we have two measurements for the same quantity, say two people measuring a length. One of the measurements is $\\mu_1, \\sigma_1$ (in the sense that the measurement we've got is $\\mu_1$, and the measurement carries a Gaussian error of standard deviation $\\sigma_1$), and the other one is $\\mu_2, \\sigma_2$.\n",
    "\n",
    "In principle we are starting with a flat prior $P(H)$*, that we are then updating with the first measurement to obtain our new prior $P_1(H) = P(H|D1)$, that in turn we are updating with the second measurement. \n",
    "$$\n",
    "P(H|D_1, D_2) \\propto P(D_2|H) \\times P_1(H) \\propto P(D_2|H) \\times P(D_1|H) \\times P(H)\n",
    "$$\n",
    "However, because the first prior is flat we can simply use $P(D_1|H)$ as our first and only prior.\n",
    "\n",
    "*note: in fact we are starting not with a flat prior, but with a prior that has support $[min\\ldots max]$ by virtue of the fact that we are not evaluating the functions outside of this area; this is one of the rather nice properties of this calculus: restricting the calculation area to an interval is a feature"
   ]
  },
  {
   "cell_type": "code",
   "execution_count": 10,
   "metadata": {
    "collapsed": false
   },
   "outputs": [],
   "source": []
  }
 ],
 "metadata": {
  "kernelspec": {
   "display_name": "Python 3",
   "language": "python",
   "name": "python3"
  },
  "language_info": {
   "codemirror_mode": {
    "name": "ipython",
    "version": 3
   },
   "file_extension": ".py",
   "mimetype": "text/x-python",
   "name": "python",
   "nbconvert_exporter": "python",
   "pygments_lexer": "ipython3",
   "version": "3.4.3"
  }
 },
 "nbformat": 4,
 "nbformat_minor": 0
}
