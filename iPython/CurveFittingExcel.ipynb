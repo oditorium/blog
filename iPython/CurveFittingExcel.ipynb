{
 "cells": [
  {
   "cell_type": "markdown",
   "metadata": {},
   "source": [
    "# iPython Cookbook - Linking to Excel (and Curve Fitting)\n",
    "## Get the Excel file from Dropbox\n",
    "\n",
    "An easy way to get a file on to a remote server is to put it onto Dropbox and to pick it up from there. Admittedly this is not entirely secure (everyone with the URL can pick up the file) but generally this should be acceptable: the connection to Dropbox is https so noone should be able to listen in and identify the filename (and if they can listen in then there are bigger issues anyway)\n",
    "\n",
    "First we are setting two paramters: `url` which is the full Dropbox URL of the file in question, and `force`. If the latter parameter is set to $0$ then the file is only downloaded once per kernel-reset, which allows to experiment with the analysis on the data without having to wait for the download every time. Once the analysis is frozen one might want to set `force` back to 1, which always pulls the latest copy of the Excel sheet from the server."
   ]
  },
  {
   "cell_type": "code",
   "execution_count": 1,
   "metadata": {
    "collapsed": false
   },
   "outputs": [],
   "source": [
    "force = 1\n",
    "url = 'https://www.dropbox.com/s/js5xibpv6z18mej/20140709-iPython-Data.xlsx'\n",
    "url = 'https://rawgit.com/oditorium/blog/master/iPython/20140709-iPython-Data.xlsx'"
   ]
  },
  {
   "cell_type": "markdown",
   "metadata": {},
   "source": [
    "This code downloads the file. Most of it is bookkeeping stuff actually, to ensure that files are not downloaded twice and (importantly!) that the file is overwritten rather than ending up as `.1`. The key command here is `!wget $url`."
   ]
  },
  {
   "cell_type": "code",
   "execution_count": 2,
   "metadata": {
    "collapsed": false
   },
   "outputs": [
    {
     "name": "stdout",
     "output_type": "stream",
     "text": [
      "--2014-08-12 22:11:39--  https://rawgit.com/oditorium/blog/master/iPython/20140709-iPython-Data.xlsx\n",
      "Resolving rawgit.com (rawgit.com)... 192.241.224.252\n",
      "Connecting to rawgit.com (rawgit.com)|192.241.224.252|:443... connected.\n",
      "HTTP request sent, awaiting response... 301 Moved Permanently\n",
      "Location: https://raw.githubusercontent.com/oditorium/blog/master/iPython/20140709-iPython-Data.xlsx [following]\n",
      "--2014-08-12 22:11:40--  https://raw.githubusercontent.com/oditorium/blog/master/iPython/20140709-iPython-Data.xlsx\n",
      "Resolving raw.githubusercontent.com (raw.githubusercontent.com)... 185.31.18.133\n",
      "Connecting to raw.githubusercontent.com (raw.githubusercontent.com)|185.31.18.133|:443... connected.\n",
      "HTTP request sent, awaiting response... 200 OK\n",
      "Length: 47629 (47K) [application/octet-stream]\n",
      "Saving to: ‘20140709-iPython-Data.xlsx’\n",
      "\n",
      "100%[======================================>] 47,629      --.-K/s   in 0.003s  \n",
      "\n",
      "2014-08-12 22:11:40 (17.9 MB/s) - ‘20140709-iPython-Data.xlsx’ saved [47629/47629]\n",
      "\n"
     ]
    }
   ],
   "source": [
    "from urllib.parse import urlparse\n",
    "from os.path import basename\n",
    "\n",
    "bn = basename(urlparse(url).path)\n",
    "try:\n",
    "    already_downloaded\n",
    "except:\n",
    "    already_downloaded = False\n",
    "    \n",
    "if force or not already_downloaded:\n",
    "    already_downloaded = True\n",
    "    !rm $bn\n",
    "    !wget $url\n",
    "#!ls -l"
   ]
  },
  {
   "cell_type": "markdown",
   "metadata": {},
   "source": [
    "## Import Data from Excel\n",
    "We now import the data from Excel, using `pandas`. The command is `read_excel()`. The parameter `Sheet1` indicates the sheet name, `header=0` indicates that the row 0 contains the header information, and the parameter `parse_cols=1` indicates that only 2 columns should be parsed (only necessary if the sheet contains other data)."
   ]
  },
  {
   "cell_type": "code",
   "execution_count": 3,
   "metadata": {
    "collapsed": false
   },
   "outputs": [
    {
     "data": {
      "text/html": [
       "<div style=\"max-height:1000px;max-width:1500px;overflow:auto;\">\n",
       "<table border=\"1\" class=\"dataframe\">\n",
       "  <thead>\n",
       "    <tr style=\"text-align: right;\">\n",
       "      <th></th>\n",
       "      <th>x</th>\n",
       "      <th>y</th>\n",
       "    </tr>\n",
       "  </thead>\n",
       "  <tbody>\n",
       "    <tr>\n",
       "      <th>0</th>\n",
       "      <td> 0.120357</td>\n",
       "      <td> 3.976362</td>\n",
       "    </tr>\n",
       "    <tr>\n",
       "      <th>1</th>\n",
       "      <td> 0.523168</td>\n",
       "      <td> 2.928447</td>\n",
       "    </tr>\n",
       "    <tr>\n",
       "      <th>2</th>\n",
       "      <td> 0.433736</td>\n",
       "      <td> 3.253486</td>\n",
       "    </tr>\n",
       "    <tr>\n",
       "      <th>3</th>\n",
       "      <td> 0.270884</td>\n",
       "      <td> 3.405502</td>\n",
       "    </tr>\n",
       "    <tr>\n",
       "      <th>4</th>\n",
       "      <td> 0.270422</td>\n",
       "      <td> 3.414178</td>\n",
       "    </tr>\n",
       "  </tbody>\n",
       "</table>\n",
       "<p>5 rows × 2 columns</p>\n",
       "</div>"
      ],
      "text/plain": [
       "          x         y\n",
       "0  0.120357  3.976362\n",
       "1  0.523168  2.928447\n",
       "2  0.433736  3.253486\n",
       "3  0.270884  3.405502\n",
       "4  0.270422  3.414178\n",
       "\n",
       "[5 rows x 2 columns]"
      ]
     },
     "execution_count": 3,
     "metadata": {},
     "output_type": "execute_result"
    }
   ],
   "source": [
    "import numpy as np\n",
    "import matplotlib.pyplot as plt\n",
    "import pandas as pd\n",
    "\n",
    "data = pd.read_excel(bn, 'Sheet1', header=0, parse_cols=1)\n",
    "data.head()"
   ]
  },
  {
   "cell_type": "code",
   "execution_count": 4,
   "metadata": {
    "collapsed": false
   },
   "outputs": [
    {
     "data": {
      "text/plain": [
       "[<matplotlib.lines.Line2D at 0x7ff5a3966be0>]"
      ]
     },
     "execution_count": 4,
     "metadata": {},
     "output_type": "execute_result"
    },
    {
     "data": {
      "image/png": "[encoded data removed]",
      "text/plain": [
       "<matplotlib.figure.Figure at 0x7ff5b01d2518>"
      ]
     },
     "metadata": {},
     "output_type": "display_data"
    }
   ],
   "source": [
    "plt.plot(data['x'], data['y'], '+')"
   ]
  },
  {
   "cell_type": "markdown",
   "metadata": {},
   "source": [
    "## Fit the Curve\n",
    "Now we run the curve fit. The code is identical to the one in the CurveFitting notebook."
   ]
  },
  {
   "cell_type": "code",
   "execution_count": 5,
   "metadata": {
    "collapsed": false
   },
   "outputs": [
    {
     "name": "stdout",
     "output_type": "stream",
     "text": [
      "a=1.91812508898, b=2.28743008516, c=2.35496084448\n"
     ]
    },
    {
     "data": {
      "image/png": "[encoded data removed]",
      "text/plain": [
       "<matplotlib.figure.Figure at 0x7ff5a9138668>"
      ]
     },
     "metadata": {},
     "output_type": "display_data"
    }
   ],
   "source": [
    "from scipy.optimize import curve_fit \n",
    "\n",
    "# choose the function to be fitted... \n",
    "def func (x,a,b,c):\n",
    "    return a*exp(-b*x)+c\n",
    "\n",
    "# ...and provide initial estimates for the parameters\n",
    "a0,b0,c0 = (0.5,0.5,0.5)\n",
    "\n",
    "# exectute the curve fit...\n",
    "coeffs, fiterr = curve_fit(func, data['x'], data['y'], p0=(a0,b0,c0))\n",
    "\n",
    "# ...and plot the results\n",
    "print (\"a=%s, b=%s, c=%s\" % (coeffs[0], coeffs[1], coeffs[2]))\n",
    "plt.plot(data['x'], data['y'], '+')\n",
    "plt.plot(data['x'],func(data['x'],*coeffs),'r.')\n",
    "plt.show()"
   ]
  },
  {
   "cell_type": "code",
   "execution_count": 6,
   "metadata": {
    "collapsed": false
   },
   "outputs": [
    {
     "name": "stdout",
     "output_type": "stream",
     "text": [
      "a=0.5, b=0.5, c=0.5\n"
     ]
    },
    {
     "data": {
      "image/png": "[encoded data removed]",
      "text/plain": [
       "<matplotlib.figure.Figure at 0x7ff5a3916c88>"
      ]
     },
     "metadata": {},
     "output_type": "display_data"
    }
   ],
   "source": [
    "# manually fit the curve to obtain a viable set of starting parameters\n",
    "at,bt,ct = (0.5,0.5,0.5)\n",
    "plt.plot(data['x'],data['y'], '+')\n",
    "plot(data['x'],func(data['x'],at,bt,ct), 'g.')\n",
    "print (\"a=%s, b=%s, c=%s\" % (at,bt,ct))"
   ]
  },
  {
   "cell_type": "markdown",
   "metadata": {},
   "source": [
    "## Licence and version\n",
    "*(c) Stefan Loesch / oditorium 2014; all rights reserved \n",
    "([license](https://github.com/oditorium/blog/blob/master/LICENSE))*"
   ]
  },
  {
   "cell_type": "code",
   "execution_count": 7,
   "metadata": {
    "collapsed": false
   },
   "outputs": [
    {
     "name": "stdout",
     "output_type": "stream",
     "text": [
      "3.4.0 (default, Apr 11 2014, 13:05:11) \n",
      "[GCC 4.8.2]\n"
     ]
    }
   ],
   "source": [
    "import sys\n",
    "print(sys.version)"
   ]
  }
 ],
 "metadata": {
  "kernelspec": {
   "display_name": "Python 3",
   "language": "python",
   "name": "python3"
  },
  "language_info": {
   "codemirror_mode": {
    "name": "ipython",
    "version": 3
   },
   "file_extension": ".py",
   "mimetype": "text/x-python",
   "name": "python",
   "nbconvert_exporter": "python",
   "pygments_lexer": "ipython3",
   "version": "3.4.3"
  }
 },
 "nbformat": 4,
 "nbformat_minor": 0
}
