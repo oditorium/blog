{
 "cells": [
  {
   "cell_type": "markdown",
   "metadata": {},
   "source": [
    "# Datetime - Basics\n",
    "\n",
    "Time conversions are generally a pain, especially when daylight savings time is involved. Here a number of libraries and tools to deal with this in Python. Firstly, there are three libraries\n",
    "\n",
    "- **datetime** - a [standard module](https://docs.python.org/3.4/library/datetime.html)\n",
    "\n",
    ">The datetime module supplies classes for manipulating dates and times in both simple and complex ways. While date and time arithmetic is supported, the focus of the implementation is on efficient attribute extraction for output formatting and manipulation. For related functionality, see also the time and calendar modules.\n",
    "\n",
    "- **time** - another [standard module](https://docs.python.org/3.4/library/time.html), with unclear delineation to the previous one\n",
    "\n",
    "> This module provides various time-related functions. For related functionality, see also the datetime and calendar modules.\n",
    "\n",
    "- **calendar** - a [standard module](https://docs.python.org/3.4/library/calendar.html#module-calendar) dealing with the date part of datetime\n",
    "\n",
    "> This module allows you to output calendars like the Unix cal program, and provides additional useful functions related to the calendar. \n",
    "\n",
    "- **pytz** - an [additional module](http://pytz.sourceforge.net/) that deals with proper timezones, along the lines of `London/Europe`\n",
    "\n",
    "> pytz brings the Olson tz database into Python. This library allows accurate and cross platform timezone calculations using Python."
   ]
  },
  {
   "cell_type": "code",
   "execution_count": 1,
   "metadata": {
    "collapsed": false
   },
   "outputs": [],
   "source": [
    "from datetime import datetime as dt\n",
    "import time as tm\n",
    "import pytz as tz\n",
    "import calendar as cal"
   ]
  },
  {
   "cell_type": "markdown",
   "metadata": {},
   "source": [
    "### Generating times from a string\n",
    "\n",
    "The format definition is [here](https://docs.python.org/3.4/library/time.html#time.strftime). The result is either an object, or a `timetuple` struct, depending on the module.\n",
    "\n",
    "    dt.strptime(), tm.strptime(), [dt].timetuple()"
   ]
  },
  {
   "cell_type": "code",
   "execution_count": 2,
   "metadata": {
    "collapsed": false
   },
   "outputs": [
    {
     "data": {
      "text/plain": [
       "datetime.datetime(2014, 9, 6, 7, 16, tzinfo=datetime.timezone.utc)"
      ]
     },
     "execution_count": 2,
     "metadata": {},
     "output_type": "execute_result"
    }
   ],
   "source": [
    "dto = dt.strptime ('2014-09-06 07:16 +0000', \"%Y-%m-%d %H:%M %z\")\n",
    "dto"
   ]
  },
  {
   "cell_type": "code",
   "execution_count": 3,
   "metadata": {
    "collapsed": false
   },
   "outputs": [
    {
     "data": {
      "text/plain": [
       "time.struct_time(tm_year=2014, tm_mon=9, tm_mday=6, tm_hour=7, tm_min=16, tm_sec=0, tm_wday=5, tm_yday=249, tm_isdst=-1)"
      ]
     },
     "execution_count": 3,
     "metadata": {},
     "output_type": "execute_result"
    }
   ],
   "source": [
    "tto = tm.strptime ('2014-09-06 07:16 +0000', \"%Y-%m-%d %H:%M %z\")\n",
    "tto"
   ]
  },
  {
   "cell_type": "code",
   "execution_count": 4,
   "metadata": {
    "collapsed": false
   },
   "outputs": [
    {
     "data": {
      "text/plain": [
       "True"
      ]
     },
     "execution_count": 4,
     "metadata": {},
     "output_type": "execute_result"
    }
   ],
   "source": [
    "dto.timetuple() == tto"
   ]
  },
  {
   "cell_type": "code",
   "execution_count": 5,
   "metadata": {
    "collapsed": false
   },
   "outputs": [
    {
     "data": {
      "text/plain": [
       "datetime.datetime(2014, 9, 6, 7, 16)"
      ]
     },
     "execution_count": 5,
     "metadata": {},
     "output_type": "execute_result"
    }
   ],
   "source": [
    "dt.fromtimestamp(tm.mktime(tto))"
   ]
  },
  {
   "cell_type": "markdown",
   "metadata": {},
   "source": [
    "#### Missing timezone information in the string\n",
    "\n",
    "Timezone information can be added to the datetime after it has been created without it"
   ]
  },
  {
   "cell_type": "code",
   "execution_count": 6,
   "metadata": {
    "collapsed": false
   },
   "outputs": [
    {
     "data": {
      "text/plain": [
       "datetime.datetime(2014, 9, 13, 21, 7, 15, tzinfo=<DstTzInfo 'Europe/London' BST+1:00:00 DST>)"
      ]
     },
     "execution_count": 6,
     "metadata": {},
     "output_type": "execute_result"
    }
   ],
   "source": [
    "dto = dt.strptime('2014:09:13 21:07:15', '%Y:%m:%d %H:%M:%S')\n",
    "timezone = tz.timezone('Europe/London')\n",
    "dto = timezone.localize(dto)\n",
    "dto"
   ]
  },
  {
   "cell_type": "markdown",
   "metadata": {},
   "source": [
    "### Epoch related functions\n",
    "\n",
    "    tm.gmtime(), tm.time(), tm.mtime()"
   ]
  },
  {
   "cell_type": "code",
   "execution_count": 7,
   "metadata": {
    "collapsed": false
   },
   "outputs": [
    {
     "data": {
      "text/plain": [
       "time.struct_time(tm_year=1970, tm_mon=1, tm_mday=1, tm_hour=0, tm_min=0, tm_sec=0, tm_wday=3, tm_yday=1, tm_isdst=0)"
      ]
     },
     "execution_count": 7,
     "metadata": {},
     "output_type": "execute_result"
    }
   ],
   "source": [
    "epoch_time = 0\n",
    "tm.gmtime(epoch_time)"
   ]
  },
  {
   "cell_type": "code",
   "execution_count": 8,
   "metadata": {
    "collapsed": false
   },
   "outputs": [
    {
     "data": {
      "text/plain": [
       "time.struct_time(tm_year=2014, tm_mon=9, tm_mday=15, tm_hour=10, tm_min=10, tm_sec=44, tm_wday=0, tm_yday=258, tm_isdst=0)"
      ]
     },
     "execution_count": 8,
     "metadata": {},
     "output_type": "execute_result"
    }
   ],
   "source": [
    "epoch_time = tm.time()\n",
    "tm.gmtime(epoch_time)"
   ]
  },
  {
   "cell_type": "code",
   "execution_count": 9,
   "metadata": {
    "collapsed": false
   },
   "outputs": [
    {
     "data": {
      "text/plain": [
       "time.struct_time(tm_year=2014, tm_mon=9, tm_mday=6, tm_hour=7, tm_min=16, tm_sec=0, tm_wday=5, tm_yday=249, tm_isdst=0)"
      ]
     },
     "execution_count": 9,
     "metadata": {},
     "output_type": "execute_result"
    }
   ],
   "source": [
    "tm.gmtime(tm.mktime(tto))"
   ]
  },
  {
   "cell_type": "markdown",
   "metadata": {},
   "source": [
    "### Current-time related functions\n",
    "    time()"
   ]
  },
  {
   "cell_type": "code",
   "execution_count": 10,
   "metadata": {
    "collapsed": false
   },
   "outputs": [
    {
     "data": {
      "text/plain": [
       "1410775844.2894523"
      ]
     },
     "execution_count": 10,
     "metadata": {},
     "output_type": "execute_result"
    }
   ],
   "source": [
    "tm.time()"
   ]
  },
  {
   "cell_type": "code",
   "execution_count": 11,
   "metadata": {
    "collapsed": false
   },
   "outputs": [
    {
     "data": {
      "text/plain": [
       "datetime.datetime(2014, 9, 15, 10, 10, 44, 300490)"
      ]
     },
     "execution_count": 11,
     "metadata": {},
     "output_type": "execute_result"
    }
   ],
   "source": [
    "dt.now()"
   ]
  },
  {
   "cell_type": "code",
   "execution_count": 12,
   "metadata": {
    "collapsed": false
   },
   "outputs": [
    {
     "data": {
      "text/plain": [
       "'2014-09-15 10:10:44 '"
      ]
     },
     "execution_count": 12,
     "metadata": {},
     "output_type": "execute_result"
    }
   ],
   "source": [
    "dt.now().strftime('%Y-%m-%d %H:%M:%S %Z%z')"
   ]
  },
  {
   "cell_type": "markdown",
   "metadata": {},
   "source": [
    "### Time output\n",
    "\n",
    "Depending on the library, `strftime` is either a function or a method. The format string is [here](https://docs.python.org/3.4/library/time.html#time.strftime)\n",
    "\n",
    "    tm.strftime(), [dt].strftime()"
   ]
  },
  {
   "cell_type": "code",
   "execution_count": 13,
   "metadata": {
    "collapsed": false
   },
   "outputs": [
    {
     "data": {
      "text/plain": [
       "'2014-09-06 07:16'"
      ]
     },
     "execution_count": 13,
     "metadata": {},
     "output_type": "execute_result"
    }
   ],
   "source": [
    "tm.strftime(\"%Y-%m-%d %H:%M\",tto)"
   ]
  },
  {
   "cell_type": "code",
   "execution_count": 14,
   "metadata": {
    "collapsed": false
   },
   "outputs": [
    {
     "data": {
      "text/plain": [
       "'2014-09-13 21:07'"
      ]
     },
     "execution_count": 14,
     "metadata": {},
     "output_type": "execute_result"
    }
   ],
   "source": [
    "dto.strftime(\"%Y-%m-%d %H:%M\")"
   ]
  },
  {
   "cell_type": "code",
   "execution_count": 15,
   "metadata": {
    "collapsed": false
   },
   "outputs": [
    {
     "data": {
      "text/plain": [
       "(21, 7, 15)"
      ]
     },
     "execution_count": 15,
     "metadata": {},
     "output_type": "execute_result"
    }
   ],
   "source": [
    "dto.hour, dto.minute, dto.second, "
   ]
  },
  {
   "cell_type": "code",
   "execution_count": 16,
   "metadata": {
    "collapsed": false
   },
   "outputs": [
    {
     "data": {
      "text/plain": [
       "'BST'"
      ]
     },
     "execution_count": 16,
     "metadata": {},
     "output_type": "execute_result"
    }
   ],
   "source": [
    "dto.tzname()"
   ]
  },
  {
   "cell_type": "markdown",
   "metadata": {},
   "source": [
    "### Time Zones\n",
    "\n",
    "    tz.timezone(), [dt].astimezone(), [tz].normalize()"
   ]
  },
  {
   "cell_type": "code",
   "execution_count": 17,
   "metadata": {
    "collapsed": false
   },
   "outputs": [],
   "source": [
    "from datetime import datetime as dt\n",
    "import pytz as tz\n",
    "\n",
    "def change_tz(datetime_obj, tz_str):\n",
    "    \"\"\" change the timezone\n",
    "    \n",
    "    datatime_obj - a datetime.datetime object representing the time\n",
    "    tz_str - time zone string, eg 'Europe/London'\n",
    "    \n",
    "    return - a datetime.datetime object\n",
    "    \"\"\"\n",
    "    the_tz = tz.timezone(tz_str)\n",
    "    the_dt = the_tz.normalize(datetime_obj.astimezone(the_tz))\n",
    "    return the_dt"
   ]
  },
  {
   "cell_type": "code",
   "execution_count": 18,
   "metadata": {
    "collapsed": false
   },
   "outputs": [
    {
     "data": {
      "text/plain": [
       "'2014-09-13 22:07:15 CEST+0200'"
      ]
     },
     "execution_count": 18,
     "metadata": {},
     "output_type": "execute_result"
    }
   ],
   "source": [
    "ams = tz.timezone('Europe/Amsterdam')\n",
    "dto_ams = ams.normalize(dto.astimezone(ams))\n",
    "dto_ams.strftime('%Y-%m-%d %H:%M:%S %Z%z')"
   ]
  },
  {
   "cell_type": "code",
   "execution_count": 19,
   "metadata": {
    "collapsed": false
   },
   "outputs": [
    {
     "data": {
      "text/plain": [
       "datetime.datetime(2014, 9, 13, 22, 7, 15, tzinfo=<DstTzInfo 'Europe/Amsterdam' CEST+2:00:00 DST>)"
      ]
     },
     "execution_count": 19,
     "metadata": {},
     "output_type": "execute_result"
    }
   ],
   "source": [
    "dto_ams2 = change_tz(dto, \"Europe/Amsterdam\")\n",
    "dto_ams2"
   ]
  },
  {
   "cell_type": "code",
   "execution_count": 20,
   "metadata": {
    "collapsed": false
   },
   "outputs": [
    {
     "data": {
      "text/plain": [
       "time.struct_time(tm_year=2014, tm_mon=9, tm_mday=13, tm_hour=22, tm_min=7, tm_sec=15, tm_wday=5, tm_yday=256, tm_isdst=1)"
      ]
     },
     "execution_count": 20,
     "metadata": {},
     "output_type": "execute_result"
    }
   ],
   "source": [
    "dto_ams2.timetuple()"
   ]
  }
 ],
 "metadata": {
  "kernelspec": {
   "display_name": "Python 3",
   "language": "python",
   "name": "python3"
  },
  "language_info": {
   "codemirror_mode": {
    "name": "ipython",
    "version": 3
   },
   "file_extension": ".py",
   "mimetype": "text/x-python",
   "name": "python",
   "nbconvert_exporter": "python",
   "pygments_lexer": "ipython3",
   "version": "3.4.3"
  }
 },
 "nbformat": 4,
 "nbformat_minor": 0
}
