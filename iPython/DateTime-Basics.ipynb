{
 "metadata": {
  "name": "",
  "signature": "sha256:17c573e42aad3c2cef32746cf57fc399a2373ff20780485491b00b89e233dbce"
 },
 "nbformat": 3,
 "nbformat_minor": 0,
 "worksheets": [
  {
   "cells": [
    {
     "cell_type": "markdown",
     "metadata": {},
     "source": [
      "# Datetime - Basics\n",
      "\n",
      "Time conversions are generally a pain, especially when daylight savings time is involved. Here a number of libraries and tools to deal with this in Python. Firstly, there are three libraries\n",
      "\n",
      "- **datetime** - a [standard module](https://docs.python.org/3.4/library/datetime.html)\n",
      "\n",
      ">The datetime module supplies classes for manipulating dates and times in both simple and complex ways. While date and time arithmetic is supported, the focus of the implementation is on efficient attribute extraction for output formatting and manipulation. For related functionality, see also the time and calendar modules.\n",
      "\n",
      "- **time** - another [standard module](https://docs.python.org/3.4/library/time.html), with unclear delineation to the previous one\n",
      "\n",
      "> This module provides various time-related functions. For related functionality, see also the datetime and calendar modules.\n",
      "\n",
      "- **calendar** - a [standard module](https://docs.python.org/3.4/library/calendar.html#module-calendar) dealing with the date part of datetime\n",
      "\n",
      "> This module allows you to output calendars like the Unix cal program, and provides additional useful functions related to the calendar. \n",
      "\n",
      "- **pytz** - an [additional module](http://pytz.sourceforge.net/) that deals with proper timezones, along the lines of `London/Europe`\n",
      "\n",
      "> pytz brings the Olson tz database into Python. This library allows accurate and cross platform timezone calculations using Python."
     ]
    },
    {
     "cell_type": "code",
     "collapsed": false,
     "input": [
      "from datetime import datetime as dt\n",
      "import time as tm\n",
      "import pytz as tz\n",
      "import calendar as cal"
     ],
     "language": "python",
     "metadata": {},
     "outputs": [],
     "prompt_number": 1
    },
    {
     "cell_type": "markdown",
     "metadata": {},
     "source": [
      "### Generating times from a string\n",
      "\n",
      "The format definition is [here](https://docs.python.org/3.4/library/time.html#time.strftime). The result is either an object, or a `timetuple` struct, depending on the module.\n",
      "\n",
      "    dt.strptime(), tm.strptime(), [dt].timetuple()"
     ]
    },
    {
     "cell_type": "code",
     "collapsed": false,
     "input": [
      "dto = dt.strptime ('2014-09-06 07:16 +0000', \"%Y-%m-%d %H:%M %z\")\n",
      "dto"
     ],
     "language": "python",
     "metadata": {},
     "outputs": [
      {
       "metadata": {},
       "output_type": "pyout",
       "prompt_number": 2,
       "text": [
        "datetime.datetime(2014, 9, 6, 7, 16, tzinfo=datetime.timezone.utc)"
       ]
      }
     ],
     "prompt_number": 2
    },
    {
     "cell_type": "code",
     "collapsed": false,
     "input": [
      "tto = tm.strptime ('2014-09-06 07:16 +0000', \"%Y-%m-%d %H:%M %z\")\n",
      "tto"
     ],
     "language": "python",
     "metadata": {},
     "outputs": [
      {
       "metadata": {},
       "output_type": "pyout",
       "prompt_number": 3,
       "text": [
        "time.struct_time(tm_year=2014, tm_mon=9, tm_mday=6, tm_hour=7, tm_min=16, tm_sec=0, tm_wday=5, tm_yday=249, tm_isdst=-1)"
       ]
      }
     ],
     "prompt_number": 3
    },
    {
     "cell_type": "code",
     "collapsed": false,
     "input": [
      "dto.timetuple() == tto"
     ],
     "language": "python",
     "metadata": {},
     "outputs": [
      {
       "metadata": {},
       "output_type": "pyout",
       "prompt_number": 4,
       "text": [
        "True"
       ]
      }
     ],
     "prompt_number": 4
    },
    {
     "cell_type": "code",
     "collapsed": false,
     "input": [
      "dt.fromtimestamp(tm.mktime(tto))"
     ],
     "language": "python",
     "metadata": {},
     "outputs": [
      {
       "metadata": {},
       "output_type": "pyout",
       "prompt_number": 5,
       "text": [
        "datetime.datetime(2014, 9, 6, 7, 16)"
       ]
      }
     ],
     "prompt_number": 5
    },
    {
     "cell_type": "markdown",
     "metadata": {},
     "source": [
      "#### Missing timezone information in the string\n",
      "\n",
      "Timezone information can be added to the datetime after it has been created without it"
     ]
    },
    {
     "cell_type": "code",
     "collapsed": false,
     "input": [
      "dto = dt.strptime('2014:09:13 21:07:15', '%Y:%m:%d %H:%M:%S')\n",
      "timezone = tz.timezone('Europe/London')\n",
      "dto = timezone.localize(dto)\n",
      "dto"
     ],
     "language": "python",
     "metadata": {},
     "outputs": [
      {
       "metadata": {},
       "output_type": "pyout",
       "prompt_number": 6,
       "text": [
        "datetime.datetime(2014, 9, 13, 21, 7, 15, tzinfo=<DstTzInfo 'Europe/London' BST+1:00:00 DST>)"
       ]
      }
     ],
     "prompt_number": 6
    },
    {
     "cell_type": "markdown",
     "metadata": {},
     "source": [
      "### Epoch related functions\n",
      "\n",
      "    tm.gmtime(), tm.time(), tm.mtime()"
     ]
    },
    {
     "cell_type": "code",
     "collapsed": false,
     "input": [
      "epoch_time = 0\n",
      "tm.gmtime(epoch_time)"
     ],
     "language": "python",
     "metadata": {},
     "outputs": [
      {
       "metadata": {},
       "output_type": "pyout",
       "prompt_number": 7,
       "text": [
        "time.struct_time(tm_year=1970, tm_mon=1, tm_mday=1, tm_hour=0, tm_min=0, tm_sec=0, tm_wday=3, tm_yday=1, tm_isdst=0)"
       ]
      }
     ],
     "prompt_number": 7
    },
    {
     "cell_type": "code",
     "collapsed": false,
     "input": [
      "epoch_time = tm.time()\n",
      "tm.gmtime(epoch_time)"
     ],
     "language": "python",
     "metadata": {},
     "outputs": [
      {
       "metadata": {},
       "output_type": "pyout",
       "prompt_number": 8,
       "text": [
        "time.struct_time(tm_year=2014, tm_mon=9, tm_mday=15, tm_hour=10, tm_min=10, tm_sec=44, tm_wday=0, tm_yday=258, tm_isdst=0)"
       ]
      }
     ],
     "prompt_number": 8
    },
    {
     "cell_type": "code",
     "collapsed": false,
     "input": [
      "tm.gmtime(tm.mktime(tto))"
     ],
     "language": "python",
     "metadata": {},
     "outputs": [
      {
       "metadata": {},
       "output_type": "pyout",
       "prompt_number": 9,
       "text": [
        "time.struct_time(tm_year=2014, tm_mon=9, tm_mday=6, tm_hour=7, tm_min=16, tm_sec=0, tm_wday=5, tm_yday=249, tm_isdst=0)"
       ]
      }
     ],
     "prompt_number": 9
    },
    {
     "cell_type": "markdown",
     "metadata": {},
     "source": [
      "### Current-time related functions\n",
      "    time()"
     ]
    },
    {
     "cell_type": "code",
     "collapsed": false,
     "input": [
      "tm.time()"
     ],
     "language": "python",
     "metadata": {},
     "outputs": [
      {
       "metadata": {},
       "output_type": "pyout",
       "prompt_number": 10,
       "text": [
        "1410775844.2894523"
       ]
      }
     ],
     "prompt_number": 10
    },
    {
     "cell_type": "code",
     "collapsed": false,
     "input": [
      "dt.now()"
     ],
     "language": "python",
     "metadata": {},
     "outputs": [
      {
       "metadata": {},
       "output_type": "pyout",
       "prompt_number": 11,
       "text": [
        "datetime.datetime(2014, 9, 15, 10, 10, 44, 300490)"
       ]
      }
     ],
     "prompt_number": 11
    },
    {
     "cell_type": "code",
     "collapsed": false,
     "input": [
      "dt.now().strftime('%Y-%m-%d %H:%M:%S %Z%z')"
     ],
     "language": "python",
     "metadata": {},
     "outputs": [
      {
       "metadata": {},
       "output_type": "pyout",
       "prompt_number": 12,
       "text": [
        "'2014-09-15 10:10:44 '"
       ]
      }
     ],
     "prompt_number": 12
    },
    {
     "cell_type": "markdown",
     "metadata": {},
     "source": [
      "### Time output\n",
      "\n",
      "Depending on the library, `strftime` is either a function or a method. The format string is [here](https://docs.python.org/3.4/library/time.html#time.strftime)\n",
      "\n",
      "    tm.strftime(), [dt].strftime()"
     ]
    },
    {
     "cell_type": "code",
     "collapsed": false,
     "input": [
      "tm.strftime(\"%Y-%m-%d %H:%M\",tto)"
     ],
     "language": "python",
     "metadata": {},
     "outputs": [
      {
       "metadata": {},
       "output_type": "pyout",
       "prompt_number": 13,
       "text": [
        "'2014-09-06 07:16'"
       ]
      }
     ],
     "prompt_number": 13
    },
    {
     "cell_type": "code",
     "collapsed": false,
     "input": [
      "dto.strftime(\"%Y-%m-%d %H:%M\")"
     ],
     "language": "python",
     "metadata": {},
     "outputs": [
      {
       "metadata": {},
       "output_type": "pyout",
       "prompt_number": 14,
       "text": [
        "'2014-09-13 21:07'"
       ]
      }
     ],
     "prompt_number": 14
    },
    {
     "cell_type": "code",
     "collapsed": false,
     "input": [
      "dto.hour, dto.minute, dto.second, "
     ],
     "language": "python",
     "metadata": {},
     "outputs": [
      {
       "metadata": {},
       "output_type": "pyout",
       "prompt_number": 15,
       "text": [
        "(21, 7, 15)"
       ]
      }
     ],
     "prompt_number": 15
    },
    {
     "cell_type": "code",
     "collapsed": false,
     "input": [
      "dto.tzname()"
     ],
     "language": "python",
     "metadata": {},
     "outputs": [
      {
       "metadata": {},
       "output_type": "pyout",
       "prompt_number": 16,
       "text": [
        "'BST'"
       ]
      }
     ],
     "prompt_number": 16
    },
    {
     "cell_type": "markdown",
     "metadata": {},
     "source": [
      "### Time Zones\n",
      "\n",
      "    tz.timezone(), [dt].astimezone(), [tz].normalize()"
     ]
    },
    {
     "cell_type": "code",
     "collapsed": false,
     "input": [
      "from datetime import datetime as dt\n",
      "import pytz as tz\n",
      "\n",
      "def change_tz(datetime_obj, tz_str):\n",
      "    \"\"\" change the timezone\n",
      "    \n",
      "    datatime_obj - a datetime.datetime object representing the time\n",
      "    tz_str - time zone string, eg 'Europe/London'\n",
      "    \n",
      "    return - a datetime.datetime object\n",
      "    \"\"\"\n",
      "    the_tz = tz.timezone(tz_str)\n",
      "    the_dt = the_tz.normalize(datetime_obj.astimezone(the_tz))\n",
      "    return the_dt"
     ],
     "language": "python",
     "metadata": {},
     "outputs": [],
     "prompt_number": 17
    },
    {
     "cell_type": "code",
     "collapsed": false,
     "input": [
      "ams = tz.timezone('Europe/Amsterdam')\n",
      "dto_ams = ams.normalize(dto.astimezone(ams))\n",
      "dto_ams.strftime('%Y-%m-%d %H:%M:%S %Z%z')"
     ],
     "language": "python",
     "metadata": {},
     "outputs": [
      {
       "metadata": {},
       "output_type": "pyout",
       "prompt_number": 18,
       "text": [
        "'2014-09-13 22:07:15 CEST+0200'"
       ]
      }
     ],
     "prompt_number": 18
    },
    {
     "cell_type": "code",
     "collapsed": false,
     "input": [
      "dto_ams2 = change_tz(dto, \"Europe/Amsterdam\")\n",
      "dto_ams2"
     ],
     "language": "python",
     "metadata": {},
     "outputs": [
      {
       "metadata": {},
       "output_type": "pyout",
       "prompt_number": 19,
       "text": [
        "datetime.datetime(2014, 9, 13, 22, 7, 15, tzinfo=<DstTzInfo 'Europe/Amsterdam' CEST+2:00:00 DST>)"
       ]
      }
     ],
     "prompt_number": 19
    },
    {
     "cell_type": "code",
     "collapsed": false,
     "input": [
      "dto_ams2.timetuple()"
     ],
     "language": "python",
     "metadata": {},
     "outputs": [
      {
       "metadata": {},
       "output_type": "pyout",
       "prompt_number": 20,
       "text": [
        "time.struct_time(tm_year=2014, tm_mon=9, tm_mday=13, tm_hour=22, tm_min=7, tm_sec=15, tm_wday=5, tm_yday=256, tm_isdst=1)"
       ]
      }
     ],
     "prompt_number": 20
    }
   ],
   "metadata": {}
  }
 ]
}