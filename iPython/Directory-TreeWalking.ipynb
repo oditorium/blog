{
 "metadata": {
  "name": "",
  "signature": "sha256:e8f0674269fa53cd3b27d7402cd60c75894414b3422638f7a1d42b480a5b0975"
 },
 "nbformat": 3,
 "nbformat_minor": 0,
 "worksheets": [
  {
   "cells": [
    {
     "cell_type": "markdown",
     "metadata": {},
     "source": [
      "# Walking the directory tree"
     ]
    },
    {
     "cell_type": "code",
     "collapsed": false,
     "input": [
      "import os\n",
      "\n",
      "def dir_structure (path=None, decorated=False):\n",
      "    \"\"\" read out the full recursive directory structure of `path` and return it as a tuple\n",
      "    \n",
      "    path - the path where to start the walk (default: `.`)\n",
      "    decorated - if True, the actual directory is returned as well as the index\n",
      "    \n",
      "    RETURNS\n",
      "        (dirs, files, tree)\n",
      "        \n",
      "        dirs - tuple of dirs, in order traversed by walk\n",
      "        files - tuple of tuples (filename, dir_ix) where dir_ix is index in dirs\n",
      "        tree - tuple of tuples (dir_ix1, dir_ix2, ...) where dir_ix1... are subdirs\n",
      "    \"\"\"\n",
      "\n",
      "    if path == None: path = \".\"\n",
      "    path = path.rstrip(\"/\")\n",
      "\n",
      "\n",
      "\n",
      "    dirs_and_files = list(os.walk(path))\n",
      "    dirs = []\n",
      "    files = []\n",
      "    for df in dirs_and_files:\n",
      "        dir_ix = len(dirs)\n",
      "        dirs.append( df[0] )\n",
      "        for f in df[2]:\n",
      "            files.append( (f, dir_ix) )\n",
      "\n",
      "    tree = []\n",
      "    for df in dirs_and_files:\n",
      "        parent_dir = df[0]\n",
      "        parent_dir_ix = dirs.index(parent_dir)\n",
      "        tree.append(tuple((dirs.index(parent_dir+\"/\"+dir)) for dir in df[1]))\n",
      "    \n",
      "    if decorated:\n",
      "        files = ( (x[0], x[1], dirs[x[1]]) for x in files)\n",
      "    \n",
      "    return tuple(( \n",
      "        tuple(dirs),\n",
      "        tuple(files),\n",
      "        tuple(tree)))\n",
      "\n"
     ],
     "language": "python",
     "metadata": {},
     "outputs": [],
     "prompt_number": 17
    },
    {
     "cell_type": "code",
     "collapsed": false,
     "input": [
      "\"123/\".rstrip(\"/\")"
     ],
     "language": "python",
     "metadata": {},
     "outputs": [
      {
       "metadata": {},
       "output_type": "pyout",
       "prompt_number": 26,
       "text": [
        "'123'"
       ]
      }
     ],
     "prompt_number": 26
    },
    {
     "cell_type": "code",
     "collapsed": false,
     "input": [
      "dd = dir_structure (decorated=True)\n",
      "##dd"
     ],
     "language": "python",
     "metadata": {},
     "outputs": [],
     "prompt_number": 22
    },
    {
     "cell_type": "code",
     "collapsed": false,
     "input": [
      "1"
     ],
     "language": "python",
     "metadata": {},
     "outputs": [],
     "prompt_number": 25
    },
    {
     "cell_type": "code",
     "collapsed": false,
     "input": [
      "import os\n",
      "import pandas as pd\n",
      "import functools\n",
      "import re\n",
      "import types\n",
      "\n",
      "class DirStructure ():\n",
      "    \"\"\" read out the full recursive directory structure of `path` into the object\n",
      "    \n",
      "    path - the pathname given to os.walk(); it can also be a tuple `(dirs, files, tree)` in which\n",
      "            case this tuple is used to initialise the object\n",
      "    \n",
      "    PROPERTIES\n",
      "    \n",
      "        dirs - tuple of dirs, in order traversed by walk\n",
      "        files - tuple of tuples (filename, dir_ix) where dir_ix is index in dirs\n",
      "        tree - tuple of tuples (dir_ix1, dir_ix2, ...) where dir_ix1... are subdirs\n",
      "        \n",
      "        dirs_t, files_t - the corresponding pandas dataframe tables\n",
      "        \n",
      "    METHODS\n",
      "        \n",
      "        subdirs - get all subdirs\n",
      "        files_bydir - get all files in set of dirs\n",
      "        files_decorate - add the full directory names to a files table\n",
      "        files_byre - filter files table by regular expression\n",
      "        add_col - adds a column to the files_t table (values either explicit or as function)\n",
      "        re_func - factory function for use in relation to add_col\n",
      "    \n",
      "    DEPENDENCIES\n",
      "    \n",
      "        os\n",
      "        pandas\n",
      "        functools\n",
      "        re\n",
      "        types\n",
      "        \n",
      "    VERSION AND COPYRIGHT\n",
      "        \n",
      "        version 0.1a\n",
      "        (c) 2014 Stefan LOESCH / oditorium\n",
      "    \n",
      "    \"\"\"\n",
      "    \n",
      "    __version__ = \"0.1a\"\n",
      "    \n",
      "    def __init__(self, path=None):\n",
      "        \n",
      "        if type(path) == tuple:\n",
      "            self.dirs = tuple(dirs)\n",
      "            self.files = tuple(files)\n",
      "            self.tree = tuple(tree)\n",
      "\n",
      "            self.dirs_t = pd.DataFrame(list(self.dirs), columns = ['dir'])\n",
      "            self.files_t = pd.DataFrame(list(self.files), columns = ['file', 'dir'])\n",
      "            return\n",
      "\n",
      "        \n",
      "        if path == None: path = \".\"\n",
      "        path = path.rstrip(\"/\")\n",
      "\n",
      "            \n",
      "    \n",
      "        dirs_and_files = list(os.walk(path))\n",
      "        dirs = []\n",
      "        files = []\n",
      "        for df in dirs_and_files:\n",
      "            dir_ix = len(dirs)\n",
      "            dirs.append( df[0] )\n",
      "            for f in df[2]:\n",
      "                files.append( (f, dir_ix) )\n",
      "\n",
      "        tree = []\n",
      "        for df in dirs_and_files:\n",
      "            parent_dir = df[0]\n",
      "            parent_dir_ix = dirs.index(parent_dir)\n",
      "\n",
      "            #print (parent_dir)\n",
      "            #print (parent_dir_ix)\n",
      "            #print ([(dirs.index(parent_dir+\"/\"+dir)) for dir in df[1]])\n",
      "            tree.append(tuple((dirs.index(parent_dir+\"/\"+dir)) for dir in df[1]))\n",
      "                        \n",
      "        self.dirs = tuple(dirs)\n",
      "        self.files = tuple(files)\n",
      "        self.tree = tuple(tree)\n",
      "        \n",
      "        self.dirs_t = pd.DataFrame(list(self.dirs), columns = ['dir'])\n",
      "        self.files_t = pd.DataFrame(list(self.files), columns = ['file', 'dir'])\n",
      "\n",
      "    def files_bydir (self, dirs=None, files_t=None):\n",
      "        \"\"\"filters files_t with respect to all directories in dirs\n",
      "        \n",
      "        dirs - iterable of directory indices\n",
      "        files_t - a pandas table with column `dir` (default: self.files_t)\n",
      "        \"\"\"\n",
      "    \n",
      "        if type(files_t) == type(None): files_t = self.files_t\n",
      "        if dirs==None: dirs = tuple(0);\n",
      "        if type(dirs) == int: dirs = tuple((dirs,))\n",
      "        the_filter = list(map(any,(zip(*list(list(files_t['dir'] == ix) for ix in dirs)))))\n",
      "            # this expression is a bit complicated; it filters the equiv of \n",
      "            #    ds.files_t['dir'] in dir\n",
      "            # - generate a list of filter arrays \n",
      "            # - zip them together (the double list command are to convert pandas structures to list in the proper format)\n",
      "            # - map `any()` to each of those zipped elements and unpack the map into a list\n",
      "            \n",
      "        return files_t[the_filter]\n",
      "            \n",
      "    def _subdirs (self, dir_ix):\n",
      "        \"\"\" returns list of all subdirectories (private)\n",
      "        \n",
      "        use subdirs() to access this function\n",
      "        \"\"\"\n",
      "        \n",
      "        sd = list(self.tree[dir_ix])\n",
      "        sd1 = [self._subdirs(ix) for ix in sd]\n",
      "        sd1 = functools.reduce(lambda x,y: x+y, sd1, [])\n",
      "        if sd1 != [[]]: sd = sd+sd1\n",
      "        return sd\n",
      "    \n",
      "\n",
      "    def subdirs(self, dir_ix, as_str=False, get_files=False):\n",
      "        \"\"\"get all subdirs of the given directory (as index or name), or the files therein\n",
      "        \n",
      "        dir_ix - the directory index of the root\n",
      "        as_str - if True, directory indices are expanded into names\n",
      "        get_files - it True, return list of files rather than list if subdirectories\n",
      "        \"\"\"\n",
      "        \n",
      "        sd = self._subdirs(dir_ix)\n",
      "        \n",
      "        if get_files == True:\n",
      "            thefiles = self.files_bydir([dir_ix] + sd)\n",
      "            return thefiles\n",
      "        \n",
      "        if as_str == True:\n",
      "            sd = [self.dirs[ix] for ix in sd]\n",
      "        return sd\n",
      "   \n",
      "    def files_decorate(self, files_t=None):\n",
      "        \"\"\"add a column `dirn` to a files table (based on column `dir`)\n",
      "        \n",
      "        files_t - must have a column dir containing numerical values\n",
      "        \"\"\"\n",
      "        \n",
      "        if type(files_t) == type(None): files_t = self.files_t\n",
      "        files_t['dirn'] = list(self.dirs[ix] for ix in list(files_t['dir']))\n",
      "        return files_t\n",
      "        \n",
      "    def files_byre(self, regex, files_t=None):\n",
      "        \"\"\"filter the files table by regex\n",
      "        \n",
      "        files_t - must have a column `file` containing the filename\n",
      "        \"\"\"\n",
      "        \n",
      "        if type(files_t) == type(None): files_t = self.files_t\n",
      "        the_filter = list(map (lambda fn: type(re.match(regex, fn)) != type(None), list(files_t['file'])))\n",
      "        return files_t[the_filter]\n",
      "    \n",
      "    def add_col(self, heading, values):\n",
      "        \"\"\"adds a columns to the files_t table (note: the files property is _not_ kept in synch \n",
      "        \n",
      "        heading - the col heading\n",
      "        values - the col values (must the the right number of entries; can also be a function f(filename))*\n",
      "        \n",
      "        * this might change in the future to \n",
      "        \"\"\"\n",
      "        if type(values) != types.FunctionType:\n",
      "            self.files_t[heading] = values\n",
      "            return self.files_t\n",
      "        \n",
      "        fnames = self.files_t['file']\n",
      "        val1 = map(values, fnames)\n",
      "        self.files_t[heading] = list(val1)\n",
      "        return self.files_t\n",
      "    \n",
      "    def re_func(self, regex, none_val=None):\n",
      "        \"\"\"factory function: returns a function that evaluates regex on its argument an returns first group or none_val\n",
      "        \n",
      "        EXAMPLE\n",
      "        \n",
      "            f = re_func(\"(.*)\\.jpg$\", \"0\")\n",
      "            f(\"test.jpg\") -> \"test\"\n",
      "            f(\"test.JPG\") -> \"0\"\n",
      "        \"\"\"\n",
      "        \n",
      "        def f(s):\n",
      "            \n",
      "            m = re.match(regex, s)\n",
      "            if m == None: return none_val\n",
      "            return m.groups()[0]\n",
      "        \n",
      "        return f\n",
      "        \n",
      "        \n",
      "        \n",
      "        \n",
      "        \n",
      "        \n",
      "        \n",
      "\n",
      "\n",
      "    \n",
      "   \n",
      "\n",
      "    \n",
      "    "
     ],
     "language": "python",
     "metadata": {},
     "outputs": [],
     "prompt_number": 182
    },
    {
     "cell_type": "markdown",
     "metadata": {},
     "source": [
      "### read the directory structure"
     ]
    },
    {
     "cell_type": "code",
     "collapsed": false,
     "input": [
      "ds = DirStructure('./delme')"
     ],
     "language": "python",
     "metadata": {},
     "outputs": [],
     "prompt_number": 203
    },
    {
     "cell_type": "markdown",
     "metadata": {},
     "source": [
      "###the properties\n",
      "a tuple of directories, of files, and the tree"
     ]
    },
    {
     "cell_type": "code",
     "collapsed": false,
     "input": [
      "ds.dirs"
     ],
     "language": "python",
     "metadata": {},
     "outputs": [
      {
       "metadata": {},
       "output_type": "pyout",
       "prompt_number": 204,
       "text": [
        "('./delme',\n",
        " './delme/delme1',\n",
        " './delme/delme1/delme12',\n",
        " './delme/delme1/delme11',\n",
        " './delme/delme2')"
       ]
      }
     ],
     "prompt_number": 204
    },
    {
     "cell_type": "code",
     "collapsed": false,
     "input": [
      "ds.files"
     ],
     "language": "python",
     "metadata": {},
     "outputs": [
      {
       "metadata": {},
       "output_type": "pyout",
       "prompt_number": 205,
       "text": [
        "(('f.jpg', 0),\n",
        " ('f1a.jpg', 1),\n",
        " ('f1b.jpg', 1),\n",
        " ('f12a.jpg', 2),\n",
        " ('f11a.jpg', 3),\n",
        " ('f2b.jpg', 4),\n",
        " ('f2a.jpg', 4))"
       ]
      }
     ],
     "prompt_number": 205
    },
    {
     "cell_type": "code",
     "collapsed": false,
     "input": [
      "ds.tree"
     ],
     "language": "python",
     "metadata": {},
     "outputs": [
      {
       "metadata": {},
       "output_type": "pyout",
       "prompt_number": 206,
       "text": [
        "((1, 4), (2, 3), (), (), ())"
       ]
      }
     ],
     "prompt_number": 206
    },
    {
     "cell_type": "markdown",
     "metadata": {},
     "source": [
      "directories and files as pandas dataframes"
     ]
    },
    {
     "cell_type": "code",
     "collapsed": false,
     "input": [
      "ds.dirs_t"
     ],
     "language": "python",
     "metadata": {},
     "outputs": [
      {
       "html": [
        "<div style=\"max-height:1000px;max-width:1500px;overflow:auto;\">\n",
        "<table border=\"1\" class=\"dataframe\">\n",
        "  <thead>\n",
        "    <tr style=\"text-align: right;\">\n",
        "      <th></th>\n",
        "      <th>dir</th>\n",
        "    </tr>\n",
        "  </thead>\n",
        "  <tbody>\n",
        "    <tr>\n",
        "      <th>0</th>\n",
        "      <td>                ./delme</td>\n",
        "    </tr>\n",
        "    <tr>\n",
        "      <th>1</th>\n",
        "      <td>         ./delme/delme1</td>\n",
        "    </tr>\n",
        "    <tr>\n",
        "      <th>2</th>\n",
        "      <td> ./delme/delme1/delme12</td>\n",
        "    </tr>\n",
        "    <tr>\n",
        "      <th>3</th>\n",
        "      <td> ./delme/delme1/delme11</td>\n",
        "    </tr>\n",
        "    <tr>\n",
        "      <th>4</th>\n",
        "      <td>         ./delme/delme2</td>\n",
        "    </tr>\n",
        "  </tbody>\n",
        "</table>\n",
        "<p>5 rows \u00d7 1 columns</p>\n",
        "</div>"
       ],
       "metadata": {},
       "output_type": "pyout",
       "prompt_number": 207,
       "text": [
        "                      dir\n",
        "0                 ./delme\n",
        "1          ./delme/delme1\n",
        "2  ./delme/delme1/delme12\n",
        "3  ./delme/delme1/delme11\n",
        "4          ./delme/delme2\n",
        "\n",
        "[5 rows x 1 columns]"
       ]
      }
     ],
     "prompt_number": 207
    },
    {
     "cell_type": "code",
     "collapsed": false,
     "input": [
      "ds.files_t"
     ],
     "language": "python",
     "metadata": {},
     "outputs": [
      {
       "html": [
        "<div style=\"max-height:1000px;max-width:1500px;overflow:auto;\">\n",
        "<table border=\"1\" class=\"dataframe\">\n",
        "  <thead>\n",
        "    <tr style=\"text-align: right;\">\n",
        "      <th></th>\n",
        "      <th>file</th>\n",
        "      <th>dir</th>\n",
        "    </tr>\n",
        "  </thead>\n",
        "  <tbody>\n",
        "    <tr>\n",
        "      <th>0</th>\n",
        "      <td>    f.jpg</td>\n",
        "      <td> 0</td>\n",
        "    </tr>\n",
        "    <tr>\n",
        "      <th>1</th>\n",
        "      <td>  f1a.jpg</td>\n",
        "      <td> 1</td>\n",
        "    </tr>\n",
        "    <tr>\n",
        "      <th>2</th>\n",
        "      <td>  f1b.jpg</td>\n",
        "      <td> 1</td>\n",
        "    </tr>\n",
        "    <tr>\n",
        "      <th>3</th>\n",
        "      <td> f12a.jpg</td>\n",
        "      <td> 2</td>\n",
        "    </tr>\n",
        "    <tr>\n",
        "      <th>4</th>\n",
        "      <td> f11a.jpg</td>\n",
        "      <td> 3</td>\n",
        "    </tr>\n",
        "    <tr>\n",
        "      <th>5</th>\n",
        "      <td>  f2b.jpg</td>\n",
        "      <td> 4</td>\n",
        "    </tr>\n",
        "    <tr>\n",
        "      <th>6</th>\n",
        "      <td>  f2a.jpg</td>\n",
        "      <td> 4</td>\n",
        "    </tr>\n",
        "  </tbody>\n",
        "</table>\n",
        "<p>7 rows \u00d7 2 columns</p>\n",
        "</div>"
       ],
       "metadata": {},
       "output_type": "pyout",
       "prompt_number": 208,
       "text": [
        "       file  dir\n",
        "0     f.jpg    0\n",
        "1   f1a.jpg    1\n",
        "2   f1b.jpg    1\n",
        "3  f12a.jpg    2\n",
        "4  f11a.jpg    3\n",
        "5   f2b.jpg    4\n",
        "6   f2a.jpg    4\n",
        "\n",
        "[7 rows x 2 columns]"
       ]
      }
     ],
     "prompt_number": 208
    },
    {
     "cell_type": "code",
     "collapsed": false,
     "input": [
      "ds.add_col('f2', list(ds.files_t['file']))"
     ],
     "language": "python",
     "metadata": {},
     "outputs": [
      {
       "html": [
        "<div style=\"max-height:1000px;max-width:1500px;overflow:auto;\">\n",
        "<table border=\"1\" class=\"dataframe\">\n",
        "  <thead>\n",
        "    <tr style=\"text-align: right;\">\n",
        "      <th></th>\n",
        "      <th>file</th>\n",
        "      <th>dir</th>\n",
        "      <th>f2</th>\n",
        "    </tr>\n",
        "  </thead>\n",
        "  <tbody>\n",
        "    <tr>\n",
        "      <th>0</th>\n",
        "      <td>    f.jpg</td>\n",
        "      <td> 0</td>\n",
        "      <td>    f.jpg</td>\n",
        "    </tr>\n",
        "    <tr>\n",
        "      <th>1</th>\n",
        "      <td>  f1a.jpg</td>\n",
        "      <td> 1</td>\n",
        "      <td>  f1a.jpg</td>\n",
        "    </tr>\n",
        "    <tr>\n",
        "      <th>2</th>\n",
        "      <td>  f1b.jpg</td>\n",
        "      <td> 1</td>\n",
        "      <td>  f1b.jpg</td>\n",
        "    </tr>\n",
        "    <tr>\n",
        "      <th>3</th>\n",
        "      <td> f12a.jpg</td>\n",
        "      <td> 2</td>\n",
        "      <td> f12a.jpg</td>\n",
        "    </tr>\n",
        "    <tr>\n",
        "      <th>4</th>\n",
        "      <td> f11a.jpg</td>\n",
        "      <td> 3</td>\n",
        "      <td> f11a.jpg</td>\n",
        "    </tr>\n",
        "    <tr>\n",
        "      <th>5</th>\n",
        "      <td>  f2b.jpg</td>\n",
        "      <td> 4</td>\n",
        "      <td>  f2b.jpg</td>\n",
        "    </tr>\n",
        "    <tr>\n",
        "      <th>6</th>\n",
        "      <td>  f2a.jpg</td>\n",
        "      <td> 4</td>\n",
        "      <td>  f2a.jpg</td>\n",
        "    </tr>\n",
        "  </tbody>\n",
        "</table>\n",
        "<p>7 rows \u00d7 3 columns</p>\n",
        "</div>"
       ],
       "metadata": {},
       "output_type": "pyout",
       "prompt_number": 209,
       "text": [
        "       file  dir        f2\n",
        "0     f.jpg    0     f.jpg\n",
        "1   f1a.jpg    1   f1a.jpg\n",
        "2   f1b.jpg    1   f1b.jpg\n",
        "3  f12a.jpg    2  f12a.jpg\n",
        "4  f11a.jpg    3  f11a.jpg\n",
        "5   f2b.jpg    4   f2b.jpg\n",
        "6   f2a.jpg    4   f2a.jpg\n",
        "\n",
        "[7 rows x 3 columns]"
       ]
      }
     ],
     "prompt_number": 209
    },
    {
     "cell_type": "code",
     "collapsed": false,
     "input": [
      "ds.add_col('f3', lambda f: \"prefix-\"+f)"
     ],
     "language": "python",
     "metadata": {},
     "outputs": [
      {
       "html": [
        "<div style=\"max-height:1000px;max-width:1500px;overflow:auto;\">\n",
        "<table border=\"1\" class=\"dataframe\">\n",
        "  <thead>\n",
        "    <tr style=\"text-align: right;\">\n",
        "      <th></th>\n",
        "      <th>file</th>\n",
        "      <th>dir</th>\n",
        "      <th>f2</th>\n",
        "      <th>f3</th>\n",
        "    </tr>\n",
        "  </thead>\n",
        "  <tbody>\n",
        "    <tr>\n",
        "      <th>0</th>\n",
        "      <td>    f.jpg</td>\n",
        "      <td> 0</td>\n",
        "      <td>    f.jpg</td>\n",
        "      <td>    prefix-f.jpg</td>\n",
        "    </tr>\n",
        "    <tr>\n",
        "      <th>1</th>\n",
        "      <td>  f1a.jpg</td>\n",
        "      <td> 1</td>\n",
        "      <td>  f1a.jpg</td>\n",
        "      <td>  prefix-f1a.jpg</td>\n",
        "    </tr>\n",
        "    <tr>\n",
        "      <th>2</th>\n",
        "      <td>  f1b.jpg</td>\n",
        "      <td> 1</td>\n",
        "      <td>  f1b.jpg</td>\n",
        "      <td>  prefix-f1b.jpg</td>\n",
        "    </tr>\n",
        "    <tr>\n",
        "      <th>3</th>\n",
        "      <td> f12a.jpg</td>\n",
        "      <td> 2</td>\n",
        "      <td> f12a.jpg</td>\n",
        "      <td> prefix-f12a.jpg</td>\n",
        "    </tr>\n",
        "    <tr>\n",
        "      <th>4</th>\n",
        "      <td> f11a.jpg</td>\n",
        "      <td> 3</td>\n",
        "      <td> f11a.jpg</td>\n",
        "      <td> prefix-f11a.jpg</td>\n",
        "    </tr>\n",
        "    <tr>\n",
        "      <th>5</th>\n",
        "      <td>  f2b.jpg</td>\n",
        "      <td> 4</td>\n",
        "      <td>  f2b.jpg</td>\n",
        "      <td>  prefix-f2b.jpg</td>\n",
        "    </tr>\n",
        "    <tr>\n",
        "      <th>6</th>\n",
        "      <td>  f2a.jpg</td>\n",
        "      <td> 4</td>\n",
        "      <td>  f2a.jpg</td>\n",
        "      <td>  prefix-f2a.jpg</td>\n",
        "    </tr>\n",
        "  </tbody>\n",
        "</table>\n",
        "<p>7 rows \u00d7 4 columns</p>\n",
        "</div>"
       ],
       "metadata": {},
       "output_type": "pyout",
       "prompt_number": 210,
       "text": [
        "       file  dir        f2               f3\n",
        "0     f.jpg    0     f.jpg     prefix-f.jpg\n",
        "1   f1a.jpg    1   f1a.jpg   prefix-f1a.jpg\n",
        "2   f1b.jpg    1   f1b.jpg   prefix-f1b.jpg\n",
        "3  f12a.jpg    2  f12a.jpg  prefix-f12a.jpg\n",
        "4  f11a.jpg    3  f11a.jpg  prefix-f11a.jpg\n",
        "5   f2b.jpg    4   f2b.jpg   prefix-f2b.jpg\n",
        "6   f2a.jpg    4   f2a.jpg   prefix-f2a.jpg\n",
        "\n",
        "[7 rows x 4 columns]"
       ]
      }
     ],
     "prompt_number": 210
    },
    {
     "cell_type": "code",
     "collapsed": false,
     "input": [
      "def ab(fn):\n",
      "    m = re.match(\"[^ab]*(a|b)[^ab]*\", fn)\n",
      "    if m == None: return \"0\"\n",
      "    return m.groups()[0]\n",
      "ds.add_col('ab', ab)"
     ],
     "language": "python",
     "metadata": {},
     "outputs": [
      {
       "html": [
        "<div style=\"max-height:1000px;max-width:1500px;overflow:auto;\">\n",
        "<table border=\"1\" class=\"dataframe\">\n",
        "  <thead>\n",
        "    <tr style=\"text-align: right;\">\n",
        "      <th></th>\n",
        "      <th>file</th>\n",
        "      <th>dir</th>\n",
        "      <th>f2</th>\n",
        "      <th>f3</th>\n",
        "      <th>ab</th>\n",
        "    </tr>\n",
        "  </thead>\n",
        "  <tbody>\n",
        "    <tr>\n",
        "      <th>0</th>\n",
        "      <td>    f.jpg</td>\n",
        "      <td> 0</td>\n",
        "      <td>    f.jpg</td>\n",
        "      <td>    prefix-f.jpg</td>\n",
        "      <td> 0</td>\n",
        "    </tr>\n",
        "    <tr>\n",
        "      <th>1</th>\n",
        "      <td>  f1a.jpg</td>\n",
        "      <td> 1</td>\n",
        "      <td>  f1a.jpg</td>\n",
        "      <td>  prefix-f1a.jpg</td>\n",
        "      <td> a</td>\n",
        "    </tr>\n",
        "    <tr>\n",
        "      <th>2</th>\n",
        "      <td>  f1b.jpg</td>\n",
        "      <td> 1</td>\n",
        "      <td>  f1b.jpg</td>\n",
        "      <td>  prefix-f1b.jpg</td>\n",
        "      <td> b</td>\n",
        "    </tr>\n",
        "    <tr>\n",
        "      <th>3</th>\n",
        "      <td> f12a.jpg</td>\n",
        "      <td> 2</td>\n",
        "      <td> f12a.jpg</td>\n",
        "      <td> prefix-f12a.jpg</td>\n",
        "      <td> a</td>\n",
        "    </tr>\n",
        "    <tr>\n",
        "      <th>4</th>\n",
        "      <td> f11a.jpg</td>\n",
        "      <td> 3</td>\n",
        "      <td> f11a.jpg</td>\n",
        "      <td> prefix-f11a.jpg</td>\n",
        "      <td> a</td>\n",
        "    </tr>\n",
        "    <tr>\n",
        "      <th>5</th>\n",
        "      <td>  f2b.jpg</td>\n",
        "      <td> 4</td>\n",
        "      <td>  f2b.jpg</td>\n",
        "      <td>  prefix-f2b.jpg</td>\n",
        "      <td> b</td>\n",
        "    </tr>\n",
        "    <tr>\n",
        "      <th>6</th>\n",
        "      <td>  f2a.jpg</td>\n",
        "      <td> 4</td>\n",
        "      <td>  f2a.jpg</td>\n",
        "      <td>  prefix-f2a.jpg</td>\n",
        "      <td> a</td>\n",
        "    </tr>\n",
        "  </tbody>\n",
        "</table>\n",
        "<p>7 rows \u00d7 5 columns</p>\n",
        "</div>"
       ],
       "metadata": {},
       "output_type": "pyout",
       "prompt_number": 211,
       "text": [
        "       file  dir        f2               f3 ab\n",
        "0     f.jpg    0     f.jpg     prefix-f.jpg  0\n",
        "1   f1a.jpg    1   f1a.jpg   prefix-f1a.jpg  a\n",
        "2   f1b.jpg    1   f1b.jpg   prefix-f1b.jpg  b\n",
        "3  f12a.jpg    2  f12a.jpg  prefix-f12a.jpg  a\n",
        "4  f11a.jpg    3  f11a.jpg  prefix-f11a.jpg  a\n",
        "5   f2b.jpg    4   f2b.jpg   prefix-f2b.jpg  b\n",
        "6   f2a.jpg    4   f2a.jpg   prefix-f2a.jpg  a\n",
        "\n",
        "[7 rows x 5 columns]"
       ]
      }
     ],
     "prompt_number": 211
    },
    {
     "cell_type": "code",
     "collapsed": false,
     "input": [
      "f = ds.re_func(\"[^ab]*(a|b)[^ab]*\", \"-\")\n",
      "f(\"xxxx\")"
     ],
     "language": "python",
     "metadata": {},
     "outputs": [
      {
       "metadata": {},
       "output_type": "pyout",
       "prompt_number": 212,
       "text": [
        "'-'"
       ]
      }
     ],
     "prompt_number": 212
    },
    {
     "cell_type": "code",
     "collapsed": false,
     "input": [
      "f(\"xxaxx\")"
     ],
     "language": "python",
     "metadata": {},
     "outputs": [
      {
       "metadata": {},
       "output_type": "pyout",
       "prompt_number": 213,
       "text": [
        "'a'"
       ]
      }
     ],
     "prompt_number": 213
    },
    {
     "cell_type": "code",
     "collapsed": false,
     "input": [
      "ds.add_col('ab2', ds.re_func(\"[^ab]*(a|b)[^ab]*\", \"-\"))"
     ],
     "language": "python",
     "metadata": {},
     "outputs": [
      {
       "html": [
        "<div style=\"max-height:1000px;max-width:1500px;overflow:auto;\">\n",
        "<table border=\"1\" class=\"dataframe\">\n",
        "  <thead>\n",
        "    <tr style=\"text-align: right;\">\n",
        "      <th></th>\n",
        "      <th>file</th>\n",
        "      <th>dir</th>\n",
        "      <th>f2</th>\n",
        "      <th>f3</th>\n",
        "      <th>ab</th>\n",
        "      <th>ab2</th>\n",
        "    </tr>\n",
        "  </thead>\n",
        "  <tbody>\n",
        "    <tr>\n",
        "      <th>0</th>\n",
        "      <td>    f.jpg</td>\n",
        "      <td> 0</td>\n",
        "      <td>    f.jpg</td>\n",
        "      <td>    prefix-f.jpg</td>\n",
        "      <td> 0</td>\n",
        "      <td> -</td>\n",
        "    </tr>\n",
        "    <tr>\n",
        "      <th>1</th>\n",
        "      <td>  f1a.jpg</td>\n",
        "      <td> 1</td>\n",
        "      <td>  f1a.jpg</td>\n",
        "      <td>  prefix-f1a.jpg</td>\n",
        "      <td> a</td>\n",
        "      <td> a</td>\n",
        "    </tr>\n",
        "    <tr>\n",
        "      <th>2</th>\n",
        "      <td>  f1b.jpg</td>\n",
        "      <td> 1</td>\n",
        "      <td>  f1b.jpg</td>\n",
        "      <td>  prefix-f1b.jpg</td>\n",
        "      <td> b</td>\n",
        "      <td> b</td>\n",
        "    </tr>\n",
        "    <tr>\n",
        "      <th>3</th>\n",
        "      <td> f12a.jpg</td>\n",
        "      <td> 2</td>\n",
        "      <td> f12a.jpg</td>\n",
        "      <td> prefix-f12a.jpg</td>\n",
        "      <td> a</td>\n",
        "      <td> a</td>\n",
        "    </tr>\n",
        "    <tr>\n",
        "      <th>4</th>\n",
        "      <td> f11a.jpg</td>\n",
        "      <td> 3</td>\n",
        "      <td> f11a.jpg</td>\n",
        "      <td> prefix-f11a.jpg</td>\n",
        "      <td> a</td>\n",
        "      <td> a</td>\n",
        "    </tr>\n",
        "    <tr>\n",
        "      <th>5</th>\n",
        "      <td>  f2b.jpg</td>\n",
        "      <td> 4</td>\n",
        "      <td>  f2b.jpg</td>\n",
        "      <td>  prefix-f2b.jpg</td>\n",
        "      <td> b</td>\n",
        "      <td> b</td>\n",
        "    </tr>\n",
        "    <tr>\n",
        "      <th>6</th>\n",
        "      <td>  f2a.jpg</td>\n",
        "      <td> 4</td>\n",
        "      <td>  f2a.jpg</td>\n",
        "      <td>  prefix-f2a.jpg</td>\n",
        "      <td> a</td>\n",
        "      <td> a</td>\n",
        "    </tr>\n",
        "  </tbody>\n",
        "</table>\n",
        "<p>7 rows \u00d7 6 columns</p>\n",
        "</div>"
       ],
       "metadata": {},
       "output_type": "pyout",
       "prompt_number": 214,
       "text": [
        "       file  dir        f2               f3 ab ab2\n",
        "0     f.jpg    0     f.jpg     prefix-f.jpg  0   -\n",
        "1   f1a.jpg    1   f1a.jpg   prefix-f1a.jpg  a   a\n",
        "2   f1b.jpg    1   f1b.jpg   prefix-f1b.jpg  b   b\n",
        "3  f12a.jpg    2  f12a.jpg  prefix-f12a.jpg  a   a\n",
        "4  f11a.jpg    3  f11a.jpg  prefix-f11a.jpg  a   a\n",
        "5   f2b.jpg    4   f2b.jpg   prefix-f2b.jpg  b   b\n",
        "6   f2a.jpg    4   f2a.jpg   prefix-f2a.jpg  a   a\n",
        "\n",
        "[7 rows x 6 columns]"
       ]
      }
     ],
     "prompt_number": 214
    },
    {
     "cell_type": "markdown",
     "metadata": {},
     "source": [
      "### the methods\n",
      "all files in a set of directories, and all subdirs of a directory (as indices or names) or the files therein "
     ]
    },
    {
     "cell_type": "code",
     "collapsed": false,
     "input": [
      "ds.files_bydir([0,1,3])"
     ],
     "language": "python",
     "metadata": {},
     "outputs": [
      {
       "html": [
        "<div style=\"max-height:1000px;max-width:1500px;overflow:auto;\">\n",
        "<table border=\"1\" class=\"dataframe\">\n",
        "  <thead>\n",
        "    <tr style=\"text-align: right;\">\n",
        "      <th></th>\n",
        "      <th>file</th>\n",
        "      <th>dir</th>\n",
        "      <th>f2</th>\n",
        "      <th>f3</th>\n",
        "      <th>ab</th>\n",
        "      <th>ab2</th>\n",
        "    </tr>\n",
        "  </thead>\n",
        "  <tbody>\n",
        "    <tr>\n",
        "      <th>0</th>\n",
        "      <td>    f.jpg</td>\n",
        "      <td> 0</td>\n",
        "      <td>    f.jpg</td>\n",
        "      <td>    prefix-f.jpg</td>\n",
        "      <td> 0</td>\n",
        "      <td> -</td>\n",
        "    </tr>\n",
        "    <tr>\n",
        "      <th>1</th>\n",
        "      <td>  f1a.jpg</td>\n",
        "      <td> 1</td>\n",
        "      <td>  f1a.jpg</td>\n",
        "      <td>  prefix-f1a.jpg</td>\n",
        "      <td> a</td>\n",
        "      <td> a</td>\n",
        "    </tr>\n",
        "    <tr>\n",
        "      <th>2</th>\n",
        "      <td>  f1b.jpg</td>\n",
        "      <td> 1</td>\n",
        "      <td>  f1b.jpg</td>\n",
        "      <td>  prefix-f1b.jpg</td>\n",
        "      <td> b</td>\n",
        "      <td> b</td>\n",
        "    </tr>\n",
        "    <tr>\n",
        "      <th>4</th>\n",
        "      <td> f11a.jpg</td>\n",
        "      <td> 3</td>\n",
        "      <td> f11a.jpg</td>\n",
        "      <td> prefix-f11a.jpg</td>\n",
        "      <td> a</td>\n",
        "      <td> a</td>\n",
        "    </tr>\n",
        "  </tbody>\n",
        "</table>\n",
        "<p>4 rows \u00d7 6 columns</p>\n",
        "</div>"
       ],
       "metadata": {},
       "output_type": "pyout",
       "prompt_number": 215,
       "text": [
        "       file  dir        f2               f3 ab ab2\n",
        "0     f.jpg    0     f.jpg     prefix-f.jpg  0   -\n",
        "1   f1a.jpg    1   f1a.jpg   prefix-f1a.jpg  a   a\n",
        "2   f1b.jpg    1   f1b.jpg   prefix-f1b.jpg  b   b\n",
        "4  f11a.jpg    3  f11a.jpg  prefix-f11a.jpg  a   a\n",
        "\n",
        "[4 rows x 6 columns]"
       ]
      }
     ],
     "prompt_number": 215
    },
    {
     "cell_type": "code",
     "collapsed": false,
     "input": [
      "ds.subdirs(1, as_str = False)"
     ],
     "language": "python",
     "metadata": {},
     "outputs": [
      {
       "metadata": {},
       "output_type": "pyout",
       "prompt_number": 216,
       "text": [
        "[2, 3]"
       ]
      }
     ],
     "prompt_number": 216
    },
    {
     "cell_type": "code",
     "collapsed": false,
     "input": [
      "ds.subdirs(1, as_str = True)"
     ],
     "language": "python",
     "metadata": {},
     "outputs": [
      {
       "metadata": {},
       "output_type": "pyout",
       "prompt_number": 217,
       "text": [
        "['./delme/delme1/delme12', './delme/delme1/delme11']"
       ]
      }
     ],
     "prompt_number": 217
    },
    {
     "cell_type": "code",
     "collapsed": false,
     "input": [
      "ds.subdirs(1, get_files = True)"
     ],
     "language": "python",
     "metadata": {},
     "outputs": [
      {
       "html": [
        "<div style=\"max-height:1000px;max-width:1500px;overflow:auto;\">\n",
        "<table border=\"1\" class=\"dataframe\">\n",
        "  <thead>\n",
        "    <tr style=\"text-align: right;\">\n",
        "      <th></th>\n",
        "      <th>file</th>\n",
        "      <th>dir</th>\n",
        "      <th>f2</th>\n",
        "      <th>f3</th>\n",
        "      <th>ab</th>\n",
        "      <th>ab2</th>\n",
        "    </tr>\n",
        "  </thead>\n",
        "  <tbody>\n",
        "    <tr>\n",
        "      <th>1</th>\n",
        "      <td>  f1a.jpg</td>\n",
        "      <td> 1</td>\n",
        "      <td>  f1a.jpg</td>\n",
        "      <td>  prefix-f1a.jpg</td>\n",
        "      <td> a</td>\n",
        "      <td> a</td>\n",
        "    </tr>\n",
        "    <tr>\n",
        "      <th>2</th>\n",
        "      <td>  f1b.jpg</td>\n",
        "      <td> 1</td>\n",
        "      <td>  f1b.jpg</td>\n",
        "      <td>  prefix-f1b.jpg</td>\n",
        "      <td> b</td>\n",
        "      <td> b</td>\n",
        "    </tr>\n",
        "    <tr>\n",
        "      <th>3</th>\n",
        "      <td> f12a.jpg</td>\n",
        "      <td> 2</td>\n",
        "      <td> f12a.jpg</td>\n",
        "      <td> prefix-f12a.jpg</td>\n",
        "      <td> a</td>\n",
        "      <td> a</td>\n",
        "    </tr>\n",
        "    <tr>\n",
        "      <th>4</th>\n",
        "      <td> f11a.jpg</td>\n",
        "      <td> 3</td>\n",
        "      <td> f11a.jpg</td>\n",
        "      <td> prefix-f11a.jpg</td>\n",
        "      <td> a</td>\n",
        "      <td> a</td>\n",
        "    </tr>\n",
        "  </tbody>\n",
        "</table>\n",
        "<p>4 rows \u00d7 6 columns</p>\n",
        "</div>"
       ],
       "metadata": {},
       "output_type": "pyout",
       "prompt_number": 218,
       "text": [
        "       file  dir        f2               f3 ab ab2\n",
        "1   f1a.jpg    1   f1a.jpg   prefix-f1a.jpg  a   a\n",
        "2   f1b.jpg    1   f1b.jpg   prefix-f1b.jpg  b   b\n",
        "3  f12a.jpg    2  f12a.jpg  prefix-f12a.jpg  a   a\n",
        "4  f11a.jpg    3  f11a.jpg  prefix-f11a.jpg  a   a\n",
        "\n",
        "[4 rows x 6 columns]"
       ]
      }
     ],
     "prompt_number": 218
    },
    {
     "cell_type": "code",
     "collapsed": false,
     "input": [
      "ds.files_decorate(ds.files_bydir([0,1,3]))"
     ],
     "language": "python",
     "metadata": {},
     "outputs": [
      {
       "html": [
        "<div style=\"max-height:1000px;max-width:1500px;overflow:auto;\">\n",
        "<table border=\"1\" class=\"dataframe\">\n",
        "  <thead>\n",
        "    <tr style=\"text-align: right;\">\n",
        "      <th></th>\n",
        "      <th>file</th>\n",
        "      <th>dir</th>\n",
        "      <th>f2</th>\n",
        "      <th>f3</th>\n",
        "      <th>ab</th>\n",
        "      <th>ab2</th>\n",
        "      <th>dirn</th>\n",
        "    </tr>\n",
        "  </thead>\n",
        "  <tbody>\n",
        "    <tr>\n",
        "      <th>0</th>\n",
        "      <td>    f.jpg</td>\n",
        "      <td> 0</td>\n",
        "      <td>    f.jpg</td>\n",
        "      <td>    prefix-f.jpg</td>\n",
        "      <td> 0</td>\n",
        "      <td> -</td>\n",
        "      <td>                ./delme</td>\n",
        "    </tr>\n",
        "    <tr>\n",
        "      <th>1</th>\n",
        "      <td>  f1a.jpg</td>\n",
        "      <td> 1</td>\n",
        "      <td>  f1a.jpg</td>\n",
        "      <td>  prefix-f1a.jpg</td>\n",
        "      <td> a</td>\n",
        "      <td> a</td>\n",
        "      <td>         ./delme/delme1</td>\n",
        "    </tr>\n",
        "    <tr>\n",
        "      <th>2</th>\n",
        "      <td>  f1b.jpg</td>\n",
        "      <td> 1</td>\n",
        "      <td>  f1b.jpg</td>\n",
        "      <td>  prefix-f1b.jpg</td>\n",
        "      <td> b</td>\n",
        "      <td> b</td>\n",
        "      <td>         ./delme/delme1</td>\n",
        "    </tr>\n",
        "    <tr>\n",
        "      <th>4</th>\n",
        "      <td> f11a.jpg</td>\n",
        "      <td> 3</td>\n",
        "      <td> f11a.jpg</td>\n",
        "      <td> prefix-f11a.jpg</td>\n",
        "      <td> a</td>\n",
        "      <td> a</td>\n",
        "      <td> ./delme/delme1/delme11</td>\n",
        "    </tr>\n",
        "  </tbody>\n",
        "</table>\n",
        "<p>4 rows \u00d7 7 columns</p>\n",
        "</div>"
       ],
       "metadata": {},
       "output_type": "pyout",
       "prompt_number": 219,
       "text": [
        "       file  dir        f2               f3 ab ab2                    dirn\n",
        "0     f.jpg    0     f.jpg     prefix-f.jpg  0   -                 ./delme\n",
        "1   f1a.jpg    1   f1a.jpg   prefix-f1a.jpg  a   a          ./delme/delme1\n",
        "2   f1b.jpg    1   f1b.jpg   prefix-f1b.jpg  b   b          ./delme/delme1\n",
        "4  f11a.jpg    3  f11a.jpg  prefix-f11a.jpg  a   a  ./delme/delme1/delme11\n",
        "\n",
        "[4 rows x 7 columns]"
       ]
      }
     ],
     "prompt_number": 219
    },
    {
     "cell_type": "code",
     "collapsed": false,
     "input": [
      "ds.files_byre(\"f2.*\\.jpg$\")"
     ],
     "language": "python",
     "metadata": {},
     "outputs": [
      {
       "html": [
        "<div style=\"max-height:1000px;max-width:1500px;overflow:auto;\">\n",
        "<table border=\"1\" class=\"dataframe\">\n",
        "  <thead>\n",
        "    <tr style=\"text-align: right;\">\n",
        "      <th></th>\n",
        "      <th>file</th>\n",
        "      <th>dir</th>\n",
        "      <th>f2</th>\n",
        "      <th>f3</th>\n",
        "      <th>ab</th>\n",
        "      <th>ab2</th>\n",
        "    </tr>\n",
        "  </thead>\n",
        "  <tbody>\n",
        "    <tr>\n",
        "      <th>5</th>\n",
        "      <td> f2b.jpg</td>\n",
        "      <td> 4</td>\n",
        "      <td> f2b.jpg</td>\n",
        "      <td> prefix-f2b.jpg</td>\n",
        "      <td> b</td>\n",
        "      <td> b</td>\n",
        "    </tr>\n",
        "    <tr>\n",
        "      <th>6</th>\n",
        "      <td> f2a.jpg</td>\n",
        "      <td> 4</td>\n",
        "      <td> f2a.jpg</td>\n",
        "      <td> prefix-f2a.jpg</td>\n",
        "      <td> a</td>\n",
        "      <td> a</td>\n",
        "    </tr>\n",
        "  </tbody>\n",
        "</table>\n",
        "<p>2 rows \u00d7 6 columns</p>\n",
        "</div>"
       ],
       "metadata": {},
       "output_type": "pyout",
       "prompt_number": 220,
       "text": [
        "      file  dir       f2              f3 ab ab2\n",
        "5  f2b.jpg    4  f2b.jpg  prefix-f2b.jpg  b   b\n",
        "6  f2a.jpg    4  f2a.jpg  prefix-f2a.jpg  a   a\n",
        "\n",
        "[2 rows x 6 columns]"
       ]
      }
     ],
     "prompt_number": 220
    },
    {
     "cell_type": "code",
     "collapsed": false,
     "input": [
      "set(\"2012_02 Weekend With Parents in Paris\".lower().split()[1:]) - out"
     ],
     "language": "python",
     "metadata": {},
     "outputs": [
      {
       "metadata": {},
       "output_type": "pyout",
       "prompt_number": 221,
       "text": [
        "{'parents', 'paris', 'weekend'}"
       ]
      }
     ],
     "prompt_number": 221
    },
    {
     "cell_type": "code",
     "collapsed": false,
     "input": [
      "out = {\"is\", \"a\", \"in\", \"with\", \"for\", \"incl\", \"for\", \"and\", \"the\"}"
     ],
     "language": "python",
     "metadata": {},
     "outputs": [],
     "prompt_number": 222
    },
    {
     "cell_type": "code",
     "collapsed": false,
     "input": [
      "def dates(s):\n",
      "    m = re.match(\"^([0-9]{8,8})_([0-9]{4,6}).*\",s)\n",
      "    if m==None: return []\n",
      "    return  m.groups()"
     ],
     "language": "python",
     "metadata": {},
     "outputs": [],
     "prompt_number": 233
    },
    {
     "cell_type": "code",
     "collapsed": false,
     "input": [
      "dates(\"20121224_120000\")"
     ],
     "language": "python",
     "metadata": {},
     "outputs": [
      {
       "metadata": {},
       "output_type": "pyout",
       "prompt_number": 234,
       "text": [
        "('20121224', '120000')"
       ]
      }
     ],
     "prompt_number": 234
    },
    {
     "cell_type": "code",
     "collapsed": false,
     "input": [
      "dates(\"aa_20121224_120000\")"
     ],
     "language": "python",
     "metadata": {},
     "outputs": [
      {
       "metadata": {},
       "output_type": "pyout",
       "prompt_number": 235,
       "text": [
        "[]"
       ]
      }
     ],
     "prompt_number": 235
    },
    {
     "cell_type": "code",
     "collapsed": false,
     "input": [
      "dates(\"20121224_120000_aa\")"
     ],
     "language": "python",
     "metadata": {},
     "outputs": [
      {
       "metadata": {},
       "output_type": "pyout",
       "prompt_number": 236,
       "text": [
        "('20121224', '120000')"
       ]
      }
     ],
     "prompt_number": 236
    },
    {
     "cell_type": "code",
     "collapsed": false,
     "input": [
      "dates(\"20121224_1200\")"
     ],
     "language": "python",
     "metadata": {},
     "outputs": [
      {
       "metadata": {},
       "output_type": "pyout",
       "prompt_number": 237,
       "text": [
        "('20121224', '1200')"
       ]
      }
     ],
     "prompt_number": 237
    },
    {
     "cell_type": "code",
     "collapsed": false,
     "input": [
      "dates(\"20121224_120\")"
     ],
     "language": "python",
     "metadata": {},
     "outputs": [
      {
       "metadata": {},
       "output_type": "pyout",
       "prompt_number": 238,
       "text": [
        "[]"
       ]
      }
     ],
     "prompt_number": 238
    },
    {
     "cell_type": "code",
     "collapsed": false,
     "input": [
      "list(\"abcdef\")"
     ],
     "language": "python",
     "metadata": {},
     "outputs": [
      {
       "metadata": {},
       "output_type": "pyout",
       "prompt_number": 28,
       "text": [
        "['a', 'b', 'c', 'd', 'e', 'f']"
       ]
      }
     ],
     "prompt_number": 28
    },
    {
     "cell_type": "code",
     "collapsed": false,
     "input": [],
     "language": "python",
     "metadata": {},
     "outputs": []
    }
   ],
   "metadata": {}
  }
 ]
}