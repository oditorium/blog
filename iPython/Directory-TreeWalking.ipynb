{
 "cells": [
  {
   "cell_type": "markdown",
   "metadata": {},
   "source": [
    "# Walking the directory tree"
   ]
  },
  {
   "cell_type": "code",
   "execution_count": 17,
   "metadata": {
    "collapsed": false
   },
   "outputs": [],
   "source": [
    "import os\n",
    "\n",
    "def dir_structure (path=None, decorated=False):\n",
    "    \"\"\" read out the full recursive directory structure of `path` and return it as a tuple\n",
    "    \n",
    "    path - the path where to start the walk (default: `.`)\n",
    "    decorated - if True, the actual directory is returned as well as the index\n",
    "    \n",
    "    RETURNS\n",
    "        (dirs, files, tree)\n",
    "        \n",
    "        dirs - tuple of dirs, in order traversed by walk\n",
    "        files - tuple of tuples (filename, dir_ix) where dir_ix is index in dirs\n",
    "        tree - tuple of tuples (dir_ix1, dir_ix2, ...) where dir_ix1... are subdirs\n",
    "    \"\"\"\n",
    "\n",
    "    if path == None: path = \".\"\n",
    "    path = path.rstrip(\"/\")\n",
    "\n",
    "\n",
    "\n",
    "    dirs_and_files = list(os.walk(path))\n",
    "    dirs = []\n",
    "    files = []\n",
    "    for df in dirs_and_files:\n",
    "        dir_ix = len(dirs)\n",
    "        dirs.append( df[0] )\n",
    "        for f in df[2]:\n",
    "            files.append( (f, dir_ix) )\n",
    "\n",
    "    tree = []\n",
    "    for df in dirs_and_files:\n",
    "        parent_dir = df[0]\n",
    "        parent_dir_ix = dirs.index(parent_dir)\n",
    "        tree.append(tuple((dirs.index(parent_dir+\"/\"+dir)) for dir in df[1]))\n",
    "    \n",
    "    if decorated:\n",
    "        files = ( (x[0], x[1], dirs[x[1]]) for x in files)\n",
    "    \n",
    "    return tuple(( \n",
    "        tuple(dirs),\n",
    "        tuple(files),\n",
    "        tuple(tree)))\n",
    "\n"
   ]
  },
  {
   "cell_type": "code",
   "execution_count": 26,
   "metadata": {
    "collapsed": false
   },
   "outputs": [
    {
     "data": {
      "text/plain": [
       "'123'"
      ]
     },
     "execution_count": 26,
     "metadata": {},
     "output_type": "execute_result"
    }
   ],
   "source": [
    "\"123/\".rstrip(\"/\")"
   ]
  },
  {
   "cell_type": "code",
   "execution_count": 22,
   "metadata": {
    "collapsed": false
   },
   "outputs": [],
   "source": [
    "dd = dir_structure (decorated=True)\n",
    "##dd"
   ]
  },
  {
   "cell_type": "code",
   "execution_count": 25,
   "metadata": {
    "collapsed": false
   },
   "outputs": [],
   "source": [
    "1"
   ]
  },
  {
   "cell_type": "code",
   "execution_count": 182,
   "metadata": {
    "collapsed": false
   },
   "outputs": [],
   "source": [
    "import os\n",
    "import pandas as pd\n",
    "import functools\n",
    "import re\n",
    "import types\n",
    "\n",
    "class DirStructure ():\n",
    "    \"\"\" read out the full recursive directory structure of `path` into the object\n",
    "    \n",
    "    path - the pathname given to os.walk(); it can also be a tuple `(dirs, files, tree)` in which\n",
    "            case this tuple is used to initialise the object\n",
    "    \n",
    "    PROPERTIES\n",
    "    \n",
    "        dirs - tuple of dirs, in order traversed by walk\n",
    "        files - tuple of tuples (filename, dir_ix) where dir_ix is index in dirs\n",
    "        tree - tuple of tuples (dir_ix1, dir_ix2, ...) where dir_ix1... are subdirs\n",
    "        \n",
    "        dirs_t, files_t - the corresponding pandas dataframe tables\n",
    "        \n",
    "    METHODS\n",
    "        \n",
    "        subdirs - get all subdirs\n",
    "        files_bydir - get all files in set of dirs\n",
    "        files_decorate - add the full directory names to a files table\n",
    "        files_byre - filter files table by regular expression\n",
    "        add_col - adds a column to the files_t table (values either explicit or as function)\n",
    "        re_func - factory function for use in relation to add_col\n",
    "    \n",
    "    DEPENDENCIES\n",
    "    \n",
    "        os\n",
    "        pandas\n",
    "        functools\n",
    "        re\n",
    "        types\n",
    "        \n",
    "    VERSION AND COPYRIGHT\n",
    "        \n",
    "        version 0.1a\n",
    "        (c) 2014 Stefan LOESCH / oditorium\n",
    "    \n",
    "    \"\"\"\n",
    "    \n",
    "    __version__ = \"0.1a\"\n",
    "    \n",
    "    def __init__(self, path=None):\n",
    "        \n",
    "        if type(path) == tuple:\n",
    "            self.dirs = tuple(dirs)\n",
    "            self.files = tuple(files)\n",
    "            self.tree = tuple(tree)\n",
    "\n",
    "            self.dirs_t = pd.DataFrame(list(self.dirs), columns = ['dir'])\n",
    "            self.files_t = pd.DataFrame(list(self.files), columns = ['file', 'dir'])\n",
    "            return\n",
    "\n",
    "        \n",
    "        if path == None: path = \".\"\n",
    "        path = path.rstrip(\"/\")\n",
    "\n",
    "            \n",
    "    \n",
    "        dirs_and_files = list(os.walk(path))\n",
    "        dirs = []\n",
    "        files = []\n",
    "        for df in dirs_and_files:\n",
    "            dir_ix = len(dirs)\n",
    "            dirs.append( df[0] )\n",
    "            for f in df[2]:\n",
    "                files.append( (f, dir_ix) )\n",
    "\n",
    "        tree = []\n",
    "        for df in dirs_and_files:\n",
    "            parent_dir = df[0]\n",
    "            parent_dir_ix = dirs.index(parent_dir)\n",
    "\n",
    "            #print (parent_dir)\n",
    "            #print (parent_dir_ix)\n",
    "            #print ([(dirs.index(parent_dir+\"/\"+dir)) for dir in df[1]])\n",
    "            tree.append(tuple((dirs.index(parent_dir+\"/\"+dir)) for dir in df[1]))\n",
    "                        \n",
    "        self.dirs = tuple(dirs)\n",
    "        self.files = tuple(files)\n",
    "        self.tree = tuple(tree)\n",
    "        \n",
    "        self.dirs_t = pd.DataFrame(list(self.dirs), columns = ['dir'])\n",
    "        self.files_t = pd.DataFrame(list(self.files), columns = ['file', 'dir'])\n",
    "\n",
    "    def files_bydir (self, dirs=None, files_t=None):\n",
    "        \"\"\"filters files_t with respect to all directories in dirs\n",
    "        \n",
    "        dirs - iterable of directory indices\n",
    "        files_t - a pandas table with column `dir` (default: self.files_t)\n",
    "        \"\"\"\n",
    "    \n",
    "        if type(files_t) == type(None): files_t = self.files_t\n",
    "        if dirs==None: dirs = tuple(0);\n",
    "        if type(dirs) == int: dirs = tuple((dirs,))\n",
    "        the_filter = list(map(any,(zip(*list(list(files_t['dir'] == ix) for ix in dirs)))))\n",
    "            # this expression is a bit complicated; it filters the equiv of \n",
    "            #    ds.files_t['dir'] in dir\n",
    "            # - generate a list of filter arrays \n",
    "            # - zip them together (the double list command are to convert pandas structures to list in the proper format)\n",
    "            # - map `any()` to each of those zipped elements and unpack the map into a list\n",
    "            \n",
    "        return files_t[the_filter]\n",
    "            \n",
    "    def _subdirs (self, dir_ix):\n",
    "        \"\"\" returns list of all subdirectories (private)\n",
    "        \n",
    "        use subdirs() to access this function\n",
    "        \"\"\"\n",
    "        \n",
    "        sd = list(self.tree[dir_ix])\n",
    "        sd1 = [self._subdirs(ix) for ix in sd]\n",
    "        sd1 = functools.reduce(lambda x,y: x+y, sd1, [])\n",
    "        if sd1 != [[]]: sd = sd+sd1\n",
    "        return sd\n",
    "    \n",
    "\n",
    "    def subdirs(self, dir_ix, as_str=False, get_files=False):\n",
    "        \"\"\"get all subdirs of the given directory (as index or name), or the files therein\n",
    "        \n",
    "        dir_ix - the directory index of the root\n",
    "        as_str - if True, directory indices are expanded into names\n",
    "        get_files - it True, return list of files rather than list if subdirectories\n",
    "        \"\"\"\n",
    "        \n",
    "        sd = self._subdirs(dir_ix)\n",
    "        \n",
    "        if get_files == True:\n",
    "            thefiles = self.files_bydir([dir_ix] + sd)\n",
    "            return thefiles\n",
    "        \n",
    "        if as_str == True:\n",
    "            sd = [self.dirs[ix] for ix in sd]\n",
    "        return sd\n",
    "   \n",
    "    def files_decorate(self, files_t=None):\n",
    "        \"\"\"add a column `dirn` to a files table (based on column `dir`)\n",
    "        \n",
    "        files_t - must have a column dir containing numerical values\n",
    "        \"\"\"\n",
    "        \n",
    "        if type(files_t) == type(None): files_t = self.files_t\n",
    "        files_t['dirn'] = list(self.dirs[ix] for ix in list(files_t['dir']))\n",
    "        return files_t\n",
    "        \n",
    "    def files_byre(self, regex, files_t=None):\n",
    "        \"\"\"filter the files table by regex\n",
    "        \n",
    "        files_t - must have a column `file` containing the filename\n",
    "        \"\"\"\n",
    "        \n",
    "        if type(files_t) == type(None): files_t = self.files_t\n",
    "        the_filter = list(map (lambda fn: type(re.match(regex, fn)) != type(None), list(files_t['file'])))\n",
    "        return files_t[the_filter]\n",
    "    \n",
    "    def add_col(self, heading, values):\n",
    "        \"\"\"adds a columns to the files_t table (note: the files property is _not_ kept in synch \n",
    "        \n",
    "        heading - the col heading\n",
    "        values - the col values (must the the right number of entries; can also be a function f(filename))*\n",
    "        \n",
    "        * this might change in the future to \n",
    "        \"\"\"\n",
    "        if type(values) != types.FunctionType:\n",
    "            self.files_t[heading] = values\n",
    "            return self.files_t\n",
    "        \n",
    "        fnames = self.files_t['file']\n",
    "        val1 = map(values, fnames)\n",
    "        self.files_t[heading] = list(val1)\n",
    "        return self.files_t\n",
    "    \n",
    "    def re_func(self, regex, none_val=None):\n",
    "        \"\"\"factory function: returns a function that evaluates regex on its argument an returns first group or none_val\n",
    "        \n",
    "        EXAMPLE\n",
    "        \n",
    "            f = re_func(\"(.*)\\.jpg$\", \"0\")\n",
    "            f(\"test.jpg\") -> \"test\"\n",
    "            f(\"test.JPG\") -> \"0\"\n",
    "        \"\"\"\n",
    "        \n",
    "        def f(s):\n",
    "            \n",
    "            m = re.match(regex, s)\n",
    "            if m == None: return none_val\n",
    "            return m.groups()[0]\n",
    "        \n",
    "        return f\n",
    "        \n",
    "        \n",
    "        \n",
    "        \n",
    "        \n",
    "        \n",
    "        \n",
    "\n",
    "\n",
    "    \n",
    "   \n",
    "\n",
    "    \n",
    "    "
   ]
  },
  {
   "cell_type": "markdown",
   "metadata": {},
   "source": [
    "### read the directory structure"
   ]
  },
  {
   "cell_type": "code",
   "execution_count": 203,
   "metadata": {
    "collapsed": false
   },
   "outputs": [],
   "source": [
    "ds = DirStructure('./delme')"
   ]
  },
  {
   "cell_type": "markdown",
   "metadata": {},
   "source": [
    "###the properties\n",
    "a tuple of directories, of files, and the tree"
   ]
  },
  {
   "cell_type": "code",
   "execution_count": 204,
   "metadata": {
    "collapsed": false
   },
   "outputs": [
    {
     "data": {
      "text/plain": [
       "('./delme',\n",
       " './delme/delme1',\n",
       " './delme/delme1/delme12',\n",
       " './delme/delme1/delme11',\n",
       " './delme/delme2')"
      ]
     },
     "execution_count": 204,
     "metadata": {},
     "output_type": "execute_result"
    }
   ],
   "source": [
    "ds.dirs"
   ]
  },
  {
   "cell_type": "code",
   "execution_count": 205,
   "metadata": {
    "collapsed": false
   },
   "outputs": [
    {
     "data": {
      "text/plain": [
       "(('f.jpg', 0),\n",
       " ('f1a.jpg', 1),\n",
       " ('f1b.jpg', 1),\n",
       " ('f12a.jpg', 2),\n",
       " ('f11a.jpg', 3),\n",
       " ('f2b.jpg', 4),\n",
       " ('f2a.jpg', 4))"
      ]
     },
     "execution_count": 205,
     "metadata": {},
     "output_type": "execute_result"
    }
   ],
   "source": [
    "ds.files"
   ]
  },
  {
   "cell_type": "code",
   "execution_count": 206,
   "metadata": {
    "collapsed": false
   },
   "outputs": [
    {
     "data": {
      "text/plain": [
       "((1, 4), (2, 3), (), (), ())"
      ]
     },
     "execution_count": 206,
     "metadata": {},
     "output_type": "execute_result"
    }
   ],
   "source": [
    "ds.tree"
   ]
  },
  {
   "cell_type": "markdown",
   "metadata": {},
   "source": [
    "directories and files as pandas dataframes"
   ]
  },
  {
   "cell_type": "code",
   "execution_count": 207,
   "metadata": {
    "collapsed": false
   },
   "outputs": [
    {
     "data": {
      "text/html": [
       "<div style=\"max-height:1000px;max-width:1500px;overflow:auto;\">\n",
       "<table border=\"1\" class=\"dataframe\">\n",
       "  <thead>\n",
       "    <tr style=\"text-align: right;\">\n",
       "      <th></th>\n",
       "      <th>dir</th>\n",
       "    </tr>\n",
       "  </thead>\n",
       "  <tbody>\n",
       "    <tr>\n",
       "      <th>0</th>\n",
       "      <td>                ./delme</td>\n",
       "    </tr>\n",
       "    <tr>\n",
       "      <th>1</th>\n",
       "      <td>         ./delme/delme1</td>\n",
       "    </tr>\n",
       "    <tr>\n",
       "      <th>2</th>\n",
       "      <td> ./delme/delme1/delme12</td>\n",
       "    </tr>\n",
       "    <tr>\n",
       "      <th>3</th>\n",
       "      <td> ./delme/delme1/delme11</td>\n",
       "    </tr>\n",
       "    <tr>\n",
       "      <th>4</th>\n",
       "      <td>         ./delme/delme2</td>\n",
       "    </tr>\n",
       "  </tbody>\n",
       "</table>\n",
       "<p>5 rows × 1 columns</p>\n",
       "</div>"
      ],
      "text/plain": [
       "                      dir\n",
       "0                 ./delme\n",
       "1          ./delme/delme1\n",
       "2  ./delme/delme1/delme12\n",
       "3  ./delme/delme1/delme11\n",
       "4          ./delme/delme2\n",
       "\n",
       "[5 rows x 1 columns]"
      ]
     },
     "execution_count": 207,
     "metadata": {},
     "output_type": "execute_result"
    }
   ],
   "source": [
    "ds.dirs_t"
   ]
  },
  {
   "cell_type": "code",
   "execution_count": 208,
   "metadata": {
    "collapsed": false
   },
   "outputs": [
    {
     "data": {
      "text/html": [
       "<div style=\"max-height:1000px;max-width:1500px;overflow:auto;\">\n",
       "<table border=\"1\" class=\"dataframe\">\n",
       "  <thead>\n",
       "    <tr style=\"text-align: right;\">\n",
       "      <th></th>\n",
       "      <th>file</th>\n",
       "      <th>dir</th>\n",
       "    </tr>\n",
       "  </thead>\n",
       "  <tbody>\n",
       "    <tr>\n",
       "      <th>0</th>\n",
       "      <td>    f.jpg</td>\n",
       "      <td> 0</td>\n",
       "    </tr>\n",
       "    <tr>\n",
       "      <th>1</th>\n",
       "      <td>  f1a.jpg</td>\n",
       "      <td> 1</td>\n",
       "    </tr>\n",
       "    <tr>\n",
       "      <th>2</th>\n",
       "      <td>  f1b.jpg</td>\n",
       "      <td> 1</td>\n",
       "    </tr>\n",
       "    <tr>\n",
       "      <th>3</th>\n",
       "      <td> f12a.jpg</td>\n",
       "      <td> 2</td>\n",
       "    </tr>\n",
       "    <tr>\n",
       "      <th>4</th>\n",
       "      <td> f11a.jpg</td>\n",
       "      <td> 3</td>\n",
       "    </tr>\n",
       "    <tr>\n",
       "      <th>5</th>\n",
       "      <td>  f2b.jpg</td>\n",
       "      <td> 4</td>\n",
       "    </tr>\n",
       "    <tr>\n",
       "      <th>6</th>\n",
       "      <td>  f2a.jpg</td>\n",
       "      <td> 4</td>\n",
       "    </tr>\n",
       "  </tbody>\n",
       "</table>\n",
       "<p>7 rows × 2 columns</p>\n",
       "</div>"
      ],
      "text/plain": [
       "       file  dir\n",
       "0     f.jpg    0\n",
       "1   f1a.jpg    1\n",
       "2   f1b.jpg    1\n",
       "3  f12a.jpg    2\n",
       "4  f11a.jpg    3\n",
       "5   f2b.jpg    4\n",
       "6   f2a.jpg    4\n",
       "\n",
       "[7 rows x 2 columns]"
      ]
     },
     "execution_count": 208,
     "metadata": {},
     "output_type": "execute_result"
    }
   ],
   "source": [
    "ds.files_t"
   ]
  },
  {
   "cell_type": "code",
   "execution_count": 209,
   "metadata": {
    "collapsed": false
   },
   "outputs": [
    {
     "data": {
      "text/html": [
       "<div style=\"max-height:1000px;max-width:1500px;overflow:auto;\">\n",
       "<table border=\"1\" class=\"dataframe\">\n",
       "  <thead>\n",
       "    <tr style=\"text-align: right;\">\n",
       "      <th></th>\n",
       "      <th>file</th>\n",
       "      <th>dir</th>\n",
       "      <th>f2</th>\n",
       "    </tr>\n",
       "  </thead>\n",
       "  <tbody>\n",
       "    <tr>\n",
       "      <th>0</th>\n",
       "      <td>    f.jpg</td>\n",
       "      <td> 0</td>\n",
       "      <td>    f.jpg</td>\n",
       "    </tr>\n",
       "    <tr>\n",
       "      <th>1</th>\n",
       "      <td>  f1a.jpg</td>\n",
       "      <td> 1</td>\n",
       "      <td>  f1a.jpg</td>\n",
       "    </tr>\n",
       "    <tr>\n",
       "      <th>2</th>\n",
       "      <td>  f1b.jpg</td>\n",
       "      <td> 1</td>\n",
       "      <td>  f1b.jpg</td>\n",
       "    </tr>\n",
       "    <tr>\n",
       "      <th>3</th>\n",
       "      <td> f12a.jpg</td>\n",
       "      <td> 2</td>\n",
       "      <td> f12a.jpg</td>\n",
       "    </tr>\n",
       "    <tr>\n",
       "      <th>4</th>\n",
       "      <td> f11a.jpg</td>\n",
       "      <td> 3</td>\n",
       "      <td> f11a.jpg</td>\n",
       "    </tr>\n",
       "    <tr>\n",
       "      <th>5</th>\n",
       "      <td>  f2b.jpg</td>\n",
       "      <td> 4</td>\n",
       "      <td>  f2b.jpg</td>\n",
       "    </tr>\n",
       "    <tr>\n",
       "      <th>6</th>\n",
       "      <td>  f2a.jpg</td>\n",
       "      <td> 4</td>\n",
       "      <td>  f2a.jpg</td>\n",
       "    </tr>\n",
       "  </tbody>\n",
       "</table>\n",
       "<p>7 rows × 3 columns</p>\n",
       "</div>"
      ],
      "text/plain": [
       "       file  dir        f2\n",
       "0     f.jpg    0     f.jpg\n",
       "1   f1a.jpg    1   f1a.jpg\n",
       "2   f1b.jpg    1   f1b.jpg\n",
       "3  f12a.jpg    2  f12a.jpg\n",
       "4  f11a.jpg    3  f11a.jpg\n",
       "5   f2b.jpg    4   f2b.jpg\n",
       "6   f2a.jpg    4   f2a.jpg\n",
       "\n",
       "[7 rows x 3 columns]"
      ]
     },
     "execution_count": 209,
     "metadata": {},
     "output_type": "execute_result"
    }
   ],
   "source": [
    "ds.add_col('f2', list(ds.files_t['file']))"
   ]
  },
  {
   "cell_type": "code",
   "execution_count": 210,
   "metadata": {
    "collapsed": false
   },
   "outputs": [
    {
     "data": {
      "text/html": [
       "<div style=\"max-height:1000px;max-width:1500px;overflow:auto;\">\n",
       "<table border=\"1\" class=\"dataframe\">\n",
       "  <thead>\n",
       "    <tr style=\"text-align: right;\">\n",
       "      <th></th>\n",
       "      <th>file</th>\n",
       "      <th>dir</th>\n",
       "      <th>f2</th>\n",
       "      <th>f3</th>\n",
       "    </tr>\n",
       "  </thead>\n",
       "  <tbody>\n",
       "    <tr>\n",
       "      <th>0</th>\n",
       "      <td>    f.jpg</td>\n",
       "      <td> 0</td>\n",
       "      <td>    f.jpg</td>\n",
       "      <td>    prefix-f.jpg</td>\n",
       "    </tr>\n",
       "    <tr>\n",
       "      <th>1</th>\n",
       "      <td>  f1a.jpg</td>\n",
       "      <td> 1</td>\n",
       "      <td>  f1a.jpg</td>\n",
       "      <td>  prefix-f1a.jpg</td>\n",
       "    </tr>\n",
       "    <tr>\n",
       "      <th>2</th>\n",
       "      <td>  f1b.jpg</td>\n",
       "      <td> 1</td>\n",
       "      <td>  f1b.jpg</td>\n",
       "      <td>  prefix-f1b.jpg</td>\n",
       "    </tr>\n",
       "    <tr>\n",
       "      <th>3</th>\n",
       "      <td> f12a.jpg</td>\n",
       "      <td> 2</td>\n",
       "      <td> f12a.jpg</td>\n",
       "      <td> prefix-f12a.jpg</td>\n",
       "    </tr>\n",
       "    <tr>\n",
       "      <th>4</th>\n",
       "      <td> f11a.jpg</td>\n",
       "      <td> 3</td>\n",
       "      <td> f11a.jpg</td>\n",
       "      <td> prefix-f11a.jpg</td>\n",
       "    </tr>\n",
       "    <tr>\n",
       "      <th>5</th>\n",
       "      <td>  f2b.jpg</td>\n",
       "      <td> 4</td>\n",
       "      <td>  f2b.jpg</td>\n",
       "      <td>  prefix-f2b.jpg</td>\n",
       "    </tr>\n",
       "    <tr>\n",
       "      <th>6</th>\n",
       "      <td>  f2a.jpg</td>\n",
       "      <td> 4</td>\n",
       "      <td>  f2a.jpg</td>\n",
       "      <td>  prefix-f2a.jpg</td>\n",
       "    </tr>\n",
       "  </tbody>\n",
       "</table>\n",
       "<p>7 rows × 4 columns</p>\n",
       "</div>"
      ],
      "text/plain": [
       "       file  dir        f2               f3\n",
       "0     f.jpg    0     f.jpg     prefix-f.jpg\n",
       "1   f1a.jpg    1   f1a.jpg   prefix-f1a.jpg\n",
       "2   f1b.jpg    1   f1b.jpg   prefix-f1b.jpg\n",
       "3  f12a.jpg    2  f12a.jpg  prefix-f12a.jpg\n",
       "4  f11a.jpg    3  f11a.jpg  prefix-f11a.jpg\n",
       "5   f2b.jpg    4   f2b.jpg   prefix-f2b.jpg\n",
       "6   f2a.jpg    4   f2a.jpg   prefix-f2a.jpg\n",
       "\n",
       "[7 rows x 4 columns]"
      ]
     },
     "execution_count": 210,
     "metadata": {},
     "output_type": "execute_result"
    }
   ],
   "source": [
    "ds.add_col('f3', lambda f: \"prefix-\"+f)"
   ]
  },
  {
   "cell_type": "code",
   "execution_count": 211,
   "metadata": {
    "collapsed": false
   },
   "outputs": [
    {
     "data": {
      "text/html": [
       "<div style=\"max-height:1000px;max-width:1500px;overflow:auto;\">\n",
       "<table border=\"1\" class=\"dataframe\">\n",
       "  <thead>\n",
       "    <tr style=\"text-align: right;\">\n",
       "      <th></th>\n",
       "      <th>file</th>\n",
       "      <th>dir</th>\n",
       "      <th>f2</th>\n",
       "      <th>f3</th>\n",
       "      <th>ab</th>\n",
       "    </tr>\n",
       "  </thead>\n",
       "  <tbody>\n",
       "    <tr>\n",
       "      <th>0</th>\n",
       "      <td>    f.jpg</td>\n",
       "      <td> 0</td>\n",
       "      <td>    f.jpg</td>\n",
       "      <td>    prefix-f.jpg</td>\n",
       "      <td> 0</td>\n",
       "    </tr>\n",
       "    <tr>\n",
       "      <th>1</th>\n",
       "      <td>  f1a.jpg</td>\n",
       "      <td> 1</td>\n",
       "      <td>  f1a.jpg</td>\n",
       "      <td>  prefix-f1a.jpg</td>\n",
       "      <td> a</td>\n",
       "    </tr>\n",
       "    <tr>\n",
       "      <th>2</th>\n",
       "      <td>  f1b.jpg</td>\n",
       "      <td> 1</td>\n",
       "      <td>  f1b.jpg</td>\n",
       "      <td>  prefix-f1b.jpg</td>\n",
       "      <td> b</td>\n",
       "    </tr>\n",
       "    <tr>\n",
       "      <th>3</th>\n",
       "      <td> f12a.jpg</td>\n",
       "      <td> 2</td>\n",
       "      <td> f12a.jpg</td>\n",
       "      <td> prefix-f12a.jpg</td>\n",
       "      <td> a</td>\n",
       "    </tr>\n",
       "    <tr>\n",
       "      <th>4</th>\n",
       "      <td> f11a.jpg</td>\n",
       "      <td> 3</td>\n",
       "      <td> f11a.jpg</td>\n",
       "      <td> prefix-f11a.jpg</td>\n",
       "      <td> a</td>\n",
       "    </tr>\n",
       "    <tr>\n",
       "      <th>5</th>\n",
       "      <td>  f2b.jpg</td>\n",
       "      <td> 4</td>\n",
       "      <td>  f2b.jpg</td>\n",
       "      <td>  prefix-f2b.jpg</td>\n",
       "      <td> b</td>\n",
       "    </tr>\n",
       "    <tr>\n",
       "      <th>6</th>\n",
       "      <td>  f2a.jpg</td>\n",
       "      <td> 4</td>\n",
       "      <td>  f2a.jpg</td>\n",
       "      <td>  prefix-f2a.jpg</td>\n",
       "      <td> a</td>\n",
       "    </tr>\n",
       "  </tbody>\n",
       "</table>\n",
       "<p>7 rows × 5 columns</p>\n",
       "</div>"
      ],
      "text/plain": [
       "       file  dir        f2               f3 ab\n",
       "0     f.jpg    0     f.jpg     prefix-f.jpg  0\n",
       "1   f1a.jpg    1   f1a.jpg   prefix-f1a.jpg  a\n",
       "2   f1b.jpg    1   f1b.jpg   prefix-f1b.jpg  b\n",
       "3  f12a.jpg    2  f12a.jpg  prefix-f12a.jpg  a\n",
       "4  f11a.jpg    3  f11a.jpg  prefix-f11a.jpg  a\n",
       "5   f2b.jpg    4   f2b.jpg   prefix-f2b.jpg  b\n",
       "6   f2a.jpg    4   f2a.jpg   prefix-f2a.jpg  a\n",
       "\n",
       "[7 rows x 5 columns]"
      ]
     },
     "execution_count": 211,
     "metadata": {},
     "output_type": "execute_result"
    }
   ],
   "source": [
    "def ab(fn):\n",
    "    m = re.match(\"[^ab]*(a|b)[^ab]*\", fn)\n",
    "    if m == None: return \"0\"\n",
    "    return m.groups()[0]\n",
    "ds.add_col('ab', ab)"
   ]
  },
  {
   "cell_type": "code",
   "execution_count": 212,
   "metadata": {
    "collapsed": false
   },
   "outputs": [
    {
     "data": {
      "text/plain": [
       "'-'"
      ]
     },
     "execution_count": 212,
     "metadata": {},
     "output_type": "execute_result"
    }
   ],
   "source": [
    "f = ds.re_func(\"[^ab]*(a|b)[^ab]*\", \"-\")\n",
    "f(\"xxxx\")"
   ]
  },
  {
   "cell_type": "code",
   "execution_count": 213,
   "metadata": {
    "collapsed": false
   },
   "outputs": [
    {
     "data": {
      "text/plain": [
       "'a'"
      ]
     },
     "execution_count": 213,
     "metadata": {},
     "output_type": "execute_result"
    }
   ],
   "source": [
    "f(\"xxaxx\")"
   ]
  },
  {
   "cell_type": "code",
   "execution_count": 214,
   "metadata": {
    "collapsed": false
   },
   "outputs": [
    {
     "data": {
      "text/html": [
       "<div style=\"max-height:1000px;max-width:1500px;overflow:auto;\">\n",
       "<table border=\"1\" class=\"dataframe\">\n",
       "  <thead>\n",
       "    <tr style=\"text-align: right;\">\n",
       "      <th></th>\n",
       "      <th>file</th>\n",
       "      <th>dir</th>\n",
       "      <th>f2</th>\n",
       "      <th>f3</th>\n",
       "      <th>ab</th>\n",
       "      <th>ab2</th>\n",
       "    </tr>\n",
       "  </thead>\n",
       "  <tbody>\n",
       "    <tr>\n",
       "      <th>0</th>\n",
       "      <td>    f.jpg</td>\n",
       "      <td> 0</td>\n",
       "      <td>    f.jpg</td>\n",
       "      <td>    prefix-f.jpg</td>\n",
       "      <td> 0</td>\n",
       "      <td> -</td>\n",
       "    </tr>\n",
       "    <tr>\n",
       "      <th>1</th>\n",
       "      <td>  f1a.jpg</td>\n",
       "      <td> 1</td>\n",
       "      <td>  f1a.jpg</td>\n",
       "      <td>  prefix-f1a.jpg</td>\n",
       "      <td> a</td>\n",
       "      <td> a</td>\n",
       "    </tr>\n",
       "    <tr>\n",
       "      <th>2</th>\n",
       "      <td>  f1b.jpg</td>\n",
       "      <td> 1</td>\n",
       "      <td>  f1b.jpg</td>\n",
       "      <td>  prefix-f1b.jpg</td>\n",
       "      <td> b</td>\n",
       "      <td> b</td>\n",
       "    </tr>\n",
       "    <tr>\n",
       "      <th>3</th>\n",
       "      <td> f12a.jpg</td>\n",
       "      <td> 2</td>\n",
       "      <td> f12a.jpg</td>\n",
       "      <td> prefix-f12a.jpg</td>\n",
       "      <td> a</td>\n",
       "      <td> a</td>\n",
       "    </tr>\n",
       "    <tr>\n",
       "      <th>4</th>\n",
       "      <td> f11a.jpg</td>\n",
       "      <td> 3</td>\n",
       "      <td> f11a.jpg</td>\n",
       "      <td> prefix-f11a.jpg</td>\n",
       "      <td> a</td>\n",
       "      <td> a</td>\n",
       "    </tr>\n",
       "    <tr>\n",
       "      <th>5</th>\n",
       "      <td>  f2b.jpg</td>\n",
       "      <td> 4</td>\n",
       "      <td>  f2b.jpg</td>\n",
       "      <td>  prefix-f2b.jpg</td>\n",
       "      <td> b</td>\n",
       "      <td> b</td>\n",
       "    </tr>\n",
       "    <tr>\n",
       "      <th>6</th>\n",
       "      <td>  f2a.jpg</td>\n",
       "      <td> 4</td>\n",
       "      <td>  f2a.jpg</td>\n",
       "      <td>  prefix-f2a.jpg</td>\n",
       "      <td> a</td>\n",
       "      <td> a</td>\n",
       "    </tr>\n",
       "  </tbody>\n",
       "</table>\n",
       "<p>7 rows × 6 columns</p>\n",
       "</div>"
      ],
      "text/plain": [
       "       file  dir        f2               f3 ab ab2\n",
       "0     f.jpg    0     f.jpg     prefix-f.jpg  0   -\n",
       "1   f1a.jpg    1   f1a.jpg   prefix-f1a.jpg  a   a\n",
       "2   f1b.jpg    1   f1b.jpg   prefix-f1b.jpg  b   b\n",
       "3  f12a.jpg    2  f12a.jpg  prefix-f12a.jpg  a   a\n",
       "4  f11a.jpg    3  f11a.jpg  prefix-f11a.jpg  a   a\n",
       "5   f2b.jpg    4   f2b.jpg   prefix-f2b.jpg  b   b\n",
       "6   f2a.jpg    4   f2a.jpg   prefix-f2a.jpg  a   a\n",
       "\n",
       "[7 rows x 6 columns]"
      ]
     },
     "execution_count": 214,
     "metadata": {},
     "output_type": "execute_result"
    }
   ],
   "source": [
    "ds.add_col('ab2', ds.re_func(\"[^ab]*(a|b)[^ab]*\", \"-\"))"
   ]
  },
  {
   "cell_type": "markdown",
   "metadata": {},
   "source": [
    "### the methods\n",
    "all files in a set of directories, and all subdirs of a directory (as indices or names) or the files therein "
   ]
  },
  {
   "cell_type": "code",
   "execution_count": 215,
   "metadata": {
    "collapsed": false
   },
   "outputs": [
    {
     "data": {
      "text/html": [
       "<div style=\"max-height:1000px;max-width:1500px;overflow:auto;\">\n",
       "<table border=\"1\" class=\"dataframe\">\n",
       "  <thead>\n",
       "    <tr style=\"text-align: right;\">\n",
       "      <th></th>\n",
       "      <th>file</th>\n",
       "      <th>dir</th>\n",
       "      <th>f2</th>\n",
       "      <th>f3</th>\n",
       "      <th>ab</th>\n",
       "      <th>ab2</th>\n",
       "    </tr>\n",
       "  </thead>\n",
       "  <tbody>\n",
       "    <tr>\n",
       "      <th>0</th>\n",
       "      <td>    f.jpg</td>\n",
       "      <td> 0</td>\n",
       "      <td>    f.jpg</td>\n",
       "      <td>    prefix-f.jpg</td>\n",
       "      <td> 0</td>\n",
       "      <td> -</td>\n",
       "    </tr>\n",
       "    <tr>\n",
       "      <th>1</th>\n",
       "      <td>  f1a.jpg</td>\n",
       "      <td> 1</td>\n",
       "      <td>  f1a.jpg</td>\n",
       "      <td>  prefix-f1a.jpg</td>\n",
       "      <td> a</td>\n",
       "      <td> a</td>\n",
       "    </tr>\n",
       "    <tr>\n",
       "      <th>2</th>\n",
       "      <td>  f1b.jpg</td>\n",
       "      <td> 1</td>\n",
       "      <td>  f1b.jpg</td>\n",
       "      <td>  prefix-f1b.jpg</td>\n",
       "      <td> b</td>\n",
       "      <td> b</td>\n",
       "    </tr>\n",
       "    <tr>\n",
       "      <th>4</th>\n",
       "      <td> f11a.jpg</td>\n",
       "      <td> 3</td>\n",
       "      <td> f11a.jpg</td>\n",
       "      <td> prefix-f11a.jpg</td>\n",
       "      <td> a</td>\n",
       "      <td> a</td>\n",
       "    </tr>\n",
       "  </tbody>\n",
       "</table>\n",
       "<p>4 rows × 6 columns</p>\n",
       "</div>"
      ],
      "text/plain": [
       "       file  dir        f2               f3 ab ab2\n",
       "0     f.jpg    0     f.jpg     prefix-f.jpg  0   -\n",
       "1   f1a.jpg    1   f1a.jpg   prefix-f1a.jpg  a   a\n",
       "2   f1b.jpg    1   f1b.jpg   prefix-f1b.jpg  b   b\n",
       "4  f11a.jpg    3  f11a.jpg  prefix-f11a.jpg  a   a\n",
       "\n",
       "[4 rows x 6 columns]"
      ]
     },
     "execution_count": 215,
     "metadata": {},
     "output_type": "execute_result"
    }
   ],
   "source": [
    "ds.files_bydir([0,1,3])"
   ]
  },
  {
   "cell_type": "code",
   "execution_count": 216,
   "metadata": {
    "collapsed": false
   },
   "outputs": [
    {
     "data": {
      "text/plain": [
       "[2, 3]"
      ]
     },
     "execution_count": 216,
     "metadata": {},
     "output_type": "execute_result"
    }
   ],
   "source": [
    "ds.subdirs(1, as_str = False)"
   ]
  },
  {
   "cell_type": "code",
   "execution_count": 217,
   "metadata": {
    "collapsed": false
   },
   "outputs": [
    {
     "data": {
      "text/plain": [
       "['./delme/delme1/delme12', './delme/delme1/delme11']"
      ]
     },
     "execution_count": 217,
     "metadata": {},
     "output_type": "execute_result"
    }
   ],
   "source": [
    "ds.subdirs(1, as_str = True)"
   ]
  },
  {
   "cell_type": "code",
   "execution_count": 218,
   "metadata": {
    "collapsed": false
   },
   "outputs": [
    {
     "data": {
      "text/html": [
       "<div style=\"max-height:1000px;max-width:1500px;overflow:auto;\">\n",
       "<table border=\"1\" class=\"dataframe\">\n",
       "  <thead>\n",
       "    <tr style=\"text-align: right;\">\n",
       "      <th></th>\n",
       "      <th>file</th>\n",
       "      <th>dir</th>\n",
       "      <th>f2</th>\n",
       "      <th>f3</th>\n",
       "      <th>ab</th>\n",
       "      <th>ab2</th>\n",
       "    </tr>\n",
       "  </thead>\n",
       "  <tbody>\n",
       "    <tr>\n",
       "      <th>1</th>\n",
       "      <td>  f1a.jpg</td>\n",
       "      <td> 1</td>\n",
       "      <td>  f1a.jpg</td>\n",
       "      <td>  prefix-f1a.jpg</td>\n",
       "      <td> a</td>\n",
       "      <td> a</td>\n",
       "    </tr>\n",
       "    <tr>\n",
       "      <th>2</th>\n",
       "      <td>  f1b.jpg</td>\n",
       "      <td> 1</td>\n",
       "      <td>  f1b.jpg</td>\n",
       "      <td>  prefix-f1b.jpg</td>\n",
       "      <td> b</td>\n",
       "      <td> b</td>\n",
       "    </tr>\n",
       "    <tr>\n",
       "      <th>3</th>\n",
       "      <td> f12a.jpg</td>\n",
       "      <td> 2</td>\n",
       "      <td> f12a.jpg</td>\n",
       "      <td> prefix-f12a.jpg</td>\n",
       "      <td> a</td>\n",
       "      <td> a</td>\n",
       "    </tr>\n",
       "    <tr>\n",
       "      <th>4</th>\n",
       "      <td> f11a.jpg</td>\n",
       "      <td> 3</td>\n",
       "      <td> f11a.jpg</td>\n",
       "      <td> prefix-f11a.jpg</td>\n",
       "      <td> a</td>\n",
       "      <td> a</td>\n",
       "    </tr>\n",
       "  </tbody>\n",
       "</table>\n",
       "<p>4 rows × 6 columns</p>\n",
       "</div>"
      ],
      "text/plain": [
       "       file  dir        f2               f3 ab ab2\n",
       "1   f1a.jpg    1   f1a.jpg   prefix-f1a.jpg  a   a\n",
       "2   f1b.jpg    1   f1b.jpg   prefix-f1b.jpg  b   b\n",
       "3  f12a.jpg    2  f12a.jpg  prefix-f12a.jpg  a   a\n",
       "4  f11a.jpg    3  f11a.jpg  prefix-f11a.jpg  a   a\n",
       "\n",
       "[4 rows x 6 columns]"
      ]
     },
     "execution_count": 218,
     "metadata": {},
     "output_type": "execute_result"
    }
   ],
   "source": [
    "ds.subdirs(1, get_files = True)"
   ]
  },
  {
   "cell_type": "code",
   "execution_count": 219,
   "metadata": {
    "collapsed": false
   },
   "outputs": [
    {
     "data": {
      "text/html": [
       "<div style=\"max-height:1000px;max-width:1500px;overflow:auto;\">\n",
       "<table border=\"1\" class=\"dataframe\">\n",
       "  <thead>\n",
       "    <tr style=\"text-align: right;\">\n",
       "      <th></th>\n",
       "      <th>file</th>\n",
       "      <th>dir</th>\n",
       "      <th>f2</th>\n",
       "      <th>f3</th>\n",
       "      <th>ab</th>\n",
       "      <th>ab2</th>\n",
       "      <th>dirn</th>\n",
       "    </tr>\n",
       "  </thead>\n",
       "  <tbody>\n",
       "    <tr>\n",
       "      <th>0</th>\n",
       "      <td>    f.jpg</td>\n",
       "      <td> 0</td>\n",
       "      <td>    f.jpg</td>\n",
       "      <td>    prefix-f.jpg</td>\n",
       "      <td> 0</td>\n",
       "      <td> -</td>\n",
       "      <td>                ./delme</td>\n",
       "    </tr>\n",
       "    <tr>\n",
       "      <th>1</th>\n",
       "      <td>  f1a.jpg</td>\n",
       "      <td> 1</td>\n",
       "      <td>  f1a.jpg</td>\n",
       "      <td>  prefix-f1a.jpg</td>\n",
       "      <td> a</td>\n",
       "      <td> a</td>\n",
       "      <td>         ./delme/delme1</td>\n",
       "    </tr>\n",
       "    <tr>\n",
       "      <th>2</th>\n",
       "      <td>  f1b.jpg</td>\n",
       "      <td> 1</td>\n",
       "      <td>  f1b.jpg</td>\n",
       "      <td>  prefix-f1b.jpg</td>\n",
       "      <td> b</td>\n",
       "      <td> b</td>\n",
       "      <td>         ./delme/delme1</td>\n",
       "    </tr>\n",
       "    <tr>\n",
       "      <th>4</th>\n",
       "      <td> f11a.jpg</td>\n",
       "      <td> 3</td>\n",
       "      <td> f11a.jpg</td>\n",
       "      <td> prefix-f11a.jpg</td>\n",
       "      <td> a</td>\n",
       "      <td> a</td>\n",
       "      <td> ./delme/delme1/delme11</td>\n",
       "    </tr>\n",
       "  </tbody>\n",
       "</table>\n",
       "<p>4 rows × 7 columns</p>\n",
       "</div>"
      ],
      "text/plain": [
       "       file  dir        f2               f3 ab ab2                    dirn\n",
       "0     f.jpg    0     f.jpg     prefix-f.jpg  0   -                 ./delme\n",
       "1   f1a.jpg    1   f1a.jpg   prefix-f1a.jpg  a   a          ./delme/delme1\n",
       "2   f1b.jpg    1   f1b.jpg   prefix-f1b.jpg  b   b          ./delme/delme1\n",
       "4  f11a.jpg    3  f11a.jpg  prefix-f11a.jpg  a   a  ./delme/delme1/delme11\n",
       "\n",
       "[4 rows x 7 columns]"
      ]
     },
     "execution_count": 219,
     "metadata": {},
     "output_type": "execute_result"
    }
   ],
   "source": [
    "ds.files_decorate(ds.files_bydir([0,1,3]))"
   ]
  },
  {
   "cell_type": "code",
   "execution_count": 220,
   "metadata": {
    "collapsed": false
   },
   "outputs": [
    {
     "data": {
      "text/html": [
       "<div style=\"max-height:1000px;max-width:1500px;overflow:auto;\">\n",
       "<table border=\"1\" class=\"dataframe\">\n",
       "  <thead>\n",
       "    <tr style=\"text-align: right;\">\n",
       "      <th></th>\n",
       "      <th>file</th>\n",
       "      <th>dir</th>\n",
       "      <th>f2</th>\n",
       "      <th>f3</th>\n",
       "      <th>ab</th>\n",
       "      <th>ab2</th>\n",
       "    </tr>\n",
       "  </thead>\n",
       "  <tbody>\n",
       "    <tr>\n",
       "      <th>5</th>\n",
       "      <td> f2b.jpg</td>\n",
       "      <td> 4</td>\n",
       "      <td> f2b.jpg</td>\n",
       "      <td> prefix-f2b.jpg</td>\n",
       "      <td> b</td>\n",
       "      <td> b</td>\n",
       "    </tr>\n",
       "    <tr>\n",
       "      <th>6</th>\n",
       "      <td> f2a.jpg</td>\n",
       "      <td> 4</td>\n",
       "      <td> f2a.jpg</td>\n",
       "      <td> prefix-f2a.jpg</td>\n",
       "      <td> a</td>\n",
       "      <td> a</td>\n",
       "    </tr>\n",
       "  </tbody>\n",
       "</table>\n",
       "<p>2 rows × 6 columns</p>\n",
       "</div>"
      ],
      "text/plain": [
       "      file  dir       f2              f3 ab ab2\n",
       "5  f2b.jpg    4  f2b.jpg  prefix-f2b.jpg  b   b\n",
       "6  f2a.jpg    4  f2a.jpg  prefix-f2a.jpg  a   a\n",
       "\n",
       "[2 rows x 6 columns]"
      ]
     },
     "execution_count": 220,
     "metadata": {},
     "output_type": "execute_result"
    }
   ],
   "source": [
    "ds.files_byre(\"f2.*\\.jpg$\")"
   ]
  },
  {
   "cell_type": "code",
   "execution_count": 221,
   "metadata": {
    "collapsed": false
   },
   "outputs": [
    {
     "data": {
      "text/plain": [
       "{'parents', 'paris', 'weekend'}"
      ]
     },
     "execution_count": 221,
     "metadata": {},
     "output_type": "execute_result"
    }
   ],
   "source": [
    "set(\"2012_02 Weekend With Parents in Paris\".lower().split()[1:]) - out"
   ]
  },
  {
   "cell_type": "code",
   "execution_count": 222,
   "metadata": {
    "collapsed": false
   },
   "outputs": [],
   "source": [
    "out = {\"is\", \"a\", \"in\", \"with\", \"for\", \"incl\", \"for\", \"and\", \"the\"}"
   ]
  },
  {
   "cell_type": "code",
   "execution_count": 233,
   "metadata": {
    "collapsed": false
   },
   "outputs": [],
   "source": [
    "def dates(s):\n",
    "    m = re.match(\"^([0-9]{8,8})_([0-9]{4,6}).*\",s)\n",
    "    if m==None: return []\n",
    "    return  m.groups()"
   ]
  },
  {
   "cell_type": "code",
   "execution_count": 234,
   "metadata": {
    "collapsed": false
   },
   "outputs": [
    {
     "data": {
      "text/plain": [
       "('20121224', '120000')"
      ]
     },
     "execution_count": 234,
     "metadata": {},
     "output_type": "execute_result"
    }
   ],
   "source": [
    "dates(\"20121224_120000\")"
   ]
  },
  {
   "cell_type": "code",
   "execution_count": 235,
   "metadata": {
    "collapsed": false
   },
   "outputs": [
    {
     "data": {
      "text/plain": [
       "[]"
      ]
     },
     "execution_count": 235,
     "metadata": {},
     "output_type": "execute_result"
    }
   ],
   "source": [
    "dates(\"aa_20121224_120000\")"
   ]
  },
  {
   "cell_type": "code",
   "execution_count": 236,
   "metadata": {
    "collapsed": false
   },
   "outputs": [
    {
     "data": {
      "text/plain": [
       "('20121224', '120000')"
      ]
     },
     "execution_count": 236,
     "metadata": {},
     "output_type": "execute_result"
    }
   ],
   "source": [
    "dates(\"20121224_120000_aa\")"
   ]
  },
  {
   "cell_type": "code",
   "execution_count": 237,
   "metadata": {
    "collapsed": false
   },
   "outputs": [
    {
     "data": {
      "text/plain": [
       "('20121224', '1200')"
      ]
     },
     "execution_count": 237,
     "metadata": {},
     "output_type": "execute_result"
    }
   ],
   "source": [
    "dates(\"20121224_1200\")"
   ]
  },
  {
   "cell_type": "code",
   "execution_count": 238,
   "metadata": {
    "collapsed": false
   },
   "outputs": [
    {
     "data": {
      "text/plain": [
       "[]"
      ]
     },
     "execution_count": 238,
     "metadata": {},
     "output_type": "execute_result"
    }
   ],
   "source": [
    "dates(\"20121224_120\")"
   ]
  },
  {
   "cell_type": "code",
   "execution_count": 28,
   "metadata": {
    "collapsed": false
   },
   "outputs": [
    {
     "data": {
      "text/plain": [
       "['a', 'b', 'c', 'd', 'e', 'f']"
      ]
     },
     "execution_count": 28,
     "metadata": {},
     "output_type": "execute_result"
    }
   ],
   "source": [
    "list(\"abcdef\")"
   ]
  },
  {
   "cell_type": "code",
   "execution_count": null,
   "metadata": {
    "collapsed": false
   },
   "outputs": [],
   "source": []
  }
 ],
 "metadata": {
  "kernelspec": {
   "display_name": "Python 3",
   "language": "python",
   "name": "python3"
  },
  "language_info": {
   "codemirror_mode": {
    "name": "ipython",
    "version": 3
   },
   "file_extension": ".py",
   "mimetype": "text/x-python",
   "name": "python",
   "nbconvert_exporter": "python",
   "pygments_lexer": "ipython3",
   "version": "3.4.3"
  }
 },
 "nbformat": 4,
 "nbformat_minor": 0
}
