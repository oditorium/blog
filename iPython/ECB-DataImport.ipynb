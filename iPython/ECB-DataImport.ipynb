{
 "cells": [
  {
   "cell_type": "markdown",
   "metadata": {},
   "source": [
    "# ECB Data Import"
   ]
  },
  {
   "cell_type": "markdown",
   "metadata": {},
   "source": [
    "We want to import data directly from the [ECB data warehouse][warehouse], so for example rather than going to the [series] we want to download the [csv data][dl_csv]. In fact, the ECB provides three different download format (two csv's, one [generic][dl_csv] and [one for Excel][dl_xl]) and one [XML download][dl_xml].\n",
    "\n",
    "There is is also an [sdmx query facility][dl_sdmx] that allows more granula control over what data will be downloaded.\n",
    "\n",
    "[warehouse]:http://sdw.ecb.europa.eu/home.do\n",
    "[series]:http://sdw.ecb.europa.eu/quickview.do?SERIES_KEY=123.ILM.W.U2.C.L022.U2.EUR\n",
    "[dl_csv]:http://sdw.ecb.europa.eu/quickviewexport.do?SERIES_KEY=123.ILM.W.U2.C.L022.U2.EUR&type=csv\n",
    "[dl_xl]:http://sdw.ecb.europa.eu/quickviewexport.do?SERIES_KEY=123.ILM.W.U2.C.L022.U2.EUR&type=xls\n",
    "[dl_xml]:http://sdw.ecb.europa.eu/quickviewexport.do?SERIES_KEY=123.ILM.W.U2.C.L022.U2.EUR&type=sdmx\n",
    "[dl_sdmx]:http://sdw.ecb.europa.eu/quickviewexport.do?SERIES_KEY=123.ILM.W.U2.C.L022.U2.EUR&type=sdmxQuery\n",
    "\n",
    "The URI's are as follows (most also allow https):\n",
    "\n",
    "- human readable series\n",
    "~~~\n",
    "http://sdw.ecb.europa.eu/quickview.do?SERIES_KEY=-key-\n",
    "~~~\n",
    "- csv file (generic and Excel format)\n",
    "~~~\n",
    "http://sdw.ecb.europa.eu/quickviewexport.do?SERIES_KEY=-key-&type=csv\n",
    "http://sdw.ecb.europa.eu/quickviewexport.do?SERIES_KEY=-key-&type=xls\n",
    "~~~\n",
    "- sdmx file\n",
    "~~~\n",
    "http://sdw.ecb.europa.eu/quickviewexport.do?SERIES_KEY=-key-&type=sdmx\n",
    "~~~\n",
    "- sdmx query and endpoint\n",
    "~~~\n",
    "http://sdw.ecb.europa.eu/quickviewexport.do?SERIES_KEY=-key-&type=sdmxQuery\n",
    "http://sdw-ws.ecb.europa.eu/\n",
    "~~~\n"
   ]
  },
  {
   "cell_type": "markdown",
   "metadata": {},
   "source": [
    "## Class definitions\n",
    ">note: all those class definitions have now been moved into module (`DataImport` and `PDataFrame` respectively). They will not longer be updated here.\n",
    "\n",
    "### class `DataImport`"
   ]
  },
  {
   "cell_type": "code",
   "execution_count": 1,
   "metadata": {
    "collapsed": false
   },
   "outputs": [],
   "source": [
    "import urllib.request as req\n",
    "\n",
    "class DataImport:\n",
    "    \"\"\" web data import base class\n",
    "    \n",
    "    delimiter_row - if files are parsed, what delimits rows (default \"\\n\")\n",
    "    delimiter_col - if files are parsed, what delimits cols (default \",\")\n",
    "    \n",
    "    \n",
    "    DEPENDENCIES\n",
    "    \n",
    "    urllib.request\n",
    "    \"\"\"\n",
    "    \n",
    "    __version__ = \"0.1a\"\n",
    "    \n",
    "    def __init__(self, delimiter_row=None, delimiter_col=None):\n",
    "        \n",
    "        self.delimiter_row = delimiter_row or \"\\n\"\n",
    "        self.delimiter_col = delimiter_col or \",\"\n",
    "        \n",
    "    def fetch_raw(self, url):\n",
    "        \"\"\" make a get request to a URL and return the contents\n",
    "        \n",
    "        url - the full url\n",
    "        \"\"\"\n",
    "        result = req.urlopen(url)\n",
    "        return result.readall()\n",
    "    \n",
    "    def parse_xsv(self, data, delimiter_row=None, delimiter_col=None):\n",
    "        \"\"\" parses a data file that has already been downloaded into a list\n",
    "        \n",
    "        the format of the data file will by default csv, but any other format will do\n",
    "        (depending on the paramters delimiter_row, delimiter_col which by default take\n",
    "        the values set in the object which in turn default to \"\\n\" and \",\")\n",
    "        \n",
    "        data - the raw data\n",
    "        delimiter_row - how rows are delimited\n",
    "        delimiter_col - how cols are delimited\n",
    "        \n",
    "        \"\"\"\n",
    "        dlr = delimiter_row or self.delimiter_row\n",
    "        dlc = delimiter_col or self.delimiter_col\n",
    "        if type(data) != str: \n",
    "            data = data.decode(\"utf-8\")\n",
    "        result = data.split(dlr)\n",
    "        result = list( row.split(dlc) for row in result)\n",
    "        result = list( list( (item.strip()) for item in row) for row in result)\n",
    "        #result = (  (  ( item.strip() for item in row.split(dlc))  ) for row in result)\n",
    "        return list(result)\n",
    "    \n",
    "    def fetch_xsv(self, url, delimiter_row=None, delimiter_col=None):\n",
    "        \"\"\" convenience function: fetch and parse as xsv\n",
    "        \"\"\"\n",
    "        data = self.fetch_raw(url)\n",
    "        return self.parse_xsv(data, delimiter_row, delimiter_col)\n",
    "    "
   ]
  },
  {
   "cell_type": "markdown",
   "metadata": {},
   "source": [
    "### class `ECBImport`"
   ]
  },
  {
   "cell_type": "code",
   "execution_count": 2,
   "metadata": {
    "collapsed": false
   },
   "outputs": [],
   "source": [
    "import re\n",
    "from scipy.interpolate import interp1d\n",
    "\n",
    "class ECBImport(DataImport):\n",
    "    \"\"\" import data from the ECB statistics warehouse\n",
    "    \n",
    "    DEPENDENCIES\n",
    "    \n",
    "    re\n",
    "    scipy.interpolate\n",
    "    \"\"\"\n",
    "    \n",
    "    __version__ = \"0.1a\"\n",
    "    \n",
    "    _urls = (\"//sdw.ecb.europa.eu\", \"//sdw-ws.ecb.europa.eu/\")\n",
    "    \n",
    "    def __init__(self, key=None, delimiter_row=None, delimiter_col=None):\n",
    "        self.key = key\n",
    "        super().__init__(delimiter_row, delimiter_col)\n",
    "        return\n",
    "    \n",
    "    def url(self, which, key=None, https=False):\n",
    "        \"\"\" defines the important endpoints\n",
    "        \n",
    "        which - which URL to return (see below)\n",
    "        key - the series key (eg `123.ILM.W.U2.C.L022.U2.EUR` )\n",
    "        https - whether to provide a https URL\n",
    "        \n",
    "        URL types in `which` are\n",
    "        \n",
    "        hr - humand readable\n",
    "        csv, xls - csv formats\n",
    "        sdmx - an xml format\n",
    "        sdmx_q - a query string, to be used at the `sdmx_ep` endpoint\n",
    "        sdmx_ep - then endpoint for sdmx queries\n",
    "        \"\"\"\n",
    "        \n",
    "        if key == None: key = self.key\n",
    "        protocol = \"https:\" if https else \"http:\"\n",
    "        \n",
    "        if which == \"sdmx_ep\": return protocol + self._urls[1]\n",
    "\n",
    "        url0 = protocol + self._urls[0] + \"/quickview.do?SERIES_KEY=\" + key\n",
    "        url1 = protocol + self._urls[0] + \"/quickviewexport.do?SERIES_KEY=\" + key\n",
    "\n",
    "        if which == \"hr\": return url0\n",
    "        if which == \"csv\": return url1 + \"&type=csv\"\n",
    "        if which == \"xls\": return url1 + \"&type=xls\"\n",
    "        if which == \"sdmx\": return url1 + \"&type=sdmx\"\n",
    "        if which == \"sdmx_q\": return url1 + \"&type=sdmxquery\"\n",
    "           \n",
    "        return None\n",
    "    \n",
    "    def fetch(self, key=None, skip_beg=0, skip_end=0):\n",
    "        \"\"\" fetch an ECB data series\n",
    "        \n",
    "        key - the data series key\n",
    "        skip_beg, skip_end - how many value to skip at the beginning and end of series; this\n",
    "            is useful if two series with different time values are to be compared because\n",
    "            the non-interpolated series must be restricted to an area within the interpolated\n",
    "            one, otherwise the operation will fail\n",
    "        \"\"\"\n",
    "        \n",
    "        if key==None: key = self.key\n",
    "        result = {'key': key}\n",
    "        url = self.url(\"csv\", key)\n",
    "        data = self.fetch_xsv(url)\n",
    "        result['descr_raw'] = data[0][0]\n",
    "        result['descr'] = self.parse_xsv(result['descr_raw'], \";\", \":\")\n",
    "        result['head'] = data[4]\n",
    "        result['data'] = tuple(row for row in data[-1-skip_beg:5+skip_end:-1])\n",
    "        return result\n",
    "    \n",
    "    @staticmethod\n",
    "    def data_table(result, time_reformat_fn, unit=None, get_func=False):\n",
    "        \"\"\" convert the data table into a proper numeric format\n",
    "        \n",
    "        result - the result, as return by fetch\n",
    "        time_reformat_fn - the time reformatting function f(time_str) = time_float\n",
    "            eg self.time_reformat1() for \"2004w20\"\n",
    "            eg self.time_reformat2() for \"2004feb\"\n",
    "        unit - optional unit in which val's are expressed (eg: 1000)\n",
    "        get_func - if true, also return an interpolation function\n",
    "        \n",
    "        returns (time, val)\n",
    "            time - tuple of floats for the time  (2000.0, ...)\n",
    "            val - tuple of floats for the value\n",
    "        \"\"\"\n",
    "        if unit == None: unit = 1.0\n",
    "        data = result['data']\n",
    "        time = tuple(time_reformat_fn(row[0])[0] for row in data)\n",
    "        val = tuple(float(row[1]) / unit for row in data)\n",
    "        if get_func == False: return (time, val)\n",
    "        f = interp1d(time, val)\n",
    "        return (time, val, f)\n",
    "                \n",
    "    @staticmethod\n",
    "    def time_reformat1(time_str):\n",
    "        \"\"\" reformat time of type 2004M12\n",
    "        \n",
    "        time_str - time [yyyyTii]\n",
    "        \n",
    "        T can be d/m/y\n",
    "        returns (yyyy, T, ii, float_time) \n",
    "        \n",
    "        test eg on ILM.W.U2.C.L022.U2.EUR\n",
    "        \"\"\"\n",
    "\n",
    "        m = re.match(\"([0-9]+)([a-zA-Z]+)([0-9]+)\", time_str);\n",
    "        if m == None: return None\n",
    "        g = m.groups()\n",
    "        mult = {'d':365, 'w':52, 'm':12}[g[1].lower()];\n",
    "        time =  float(g[0]) + (float(g[2])-1) / mult\n",
    "        return (time, (g[1], int(g[0]), int(g[2])))\n",
    "    \n",
    "    \n",
    "    @staticmethod\n",
    "    def time_reformat2(time_str):\n",
    "        \"\"\" reformat time of type 2004Jan\n",
    "        \n",
    "        time_str - time [yyyymmm]\n",
    "        \n",
    "        returns (yyyy, mm, float_time) \n",
    "        \n",
    "        test eg on ILM.M.U2.C.A05B.U2.EUR\n",
    "        \"\"\"\n",
    "\n",
    "        m = re.match(\"([0-9]+)([a-zA-Z]+)\", time_str);\n",
    "        if m == None: return None\n",
    "        g = m.groups()\n",
    "        month = {'jan':1, 'feb':2, 'mar':3, 'apr':4, 'may':5, 'jun':6, 'jul':7, 'aug':8, 'sep':9, 'oct':10, 'nov':11, 'dec':12}[g[1].lower()];\n",
    "        time =  float(g[0]) + (month - 1) / 12\n",
    "        return (time, ('m', int(g[0]), month))\n"
   ]
  },
  {
   "cell_type": "markdown",
   "metadata": {},
   "source": [
    "### class `PDataFrame`"
   ]
  },
  {
   "cell_type": "code",
   "execution_count": 3,
   "metadata": {
    "collapsed": false
   },
   "outputs": [],
   "source": [
    "import pandas as pd\n",
    "\n",
    "class PDataFrame ():\n",
    "    \"\"\" persistant DataFrame\n",
    "    \n",
    "    creates a pandas.DataFrame object and links it to a location on the disk \n",
    "    from which it is initialised and where it is saved back\n",
    "    \n",
    "    PDataFrame(filename, df)\n",
    "        filename - the filename where the object is stored (as csv)\n",
    "        df - if not none must be a DataFrame that is used to initialise the file\n",
    "                note that the file will be overwritten!\n",
    "        \n",
    "    DEPENDENCIES\n",
    "    \n",
    "    pandas\n",
    "    \"\"\"\n",
    "    \n",
    "    __version__ = \"0.1a\"\n",
    "    \n",
    "    def __init__(self, filename, df=None):\n",
    "        \n",
    "        self._filename = filename\n",
    "        \n",
    "        if type(df) == type(None):\n",
    "            self._df = pd.read_csv(filename, index_col=0)    \n",
    "        else:\n",
    "            self.reset(df)\n",
    " \n",
    "    @staticmethod\n",
    "    def create(filename, columns):\n",
    "        \"\"\" creates an empty frame based on the field names in columns and saves it\n",
    "        \n",
    "        note that the file is overwritten if it exists\n",
    "        this is _not_ a factory method; if the frame is to be used it needs to be \n",
    "        created thereafter:\n",
    "            PDataFrame.create(\"new.csv\", ['col1', 'col2'])\n",
    "            pdf = PDataFrame(\"new.csv\")\n",
    "        \"\"\"\n",
    "        df = pd.DataFrame(columns=columns)\n",
    "        df.to_csv(filename, index=True)\n",
    "        \n",
    "        \n",
    "    def save(self):\n",
    "        \"\"\" save the DataFrame to its location\n",
    "        \"\"\"\n",
    "        self._df.to_csv(self._filename, index=True)\n",
    "      \n",
    "    def reset(self, df):\n",
    "        \"\"\" reset the DataFrame to df and save it\n",
    "        \"\"\"\n",
    "        self._df = df.copy()\n",
    "        self.save()\n",
    "        \n",
    "    def set(self, key, values):\n",
    "        \"\"\" sets a row in the dataframe (creating it if it does not exist) and saves it\n",
    "        \n",
    "        key - the key identifying the row; if this key exists the row in question\n",
    "                will be overwritten, otherwise it appends a new one\n",
    "        values - a tuple of values (must coincide with the number of fields)\n",
    "        \n",
    "        \"\"\"\n",
    "        self._df.loc[key] = values\n",
    "        self.save()\n",
    "        \n",
    "    def get(self, key, field=None, asDict=True):\n",
    "        \"\"\" gets a row in the dataframe\n",
    "        \n",
    "        field - if not None, only return the value of this particular field\n",
    "        asDict - if True, returns it as dict (otherwise a pandas series; ignored if field != None)\n",
    "        \"\"\"\n",
    "        if not asDict: return self._df.loc[key]\n",
    "        d = dict(self._df.loc[key])\n",
    "        if field == None: return d\n",
    "        return d[field]\n",
    "        \n",
    "   \n",
    "    def delete(self, idx):\n",
    "        \"\"\"deletes one row from the dataframe, based on the index value\n",
    "        \n",
    "        idx - the row to be deleted\n",
    "        \"\"\"\n",
    "        \n",
    "        self._df.loc[idx] = np.nan\n",
    "        self._df = self._df.dropna()\n",
    "        self.save()\n",
    "        \n",
    "    def length(self):\n",
    "        \"\"\" returns the length of the dataframe\n",
    "        \"\"\"\n",
    "        return len(self._df.index)\n",
    "    \n",
    "    def df(self):\n",
    "        \"\"\" accessor function for the DataFrame object\n",
    "        \"\"\"\n",
    "        return self._df"
   ]
  },
  {
   "cell_type": "markdown",
   "metadata": {},
   "source": [
    "## Testing"
   ]
  },
  {
   "cell_type": "markdown",
   "metadata": {},
   "source": [
    "### Bookmarks\n",
    "\n",
    "that's a little side project, which is to create a file containing *bookmarks* for interesting series in the ECB database; it uses the `PDataFrame` class defined above.\n",
    "\n",
    "Note that the following lines can generally be commented out: the whole idea here is that the bookmarks are kept in persistant storage (here the file `ECB_DataSeries.csv`) so one only has to execute `bm.set()` once to add a new bookmark (provided the csv file is being moved around with this note book)"
   ]
  },
  {
   "cell_type": "code",
   "execution_count": 6,
   "metadata": {
    "collapsed": false
   },
   "outputs": [],
   "source": [
    "PDataFrame.create('ECB_DataSeries.csv', ('key', 'description'))\n",
    "bm = PDataFrame('ECB_DataSeries.csv')\n",
    "bm.set('deposit', ('ILM.W.U2.C.L022.U2.EUR', 'current usage of the deposit facility'))\n",
    "bm.set('lending', ('ILM.M.U2.C.A05B.U2.EUR', 'current aggregate usage of major lending facilities'))\n",
    "bm.set('lending_marg', ('ILM.W.U2.C.A055.U2.EUR', 'current usage of the marginal lending facility'))\n"
   ]
  },
  {
   "cell_type": "markdown",
   "metadata": {},
   "source": [
    "just to check what bookmarks we have defined..."
   ]
  },
  {
   "cell_type": "code",
   "execution_count": 7,
   "metadata": {
    "collapsed": false
   },
   "outputs": [
    {
     "data": {
      "text/html": [
       "<div style=\"max-height:1000px;max-width:1500px;overflow:auto;\">\n",
       "<table border=\"1\" class=\"dataframe\">\n",
       "  <thead>\n",
       "    <tr style=\"text-align: right;\">\n",
       "      <th></th>\n",
       "      <th>key</th>\n",
       "      <th>description</th>\n",
       "    </tr>\n",
       "  </thead>\n",
       "  <tbody>\n",
       "    <tr>\n",
       "      <th>deposit</th>\n",
       "      <td> ILM.W.U2.C.L022.U2.EUR</td>\n",
       "      <td>             current usage of the deposit facility</td>\n",
       "    </tr>\n",
       "    <tr>\n",
       "      <th>lending</th>\n",
       "      <td> ILM.M.U2.C.A05B.U2.EUR</td>\n",
       "      <td> current aggregate usage of major lending facil...</td>\n",
       "    </tr>\n",
       "    <tr>\n",
       "      <th>lending_marg</th>\n",
       "      <td> ILM.W.U2.C.A055.U2.EUR</td>\n",
       "      <td>    current usage of the marginal lending facility</td>\n",
       "    </tr>\n",
       "  </tbody>\n",
       "</table>\n",
       "<p>3 rows × 2 columns</p>\n",
       "</div>"
      ],
      "text/plain": [
       "                                 key  \\\n",
       "deposit       ILM.W.U2.C.L022.U2.EUR   \n",
       "lending       ILM.M.U2.C.A05B.U2.EUR   \n",
       "lending_marg  ILM.W.U2.C.A055.U2.EUR   \n",
       "\n",
       "                                                    description  \n",
       "deposit                   current usage of the deposit facility  \n",
       "lending       current aggregate usage of major lending facil...  \n",
       "lending_marg     current usage of the marginal lending facility  \n",
       "\n",
       "[3 rows x 2 columns]"
      ]
     },
     "execution_count": 7,
     "metadata": {},
     "output_type": "execute_result"
    }
   ],
   "source": [
    "bm = PDataFrame('ECB_DataSeries.csv')\n",
    "bm._df"
   ]
  },
  {
   "cell_type": "markdown",
   "metadata": {},
   "source": [
    "...and how to get the values back"
   ]
  },
  {
   "cell_type": "code",
   "execution_count": 8,
   "metadata": {
    "collapsed": false
   },
   "outputs": [
    {
     "data": {
      "text/plain": [
       "'ILM.W.U2.C.L022.U2.EUR'"
      ]
     },
     "execution_count": 8,
     "metadata": {},
     "output_type": "execute_result"
    }
   ],
   "source": [
    "bm.get('deposit', 'key')"
   ]
  },
  {
   "cell_type": "markdown",
   "metadata": {},
   "source": [
    "### Data\n",
    "\n",
    "we fetch three data series, the ECB deposit facility, the ECB lending facility, and the ECB marginal lending facility using the `fetch` method that takes as parameter the series key (see below and explanation for the `skip_end` parameter)"
   ]
  },
  {
   "cell_type": "code",
   "execution_count": 9,
   "metadata": {
    "collapsed": false
   },
   "outputs": [],
   "source": [
    "ei = ECBImport()\n",
    "deposit = ei.fetch(bm.get('deposit', 'key'), skip_end=10)\n",
    "lending = ei.fetch(bm.get('lending', 'key'))\n",
    "lending_marg = ei.fetch(bm.get('lending_marg', 'key'))"
   ]
  },
  {
   "cell_type": "markdown",
   "metadata": {},
   "source": [
    "the dataset returned contains a number of additonal info items, for example a description"
   ]
  },
  {
   "cell_type": "code",
   "execution_count": 10,
   "metadata": {
    "collapsed": false
   },
   "outputs": [
    {
     "data": {
      "text/plain": [
       "dict_keys(['key', 'head', 'descr', 'data', 'descr_raw'])"
      ]
     },
     "execution_count": 10,
     "metadata": {},
     "output_type": "execute_result"
    }
   ],
   "source": [
    "deposit.keys()"
   ]
  },
  {
   "cell_type": "code",
   "execution_count": 11,
   "metadata": {
    "collapsed": false
   },
   "outputs": [
    {
     "data": {
      "text/plain": [
       "[['Dataset name', 'Internal Liquidity Management'],\n",
       " ['Frequency', 'Weekly'],\n",
       " ['Reference area', 'Euro area (changing composition)'],\n",
       " ['BS reference sector breakdown', 'Eurosystem'],\n",
       " ['Balance sheet item', 'Deposit facility'],\n",
       " ['Counterpart area', 'Euro area (changing composition)'],\n",
       " ['Currency of transaction', 'Euro']]"
      ]
     },
     "execution_count": 11,
     "metadata": {},
     "output_type": "execute_result"
    }
   ],
   "source": [
    "deposit['descr']"
   ]
  },
  {
   "cell_type": "markdown",
   "metadata": {},
   "source": [
    "The time information is in a funny format eg (eg, \"2008w21\"). So we then reformat the datatables into something that can be plotted, ie a float. For this we have the static method `data_table` that takes the data and a reformatting function for the time. Normally it returns a 2-tuple, the first component being the time-tuple, the second component being the value-tuple\n",
    "\n",
    "If desired, additionally an interpolation function can be return as the third component. This is necessary if we want to do operations on series that are not based on the same time values. We see this in the last line below: `le[2]` is the interpolation function for the lending, and it is applied to `dp[0]` which are the time values for the deposit function. Now the two series are on the same basis and can hence be substracted (note that in `fetch()` we needed the `skip_end` parameter, because the available deposit data series goes further than the available lending series, which makes the interpolation fail). "
   ]
  },
  {
   "cell_type": "code",
   "execution_count": 12,
   "metadata": {
    "collapsed": false
   },
   "outputs": [],
   "source": [
    "unit = 1000000\n",
    "dp = ei.data_table(deposit, ei.time_reformat1, unit)\n",
    "le = ei.data_table(lending, ei.time_reformat2, unit, True)\n",
    "lm = ei.data_table(lending_marg, ei.time_reformat1, unit)\n",
    "diff = le[2](dp[0]) - dp[1]"
   ]
  },
  {
   "cell_type": "markdown",
   "metadata": {},
   "source": [
    "The functions for converting time are implemented as static methods on the object. For the time being there are two of them"
   ]
  },
  {
   "cell_type": "code",
   "execution_count": 13,
   "metadata": {
    "collapsed": false
   },
   "outputs": [
    {
     "data": {
      "text/plain": [
       "(2010.0192307692307, ('w', 2010, 2))"
      ]
     },
     "execution_count": 13,
     "metadata": {},
     "output_type": "execute_result"
    }
   ],
   "source": [
    "ei.time_reformat1(\"2010w2\")"
   ]
  },
  {
   "cell_type": "code",
   "execution_count": 14,
   "metadata": {
    "collapsed": false
   },
   "outputs": [
    {
     "data": {
      "text/plain": [
       "(2010.1666666666667, ('m', 2010, 3))"
      ]
     },
     "execution_count": 14,
     "metadata": {},
     "output_type": "execute_result"
    }
   ],
   "source": [
    "ei.time_reformat2(\"2010mar\")"
   ]
  },
  {
   "cell_type": "markdown",
   "metadata": {},
   "source": [
    "We now can plot the data series. Note that that would not have been that trivial to do in Excel because one of the data series is monthly, the other one is weekly"
   ]
  },
  {
   "cell_type": "code",
   "execution_count": 15,
   "metadata": {
    "collapsed": false
   },
   "outputs": [
    {
     "data": {
      "text/plain": [
       "[<matplotlib.lines.Line2D at 0x7f5fef024c88>]"
      ]
     },
     "execution_count": 15,
     "metadata": {},
     "output_type": "execute_result"
    },
    {
     "data": {
      "image/png": "[encoded data removed]",
      "text/plain": [
       "<matplotlib.figure.Figure at 0x7f6002d4a3c8>"
      ]
     },
     "metadata": {},
     "output_type": "display_data"
    }
   ],
   "source": [
    "plot(le[0], le[1])\n",
    "plot(lm[0], lm[1])\n",
    "plot(dp[0], dp[1])"
   ]
  },
  {
   "cell_type": "code",
   "execution_count": 16,
   "metadata": {
    "collapsed": false
   },
   "outputs": [
    {
     "data": {
      "text/plain": [
       "[<matplotlib.lines.Line2D at 0x7f5feeeff128>]"
      ]
     },
     "execution_count": 16,
     "metadata": {},
     "output_type": "execute_result"
    },
    {
     "data": {
      "image/png": "[encoded data removed]",
      "text/plain": [
       "<matplotlib.figure.Figure at 0x7f6002d47e48>"
      ]
     },
     "metadata": {},
     "output_type": "display_data"
    }
   ],
   "source": [
    "plot(dp[0], diff)"
   ]
  }
 ],
 "metadata": {
  "kernelspec": {
   "display_name": "Python 3",
   "language": "python",
   "name": "python3"
  },
  "language_info": {
   "codemirror_mode": {
    "name": "ipython",
    "version": 3
   },
   "file_extension": ".py",
   "mimetype": "text/x-python",
   "name": "python",
   "nbconvert_exporter": "python",
   "pygments_lexer": "ipython3",
   "version": "3.4.3"
  }
 },
 "nbformat": 4,
 "nbformat_minor": 0
}
