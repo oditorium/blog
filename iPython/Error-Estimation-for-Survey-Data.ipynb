{
 "cells": [
  {
   "cell_type": "code",
   "execution_count": 15,
   "metadata": {
    "collapsed": false
   },
   "outputs": [],
   "source": [
    "import numpy as np\n",
    "import matplotlib.pyplot as plt\n",
    "import pandas as pd\n",
    "from scipy.stats import norm"
   ]
  },
  {
   "cell_type": "markdown",
   "metadata": {},
   "source": [
    "# Error Estimation for Survey Data\n",
    "the issue we have is the following: we are drawing indendent random numbers from a binary distribution of probability $p$ (think: the probability of a certain person liking the color blue) and we have two groups (think: male and female). Those two groups dont necessarily have the same size.\n",
    "\n",
    "The question we ask is what difference we can expect in the spread of the ex-post estimation of $p$"
   ]
  },
  {
   "cell_type": "markdown",
   "metadata": {},
   "source": [
    "We first define our population parameters"
   ]
  },
  {
   "cell_type": "code",
   "execution_count": 16,
   "metadata": {
    "collapsed": false
   },
   "outputs": [],
   "source": [
    "N_people = 500\n",
    "ratio_female = 0.30\n",
    "proba = 0.40"
   ]
  },
  {
   "cell_type": "markdown",
   "metadata": {},
   "source": [
    "## Closed Form Approximation\n",
    "of course we could have done this analytically using Normal approximation: we have two independent Normal random variables, both with expectation $p$. The variance of the $male$ variable is $p(1-p)/N_{male}$ and the one of the female one accordingly. The overall variance of the difference (or sum, it does not matter here because they are uncorrelated) is\n",
    "$$\n",
    "var = p(1-p)\\times \\left(\\frac{1}{N_{male}} + \\frac{1}{N_{female}}\\right)\n",
    "$$\n",
    "Using the female/male ratio $r$ instead we can write for the standard deviation\n",
    "$$\n",
    "sd = \\sqrt{var} = \\sqrt{\\frac{1}{N}\\frac{p(1-p)}{r(1-r)}}\n",
    "$$\n",
    "meaning that we expect the difference in estimators for male and female of the order of $sd$"
   ]
  },
  {
   "cell_type": "code",
   "execution_count": 17,
   "metadata": {
    "collapsed": false
   },
   "outputs": [],
   "source": [
    "def the_sd(N, p, r):\n",
    "    N = float(N)\n",
    "    p = float(p)\n",
    "    r = float(r)\n",
    "    \n",
    "    return sqrt(1.0/N*(p*(1.0-p))/(r*(1.0-r)))"
   ]
  },
  {
   "cell_type": "code",
   "execution_count": 18,
   "metadata": {
    "collapsed": false
   },
   "outputs": [],
   "source": [
    "def sd_func_factory(N,r):\n",
    "    \n",
    "    def func(p):\n",
    "        return the_sd(N,p,r)\n",
    "    \n",
    "    return func\n",
    "\n",
    "f = sd_func_factory(N_people, ratio_female)\n",
    "f2 = sd_func_factory(N_people/2, ratio_female)"
   ]
  },
  {
   "cell_type": "markdown",
   "metadata": {},
   "source": [
    "Thats the one-standard deviation range about the estimator. For example: if the underlying probability is $0.25=25\\%$ then the difference between the estimators for the male and the female group is $4.2\\%$ for the full group (`sd`), or $5.9\\%$ for if only half of the people replied (`sd2`)"
   ]
  },
  {
   "cell_type": "code",
   "execution_count": 19,
   "metadata": {
    "collapsed": false
   },
   "outputs": [
    {
     "data": {
      "text/html": [
       "<div style=\"max-height:1000px;max-width:1500px;overflow:auto;\">\n",
       "<table border=\"1\" class=\"dataframe\">\n",
       "  <thead>\n",
       "    <tr style=\"text-align: right;\">\n",
       "      <th></th>\n",
       "      <th>p</th>\n",
       "      <th>sd</th>\n",
       "      <th>sd2</th>\n",
       "    </tr>\n",
       "  </thead>\n",
       "  <tbody>\n",
       "    <tr>\n",
       "      <th>0</th>\n",
       "      <td> 0.0000</td>\n",
       "      <td> 0.000000</td>\n",
       "      <td> 0.000000</td>\n",
       "    </tr>\n",
       "    <tr>\n",
       "      <th>1</th>\n",
       "      <td> 0.0625</td>\n",
       "      <td> 0.023623</td>\n",
       "      <td> 0.033408</td>\n",
       "    </tr>\n",
       "    <tr>\n",
       "      <th>2</th>\n",
       "      <td> 0.1250</td>\n",
       "      <td> 0.032275</td>\n",
       "      <td> 0.045644</td>\n",
       "    </tr>\n",
       "    <tr>\n",
       "      <th>3</th>\n",
       "      <td> 0.1875</td>\n",
       "      <td> 0.038091</td>\n",
       "      <td> 0.053868</td>\n",
       "    </tr>\n",
       "    <tr>\n",
       "      <th>4</th>\n",
       "      <td> 0.2500</td>\n",
       "      <td> 0.042258</td>\n",
       "      <td> 0.059761</td>\n",
       "    </tr>\n",
       "  </tbody>\n",
       "</table>\n",
       "<p>5 rows × 3 columns</p>\n",
       "</div>"
      ],
      "text/plain": [
       "        p        sd       sd2\n",
       "0  0.0000  0.000000  0.000000\n",
       "1  0.0625  0.023623  0.033408\n",
       "2  0.1250  0.032275  0.045644\n",
       "3  0.1875  0.038091  0.053868\n",
       "4  0.2500  0.042258  0.059761\n",
       "\n",
       "[5 rows x 3 columns]"
      ]
     },
     "execution_count": 19,
     "metadata": {},
     "output_type": "execute_result"
    }
   ],
   "source": [
    "p = linspace(0,0.25,5)\n",
    "f = sd_func_factory(N_people, ratio_female)\n",
    "f2 = sd_func_factory(N_people/2, ratio_female)\n",
    "sd = list(map(f, p))\n",
    "sd2 = list(map(f2, p))\n",
    "pd.DataFrame(data= {'p':p, 'sd':sd, 'sd2':sd2})"
   ]
  },
  {
   "cell_type": "markdown",
   "metadata": {},
   "source": [
    "that's the same relationship as a plot"
   ]
  },
  {
   "cell_type": "code",
   "execution_count": 20,
   "metadata": {
    "collapsed": false
   },
   "outputs": [
    {
     "data": {
      "image/png": "[encoded data removed]",
      "text/plain": [
       "<matplotlib.figure.Figure at 0x7f1d5377e940>"
      ]
     },
     "metadata": {},
     "output_type": "display_data"
    }
   ],
   "source": [
    "p = linspace(0,0.25,50)\n",
    "sd = list(map(f, p))\n",
    "sd2 = list(map(f2, p))\n",
    "plot (p,p, 'k')\n",
    "plot (p,p-sd, 'g--')\n",
    "plot (p,p+sd, 'g--')\n",
    "plot (p,p-sd2, 'r--')\n",
    "plot (p,p+sd2, 'r--')\n",
    "grid(b=True, which='major', color='k', linestyle='--')"
   ]
  },
  {
   "cell_type": "markdown",
   "metadata": {},
   "source": [
    "For reference, the 2-sided tail probabilites as a function of $z$ (the way to read it is as follows: the probability of a Normal distribution being 2 standard deviations away from its mean to either side is about 0.05, or 5%). Saying it the other way round, a two-standard-deviation difference corresponds to about 95% confidence"
   ]
  },
  {
   "cell_type": "code",
   "execution_count": 21,
   "metadata": {
    "collapsed": false
   },
   "outputs": [
    {
     "data": {
      "text/plain": [
       "<matplotlib.text.Text at 0x7f1d5359ffd0>"
      ]
     },
     "execution_count": 21,
     "metadata": {},
     "output_type": "execute_result"
    },
    {
     "data": {
      "image/png": "[encoded data removed]",
      "text/plain": [
       "<matplotlib.figure.Figure at 0x7f1d535f18d0>"
      ]
     },
     "metadata": {},
     "output_type": "display_data"
    }
   ],
   "source": [
    "z=linspace(1.,3,100)\n",
    "plot(z,1. - (norm.cdf(z)-norm.cdf(-z)))\n",
    "grid(b=True, which='major', color='k', linestyle='--')\n",
    "plt.title(\"Probability of being beyond Z (2-sided) vs Z\")"
   ]
  },
  {
   "cell_type": "markdown",
   "metadata": {},
   "source": [
    "## Using Monte Carlo\n",
    "we also need some additional parameters for our Monte Carlo"
   ]
  },
  {
   "cell_type": "code",
   "execution_count": 31,
   "metadata": {
    "collapsed": false
   },
   "outputs": [],
   "source": [
    "number_of_tries = 1000"
   ]
  },
  {
   "cell_type": "markdown",
   "metadata": {},
   "source": [
    "We do some intermediate calculations..."
   ]
  },
  {
   "cell_type": "code",
   "execution_count": 32,
   "metadata": {
    "collapsed": false
   },
   "outputs": [],
   "source": [
    "N_female = int (N_people * ratio_female)\n",
    "N_male = N_people - N_female"
   ]
  },
  {
   "cell_type": "markdown",
   "metadata": {},
   "source": [
    "...and then generate our random numbers..."
   ]
  },
  {
   "cell_type": "code",
   "execution_count": 33,
   "metadata": {
    "collapsed": false
   },
   "outputs": [],
   "source": [
    "data_male = np.random.binomial(n=1, p=proba, size=(number_of_tries, N_male))\n",
    "data_female = np.random.binomial(n=1, p=proba, size=(number_of_tries, N_female))"
   ]
  },
  {
   "cell_type": "markdown",
   "metadata": {},
   "source": [
    "...that we then reduce in one dimension (ie, over that people in the sample) to obtain our estimator for the probas for males and females as well as the difference. On the differences finally we look at the mean (should be zero-ish) and the standard deviation (should be consistent with the numbers above)"
   ]
  },
  {
   "cell_type": "code",
   "execution_count": 34,
   "metadata": {
    "collapsed": false
   },
   "outputs": [
    {
     "data": {
      "text/plain": [
       "(0.0011247619047619036, 0.04655510707277806)"
      ]
     },
     "execution_count": 34,
     "metadata": {},
     "output_type": "execute_result"
    }
   ],
   "source": [
    "proba_male = map(numpy.mean, data_male)\n",
    "proba_female = map(numpy.mean, data_female)\n",
    "proba_diff = list((pm-pf) for pm,pf in zip(proba_male, proba_female))\n",
    "np.mean(proba_diff), np.std(proba_diff)"
   ]
  },
  {
   "cell_type": "code",
   "execution_count": null,
   "metadata": {
    "collapsed": false
   },
   "outputs": [],
   "source": []
  }
 ],
 "metadata": {
  "kernelspec": {
   "display_name": "Python 3",
   "language": "python",
   "name": "python3"
  },
  "language_info": {
   "codemirror_mode": {
    "name": "ipython",
    "version": 3
   },
   "file_extension": ".py",
   "mimetype": "text/x-python",
   "name": "python",
   "nbconvert_exporter": "python",
   "pygments_lexer": "ipython3",
   "version": "3.4.3"
  }
 },
 "nbformat": 4,
 "nbformat_minor": 0
}
