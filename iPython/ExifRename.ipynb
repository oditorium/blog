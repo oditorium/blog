{
 "metadata": {
  "name": "",
  "signature": "sha256:f258471edc2d3dc5f99c952ce9f053d3b6d84f1883d0d1d5e76abad28103a30b"
 },
 "nbformat": 3,
 "nbformat_minor": 0,
 "worksheets": [
  {
   "cells": [
    {
     "cell_type": "markdown",
     "metadata": {},
     "source": [
      "# Renaming files based on EXIF info\n",
      "\n",
      "Digital cameras generally name their files DSC00001.JPG or something silly like that. I prefer that have them named according to the shooting data first, and possibly some additional information thereafter so that they sort by time taken. Fortunately the EXIF information contains the shooting data, so it is just a matter of extracting it from the file and renaming it. There is a slight complication: some cameras can take more than one shot per second, but they typically only provide the EXIF information with second-granularity, so we have to deal with this. "
     ]
    },
    {
     "cell_type": "code",
     "collapsed": false,
     "input": [
      "#!wget https://www.dropbox.com/s/-/DSC00005.JPG\n",
      "#!cp DSC00005.JPG IMAGE.jpg\n",
      "!cp IMAGE.jpg DSC00005.JPG\n",
      "!ls -l *.JPG"
     ],
     "language": "python",
     "metadata": {},
     "outputs": [
      {
       "output_type": "stream",
       "stream": "stdout",
       "text": [
        "-rw-r--r-- 1 root root 2981888 Sep 15 10:01 20140913_210715_DSC00005.JPG\r\n",
        "-rw-r--r-- 1 root root 2981888 Sep 15 10:11 DSC00005.JPG\r\n"
       ]
      }
     ],
     "prompt_number": 1
    },
    {
     "cell_type": "markdown",
     "metadata": {},
     "source": [
      "## Reading out the EXIF info and dealing with datetime reformatting"
     ]
    },
    {
     "cell_type": "code",
     "collapsed": false,
     "input": [
      "from PIL import Image,ExifTags\n",
      "from datetime import datetime as dt\n",
      "import pytz\n",
      "\n",
      "class exif:\n",
      "    \n",
      "    def __init__(self, fn, tz=None, fmt_str=None):\n",
      "        \n",
      "        self.fn = fn\n",
      "        if tz == None: tz = 'Europe/London'\n",
      "        self.timezone = pytz.timezone(tz)\n",
      "        if fmt_str == None: fmt_str = '%Y:%m:%d %H:%M:%S'\n",
      "        self.fmt_str = fmt_str\n",
      "        \n",
      "        img = img = Image.open(fn)\n",
      "        self.data = {\n",
      "            ExifTags.TAGS[k]: v\n",
      "            for k, v in img._getexif().items()\n",
      "            if k in ExifTags.TAGS\n",
      "        }\n",
      "        \n",
      "        dto = dt.strptime(self.data['DateTime'], fmt_str)\n",
      "        self.data['DateTime_o'] = self.timezone.localize(dto)\n",
      "        \n",
      "        dto = dt.strptime(self.data['DateTimeOriginal'], fmt_str)\n",
      "        self.data['DateTimeOrignal_o'] = self.timezone.localize(dto)\n",
      "\n",
      "        dto = dt.strptime(self.data['DateTimeDigitized'], fmt_str)\n",
      "        self.data['DateTimeDigitized_o'] = self.timezone.localize(dto)\n",
      "\n",
      "        \n",
      "    def time (self, fmt=None, which_time=None, tz=None):\n",
      "        \n",
      "        if fmt == None: fmt = \"%Y%m%d_%H%M%S\"\n",
      "        if which_time == None: which_time = 'DateTime'\n",
      "        dto = self.data[which_time+\"_o\"];\n",
      "        if tz:\n",
      "            timezone = pytz.timezone(tz)\n",
      "            dto = timezone.normalize(dto.astimezone(timezone))\n",
      "        \n",
      "        if fmt == False: return dto\n",
      "        return dto.strftime(fmt)"
     ],
     "language": "python",
     "metadata": {},
     "outputs": [],
     "prompt_number": 2
    },
    {
     "cell_type": "code",
     "collapsed": false,
     "input": [],
     "language": "python",
     "metadata": {},
     "outputs": [],
     "prompt_number": 2
    },
    {
     "cell_type": "code",
     "collapsed": false,
     "input": [
      "e = exif('DSC00005.JPG')\n",
      "e.data['MakerNote'] = \"\"\n",
      "e.data['UserComment'] = \"\"\n",
      "e.data"
     ],
     "language": "python",
     "metadata": {},
     "outputs": [
      {
       "metadata": {},
       "output_type": "pyout",
       "prompt_number": 3,
       "text": [
        "{'YResolution': (350, 1),\n",
        " 'ResolutionUnit': 2,\n",
        " 'Software': 'ILCE-5000 v1.00',\n",
        " 'DateTimeDigitized': '2014:09:13 21:07:15',\n",
        " 'ColorSpace': 1,\n",
        " 'Orientation': 1,\n",
        " 'Flash': 24,\n",
        " 'ExifImageHeight': 2576,\n",
        " 'DateTimeDigitized_o': datetime.datetime(2014, 9, 13, 21, 7, 15, tzinfo=<DstTzInfo 'Europe/London' BST+1:00:00 DST>),\n",
        " 'ExposureTime': (1, 80),\n",
        " 'FocalLength': (160, 10),\n",
        " 'ExposureProgram': 7,\n",
        " 'CustomRendered': 0,\n",
        " 'XResolution': (350, 1),\n",
        " 'UserComment': '',\n",
        " 'ExifImageWidth': 3872,\n",
        " 'Sharpness': 0,\n",
        " 'ComponentsConfiguration': b'\\x01\\x02\\x03\\x00',\n",
        " 'CompressedBitsPerPixel': (2, 1),\n",
        " 'DateTime_o': datetime.datetime(2014, 9, 13, 21, 7, 15, tzinfo=<DstTzInfo 'Europe/London' BST+1:00:00 DST>),\n",
        " 'DateTimeOrignal_o': datetime.datetime(2014, 9, 13, 21, 7, 15, tzinfo=<DstTzInfo 'Europe/London' BST+1:00:00 DST>),\n",
        " 'YCbCrPositioning': 2,\n",
        " 'FNumber': (35, 10),\n",
        " 'MakerNote': '',\n",
        " 'ImageDescription': '                               ',\n",
        " 'Saturation': 0,\n",
        " 'ExifInteroperabilityOffset': 38156,\n",
        " 'WhiteBalance': 0,\n",
        " 'SceneCaptureType': 2,\n",
        " 'Make': 'SONY',\n",
        " 'FocalLengthIn35mmFilm': 24,\n",
        " 'ExifOffset': 364,\n",
        " 'FlashPixVersion': b'0100',\n",
        " 'LensModel': 'E PZ 16-50mm F3.5-5.6 OSS',\n",
        " 'ISOSpeedRatings': 3200,\n",
        " 'SceneType': 1,\n",
        " 'ExposureMode': 0,\n",
        " 'LensSpecification': ((160, 10), (500, 10), (35, 10), (56, 10)),\n",
        " 'Model': 'ILCE-5000',\n",
        " 'MaxApertureValue': (926, 256),\n",
        " 'LightSource': 0,\n",
        " 'ExifVersion': b'0230',\n",
        " 'FileSource': 3,\n",
        " 'DateTimeOriginal': '2014:09:13 21:07:15',\n",
        " 'MeteringMode': 5,\n",
        " 'DateTime': '2014:09:13 21:07:15',\n",
        " 'Contrast': 0,\n",
        " 'DigitalZoomRatio': (16, 16)}"
       ]
      }
     ],
     "prompt_number": 3
    },
    {
     "cell_type": "code",
     "collapsed": false,
     "input": [
      "type(e.time())"
     ],
     "language": "python",
     "metadata": {},
     "outputs": [
      {
       "metadata": {},
       "output_type": "pyout",
       "prompt_number": 4,
       "text": [
        "str"
       ]
      }
     ],
     "prompt_number": 4
    },
    {
     "cell_type": "code",
     "collapsed": false,
     "input": [
      "e.time()"
     ],
     "language": "python",
     "metadata": {},
     "outputs": [
      {
       "metadata": {},
       "output_type": "pyout",
       "prompt_number": 5,
       "text": [
        "'20140913_210715'"
       ]
      }
     ],
     "prompt_number": 5
    },
    {
     "cell_type": "markdown",
     "metadata": {},
     "source": [
      "## Renaming files"
     ]
    },
    {
     "cell_type": "code",
     "collapsed": false,
     "input": [
      "import glob\n",
      "def exifRename (fmt1=None, pattern=None, fmt=None, dryrun=False):\n",
      "    \n",
      "    if fmt==None: fmt='%Y%m%d_%H%M%S_'\n",
      "    if pattern==None: pattern='DSC*.JPG'\n",
      "\n",
      "    files = glob.glob(pattern)\n",
      "    flist = []\n",
      "    for fn in files:\n",
      "        fn2 = 'test'\n",
      "        e = exif(fn)\n",
      "        fn2a = e.time(fmt)\n",
      "        if fmt1 == None: fn2 = fn2a + fn\n",
      "        else: fn2 = fn2a + fmt1\n",
      "        flist.append((fn, fn2))\n",
      "\n",
      "    if dryrun==True: return flist\n",
      "    \n",
      "    for oldfn, newfn in flist:\n",
      "        !mv $oldfn $newfn\n",
      "    \n",
      "    return flist"
     ],
     "language": "python",
     "metadata": {},
     "outputs": [],
     "prompt_number": 6
    },
    {
     "cell_type": "code",
     "collapsed": false,
     "input": [
      "exifRename()"
     ],
     "language": "python",
     "metadata": {},
     "outputs": [
      {
       "metadata": {},
       "output_type": "pyout",
       "prompt_number": 7,
       "text": [
        "[('DSC00005.JPG', '20140913_210715_DSC00005.JPG')]"
       ]
      }
     ],
     "prompt_number": 7
    },
    {
     "cell_type": "code",
     "collapsed": false,
     "input": [
      "!ls -l *.JPG"
     ],
     "language": "python",
     "metadata": {},
     "outputs": [
      {
       "output_type": "stream",
       "stream": "stdout",
       "text": [
        "-rw-r--r-- 1 root root 2981888 Sep 15 10:11 20140913_210715_DSC00005.JPG\r\n"
       ]
      }
     ],
     "prompt_number": 8
    },
    {
     "cell_type": "code",
     "collapsed": false,
     "input": [],
     "language": "python",
     "metadata": {},
     "outputs": [],
     "prompt_number": 8
    }
   ],
   "metadata": {}
  }
 ]
}