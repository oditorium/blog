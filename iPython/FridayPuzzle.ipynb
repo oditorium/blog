{
 "metadata": {
  "name": "",
  "signature": "sha256:2eaf6139fa270b0e5c9045731f7a90886750e1619b2440e452d362107c1b77b4"
 },
 "nbformat": 3,
 "nbformat_minor": 0,
 "worksheets": [
  {
   "cells": [
    {
     "cell_type": "markdown",
     "metadata": {},
     "source": [
      "# Friday Puzzle\n",
      "\n",
      "**Question**\n",
      "\n",
      ">What numbers that can **not** be written in the form $i_4 * 4 + i_9*9$ where the $i$ are positive integers?\n",
      "\n",
      "**Solution**\n",
      "generate all possible combinations of sums of 4's and 9's (up to a maximum of $i<limit$), put them into a set, and see what numbers are missing from this set\n",
      "\n",
      "[source](https://twitter.com/10ticks/status/502744254020853760)"
     ]
    },
    {
     "cell_type": "code",
     "collapsed": false,
     "input": [
      "import time\n",
      "def timer():\n",
      "    start = time.time()\n",
      "    def f(report=False):\n",
      "        elapsed = time.time() - start\n",
      "        if report:\n",
      "            print (\"time elapsed %5.3f\" % elapsed)\n",
      "        return elapsed\n",
      "    return f"
     ],
     "language": "python",
     "metadata": {},
     "outputs": []
    },
    {
     "cell_type": "markdown",
     "metadata": {},
     "source": [
      "We are only looking for combinations with $i<limit$"
     ]
    },
    {
     "cell_type": "code",
     "collapsed": false,
     "input": [
      "limit = 250"
     ],
     "language": "python",
     "metadata": {},
     "outputs": [],
     "prompt_number": 55
    },
    {
     "cell_type": "markdown",
     "metadata": {},
     "source": [
      "## Procedural Style - square\n",
      "here we simple generate the square $i_4,i_9 = 1\\ldots limit$"
     ]
    },
    {
     "cell_type": "code",
     "collapsed": false,
     "input": [
      "mytimer = timer()\n",
      "can_reach = set() \n",
      "numbers = set(range(1,100))\n",
      "for i in range(0,limit):\n",
      "    for j in range (0,limit):\n",
      "        num = 4*i + 9*j\n",
      "        can_reach = can_reach | {num}\n",
      "\n",
      "can_not_reach = numbers - can_reach\n",
      "t_sqr = mytimer(True)\n",
      "can_not_reach"
     ],
     "language": "python",
     "metadata": {},
     "outputs": [
      {
       "output_type": "stream",
       "stream": "stdout",
       "text": [
        "time elapsed 5.650\n"
       ]
      },
      {
       "metadata": {},
       "output_type": "pyout",
       "prompt_number": 56,
       "text": [
        "{1, 2, 3, 5, 6, 7, 10, 11, 14, 15, 19, 23}"
       ]
      }
     ],
     "prompt_number": 56
    },
    {
     "cell_type": "markdown",
     "metadata": {},
     "source": [
      "## Procedural Style - triangle\n",
      "here we are somewhat smarter, using that the addition commutes, and only sum over the *triangle*, ie the following series\n",
      "$$\n",
      "0,\\ 4,\\ 9, 4+4,\\ 4+9,\\ 9+9,\\ 4+4+4,\\ 4+4+9,\\ \\ldots\n",
      "$$"
     ]
    },
    {
     "cell_type": "code",
     "collapsed": false,
     "input": [
      "mytimer = timer()\n",
      "can_reach = set() \n",
      "numbers = set(range(1,100))\n",
      "for i in range(0,limit):\n",
      "    for j in range (0,i+1):\n",
      "        num = 4*j + 9*(i-j)\n",
      "        #print (\"%i = 4*%i + 9*%i\" % (num,j,i-j))\n",
      "        can_reach = can_reach | {num}\n",
      "\n",
      "can_not_reach = numbers - can_reach\n",
      "t_tria = mytimer(True)\n",
      "can_not_reach"
     ],
     "language": "python",
     "metadata": {},
     "outputs": [
      {
       "output_type": "stream",
       "stream": "stdout",
       "text": [
        "time elapsed 1.523\n"
       ]
      },
      {
       "metadata": {},
       "output_type": "pyout",
       "prompt_number": 57,
       "text": [
        "{1, 2, 3, 5, 6, 7, 10, 11, 14, 15, 19, 23}"
       ]
      }
     ],
     "prompt_number": 57
    },
    {
     "cell_type": "markdown",
     "metadata": {},
     "source": [
      "## Functional Style\n",
      "Here use a more pythonic functional style\n",
      "1. we generate the ranges $(0,4,8,\\ldots)$ and $(0,9,18,\\ldots)$\n",
      "1. we generate the cartesian product range $(0,0), (4,0), \\ldots$\n",
      "1. we generate the sum range $0, 4, 8, \\ldots$\n",
      "1. we generate the set of numbers in the sum range ${0, 4, 8, \\ldots}$\n",
      "1. we calculate ${1\\ldots 100} - {0,4,8\\ldots}$"
     ]
    },
    {
     "cell_type": "code",
     "collapsed": false,
     "input": [
      "from operator import add\n",
      "from itertools import product\n",
      "\n",
      "mytimer = timer()\n",
      "fours = range(0,4*limit,4)\n",
      "nines = range(0,9*limit,9)\n",
      "fours_and_nines = product(fours, nines)\n",
      "fours_plus_nines = map( lambda x: add (*x), fours_and_nines)\n",
      "set(range(100)) - set(fours_plus_nines)\n",
      "t_func = mytimer(True)"
     ],
     "language": "python",
     "metadata": {},
     "outputs": [
      {
       "output_type": "stream",
       "stream": "stdout",
       "text": [
        "time elapsed 0.032\n"
       ]
      }
     ],
     "prompt_number": 58
    },
    {
     "cell_type": "markdown",
     "metadata": {},
     "source": [
      "## Results\n",
      "the triangle solution is an improvement by a factor 4, as expected; the Pythonic way of doing things is an improvement by a factor of almost 50x vs the triangle method. Note that the pythonic way is a square method, so raw-speedup is 150x+"
     ]
    },
    {
     "cell_type": "code",
     "collapsed": false,
     "input": [
      "print (\"triangle sum vs square sum = %2.0fx\" % (t_sqr / t_tria))\n",
      "print (\"functional vs triangle sum = %2.0fx\" % (t_tria / t_func))\n",
      "print (\"functional vs square sum = %2.0fx\" % (t_sqr / t_func))"
     ],
     "language": "python",
     "metadata": {},
     "outputs": [
      {
       "output_type": "stream",
       "stream": "stdout",
       "text": [
        "triangle sum vs square sum =  4x\n",
        "functional vs triangle sum = 48x\n",
        "functional vs square sum = 178x\n"
       ]
      }
     ],
     "prompt_number": 59
    },
    {
     "cell_type": "code",
     "collapsed": false,
     "input": [],
     "language": "python",
     "metadata": {},
     "outputs": [],
     "prompt_number": 59
    }
   ],
   "metadata": {}
  }
 ]
}