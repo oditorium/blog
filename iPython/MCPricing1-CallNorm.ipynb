{
 "cells": [
  {
   "cell_type": "markdown",
   "metadata": {},
   "source": [
    "#iPython Cookbook - Monte Carlo Pricing I - Call (Normal model)\n",
    ">Pricing a call option with Monte Carlo (Normal model)"
   ]
  },
  {
   "cell_type": "code",
   "execution_count": 1,
   "metadata": {
    "collapsed": false
   },
   "outputs": [],
   "source": [
    "import numpy as np\n",
    "import matplotlib.pyplot as plt"
   ]
  },
  {
   "cell_type": "markdown",
   "metadata": {},
   "source": [
    "Those are our option and market parameters: the exercise price of the option `strike`, the forward price of the underlying security `forward` and its volatility `vol` (note that we are using a Gaussian model here, not a lognormal one, so the volatility number is in units of currency, not in percent)"
   ]
  },
  {
   "cell_type": "code",
   "execution_count": 2,
   "metadata": {
    "collapsed": false
   },
   "outputs": [],
   "source": [
    "strike   = 100\n",
    "forward  = 110\n",
    "vol      = 50\n"
   ]
  },
  {
   "cell_type": "markdown",
   "metadata": {},
   "source": [
    "We now define our payoff function using a closure: the variable payoff represents a function with one parameter `spot` with the strike `k` being frozen at whatever value it had when the outer function `call` was called to set `payoff`"
   ]
  },
  {
   "cell_type": "code",
   "execution_count": 3,
   "metadata": {
    "collapsed": false
   },
   "outputs": [],
   "source": [
    "def call(k=100):\n",
    "    def payoff(spot):\n",
    "        if spot > k:\n",
    "            return spot - k\n",
    "        else:\n",
    "            return 0\n",
    "    return payoff\n",
    "\n",
    "payoff = call(k=strike)\n",
    "#payoff(110)"
   ]
  },
  {
   "cell_type": "markdown",
   "metadata": {},
   "source": [
    "We now generate a set of Standard Gaussian variables $z$ as a basis for our simulation..."
   ]
  },
  {
   "cell_type": "code",
   "execution_count": 4,
   "metadata": {
    "collapsed": false
   },
   "outputs": [],
   "source": [
    "N = 10000\n",
    "z = np.random.standard_normal((N))\n",
    "#z"
   ]
  },
  {
   "cell_type": "markdown",
   "metadata": {},
   "source": [
    "...and transform it in a Gaussian variable with the right mean and standard deviation, ie a variable that is distributed according to $N(forward,vol)$"
   ]
  },
  {
   "cell_type": "code",
   "execution_count": 5,
   "metadata": {
    "collapsed": false
   },
   "outputs": [],
   "source": [
    "x = forward + vol * z\n",
    "#x"
   ]
  },
  {
   "cell_type": "markdown",
   "metadata": {},
   "source": [
    "We first look at the histogram of the spot prices $x$"
   ]
  },
  {
   "cell_type": "code",
   "execution_count": 6,
   "metadata": {
    "collapsed": false
   },
   "outputs": [
    {
     "data": {
      "image/png": "[encoded data removed]",
      "text/plain": [
       "<matplotlib.figure.Figure at 0x7ff84807cf98>"
      ]
     },
     "metadata": {},
     "output_type": "display_data"
    }
   ],
   "source": [
    "hg0=np.histogram(x, bins=50)\n",
    "xvals0 = np.delete(hg0[1], -1)\n",
    "plt.bar(xvals0,hg0[0], width=0.5*(xvals0[1]-xvals0[0]))\n",
    "plt.title('forward distribution')\n",
    "plt.xlabel('forward')\n",
    "plt.ylabel('occurrences')\n",
    "plt.show()"
   ]
  },
  {
   "cell_type": "markdown",
   "metadata": {},
   "source": [
    "We now determine the payoff values from our draws of the final spot price. Note that we need to use the `map` command rather than simply writing `po = payoff(x)`. The reason for this is that this latter form is not compatible with the `if` statement in our payoff function. We also already compute the forward value of the option, which is simply the average payoff over all simulations."
   ]
  },
  {
   "cell_type": "code",
   "execution_count": 7,
   "metadata": {
    "collapsed": false
   },
   "outputs": [],
   "source": [
    "po = list(map(payoff,x))\n",
    "fv = mean(po)\n",
    "#po"
   ]
  },
  {
   "cell_type": "markdown",
   "metadata": {},
   "source": [
    "Now we produce the histogram of the payoffs"
   ]
  },
  {
   "cell_type": "code",
   "execution_count": 8,
   "metadata": {
    "collapsed": false
   },
   "outputs": [
    {
     "data": {
      "image/png": "[encoded data removed]",
      "text/plain": [
       "<matplotlib.figure.Figure at 0x7ff84807cbe0>"
      ]
     },
     "metadata": {},
     "output_type": "display_data"
    }
   ],
   "source": [
    "hg = np.histogram(po,bins=50)\n",
    "xvals = np.delete(hg[1], -1)\n",
    "plt.bar(xvals,hg[0], width=0.9*(xvals[1]-xvals[0]))\n",
    "plt.title('payout distribution')\n",
    "plt.xlabel('payout')\n",
    "plt.ylabel('occurrences')\n",
    "plt.show()"
   ]
  },
  {
   "cell_type": "markdown",
   "metadata": {},
   "source": [
    "In the next step we compute our \"Greeks\", ie a number of derivatives of the forward value with respect to the underlying parameters. What is crucial here is that those derivative are calculated *on the same draw random numbers* $z$, otherwise the Monte Carlo sampling error will dwarf the signal. The sensitivities we compute are to increase / decrease the forward by one currency unit (for *Delta* and *Gamma*) and to increase the volatility by one currency unit (for *Vega*)"
   ]
  },
  {
   "cell_type": "code",
   "execution_count": 9,
   "metadata": {
    "collapsed": false
   },
   "outputs": [],
   "source": [
    "x = forward + 1 + vol * z\n",
    "po = list(map(payoff,x))\n",
    "fv_plus = mean(po)\n",
    "\n",
    "x = forward - 1 + vol * z\n",
    "po = list(map(payoff,x))\n",
    "fv_minus = mean(po)\n",
    "\n",
    "x = forward + (vol + 1) * z\n",
    "po = list(map(payoff,x))\n",
    "fv_volp = mean(po)\n"
   ]
  },
  {
   "cell_type": "code",
   "execution_count": 10,
   "metadata": {
    "collapsed": false
   },
   "outputs": [
    {
     "name": "stdout",
     "output_type": "stream",
     "text": [
      "Forward     =  110.000000\n",
      "Strike      =  100.000000\n",
      "Volatility  =  50.000000\n",
      "PV          =  25.235499\n",
      "Delta       =  0.573365\n",
      "Gamma       =  0.008789\n",
      "Vega        =  0.390177\n"
     ]
    }
   ],
   "source": [
    "print (\"Forward     =  %f\" % forward)\n",
    "print (\"Strike      =  %f\" % strike)\n",
    "print (\"Volatility  =  %f\" % vol)\n",
    "print (\"PV          =  %f\" % fv)\n",
    "print (\"Delta       =  %f\" % ((fv_plus - fv_minus)/2))\n",
    "print (\"Gamma       =  %f\" % ((fv_plus + fv_minus - 2 * fv)))\n",
    "print (\"Vega        =  %f\" % ((fv_volp - fv)))"
   ]
  },
  {
   "cell_type": "markdown",
   "metadata": {},
   "source": [
    "## Licence and version\n",
    "*(c) Stefan Loesch / oditorium 2014; all rights reserved \n",
    "([license](https://github.com/oditorium/blog/blob/master/LICENSE))*"
   ]
  },
  {
   "cell_type": "code",
   "execution_count": 11,
   "metadata": {
    "collapsed": false
   },
   "outputs": [
    {
     "name": "stdout",
     "output_type": "stream",
     "text": [
      "3.4.0 (default, Apr 11 2014, 13:05:11) \n",
      "[GCC 4.8.2]\n"
     ]
    }
   ],
   "source": [
    "import sys\n",
    "print(sys.version)"
   ]
  }
 ],
 "metadata": {
  "kernelspec": {
   "display_name": "Python 3",
   "language": "python",
   "name": "python3"
  },
  "language_info": {
   "codemirror_mode": {
    "name": "ipython",
    "version": 3
   },
   "file_extension": ".py",
   "mimetype": "text/x-python",
   "name": "python",
   "nbconvert_exporter": "python",
   "pygments_lexer": "ipython3",
   "version": "3.4.3"
  }
 },
 "nbformat": 4,
 "nbformat_minor": 0
}
