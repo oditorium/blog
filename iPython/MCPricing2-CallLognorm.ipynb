{
 "metadata": {
  "name": "",
  "signature": "sha256:a5c7be2556c9d4ee5370e26ceb813e42f5999892b61dc2549ea99f39a0dda0c5"
 },
 "nbformat": 3,
 "nbformat_minor": 0,
 "worksheets": [
  {
   "cells": [
    {
     "cell_type": "markdown",
     "metadata": {},
     "source": [
      "#iPython Cookbook - Monte Carlo Pricing II - Call (Lognormal)\n",
      ">Pricing a call option with Monte Carlo (Normal model)"
     ]
    },
    {
     "cell_type": "code",
     "collapsed": false,
     "input": [
      "import numpy as np\n",
      "import matplotlib.pyplot as plt"
     ],
     "language": "python",
     "metadata": {},
     "outputs": [],
     "prompt_number": 1
    },
    {
     "cell_type": "markdown",
     "metadata": {},
     "source": [
      "Those are our option and market parameters: the exercise price of the option `strike`, the forward price of the underlying security `forward` and its volatility `vol` (as the model is lognormal, the volatility is a percentage number; eg 0.20 = 20%)"
     ]
    },
    {
     "cell_type": "code",
     "collapsed": false,
     "input": [
      "strike   = 100\n",
      "mat      = 1\n",
      "forward  = 100\n",
      "vol      = 0.3"
     ],
     "language": "python",
     "metadata": {},
     "outputs": [],
     "prompt_number": 2
    },
    {
     "cell_type": "markdown",
     "metadata": {},
     "source": [
      "\n",
      "We now define our payoff function using a closure: the variable payoff represents a function with one parameter spot with the strike k being frozen at whatever value it had when the outer function call was called to set payoff"
     ]
    },
    {
     "cell_type": "code",
     "collapsed": false,
     "input": [
      "def call(k=100):\n",
      "    def payoff(spot):\n",
      "        if spot > k:\n",
      "            return spot - k\n",
      "        else:\n",
      "            return 0\n",
      "    return payoff\n",
      "\n",
      "payoff = call(k=strike)"
     ],
     "language": "python",
     "metadata": {},
     "outputs": [],
     "prompt_number": 3
    },
    {
     "cell_type": "markdown",
     "metadata": {},
     "source": [
      "We also define an analytic function for calculation the price of a call using the Black Scholes formula, allowing us to benchmark our results"
     ]
    },
    {
     "cell_type": "code",
     "collapsed": false,
     "input": [
      "from scipy.stats import norm\n",
      "def bscall(fwd=100,strike=100,sig=0.1,mat=1):\n",
      "    lnfs = log(fwd/strike)\n",
      "    sig2t = sig*sig*mat\n",
      "    sigsqrt = sig*sqrt(mat)\n",
      "    d1 = (lnfs + 0.5 * sig2t)/ sigsqrt\n",
      "    d2 = (lnfs - 0.5 * sig2t)/ sigsqrt\n",
      "    fv = fwd * norm.cdf (d1) - strike * norm.cdf (d2)\n",
      "    #print \"d1 = %f (N = %f)\" % (d1, norm.cdf (d1))\n",
      "    #print \"d2 = %f (N = %f)\" % (d2, norm.cdf (d2))\n",
      "    return fv\n",
      "\n",
      "#bscall(fwd=100, strike=100, sig=0.1, mat=1)"
     ],
     "language": "python",
     "metadata": {},
     "outputs": [],
     "prompt_number": 4
    },
    {
     "cell_type": "markdown",
     "metadata": {},
     "source": [
      "We now generate a set of Standard Gaussian variables $z$ as a basis for our simulation..."
     ]
    },
    {
     "cell_type": "code",
     "collapsed": false,
     "input": [
      "N = 10000\n",
      "z = np.random.standard_normal((N))\n",
      "#z"
     ],
     "language": "python",
     "metadata": {},
     "outputs": [],
     "prompt_number": 5
    },
    {
     "cell_type": "markdown",
     "metadata": {},
     "source": [
      "...and transform it in a lognormal variable with the right mean and log standard deviation, ie a variable that is distributed according to $LN(F,\\sigma\\sqrt{T})$. Specifically, to transform a Standard Gaussian $Z$ into a lognormal $X$ with the above parameters we use the following formula \n",
      "$$\n",
      "X = F \\times \\exp (  -0.5 \\sigma^2 T + \\sigma \\sqrt{T} Z )\n",
      "$$"
     ]
    },
    {
     "cell_type": "code",
     "collapsed": false,
     "input": [
      "x = forward * exp(- 0.5 * vol * vol * mat + vol * sqrt(mat) * z)\n",
      "min(x), max(x), mean(x)"
     ],
     "language": "python",
     "metadata": {},
     "outputs": [
      {
       "metadata": {},
       "output_type": "pyout",
       "prompt_number": 6,
       "text": [
        "(29.200193610769325, 337.47555773708228, 100.06415682282491)"
       ]
      }
     ],
     "prompt_number": 6
    },
    {
     "cell_type": "markdown",
     "metadata": {},
     "source": [
      "We first look at the histogram of the spot prices $x$ (the function `trim_vals` simply deals with with the fact that `histogram` returns the starting and the ending point of the bin, ie overall one point too many)"
     ]
    },
    {
     "cell_type": "code",
     "collapsed": false,
     "input": [
      "def trim_xvals(a):\n",
      "    a1 = np.zeros(len(a)-1)\n",
      "    for idx in range(0,len(a)-1):\n",
      "        #a1[idx] = 0.5*(a[idx]+a[idx+1])\n",
      "        a1[idx] = a[idx]\n",
      "    return a1\n",
      "\n",
      "hg0=np.histogram(x, bins=50)\n",
      "xvals0 = trim_xvals(hg0[1])"
     ],
     "language": "python",
     "metadata": {},
     "outputs": [],
     "prompt_number": 7
    },
    {
     "cell_type": "code",
     "collapsed": false,
     "input": [
      "fwd1 = mean(x)\n",
      "print (\"forward = %f\" % (fwd1))\n",
      "plt.bar(xvals0,hg0[0], width=0.5*(xvals0[1]-xvals0[0]))\n",
      "plt.title('forward distribution')\n",
      "plt.xlabel('forward')\n",
      "plt.ylabel('occurrences')\n",
      "plt.show()"
     ],
     "language": "python",
     "metadata": {},
     "outputs": [
      {
       "output_type": "stream",
       "stream": "stdout",
       "text": [
        "forward = 100.064157\n"
       ]
      },
      {
       "metadata": {},
       "output_type": "display_data",
       "png": "[encoded data removed]",
       "text": [
        "<matplotlib.figure.Figure at 0x7f6fb51faf98>"
       ]
      }
     ],
     "prompt_number": 8
    },
    {
     "cell_type": "markdown",
     "metadata": {},
     "source": [
      "We now determine the payoff values from our draws of the final spot price. Note that we need to use the `map` command rather than simply writing `po = payoff(x)`. The reason for this is that this latter form is not compatible with the `if` statement in our payoff function. We also already compute the forward value of the option, which is simply the average payoff over all simulations."
     ]
    },
    {
     "cell_type": "code",
     "collapsed": false,
     "input": [
      "po = list(map(payoff,x))\n",
      "fv = mean(po)\n",
      "#po"
     ],
     "language": "python",
     "metadata": {},
     "outputs": [],
     "prompt_number": 9
    },
    {
     "cell_type": "markdown",
     "metadata": {},
     "source": [
      "Now we produce the histogram of the payoffs"
     ]
    },
    {
     "cell_type": "code",
     "collapsed": false,
     "input": [
      "hg = np.histogram(po,bins=50)\n",
      "xvals = trim_xvals(hg[1])"
     ],
     "language": "python",
     "metadata": {},
     "outputs": [],
     "prompt_number": 10
    },
    {
     "cell_type": "code",
     "collapsed": false,
     "input": [
      "plt.bar(xvals,hg[0], width=0.9*(xvals[1]-xvals[0]))\n",
      "plt.title('payout distribution')\n",
      "plt.xlabel('payout')\n",
      "plt.ylabel('occurrences')\n",
      "plt.show()"
     ],
     "language": "python",
     "metadata": {},
     "outputs": [
      {
       "metadata": {},
       "output_type": "display_data",
       "png": "[encoded data removed]",
       "text": [
        "<matplotlib.figure.Figure at 0x7f6fa4c91cc0>"
       ]
      }
     ],
     "prompt_number": 11
    },
    {
     "cell_type": "markdown",
     "metadata": {},
     "source": [
      "In the next step we compute our \"Greeks\", ie a number of derivatives of the forward value with respect to the underlying parameters. What is crucial here is that those derivative are calculated *on the same draw random numbers* $z$, otherwise the Monte Carlo sampling error will dwarf the signal. The sensitivities we compute are to increase / decrease the forward by one currency unit (for *Delta* and *Gamma*), to increase the volatility by one currency unit (for *Vega*), and to decrease the time to maturity by 0.1y (for *Theta*)"
     ]
    },
    {
     "cell_type": "code",
     "collapsed": false,
     "input": [
      "x = (forward+1) * exp(- 0.5 * vol * vol * mat + vol * sqrt(mat) * z)\n",
      "po = list(map(payoff,x))\n",
      "fv_plus = mean(po)\n",
      "\n",
      "x = (forward-1) * exp(- 0.5 * vol * vol * mat + vol * sqrt(mat) * z)\n",
      "po = list(map(payoff,x))\n",
      "fv_minus = mean(po)\n",
      "\n",
      "x = forward * exp(- 0.5 * (vol+0.01) * (vol+0.01) * mat + (vol+0.01) * sqrt(mat) * z)\n",
      "po = list(map(payoff,x))\n",
      "fv_volp = mean(po)\n",
      "\n",
      "x = forward * exp(- 0.5 * vol * vol * (mat-0.1) + vol * sqrt(mat-0.1) * z)\n",
      "po = list(map(payoff,x))\n",
      "fv_timep = mean(po)"
     ],
     "language": "python",
     "metadata": {},
     "outputs": [],
     "prompt_number": 12
    },
    {
     "cell_type": "code",
     "collapsed": false,
     "input": [
      "print (\"Strike      =  %f\" % strike)\n",
      "print (\"Maturity    =  %f\" % mat)\n",
      "print (\"Forward     =  %f\" % forward)\n",
      "print (\"Volatility  =  %f\" % vol)\n",
      "print (\"FV          =  %f\" % fv)\n",
      "print (\" check      =  %f\" % bscall(fwd=forward, strike=strike, sig=vol, mat=mat))\n",
      "print (\"Delta       =  %f\" % ((fv_plus - fv_minus)/2))\n",
      "print (\"Gamma       =  %f\" % ((fv_plus + fv_minus - 2 * fv)))\n",
      "print (\"Theta       =  %f\" % ((fv_timep - fv)))\n",
      "print (\"Vega        =  %f\" % ((fv_volp - fv)))"
     ],
     "language": "python",
     "metadata": {},
     "outputs": [
      {
       "output_type": "stream",
       "stream": "stdout",
       "text": [
        "Strike      =  100.000000\n",
        "Maturity    =  1.000000\n",
        "Forward     =  100.000000\n",
        "Volatility  =  0.300000\n",
        "FV          =  11.942662\n",
        " check      =  11.923538\n",
        "Delta       =  0.562883\n",
        "Gamma       =  0.012551\n",
        "Theta       =  -0.607928\n",
        "Vega        =  0.394495\n"
       ]
      }
     ],
     "prompt_number": 13
    },
    {
     "cell_type": "markdown",
     "metadata": {},
     "source": [
      "## Licence and version\n",
      "*(c) Stefan Loesch / oditorium 2014; all rights reserved \n",
      "([license](https://github.com/oditorium/blog/blob/master/LICENSE))*"
     ]
    },
    {
     "cell_type": "code",
     "collapsed": false,
     "input": [
      "import sys\n",
      "print(sys.version)"
     ],
     "language": "python",
     "metadata": {},
     "outputs": [
      {
       "output_type": "stream",
       "stream": "stdout",
       "text": [
        "3.4.0 (default, Apr 11 2014, 13:05:11) \n",
        "[GCC 4.8.2]\n"
       ]
      }
     ],
     "prompt_number": 14
    }
   ],
   "metadata": {}
  }
 ]
}