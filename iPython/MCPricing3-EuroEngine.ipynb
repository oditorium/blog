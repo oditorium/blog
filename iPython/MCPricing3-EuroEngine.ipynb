{
 "metadata": {
  "name": "",
  "signature": "sha256:3d8729a1e4140f24ca205aee0600219c4f51da63d10512b85fbcb56fbb1433b2"
 },
 "nbformat": 3,
 "nbformat_minor": 0,
 "worksheets": [
  {
   "cells": [
    {
     "cell_type": "markdown",
     "metadata": {},
     "source": [
      "#iPython Cookbook - Monte Carlo Pricing III - European Engine\n",
      ">Pricing a European option with a Monte Carlo engine"
     ]
    },
    {
     "cell_type": "markdown",
     "metadata": {},
     "source": [
      "## Set-up"
     ]
    },
    {
     "cell_type": "code",
     "collapsed": false,
     "input": [
      "import numpy as np\n",
      "import matplotlib.pyplot as plt"
     ],
     "language": "python",
     "metadata": {},
     "outputs": [],
     "prompt_number": 1
    },
    {
     "cell_type": "code",
     "collapsed": false,
     "input": [
      "import time\n",
      "def new_timer(id='', disabled=False):\n",
      "    beg_ts = time.time ()\n",
      "    \n",
      "    def finish(id2='', reset=False):\n",
      "        nonlocal beg_ts\n",
      "        if disabled: return\n",
      "        end_ts = time.time ()\n",
      "        timediff = end_ts - beg_ts\n",
      "        print(\"%s%s elapsed time: %f\" % (id, id2, timediff))\n",
      "        if reset: beg_ts = time.time() # needs `nonlocal` defn from Py3\n",
      "        return timediff\n",
      "\n",
      "    return finish"
     ],
     "language": "python",
     "metadata": {},
     "outputs": [],
     "prompt_number": 2
    },
    {
     "cell_type": "markdown",
     "metadata": {},
     "source": [
      "### Product definitions\n",
      "We first define a number of different European option payoff structures (ie payoff structures that *only* depende on the value of the spot at maturity), notable\n",
      "- call - the right to *buy* a security at a given *strike* price\n",
      "- put - the right to *sell* a security at a given *strike* price\n",
      "- straddle - a call and a put with the same strike\n",
      "- forward - the obligation to buy a security at a given *strike* price (not an option)"
     ]
    },
    {
     "cell_type": "code",
     "collapsed": false,
     "input": [
      "def payoff_call(k=100):\n",
      "    def payoff(spot):\n",
      "        if spot > k:\n",
      "            return spot - k\n",
      "        else:\n",
      "            return 0\n",
      "    return payoff\n",
      "\n",
      "def payoff_put(k=100):\n",
      "    def payoff(spot):\n",
      "        if spot < k:\n",
      "            return k - spot\n",
      "        else:\n",
      "            return 0\n",
      "    return payoff\n",
      "\n",
      "def payoff_fwd(k=100):\n",
      "    def payoff(spot):\n",
      "            return spot - k\n",
      "    return payoff\n",
      "\n",
      "def payoff_straddle(k=100):\n",
      "    def payoff(spot):\n",
      "        if spot < k:\n",
      "            return k - spot\n",
      "        else:\n",
      "            return spot - k\n",
      "    return payoff"
     ],
     "language": "python",
     "metadata": {},
     "outputs": [],
     "prompt_number": 3
    },
    {
     "cell_type": "markdown",
     "metadata": {},
     "source": [
      "### Model calculator factory\n",
      "We define a *factory* function that then provides us with a calculation function for our specific model. The factory function most importantly takes the number of Monte Carlo samples to be drawn `N`. For convenience it also takes a default payoff function as often the payoff will not be varied over the course of one analysis.\n",
      "\n",
      "Importantly, the vector of Standard Gaussian random variables `z` that will be the basis of the Monte Carlo simulation is drawn immediately, and it is remembered in the closure This allows us to run the calculation function (the one returned by the factory) with different parameters but against the same sampling set, thereby greatly reducing Monte Carlo errors."
     ]
    },
    {
     "cell_type": "code",
     "collapsed": false,
     "input": [
      "def calc_factory (N=1000, default_payoff=None):\n",
      "    \n",
      "    z = np.random.standard_normal((N))\n",
      "    \n",
      "    def run (fwd, sig, mat, payoff=None):\n",
      "        \n",
      "        read_timer = new_timer(disabled=True)\n",
      "        x = fwd * exp(- 0.5 * sig * sig * mat + sig * sqrt(mat) * z)\n",
      "        read_timer(\"a\")\n",
      "        if payoff == None:\n",
      "            payoff = default_payoff\n",
      "        po = list(map(payoff,x))\n",
      "        read_timer(\"b\")\n",
      "        fv = mean(po)\n",
      "        read_timer(\"c\")\n",
      "        return fv\n",
      "    \n",
      "    return run"
     ],
     "language": "python",
     "metadata": {},
     "outputs": [],
     "prompt_number": 4
    },
    {
     "cell_type": "code",
     "collapsed": false,
     "input": [
      "calc = calc_factory(N=1000)\n",
      "calc(fwd=100, sig=0.2, mat=1, payoff=payoff_straddle(100))"
     ],
     "language": "python",
     "metadata": {},
     "outputs": [
      {
       "metadata": {},
       "output_type": "pyout",
       "prompt_number": 5,
       "text": [
        "16.298145684335495"
       ]
      }
     ],
     "prompt_number": 5
    },
    {
     "cell_type": "markdown",
     "metadata": {},
     "source": [
      "We also implement the Black Schole formula for testing the code"
     ]
    },
    {
     "cell_type": "code",
     "collapsed": false,
     "input": [
      "from scipy.stats import norm\n",
      "def bscall(fwd=100,strike=100,sig=0.1,mat=1):\n",
      "    lnfs = log(fwd/strike)\n",
      "    sig2t = sig*sig*mat\n",
      "    sigsqrt = sig*sqrt(mat)\n",
      "    d1 = (lnfs + 0.5 * sig2t)/ sigsqrt\n",
      "    d2 = (lnfs - 0.5 * sig2t)/ sigsqrt\n",
      "    fv = fwd * norm.cdf (d1) - strike * norm.cdf (d2)\n",
      "    return fv"
     ],
     "language": "python",
     "metadata": {},
     "outputs": [],
     "prompt_number": 6
    },
    {
     "cell_type": "markdown",
     "metadata": {},
     "source": [
      "## Calculation\n",
      "### Single points\n",
      "We now compute the prices of a number of different options, together with some checks (eg, we verify call-put parity, and the price of the straddle)"
     ]
    },
    {
     "cell_type": "code",
     "collapsed": false,
     "input": [
      "strike   = 100\n",
      "mat      = 1\n",
      "forward  = 100\n",
      "vol      = 0.1\n",
      "\n",
      "call      = payoff_call (k=strike)\n",
      "put       = payoff_put  (k=strike)\n",
      "fwd       = payoff_fwd  (k=strike)\n",
      "straddle  = payoff_straddle (k=strike)"
     ],
     "language": "python",
     "metadata": {},
     "outputs": [],
     "prompt_number": 7
    },
    {
     "cell_type": "code",
     "collapsed": false,
     "input": [
      "callfv    = calc(fwd=forward, sig=vol, mat=mat, payoff=call)\n",
      "callfvc   = bscall(fwd=100,strike=100,sig=0.1,mat=1)\n",
      "putfv     = calc(fwd=forward, sig=vol, mat=mat, payoff=put)\n",
      "fwdfv     = calc(fwd=forward, sig=vol, mat=mat, payoff=fwd)\n",
      "stradfv   = calc(fwd=forward, sig=vol, mat=mat, payoff=straddle)\n",
      "#print (\"Call       =  %f\", callfv)"
     ],
     "language": "python",
     "metadata": {},
     "outputs": [],
     "prompt_number": 8
    },
    {
     "cell_type": "code",
     "collapsed": false,
     "input": [
      "\"\"\"\n",
      "print \"Call       =  %f\" % callfv\n",
      "print \"  check    =  %f\" % callfvc\n",
      "print \"Put        =  %f\" % putfv\n",
      "print \"Forward    =  %f\" % fwdfv\n",
      "print \"  check    =  %f\" % (callfv-putfv)\n",
      "print \"Straddle   =  %f\" % stradfv\n",
      "print \"  check    =  %f\" % (callfv+putfv)\n",
      "\"\"\""
     ],
     "language": "python",
     "metadata": {},
     "outputs": [
      {
       "metadata": {},
       "output_type": "pyout",
       "prompt_number": 9,
       "text": [
        "'\\nprint \"Call       =  %f\" % callfv\\nprint \"  check    =  %f\" % callfvc\\nprint \"Put        =  %f\" % putfv\\nprint \"Forward    =  %f\" % fwdfv\\nprint \"  check    =  %f\" % (callfv-putfv)\\nprint \"Straddle   =  %f\" % stradfv\\nprint \"  check    =  %f\" % (callfv+putfv)\\n'"
       ]
      }
     ],
     "prompt_number": 9
    },
    {
     "cell_type": "markdown",
     "metadata": {},
     "source": [
      "### Graphs\n",
      "\n",
      "We have the `calc` function and we can compute it on a range of values. For this we need to freeze all but one parameters what we do with an ad-hoc closure: the function `freeze` freezes all parameters of its first argument (which must be a function with the signature of `calc`) except the paramter `fwd`. It returns a calculation function that only takes one parameter. This function is then applies to `forwards`.\n",
      "\n",
      "**TODO** Use `functools.partial` instead of `freeze` [see here](https://docs.python.org/dev/howto/functional.html#the-functools-module)"
     ]
    },
    {
     "cell_type": "code",
     "collapsed": false,
     "input": [
      "forwards = np.linspace(75, 125, 25)\n",
      "\n",
      "def freeze(thecalc, sig=0.20, mat=1.0, payoff=call):\n",
      "    def calc1(fwd):\n",
      "        return thecalc(fwd=fwd, sig=sig, mat=mat, payoff=payoff)\n",
      "    return calc1\n",
      "        \n",
      "\n",
      "#fvs = calc(fwd=forwards, sig=0.20, mat=1.0, payoff=call)\n",
      "payoff1 = straddle"
     ],
     "language": "python",
     "metadata": {},
     "outputs": [],
     "prompt_number": 10
    },
    {
     "cell_type": "code",
     "collapsed": false,
     "input": [
      "plt.plot(forwards, list(map (freeze(calc, sig=0.20, mat=2.0, payoff=payoff1), forwards)), label=\"2y\")\n",
      "plt.plot(forwards, list(map (freeze(calc, sig=0.20, mat=1.0, payoff=payoff1), forwards)), label=\"1y\")\n",
      "plt.plot(forwards, list(map (freeze(calc, sig=0.20, mat=0.5, payoff=payoff1), forwards)), label=\"0.5y\")\n",
      "plt.plot(forwards, list(map (freeze(calc, sig=0.20, mat=0.25, payoff=payoff1), forwards)), label=\"0.25y\")\n",
      "plt.plot(forwards, list(map (freeze(calc, sig=0.20, mat=0.1, payoff=payoff1), forwards)), label=\"0.1y\")\n",
      "plt.title('Premium of a European Option')\n",
      "plt.ylabel('forward premium')\n",
      "plt.xlabel('forward')\n",
      "plt.legend()\n",
      "plt.show()"
     ],
     "language": "python",
     "metadata": {},
     "outputs": [
      {
       "metadata": {},
       "output_type": "display_data",
       "png": "[encoded data removed]",
       "text": [
        "<matplotlib.figure.Figure at 0x7f23e7b77320>"
       ]
      }
     ],
     "prompt_number": 11
    },
    {
     "cell_type": "markdown",
     "metadata": {},
     "source": [
      "## Licence and version\n",
      "*(c) Stefan Loesch / oditorium 2014; all rights reserved \n",
      "([license](https://github.com/oditorium/blog/blob/master/LICENSE))*"
     ]
    },
    {
     "cell_type": "code",
     "collapsed": false,
     "input": [
      "import sys\n",
      "print(sys.version)"
     ],
     "language": "python",
     "metadata": {},
     "outputs": [
      {
       "output_type": "stream",
       "stream": "stdout",
       "text": [
        "3.4.0 (default, Apr 11 2014, 13:05:11) \n",
        "[GCC 4.8.2]\n"
       ]
      }
     ],
     "prompt_number": 12
    }
   ],
   "metadata": {}
  }
 ]
}