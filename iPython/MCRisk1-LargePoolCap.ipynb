{
 "metadata": {
  "name": "",
  "signature": "sha256:fb9fa8bb2f15eda0b0f73379d00dd5fe488a33a9e06498dc6a89678fe62bdce8"
 },
 "nbformat": 3,
 "nbformat_minor": 0,
 "worksheets": [
  {
   "cells": [
    {
     "cell_type": "markdown",
     "metadata": {},
     "source": [
      "#iPython Cookbook - Monte Carlo Risk Analysis - Large Pool Capital Model\n",
      ">Looking at the Large Pool Capital Model and idiosyncratic risks on top of it"
     ]
    },
    {
     "cell_type": "markdown",
     "metadata": {},
     "source": [
      "## Set-up"
     ]
    },
    {
     "cell_type": "code",
     "collapsed": false,
     "input": [
      "import numpy as np\n",
      "import matplotlib.pyplot as plt"
     ],
     "language": "python",
     "metadata": {},
     "outputs": [],
     "prompt_number": 1
    },
    {
     "cell_type": "markdown",
     "metadata": {},
     "source": [
      "### Model calculator factory\n",
      "We define a *factory* function that then provides us with a calculation function for our specific model. The factory function most importantly takes the number of Monte Carlo samples to be drawn `N`. For convenience it also takes a default payoff function as often the payoff will not be varied over the course of one analysis.\n",
      "\n",
      "Importantly, the vector of Standard Gaussian random variables `z` that will be the basis of the Monte Carlo simulation is drawn immediately, and it is remembered in the closure This allows us to run the calculation function (the one returned by the factory) with different parameters but against the same sampling set, thereby greatly reducing Monte Carlo errors.\n",
      "\n",
      "**TODO** operator module / partial"
     ]
    },
    {
     "cell_type": "code",
     "collapsed": false,
     "input": [
      "from scipy.stats import norm\n",
      "from functools import partial\n",
      "from operator import le\n",
      "\n",
      "def calc_factory (N=1000, d=10, defaul_payoff=None):\n",
      "    \n",
      "    z = np.random.standard_normal((N,d+1))\n",
      "    \n",
      "    \n",
      "    def run (pd=0.05, lgd=1, rho=0):\n",
      "        \n",
      "        m = np.vstack((rho * np.ones(d),sqrt(1-rho*rho) * np.identity(d)))\n",
      "        x = np.dot(z,m)\n",
      "        \n",
      "        ppf_pd = norm.ppf(pd)\n",
      "        \n",
      "        def lossf (x):\n",
      "            if x < ppf_pd:\n",
      "                return 1\n",
      "            else:\n",
      "                return 0\n",
      "        \n",
      "        lossf = partial(le,ppf_pd)\n",
      "        lossv = list(map(lambda xx: list(map(lossf, xx)), x))\n",
      "        nloss = list(map(lambda xx: sum(xx), lossv))\n",
      "        loss  = list(map(lambda xx: xx*lgd, nloss))\n",
      "        return (loss, nloss)\n",
      "    \n",
      "    return run"
     ],
     "language": "python",
     "metadata": {},
     "outputs": [],
     "prompt_number": 2
    },
    {
     "cell_type": "code",
     "collapsed": false,
     "input": [
      "calc = calc_factory(N=1000, d=1000)"
     ],
     "language": "python",
     "metadata": {},
     "outputs": [],
     "prompt_number": 3
    },
    {
     "cell_type": "code",
     "collapsed": false,
     "input": [
      "loss, lossn = calc (pd=0.01, lgd=0.4*1000, rho=0.1)"
     ],
     "language": "python",
     "metadata": {},
     "outputs": [],
     "prompt_number": 4
    },
    {
     "cell_type": "code",
     "collapsed": false,
     "input": [
      "hgn=np.histogram(lossn, bins=50)\n",
      "xvalsn = np.delete(hgn[1], -1)\n",
      "plt.bar(xvalsn,hgn[0], width=0.9*(xvalsn[1]-xvalsn[0]))\n",
      "plt.title('default distribution')\n",
      "plt.xlabel('number of defaults')\n",
      "plt.ylabel('occurrences')\n",
      "plt.show()"
     ],
     "language": "python",
     "metadata": {},
     "outputs": [
      {
       "metadata": {},
       "output_type": "display_data",
       "png": "[encoded data removed]",
       "text": [
        "<matplotlib.figure.Figure at 0x7f82198ad080>"
       ]
      }
     ],
     "prompt_number": 5
    },
    {
     "cell_type": "code",
     "collapsed": false,
     "input": [
      "hg=np.histogram(loss, bins=50)\n",
      "xvals = np.delete(hg[1], -1)\n",
      "plt.bar(xvals,hg[0], width=0.9*(xvals[1]-xvals[0]))\n",
      "plt.title('loss distribution')\n",
      "plt.xlabel('loss amount')\n",
      "plt.ylabel('occurrences')\n",
      "plt.show()"
     ],
     "language": "python",
     "metadata": {},
     "outputs": [
      {
       "metadata": {},
       "output_type": "display_data",
       "png": "[encoded data removed]",
       "text": [
        "<matplotlib.figure.Figure at 0x7f8208b9fda0>"
       ]
      }
     ],
     "prompt_number": 6
    },
    {
     "cell_type": "markdown",
     "metadata": {},
     "source": [
      "## Licence and version\n",
      "*(c) Stefan Loesch / oditorium 2014; all rights reserved \n",
      "([license](https://github.com/oditorium/blog/blob/master/LICENSE))*"
     ]
    },
    {
     "cell_type": "code",
     "collapsed": false,
     "input": [
      "import sys\n",
      "print(sys.version)"
     ],
     "language": "python",
     "metadata": {},
     "outputs": [
      {
       "output_type": "stream",
       "stream": "stdout",
       "text": [
        "3.4.0 (default, Apr 11 2014, 13:05:11) \n",
        "[GCC 4.8.2]\n"
       ]
      }
     ],
     "prompt_number": 7
    }
   ],
   "metadata": {}
  }
 ]
}