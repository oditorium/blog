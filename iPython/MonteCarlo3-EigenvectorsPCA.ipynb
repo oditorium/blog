{
 "metadata": {
  "name": "",
  "signature": "sha256:b98cab4c2e9495e4c74ba29d4e8c001aa6f094eec460b6949aaf47c61e8762b5"
 },
 "nbformat": 3,
 "nbformat_minor": 0,
 "worksheets": [
  {
   "cells": [
    {
     "cell_type": "markdown",
     "metadata": {},
     "source": [
      "#iPython Cookbook - Monte Carlo III - Principal Components\n",
      ">Generating a Monte Carlo vector using eigenvector decomposition"
     ]
    },
    {
     "cell_type": "markdown",
     "metadata": {},
     "source": [
      "##Theory\n",
      "\n",
      "Before we go into the implementation, a bit of theory on Monte Carlo and linear algebra, and in particular the eigenvalue / eigenvector decomposition. Assume we have a Standard Gaussian vector $Z=(Z_i)$ and we want a general Gaussian vector $X=(X_i)$ with correlation matrix $C = (C_{ij})$. \n",
      "\n",
      "We know that there are vectors $e^i=(e^i_j)$ such that $e^i \\cdot C = \\lambda_i e^i$, the so called eigenvectors, with the $\\lambda_i$ being the eigenvalues (we use row vectors, hence we multiply from the left). We know that those eigenvectors are orthonormal (they are orthogonal actually, but we can choose them to be of unit length), ie $e^i \\cdot e^j = \\delta_{ij}$ where $\\delta$ is the well known Kronecker delta.\n",
      "\n",
      "We now take our Standard Gaussian vector $Z=(Z_i)$ and we define the vector $X=(X_i)$ through\n",
      "$$\n",
      "X = \\sum_\\mu \\sqrt{\\lambda_\\mu} e^\\mu Z_\\mu\n",
      "$$\n",
      "We can compute the covariance of the $X$ that we want to call $\\bar{C}$ for the time being\n",
      "$$\n",
      "\\bar{C}_{ij} = E[X_i X_j] = \\sum_{\\mu\\nu} \\sqrt{\\lambda_\\mu \\lambda_\\nu} e^\\mu_i e^\\nu_j E[Z_\\mu Z_\\nu]=\\sum_{\\mu}\\lambda_\\mu e^\\mu_i e^\\mu_j\n",
      "$$\n",
      "We now multiply the vector $e^i$ from the left\n",
      "$$\n",
      "(e^i \\bar{C})_j = \\sum_\\nu e^i_\\nu \\bar{C}_{\\nu j} = \\sum_{\\nu\\mu}\\lambda_\\mu e^i_\\nu e^\\mu_\\nu e^\\mu_j = \\sum_\\mu \\lambda_\\mu \\delta_{i\\mu} e^\\mu_j = \\lambda_i e^i_j\n",
      "$$\n",
      "and we find that the matrix $\\bar{C}$ satisfies for all $e^i$ the above eigenvector equation $e^i \\cdot \\bar{C} = \\lambda_i e^i$. Because the $e^i$ form a basis we know that $\\bar{C}=C$."
     ]
    },
    {
     "cell_type": "markdown",
     "metadata": {},
     "source": [
      "## Implementation\n",
      "### Generating a covariance matrix\n",
      "First we generat a covariance matrix. This is not entirely trivial - the matrix must be symmetric and positive definite - and one way going about is to simply write $C = R^tR$ where $R$ is *any* random matrix (note that this is not a particularly good covariance matrix, because it is pretty close to the one-systemic-factor model)"
     ]
    },
    {
     "cell_type": "code",
     "collapsed": false,
     "input": [
      "import numpy as np"
     ],
     "language": "python",
     "metadata": {},
     "outputs": [],
     "prompt_number": 1
    },
    {
     "cell_type": "code",
     "collapsed": false,
     "input": [
      "d = 3\n",
      "R = np.random.uniform(-1,1,(d,d))+np.eye(d)\n",
      "C = np.dot(R.T, R)\n",
      "#C = np.array(((5,2,3),(2,5,4),(3,4,5)))\n",
      "C"
     ],
     "language": "python",
     "metadata": {},
     "outputs": [
      {
       "metadata": {},
       "output_type": "pyout",
       "prompt_number": 2,
       "text": [
        "array([[ 0.28474838, -0.91328559, -0.11809708],\n",
        "       [-0.91328559,  3.7126633 ,  0.28246199],\n",
        "       [-0.11809708,  0.28246199,  2.10490447]])"
       ]
      }
     ],
     "prompt_number": 2
    },
    {
     "cell_type": "markdown",
     "metadata": {},
     "source": [
      "## Decomposing the covariance matrix\n",
      "We are given a covariance matrix $C$ and we want to find its eigenvalues and eigenvectors. In Python the function that does this is `scipy.linalg.eigh()`. It returns a tuple, the first component being a row-vector containing the eigenvalues, and the second one being a matrix whose columns correspond to the eigenvectors (which we transpose, ie in `evm` the eigenvectors are in rows!)."
     ]
    },
    {
     "cell_type": "code",
     "collapsed": false,
     "input": [
      "from scipy.linalg import eigh\n",
      "\n",
      "lam, evm  = eigh(C)\n",
      "evm = evm.T\n",
      "lam, evm\n",
      "#np.dot(evm[0],C), lam[0] * evm[0]"
     ],
     "language": "python",
     "metadata": {},
     "outputs": [
      {
       "metadata": {},
       "output_type": "pyout",
       "prompt_number": 3,
       "text": [
        "(array([ 0.05555882,  2.0573316 ,  3.98942573]),\n",
        " array([[ 0.97036479,  0.24057039,  0.02276105],\n",
        "        [ 0.01636579, -0.1594033 ,  0.98707788],\n",
        "        [ 0.2410899 , -0.95745312, -0.15861648]]))"
       ]
      }
     ],
     "prompt_number": 3
    },
    {
     "cell_type": "markdown",
     "metadata": {},
     "source": [
      "## Generating $z$\n",
      "We now generate our Standard Gaussian $z$, as usual one row being one observation ($N$ is the number of rows)"
     ]
    },
    {
     "cell_type": "code",
     "collapsed": false,
     "input": [
      "N = 10000\n",
      "z = np.random.standard_normal((N, d))\n",
      "z"
     ],
     "language": "python",
     "metadata": {},
     "outputs": [
      {
       "metadata": {},
       "output_type": "pyout",
       "prompt_number": 4,
       "text": [
        "array([[ 1.48514205,  0.7604736 ,  1.79905689],\n",
        "       [ 0.86810579,  0.57412514,  1.03045481],\n",
        "       [-1.0881979 , -0.93533889, -2.75173097],\n",
        "       ..., \n",
        "       [ 0.63043857, -0.50085429,  0.30698607],\n",
        "       [ 1.16870643,  0.46611196,  2.17604889],\n",
        "       [ 0.03987392, -0.70123596,  0.58258757]])"
       ]
      }
     ],
     "prompt_number": 4
    },
    {
     "cell_type": "markdown",
     "metadata": {},
     "source": [
      "## Generating $x$\n",
      "We have matrix of row-vectors $z$. Each row corresponds to one draw of all random variables, and each column corresponds to all draws of one random variable. We also have the matrix of eigenvectors, where every row corresponds to one eigenvector. We also construct a matrix that on the diagonal has the square-roots of the eigenvalues\n",
      "$$\n",
      "lm = \\begin{pmatrix}\n",
      "\\sqrt{\\lambda_0}  \\\\\n",
      " & \\sqrt{\\lambda_1} \\\\\n",
      " & & \\ddots \\\\\n",
      " & & & \\sqrt{\\lambda_{d-1}}\n",
      "\\end{pmatrix}\n",
      "$$\n",
      "\n",
      "We then compute $x$ from the $z$ as\n",
      "$$\n",
      "x = z.lm.evm\n",
      "$$"
     ]
    },
    {
     "cell_type": "code",
     "collapsed": false,
     "input": [
      "lm = np.diag(sqrt(lam))\n",
      "lm"
     ],
     "language": "python",
     "metadata": {},
     "outputs": [
      {
       "metadata": {},
       "output_type": "pyout",
       "prompt_number": 5,
       "text": [
        "array([[ 0.23570918,  0.        ,  0.        ],\n",
        "       [ 0.        ,  1.43434013,  0.        ],\n",
        "       [ 0.        ,  0.        ,  1.99735468]])"
       ]
      }
     ],
     "prompt_number": 5
    },
    {
     "cell_type": "code",
     "collapsed": false,
     "input": [
      "x = np.dot (z,lm)\n",
      "x = np.dot (x, evm)\n",
      "x"
     ],
     "language": "python",
     "metadata": {},
     "outputs": [
      {
       "metadata": {},
       "output_type": "pyout",
       "prompt_number": 6,
       "text": [
        "array([[ 1.22386041, -3.53012779,  0.51468515],\n",
        "       [ 0.70824091, -2.05265594,  0.491045  ],\n",
        "       [-1.59592722,  5.41448596, -0.45831089],\n",
        "       ..., \n",
        "       [ 0.28026595, -0.43680862, -0.80298722],\n",
        "       [ 1.32611165, -4.20171825, -0.02320743],\n",
        "       [ 0.27319963, -0.95153441, -1.17717127]])"
       ]
      }
     ],
     "prompt_number": 6
    },
    {
     "cell_type": "markdown",
     "metadata": {},
     "source": [
      "## Check\n",
      "We now check that the ex-post covariance matrix $C1$ is reasonably close to the ex-ante matrix $C$"
     ]
    },
    {
     "cell_type": "code",
     "collapsed": false,
     "input": [
      "C1 = np.cov(x, rowvar=0, bias=1)\n",
      "C1, C, sort(eigvalsh(C1))[::-1],sort(eigvalsh(C))[::-1]"
     ],
     "language": "python",
     "metadata": {},
     "outputs": [
      {
       "metadata": {},
       "output_type": "pyout",
       "prompt_number": 7,
       "text": [
        "(array([[ 0.28613513, -0.91760152, -0.11602598],\n",
        "        [-0.91760152,  3.71605396,  0.27560026],\n",
        "        [-0.11602598,  0.27560026,  2.09401846]]),\n",
        " array([[ 0.28474838, -0.91328559, -0.11809708],\n",
        "        [-0.91328559,  3.7126633 ,  0.28246199],\n",
        "        [-0.11809708,  0.28246199,  2.10490447]]),\n",
        " array([ 3.99213784,  2.04901646,  0.05505325]),\n",
        " array([ 3.98942573,  2.0573316 ,  0.05555882]))"
       ]
      }
     ],
     "prompt_number": 7
    },
    {
     "cell_type": "markdown",
     "metadata": {},
     "source": [
      "## Licence and version\n",
      "*(c) Stefan Loesch / oditorium 2014; all rights reserved \n",
      "([license](https://github.com/oditorium/blog/blob/master/LICENSE))*"
     ]
    },
    {
     "cell_type": "code",
     "collapsed": false,
     "input": [
      "import sys\n",
      "print(sys.version)"
     ],
     "language": "python",
     "metadata": {},
     "outputs": [
      {
       "output_type": "stream",
       "stream": "stdout",
       "text": [
        "3.4.0 (default, Apr 11 2014, 13:05:11) \n",
        "[GCC 4.8.2]\n"
       ]
      }
     ],
     "prompt_number": 8
    }
   ],
   "metadata": {}
  }
 ]
}