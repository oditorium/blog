{
 "metadata": {
  "name": "",
  "signature": "sha256:777d685d8015d855071c9fef7d54956ed557676ef8e32f24a681a4bb464b856c"
 },
 "nbformat": 3,
 "nbformat_minor": 0,
 "worksheets": [
  {
   "cells": [
    {
     "cell_type": "markdown",
     "metadata": {},
     "source": [
      "#iPython Cookbook - Analytic Pricing\n",
      ">A collection of various analytic pricing formulas, to be added to as and when needed"
     ]
    },
    {
     "cell_type": "code",
     "collapsed": false,
     "input": [
      "import numpy as np\n",
      "import matplotlib.pyplot as plt"
     ],
     "language": "python",
     "metadata": {},
     "outputs": [],
     "prompt_number": 148
    },
    {
     "cell_type": "markdown",
     "metadata": {},
     "source": [
      "## Black Scholes Pricing - Simple\n",
      "### European Call Option\n",
      "In the below formula, $K$ is the option strike, and $T$ its maturity (in years). $df$ and $F$ are the discount factor to maturity and the forward at maturity respectively (in absence of dividends / foreign interest $df\\times F$ equals the spot price), and $\\sigma$ is the annualised volatility (eg 0.2 for 20%)\n",
      "\n",
      "$$\n",
      "\\begin{eqnarray}\n",
      "\\mathrm{Call}(K,T; df,F,\\sigma) &=& df \\times (F N(d_1) - K N(d_2)) \\\\\n",
      "d_1 &=& \\frac{\\ln (F/K) + 0.5 \\sigma^2 T}{\\sigma \\sqrt{T}} \\\\\n",
      "d_2 &=& \\frac{\\ln (F/K) - 0.5 \\sigma^2 T}{\\sigma \\sqrt{T}}\n",
      "\\end{eqnarray}\n",
      "$$\n"
     ]
    },
    {
     "cell_type": "code",
     "collapsed": false,
     "input": [
      "from scipy.stats import norm\n",
      "\n",
      "def bscall(strike=100,mat=1,fwd=100,sig=0.1,df=1):\n",
      "    lnfs = log(1.0*fwd/strike)\n",
      "    sig2t = sig*sig*mat\n",
      "    sigsqrt = sig*sqrt(mat)\n",
      "    d1 = (lnfs + 0.5 * sig2t) / sigsqrt\n",
      "    d2 = (lnfs - 0.5 * sig2t) / sigsqrt\n",
      "    fv = fwd * norm.cdf (d1) - strike * norm.cdf (d2)\n",
      "    return df * fv\n",
      "\n",
      "bscall(fwd=100, strike=100, sig=0.1, mat=1, df=1)"
     ],
     "language": "python",
     "metadata": {},
     "outputs": [
      {
       "metadata": {},
       "output_type": "pyout",
       "prompt_number": 149,
       "text": [
        "3.987761167674492"
       ]
      }
     ],
     "prompt_number": 149
    },
    {
     "cell_type": "markdown",
     "metadata": {},
     "source": [
      "### European Put Option\n",
      "In the below formula, $K$ is the option strike, and $T$ its maturity (in years). $df$ and $F$ are the discount factor to maturity and the forward at maturity respectively (in absence of dividends / foreign interest $df\\times F$ equals the spot price), and $\\sigma$ is the annualised volatility (eg 0.2 for 20%)\n",
      "\n",
      "$$\n",
      "\\begin{eqnarray}\n",
      "\\mathrm{Put}(K,T; df,F,\\sigma) &=& df \\times (K N(-d_2) - F N(-d_1)) \\\\\n",
      "d_1 &=& \\frac{\\ln (F/K) + 0.5 \\sigma^2 T}{\\sigma \\sqrt{T}} \\\\\n",
      "d_2 &=& \\frac{\\ln (F/K) - 0.5 \\sigma^2 T}{\\sigma \\sqrt{T}}\n",
      "\\end{eqnarray}\n",
      "$$"
     ]
    },
    {
     "cell_type": "code",
     "collapsed": false,
     "input": [
      "from scipy.stats import norm\n",
      "\n",
      "def bsput(strike=100,mat=1,fwd=100,sig=0.1,df=1):\n",
      "    lnfs = log(1.0*fwd/strike)\n",
      "    sig2t = sig*sig*mat\n",
      "    sigsqrt = sig*sqrt(mat)\n",
      "    d1 = (lnfs + 0.5 * sig2t) / sigsqrt\n",
      "    d2 = (lnfs - 0.5 * sig2t) / sigsqrt\n",
      "    fv = strike * norm.cdf (-d2) - fwd * norm.cdf (-d1)\n",
      "    return df * fv\n",
      "\n",
      "bsput(fwd=100, strike=100, sig=0.1, mat=1, df=1)"
     ],
     "language": "python",
     "metadata": {},
     "outputs": [
      {
       "metadata": {},
       "output_type": "pyout",
       "prompt_number": 150,
       "text": [
        "3.987761167674492"
       ]
      }
     ],
     "prompt_number": 150
    },
    {
     "cell_type": "markdown",
     "metadata": {},
     "source": [
      "### European Digital\n",
      "The standard European digital call option pays one unit of the currency if and only if the spot price at expiry as above the strike $K$, ie the payoff is a step function. The price is given by the following formula ($d_2$ is defined as above)\n",
      "$$\n",
      "\\mathrm{DCall}(K,T;df,F,\\sigma)=df\\times N(d_2)\n",
      "$$\n",
      "The price for a digitial put is $df\\times(1-N(d_2))$"
     ]
    },
    {
     "cell_type": "code",
     "collapsed": false,
     "input": [
      "from scipy.stats import norm\n",
      "\n",
      "def bsdcall(strike=100,mat=1,fwd=100,sig=0.1,df=1):\n",
      "    lnfs = log(1.0*fwd/strike)\n",
      "    sig2t = sig*sig*mat\n",
      "    sigsqrt = sig*sqrt(mat)\n",
      "    d2 = (lnfs - 0.5 * sig2t) / sigsqrt\n",
      "    fv = norm.cdf(d2)\n",
      "    return df * fv\n",
      "\n",
      "def bsdput(strike=100,mat=1,fwd=100,sig=0.1,df=1):\n",
      "    lnfs = log(1.0*fwd/strike)\n",
      "    sig2t = sig*sig*mat\n",
      "    sigsqrt = sig*sqrt(mat)\n",
      "    d2 = (lnfs - 0.5 * sig2t) / sigsqrt\n",
      "    fv = 1.0 - norm.cdf(d2)\n",
      "    return df * fv\n",
      "\n",
      "bsdcall(fwd=100, strike=100, sig=0.1, mat=1, df=1), bsdput(fwd=100, strike=100, sig=0.1, mat=1, df=1)"
     ],
     "language": "python",
     "metadata": {},
     "outputs": [
      {
       "metadata": {},
       "output_type": "pyout",
       "prompt_number": 151,
       "text": [
        "(0.48006119416162751, 0.51993880583837249)"
       ]
      }
     ],
     "prompt_number": 151
    },
    {
     "cell_type": "markdown",
     "metadata": {},
     "source": [
      "The reverse European digital call option pays one unit of the underlying asset if and only if the spot price at expiry as above the strike $K$. The price is given by the following formula ($d_1$ is defined as above)\n",
      "$$\n",
      "\\mathrm{RDCall}(K,T;df,F,\\sigma)=df\\times F \\times N(d_1)\n",
      "$$\n",
      "The price for the corresponding put is as above. Note that in the absence of dividends / foreign interest $df\\times F=S$"
     ]
    },
    {
     "cell_type": "code",
     "collapsed": false,
     "input": [
      "from scipy.stats import norm\n",
      "\n",
      "def bsdrcall(strike=100,mat=1,fwd=100,sig=0.1,df=1):\n",
      "    lnfs = log(1.0*fwd/strike)\n",
      "    sig2t = sig*sig*mat\n",
      "    sigsqrt = sig*sqrt(mat)\n",
      "    d1 = (lnfs + 0.5 * sig2t) / sigsqrt\n",
      "    fv = fwd * norm.cdf (d1)\n",
      "    return df * fv\n",
      "\n",
      "def bsdrput(strike=100,mat=1,fwd=100,sig=0.1,df=1):\n",
      "    lnfs = log(1.0*fwd/strike)\n",
      "    sig2t = sig*sig*mat\n",
      "    sigsqrt = sig*sqrt(mat)\n",
      "    d1 = (lnfs + 0.5 * sig2t) / sigsqrt\n",
      "    fv = fwd * (1.0 - norm.cdf (d1))\n",
      "    return df * fv\n",
      "\n",
      "bsdrcall(fwd=100, strike=100, sig=0.1, mat=1, df=1), bsdrput(fwd=100, strike=100, sig=0.1, mat=1, df=1)"
     ],
     "language": "python",
     "metadata": {},
     "outputs": [
      {
       "metadata": {},
       "output_type": "pyout",
       "prompt_number": 152,
       "text": [
        "(51.993880583837246, 48.006119416162754)"
       ]
      }
     ],
     "prompt_number": 152
    },
    {
     "cell_type": "markdown",
     "metadata": {},
     "source": [
      "## Licence and version\n",
      "*Copyright Stefan Loesch / oditorium 2014; all rights reserved*\n",
      "\n",
      "License: [AGPL v3.0](https://github.com/oditorium/blog/blob/master/LICENSE)"
     ]
    },
    {
     "cell_type": "code",
     "collapsed": false,
     "input": [
      "import sys\n",
      "print(sys.version)"
     ],
     "language": "python",
     "metadata": {},
     "outputs": [
      {
       "output_type": "stream",
       "stream": "stdout",
       "text": [
        "3.4.0 (default, Apr 11 2014, 13:05:11) \n",
        "[GCC 4.8.2]\n"
       ]
      }
     ],
     "prompt_number": 160
    },
    {
     "cell_type": "code",
     "collapsed": false,
     "input": [],
     "language": "python",
     "metadata": {},
     "outputs": [],
     "prompt_number": 160
    }
   ],
   "metadata": {}
  }
 ]
}