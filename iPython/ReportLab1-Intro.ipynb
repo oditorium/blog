{
 "cells": [
  {
   "cell_type": "markdown",
   "metadata": {},
   "source": [
    "# ReportLab\n",
    "\n",
    "Note: this code needs a running installation of `reportlab` as well as of pillow. The latter needs some image processing libraries to function properly. See the associated [blogpost] for installation instructions\n",
    "\n",
    "The reportlab user guide is [here][RLUG] and the Pillow guide is [here][PILIG]\n",
    "\n",
    "[blogpost]:tbc\n",
    "[RLUG]:http://www.reportlab.com/docs/reportlab-userguide.pdf\n",
    "[PILIG]:https://pillow.readthedocs.org/en/latest/installation.html#linux-installation"
   ]
  },
  {
   "cell_type": "markdown",
   "metadata": {},
   "source": [
    "## 1. Tools and Assets"
   ]
  },
  {
   "cell_type": "markdown",
   "metadata": {},
   "source": [
    "### Display hook for `pillow` images\n",
    "\n",
    "Normally, pillow images are in iPython only displayed as object description strings. This code inserts a hook that automatically draws them, akin to the `matplotlib` interactive backends.\n",
    "[source](http://nbviewer.ipython.org/gist/deeplook/5162445)"
   ]
  },
  {
   "cell_type": "code",
   "execution_count": 27,
   "metadata": {
    "collapsed": false
   },
   "outputs": [],
   "source": [
    "from io import BytesIO\n",
    "from IPython.core import display\n",
    "from PIL import Image\n",
    "\n",
    "\n",
    "def display_pil_image(im):\n",
    "   \"\"\"Displayhook function for PIL Images, rendered as PNG.\"\"\"\n",
    "\n",
    "   b = BytesIO()\n",
    "   im.save(b, format='png')\n",
    "   data = b.getvalue()\n",
    "\n",
    "   ip_img = display.Image(data=data, format='png', embed=True)\n",
    "   return ip_img._repr_png_()\n",
    "\n",
    "png_formatter = get_ipython().display_formatter.formatters['image/png']\n",
    "dpi = png_formatter.for_type(Image.Image, display_pil_image)"
   ]
  },
  {
   "cell_type": "markdown",
   "metadata": {},
   "source": [
    "### Assets\n",
    "we need to get the following assets into the local directory for the code to run (once the assets are there the `wget` statements can be commented out)"
   ]
  },
  {
   "cell_type": "code",
   "execution_count": 28,
   "metadata": {
    "collapsed": false
   },
   "outputs": [
    {
     "name": "stdout",
     "output_type": "stream",
     "text": [
      "--2014-10-12 23:49:42--  http://blogs.oditorium.com/technology/wp-content/uploads/2014/08/logo-oditorium-whitebg.jpg\n",
      "Resolving blogs.oditorium.com (blogs.oditorium.com)... 66.147.244.110\n",
      "Connecting to blogs.oditorium.com (blogs.oditorium.com)|66.147.244.110|:80... connected.\n",
      "HTTP request sent, awaiting response... 200 OK\n",
      "Length: 28539 (28K) [image/jpeg]\n",
      "Saving to: ‘logo-oditorium-whitebg.jpg.3’\n",
      "\n",
      "100%[======================================>] 28,539       155KB/s   in 0.2s   \n",
      "\n",
      "2014-10-12 23:49:42 (155 KB/s) - ‘logo-oditorium-whitebg.jpg.3’ saved [28539/28539]\n",
      "\n",
      "--2014-10-12 23:49:43--  http://blogs.oditorium.com/technology/wp-content/uploads/2014/08/graph.png\n",
      "Resolving blogs.oditorium.com (blogs.oditorium.com)... 66.147.244.110\n",
      "Connecting to blogs.oditorium.com (blogs.oditorium.com)|66.147.244.110|:80... connected.\n",
      "HTTP request sent, awaiting response... 200 OK\n",
      "Length: 6091 (5.9K) [image/png]\n",
      "Saving to: ‘graph.png.3’\n",
      "\n",
      "100%[======================================>] 6,091       --.-K/s   in 0s      \n",
      "\n",
      "2014-10-12 23:49:43 (166 MB/s) - ‘graph.png.3’ saved [6091/6091]\n",
      "\n"
     ]
    }
   ],
   "source": [
    "!wget http://blogs.oditorium.com/technology/wp-content/uploads/2014/08/logo-oditorium-whitebg.jpg\n",
    "!wget http://blogs.oditorium.com/technology/wp-content/uploads/2014/08/graph.png"
   ]
  },
  {
   "cell_type": "markdown",
   "metadata": {},
   "source": [
    "## 2. Reportlab - `canvas`"
   ]
  },
  {
   "cell_type": "markdown",
   "metadata": {},
   "source": [
    "### Writing text to the canvas\n",
    "\n",
    "This code fragment generates a one-page file `t1.pdf` with some text lines written onto it using `drawString`"
   ]
  },
  {
   "cell_type": "code",
   "execution_count": 29,
   "metadata": {
    "collapsed": false
   },
   "outputs": [
    {
     "name": "stdout",
     "output_type": "stream",
     "text": [
      "-rw-r--r--  1 skl  staff  1595 12 Oct 23:49 test1.pdf\r\n"
     ]
    }
   ],
   "source": [
    "from reportlab.pdfgen import canvas\n",
    "\n",
    "msg = \"This is not a message\"\n",
    "c = canvas.Canvas(\"test1.pdf\")\n",
    "for i in range(1,10):\n",
    "    c.drawString(50*i,50*i,msg)\n",
    "c.showPage()\n",
    "c.save()\n",
    "\n",
    "!ls -l test1.pdf"
   ]
  },
  {
   "cell_type": "markdown",
   "metadata": {},
   "source": [
    "### Writing images from disk to the canvas\n",
    "\n",
    "The function `drawImage` writes an image from disk to the canvas. An image written that way is stored in the pdf file only once, which makes this important for multiple-use images, eg logos. There is another function  `drawInlineImage` that places an image directly into the pdf flow. This can be slightly faster, but it will duplicate storage needs for repeating images"
   ]
  },
  {
   "cell_type": "code",
   "execution_count": 30,
   "metadata": {
    "collapsed": false
   },
   "outputs": [
    {
     "name": "stdout",
     "output_type": "stream",
     "text": [
      "-rw-r--r--  1 skl  staff  7615 12 Oct 23:49 test2.pdf\r\n"
     ]
    }
   ],
   "source": [
    "msg = \"This is really not a message\"\n",
    "c = canvas.Canvas(\"test2.pdf\")\n",
    "for i in range(1,10):\n",
    "    c.drawString(50*i,50*i,msg)\n",
    "c.drawImage('graph.png',100,100)\n",
    "c.showPage()\n",
    "c.save()\n",
    "\n",
    "!ls -l test2.pdf"
   ]
  },
  {
   "cell_type": "markdown",
   "metadata": {},
   "source": [
    "### Writing images to the canvas on the fly\n",
    "\n",
    "Often we generate images on the fly - eg using matplotlib - and dont want to save them to include them. The following code shows how this is done [source](http://stackoverflow.com/questions/18897511/how-to-drawimage-a-matplotlib-figure-in-a-reportlab-canvas)"
   ]
  },
  {
   "cell_type": "code",
   "execution_count": 31,
   "metadata": {
    "collapsed": false
   },
   "outputs": [
    {
     "name": "stdout",
     "output_type": "stream",
     "text": [
      "-rw-r--r--  1 skl  staff  7914 12 Oct 23:49 test3.pdf\r\n"
     ]
    },
    {
     "data": {
      "image/png": "[encoded data removed]",
      "text/plain": [
       "<matplotlib.figure.Figure at 0x113958630>"
      ]
     },
     "metadata": {},
     "output_type": "display_data"
    }
   ],
   "source": [
    "import matplotlib.pyplot as plt\n",
    "from io import BytesIO\n",
    "from reportlab.pdfgen import canvas\n",
    "from reportlab.lib.units import inch, cm\n",
    "from reportlab.lib.utils import ImageReader\n",
    "\n",
    "fig = plt.figure(figsize=(4, 3))\n",
    "plt.plot([1,4,3,2])\n",
    "plt.ylabel('some numbers')\n",
    "\n",
    "imgdata = BytesIO()\n",
    "fig.savefig(imgdata, format='png')\n",
    "imgdata.seek(0)  # rewind the data\n",
    "\n",
    "Image = ImageReader(imgdata)\n",
    "\n",
    "c = canvas.Canvas('test3.pdf')\n",
    "c.drawImage(Image, cm, cm, inch, inch)\n",
    "c.save()\n",
    "\n",
    "!ls -l test3.pdf"
   ]
  },
  {
   "cell_type": "markdown",
   "metadata": {},
   "source": [
    "## 3. Reportlab - `platypus`\n",
    "Platypus is reportlab's layout engine (see the user guide from page 59). It defines the following hierarchy of templates\n",
    "\n",
    "- **DocTemplate** - a `DocTemplate` describes the overall document\n",
    "\n",
    "- **PageTemplate** - a `PageTemplate` describes a page in the document; usually different pages of the same document share the same template, but for example the title page might be different from the rest\n",
    "\n",
    "- **Frame** - a `Frame` is a layout are within a page; in the most simple case there will be one frame per page, but eg for 2col layouts there will be 2 etc\n",
    "\n",
    "- **Flowable** - a `Flowable` is something that can flow into a frame, eg text or an image"
   ]
  },
  {
   "cell_type": "markdown",
   "metadata": {},
   "source": [
    "### Different page templates, different styles\n",
    "The functions `myTitlePage` and `myRegularPage` define page templates. The command `styles = getSampleStyleSheet()` gets a whole list of styles that can be passed into the `Paragraph` function. "
   ]
  },
  {
   "cell_type": "code",
   "execution_count": 32,
   "metadata": {
    "collapsed": false
   },
   "outputs": [],
   "source": [
    "def lipsum():\n",
    "    return \"Lorem ipsum dolor sit amet, consectetur adipiscing elit. Aliquam ultrices ligula et libero tempus, ac pretium velit ultricies. Pellentesque sit amet vestibulum quam. Maecenas turpis ante, feugiat eu ultricies feugiat, ultricies ac elit. Praesent eleifend, nibh eu tempor consequat, nisi nunc hendrerit mi, at rhoncus massa sem quis nulla. Nunc ullamcorper mi a risus pretium, ac faucibus massa vehicula. Vestibulum venenatis aliquam felis eget hendrerit. Nulla porta massa placerat velit ultrices dictum. Curabitur mattis, lacus in convallis porta, ligula enim dignissim est, vel aliquam elit metus nec dolor. Vestibulum lacinia ac magna adipiscing iaculis. Suspendisse potenti. Nunc adipiscing magna id suscipit viverra. Sed tristique tortor ac erat mattis aliquam. Etiam nunc libero, iaculis non lectus quis, tincidunt adipiscing lacus. Aliquam in auctor dui.\"\n",
    "#lipsum()"
   ]
  },
  {
   "cell_type": "code",
   "execution_count": 33,
   "metadata": {
    "collapsed": false
   },
   "outputs": [],
   "source": [
    "from reportlab.platypus import SimpleDocTemplate, Paragraph, Spacer\n",
    "from reportlab.lib.styles import getSampleStyleSheet\n",
    "from reportlab.rl_config import defaultPageSize\n",
    "from reportlab.lib.units import inch\n",
    "\n",
    "PAGE_HEIGHT=defaultPageSize[1]; PAGE_WIDTH=defaultPageSize[0]\n",
    "styles = getSampleStyleSheet()\n",
    "\n",
    "Title = \"<Document Title>\"\n",
    "def myTitlePage(canvas, doc):\n",
    "    canvas.saveState()\n",
    "    canvas.setFont('Times-Bold',48)\n",
    "    canvas.drawCentredString(PAGE_WIDTH/2.0, PAGE_HEIGHT-108, Title)\n",
    "    canvas.restoreState()\n",
    "\n",
    "pageinfo = \" - <some document info here>\"\n",
    "def myRegularPage(canvas, doc):\n",
    "    canvas.saveState()\n",
    "    canvas.setFont('Times-Roman',9)\n",
    "    canvas.drawString(inch, 0.75 * inch, \"page %d %s\" % (doc.page, pageinfo))\n",
    "    canvas.restoreState()"
   ]
  },
  {
   "cell_type": "code",
   "execution_count": 34,
   "metadata": {
    "collapsed": false
   },
   "outputs": [
    {
     "name": "stdout",
     "output_type": "stream",
     "text": [
      "-rw-r--r--  1 skl  staff  29097 12 Oct 23:49 test4.pdf\r\n"
     ]
    }
   ],
   "source": [
    "!rm test4.pdf\n",
    "doc = SimpleDocTemplate(\"test4.pdf\")\n",
    "Story = [Spacer(1,2*inch)]\n",
    "style = styles[\"Normal\"]\n",
    "styleH1 = styles[\"Heading1\"]\n",
    "styleH2 = styles[\"Heading2\"]\n",
    "\n",
    "for i in range(100): \n",
    "    if i % 10 == 0: \n",
    "        p = Paragraph(\"Headline 1\", styleH1)\n",
    "        Story.append(p)\n",
    "    \n",
    "    if i % 3 == 0: \n",
    "        p = Paragraph(\"Headline 1\", styleH2)\n",
    "        Story.append(p)\n",
    "        \n",
    "    bogustext = lipsum()\n",
    "    p = Paragraph(bogustext, style)\n",
    "    Story.append(p)\n",
    "    Story.append(Spacer(1,0.2*inch))\n",
    "\n",
    "doc.build(Story, onFirstPage=myTitlePage, onLaterPages=myRegularPage)\n",
    "\n",
    "!ls -l test4.pdf"
   ]
  },
  {
   "cell_type": "markdown",
   "metadata": {},
   "source": [
    "### Flowables and frames\n",
    "\n",
    "It is possible to construct a document solely based on flowables and frames"
   ]
  },
  {
   "cell_type": "code",
   "execution_count": 35,
   "metadata": {
    "collapsed": false
   },
   "outputs": [
    {
     "name": "stdout",
     "output_type": "stream",
     "text": [
      "-rw-r--r--  1 skl  staff  2388 12 Oct 23:49 test5.pdf\r\n"
     ]
    }
   ],
   "source": [
    "!rm test5.pdf\n",
    "\n",
    "from reportlab.pdfgen.canvas import Canvas\n",
    "from reportlab.lib.styles import getSampleStyleSheet\n",
    "from reportlab.lib.units import inch\n",
    "from reportlab.platypus import Paragraph, Frame\n",
    "styles = getSampleStyleSheet()\n",
    "styleN = styles['Normal']\n",
    "styleH = styles['Heading1']\n",
    "\n",
    "story = []\n",
    "story.append(Paragraph(\"This is a Heading\",styleH))\n",
    "for i in range(100):\n",
    "    story.append(Paragraph(lipsum(),styleN))\n",
    "    story.append(Spacer(1,0.2*inch))\n",
    "c = Canvas('test5.pdf')\n",
    "f = Frame(3*inch, inch, 3*inch, 9*inch, showBoundary=1)\n",
    "f.addFromList(story,c)\n",
    "c.save()\n",
    "\n",
    "!ls -l test5.pdf"
   ]
  },
  {
   "cell_type": "markdown",
   "metadata": {},
   "source": [
    "### Two column layout\n",
    "[source](http://stackoverflow.com/questions/13720357/reportlab-floating-text-with-two-columns)"
   ]
  },
  {
   "cell_type": "code",
   "execution_count": 36,
   "metadata": {
    "collapsed": false
   },
   "outputs": [
    {
     "name": "stdout",
     "output_type": "stream",
     "text": [
      "-rw-r--r--  1 skl  staff  4015 12 Oct 23:49 test6.pdf\r\n"
     ]
    }
   ],
   "source": [
    "from reportlab.platypus import BaseDocTemplate, Frame, Paragraph, PageBreak, PageTemplate\n",
    "from reportlab.lib.styles import getSampleStyleSheet\n",
    "import random\n",
    "\n",
    "words = \"lorem ipsum dolor sit amet consetetur sadipscing elitr sed diam nonumy eirmod tempor invidunt ut labore et\".split()\n",
    "\n",
    "styles=getSampleStyleSheet()\n",
    "story=[]\n",
    "\n",
    "doc = BaseDocTemplate('test6.pdf',showBoundary=1)\n",
    "\n",
    "frame1 = Frame(doc.leftMargin, doc.bottomMargin, doc.width/2-6, doc.height, id='col1')\n",
    "frame2 = Frame(doc.leftMargin+doc.width/2+6, doc.bottomMargin, doc.width/2-6, doc.height, id='col2')\n",
    "\n",
    "story.append(Paragraph(\" \".join([random.choice(words) for i in range(1000)]),styles['Normal']))\n",
    "doc.addPageTemplates([PageTemplate(id='TwoCol',frames=[frame1,frame2]), ])\n",
    "\n",
    "doc.build(story)\n",
    "\n",
    "!ls -l test6.pdf"
   ]
  },
  {
   "cell_type": "markdown",
   "metadata": {},
   "source": [
    "### Mixed layout, one and two cols, title and back\n",
    "[source](http://code.activestate.com/recipes/123612-basedoctemplate-with-2-pagetemplate/)"
   ]
  },
  {
   "cell_type": "code",
   "execution_count": 37,
   "metadata": {
    "collapsed": false
   },
   "outputs": [
    {
     "name": "stdout",
     "output_type": "stream",
     "text": [
      "-rw-r--r--  1 skl  staff  57213 12 Oct 23:49 test7.pdf\r\n"
     ]
    }
   ],
   "source": [
    "from reportlab.platypus import BaseDocTemplate, Frame, Paragraph, NextPageTemplate, PageBreak, PageTemplate, Image\n",
    "from reportlab.lib.units import inch\n",
    "from reportlab.lib.styles import getSampleStyleSheet\n",
    "\n",
    "doc = BaseDocTemplate('test7.pdf',showBoundary=1)\n",
    "styles=getSampleStyleSheet()\n",
    "story=[]\n",
    "\n",
    "def static_title(canvas,doc):\n",
    "    canvas.saveState()\n",
    "    canvas.drawImage('logo-oditorium-whitebg.jpg',doc.width-2.5*inch,doc.height, width=4*inch, preserveAspectRatio=True)\n",
    "    canvas.setFont('Times-Roman',48)\n",
    "    canvas.drawString(inch, doc.height - 1*inch, \"TITLE\")\n",
    "    canvas.restoreState()\n",
    "    \n",
    "def static_back(canvas,doc):\n",
    "    canvas.saveState()\n",
    "    canvas.setFont('Times-Roman',9)\n",
    "    canvas.drawString(inch, 0.75 * inch, \"Back\")\n",
    "    canvas.restoreState()\n",
    "\n",
    "def static_1col(canvas,doc):\n",
    "    canvas.saveState()\n",
    "    canvas.drawImage('logo-oditorium-whitebg.jpg',doc.width+0.5*inch,doc.height+0.5*inch, width=1*inch, preserveAspectRatio=True)\n",
    "    canvas.setFont('Times-Roman',9)\n",
    "    canvas.drawString(inch, 0.75 * inch, \"One Col - Page %d\" % doc.page)\n",
    "    canvas.restoreState()\n",
    "\n",
    "def static_2col(canvas,doc):\n",
    "    canvas.saveState()\n",
    "    canvas.drawImage('logo-oditorium-whitebg.jpg',doc.width+0.5*inch,doc.height+0.5*inch, width=1*inch, preserveAspectRatio=True)\n",
    "    canvas.setFont('Times-Roman',9)\n",
    "    canvas.drawString(inch, 0.75 * inch, \"Two Col - Page %d\" % doc.page)\n",
    "    canvas.restoreState()\n",
    "\n",
    "frame_title = Frame(doc.leftMargin, doc.bottomMargin, doc.width, doc.height - 5*inch, id='normal')\n",
    "frame_back = Frame(doc.leftMargin, doc.bottomMargin, doc.width, doc.height - 8*inch, id='normal')\n",
    "\n",
    "frame_1col = Frame(doc.leftMargin, doc.bottomMargin, doc.width, doc.height, id='normal')\n",
    "\n",
    "frame1_2col = Frame(doc.leftMargin, doc.bottomMargin, doc.width/2-6, doc.height, id='col1')\n",
    "frame2_2col = Frame(doc.leftMargin+doc.width/2+6, doc.bottomMargin, doc.width/2-6,\n",
    "               doc.height, id='col2')\n",
    "\n",
    "doc.addPageTemplates([\n",
    "        PageTemplate(id='Title',frames=frame_title,onPage=static_title),  \n",
    "        PageTemplate(id='Back',frames=frame_back,onPage=static_back),  \n",
    "        PageTemplate(id='OneCol',frames=frame_1col,onPage=static_1col),  \n",
    "        PageTemplate(id='TwoCol',frames=[frame1_2col,frame2_2col],onPage=static_2col),\n",
    "                      ])\n",
    "\n",
    "\n",
    "story.append(Paragraph(\"Title, \"*100,styles['Normal']))\n",
    "story.append(NextPageTemplate('OneCol'))\n",
    "story.append(PageBreak())\n",
    "for i in range(0,15): \n",
    "    story.append(Paragraph(lipsum(),styles['Normal']))\n",
    "    story.append(Spacer(1,0.2*inch))\n",
    "story.append(NextPageTemplate('TwoCol'))\n",
    "story.append(PageBreak())\n",
    "for i in range(0,15): \n",
    "    story.append(Paragraph(lipsum(),styles['Normal']))\n",
    "    story.append(Spacer(1,0.2*inch))\n",
    "story.append(NextPageTemplate('OneCol'))\n",
    "story.append(PageBreak())\n",
    "for i in range(0,5): \n",
    "    story.append(Paragraph(lipsum(),styles['Normal']))\n",
    "    story.append(Spacer(1,0.2*inch))\n",
    "story.append(Image('graph.png'))\n",
    "for i in range(0,5): \n",
    "    story.append(Paragraph(lipsum(),styles['Normal']))\n",
    "    story.append(Spacer(1,0.2*inch))\n",
    "story.append(NextPageTemplate('Back'))\n",
    "story.append(PageBreak())\n",
    "story.append(Paragraph(\"Back, \"*100,styles['Normal']))\n",
    "\n",
    "doc.build(story)\n",
    "\n",
    "!ls -l test7.pdf"
   ]
  },
  {
   "cell_type": "markdown",
   "metadata": {},
   "source": [
    "#### Landscape"
   ]
  },
  {
   "cell_type": "code",
   "execution_count": 38,
   "metadata": {
    "collapsed": false
   },
   "outputs": [
    {
     "name": "stdout",
     "output_type": "stream",
     "text": [
      "-rw-r--r--  1 skl  staff  10621 12 Oct 23:49 test8.pdf\r\n"
     ]
    }
   ],
   "source": [
    "from reportlab.platypus import BaseDocTemplate, Frame, Paragraph, NextPageTemplate, PageBreak, FrameBreak, PageTemplate, Image\n",
    "from reportlab.lib.units import inch\n",
    "from reportlab.lib.pagesizes import A4, A5, landscape, portrait\n",
    "from reportlab.lib.styles import getSampleStyleSheet\n",
    "\n",
    "doc = BaseDocTemplate('test8.pdf',showBoundary=1, pagesize=landscape(A4))\n",
    "styles=getSampleStyleSheet()\n",
    "story=[]\n",
    "\n",
    "def static_title(canvas,doc):\n",
    "    canvas.saveState()\n",
    "    canvas.setFont('Times-Roman',48)\n",
    "    canvas.drawString(inch, doc.height - 1*inch, \"TITLE\")\n",
    "    canvas.restoreState()\n",
    "    \n",
    "def static_page(canvas,doc):\n",
    "    canvas.saveState()\n",
    "    canvas.setFont('Times-Roman',9)\n",
    "    canvas.drawString(inch, 0.75 * inch, \"Page - Page %d\" % doc.page)\n",
    "    canvas.restoreState()\n",
    "\n",
    "frame_title = Frame(doc.leftMargin, doc.bottomMargin, doc.width, doc.height - 5*inch, id='normal')\n",
    "\n",
    "frame1_page = Frame(doc.leftMargin, doc.bottomMargin, doc.width/2-6, doc.height, id='left')\n",
    "frame2_page = Frame(doc.leftMargin+doc.width/2+6, doc.bottomMargin, doc.width/2-6, doc.height, id='right')\n",
    "\n",
    "doc.addPageTemplates([\n",
    "        PageTemplate(id='Title',frames=frame_title,onPage=static_title),  \n",
    "        PageTemplate(id='Page',frames=[frame1_page, frame2_page],onPage=static_page),  \n",
    "                      ])\n",
    "\n",
    "\n",
    "story.append(Paragraph(\"Title, \"*100,styles['Normal']))\n",
    "story.append(NextPageTemplate('Page'))\n",
    "story.append(PageBreak())\n",
    "story.append(Image('graph.png', width=doc.width/3))\n",
    "story.append(FrameBreak())\n",
    "for i in range(0,2): \n",
    "    story.append(Paragraph(lipsum(),styles['Normal']))\n",
    "    story.append(Spacer(1,0.2*inch))\n",
    "story.append(PageBreak())\n",
    "for i in range(0,2): \n",
    "    story.append(Paragraph(lipsum(),styles['Normal']))\n",
    "    story.append(Spacer(1,0.2*inch))\n",
    "story.append(FrameBreak())\n",
    "story.append(Image('graph.png'))\n",
    "\n",
    "doc.build(story)\n",
    "\n",
    "!ls -l test8.pdf"
   ]
  },
  {
   "cell_type": "markdown",
   "metadata": {},
   "source": [
    "## HTTPServer\n",
    "to get access to the whole current directory, uncomment the below line and navigate the browser to this server's IP address at port `:8080` (note that this command is blocking and needs to be interrupted using the command in the Kernel menu above; this is a feature not a bug, because the server should be only run when needed)"
   ]
  },
  {
   "cell_type": "code",
   "execution_count": 39,
   "metadata": {
    "collapsed": false
   },
   "outputs": [],
   "source": [
    "#!python -m SimpleHTTPServer 8080\n",
    "#!netstat -tulpn\n",
    "#!kill 25239 "
   ]
  }
 ],
 "metadata": {
  "kernelspec": {
   "display_name": "Python 3",
   "language": "python",
   "name": "python3"
  },
  "language_info": {
   "codemirror_mode": {
    "name": "ipython",
    "version": 3
   },
   "file_extension": ".py",
   "mimetype": "text/x-python",
   "name": "python",
   "nbconvert_exporter": "python",
   "pygments_lexer": "ipython3",
   "version": "3.4.3"
  }
 },
 "nbformat": 4,
 "nbformat_minor": 0
}
