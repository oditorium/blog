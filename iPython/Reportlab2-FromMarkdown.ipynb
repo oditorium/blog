{
 "metadata": {
  "name": "",
  "signature": "sha256:0f2227ac40e5f080541cbc78789f81a776c1a8171be39b04eecb6d1e1c94aaec"
 },
 "nbformat": 3,
 "nbformat_minor": 0,
 "worksheets": [
  {
   "cells": [
    {
     "cell_type": "markdown",
     "metadata": {},
     "source": [
      "#Markdown 2 Reportlab"
     ]
    },
    {
     "cell_type": "markdown",
     "metadata": {},
     "source": [
      "## Markdown\n",
      "Here we create some lorem ipsum markdown text for testing"
     ]
    },
    {
     "cell_type": "code",
     "collapsed": false,
     "input": [
      "from IPython.display import HTML\n",
      "import markdown as md"
     ],
     "language": "python",
     "metadata": {},
     "outputs": [],
     "prompt_number": 8
    },
    {
     "cell_type": "code",
     "collapsed": false,
     "input": [
      "l = \"\"\"LOREM ipsum dolor sit amet, _consectetur_ adipiscing elit. Praesent dignissim orci a leo dapibus semper eget sed \n",
      "sem. Pellentesque tellus nisl, condimentum nec libero id, __cursus consequat__ lectus. Ut quis nulla laoreet, efficitur \n",
      "metus sit amet, <strike>viverra dui. Nam tempor ornare urna a consequat</strike>. Nulla dolor velit, sollicitudin sit \n",
      "amet consectetur sed, interdum nec orci. Nunc suscipit tempus est ut porta. <u>Ut non felis a ligula suscipit \n",
      "posuere quis sit amet elit</u>.\"\"\"\n",
      "\n",
      "markdown_text = \"\"\"\n",
      "# Heading1\n",
      "## Heading 2\n",
      "\n",
      "%s %s %s\n",
      "\n",
      "\n",
      "## Heading 2\n",
      "\n",
      "%s\n",
      "\n",
      "- %s\n",
      "- %s\n",
      "- %s\n",
      "\n",
      "## Heading 2\n",
      "\n",
      "%s\n",
      "\n",
      "4. %s\n",
      "4. %s\n",
      "4. %s\n",
      "\n",
      "%s\n",
      "\"\"\" % (l,l,l,l,l,l,l,l,l,l,l,l)"
     ],
     "language": "python",
     "metadata": {},
     "outputs": [],
     "prompt_number": 9
    },
    {
     "cell_type": "code",
     "collapsed": false,
     "input": [
      "#HTML(md.markdown(markdown_text))"
     ],
     "language": "python",
     "metadata": {},
     "outputs": [],
     "prompt_number": 10
    },
    {
     "cell_type": "markdown",
     "metadata": {},
     "source": [
      "## ReportLab\n",
      "import the necessary functions one by one"
     ]
    },
    {
     "cell_type": "code",
     "collapsed": false,
     "input": [
      "from markdown import markdown as md_markdown\n",
      "\n",
      "from xml.etree.ElementTree import fromstring as et_fromstring\n",
      "from xml.etree.ElementTree import tostring as et_tostring\n",
      "\n",
      "from reportlab.platypus import BaseDocTemplate as plat_BaseDocTemplate\n",
      "from reportlab.platypus import Frame as plat_Frame\n",
      "from reportlab.platypus import Paragraph as plat_Paragraph\n",
      "from reportlab.platypus import PageTemplate as plat_PageTemplate\n",
      "\n",
      "from reportlab.lib.styles import getSampleStyleSheet as sty_getSampleStyleSheet\n",
      "from reportlab.lib.pagesizes import A4 as ps_A4\n",
      "from reportlab.lib.pagesizes import A5 as ps_A5\n",
      "from reportlab.lib.pagesizes import landscape as ps_landscape\n",
      "from reportlab.lib.pagesizes import portrait as ps_portrait\n",
      "from reportlab.lib.units import inch as un_inch"
     ],
     "language": "python",
     "metadata": {},
     "outputs": [],
     "prompt_number": 11
    },
    {
     "cell_type": "markdown",
     "metadata": {},
     "source": [
      "The `ReportFactory` class creates a ReportLab document / report object; the idea is that all style information as well as page layouts are collected in this object, so that when a different factory is passed to the writer object the report looks different."
     ]
    },
    {
     "cell_type": "code",
     "collapsed": false,
     "input": [
      "class ReportFactory():\n",
      "    \"\"\"create a Reportlab report object using BaseDocTemplate\n",
      "    \n",
      "    the report creation is a two-step process\n",
      "    \n",
      "    1. instantiate a ReportFactory object\n",
      "    2. retrieve the report using the report() method\n",
      "    \n",
      "    note: as it currently stands the report object is remembered in the\n",
      "    factory object, so another call to report() return the _same_ object;\n",
      "    this means that changing the paramters after report() has been called\n",
      "    for the first time will not have an impact\n",
      "    \"\"\"\n",
      "    \n",
      "    def __init__(self, filename=None):      \n",
      "        if filename == None: filename = 'report_x1.pdf'\n",
      "        # f = open (filename,'wb') -> reports can take a file handle!\n",
      "        self.filename = filename\n",
      "        self.pagesize = ps_portrait(ps_A4)\n",
      "        self.showboundary = 0\n",
      "        #PAGE_HEIGHT=defaultPageSize[1]; PAGE_WIDTH=defaultPageSize[0]\n",
      "        self.styles=sty_getSampleStyleSheet()\n",
      "        self.bullet = \"\\u2022\"\n",
      "        self._report = None\n",
      " \n",
      "    @staticmethod\n",
      "    def static_page(canvas,doc):\n",
      "        \"\"\"template for report page\n",
      "        \n",
      "        this template defines how the standard page looks (header, footer, background\n",
      "        objects; it does _not_ define the flow objects though, as those are separately\n",
      "        passed to the PageTemplate() function)\n",
      "        \"\"\"\n",
      "        canvas.saveState()\n",
      "        canvas.setFont('Times-Roman',9)\n",
      "        canvas.drawString(un_inch, 0.75 * un_inch, \"Report - Page %d\" % doc.page)\n",
      "        canvas.restoreState()\n",
      "    \n",
      "    def refresh_styles(self):\n",
      "        \"\"\"refresh all styles\n",
      "        \n",
      "        derived ReportLab styles need to be refreshed in case the parent style\n",
      "        has been modified; this does not really work though - it seems that the\n",
      "        styles are simply flattened....\n",
      "        \"\"\"\n",
      "        style_names = self.styles.__dict__['byName'].keys()\n",
      "        for name in style_names:\n",
      "            self.styles[name].refresh()\n",
      "            \n",
      "    def report(self):\n",
      "        \"\"\"initialise a report object\n",
      "        \n",
      "        this function initialised and returns a report object, based on the properties\n",
      "        set on the factory object at this point (note: the report object is only generated\n",
      "        _once_ and subsequent calls return the same object;this implies that most property\n",
      "        changes after this function has been called are not taken into account)\n",
      "        \"\"\"\n",
      "        if self._report == None:\n",
      "            rp = plat_BaseDocTemplate(self.filename,showBoundary=self.showboundary, pagesize=self.pagesize)\n",
      "            frame_page = plat_Frame(rp.leftMargin, rp.bottomMargin, rp.width, rp.height, id='main')\n",
      "            pagetemplates = [\n",
      "                plat_PageTemplate(id='Page',frames=frame_page,onPage=self.static_page),\n",
      "            ]\n",
      "            rp.addPageTemplates(pagetemplates)\n",
      "            self._report = rp\n",
      "        return self._report\n",
      "\n",
      "        "
     ],
     "language": "python",
     "metadata": {},
     "outputs": [],
     "prompt_number": 12
    },
    {
     "cell_type": "markdown",
     "metadata": {},
     "source": [
      "The `ReportWriter` object executes the conversion from markdown to pdf. It is currently very simplistic - for example there is no entry hook for starting the conversion at the html level rather than at markdown, and only a few basic tags are implemented. "
     ]
    },
    {
     "cell_type": "code",
     "collapsed": false,
     "input": [
      "class ReportWriter():\n",
      "    \n",
      "    def __init__(self, report_factory):\n",
      "        self._simple_tags = {\n",
      "            'h1'     : 'Heading1',\n",
      "            'h2'     : 'Heading2',\n",
      "            'h3'     : 'Heading3',\n",
      "            'h4'     : 'Heading4',\n",
      "            'h5'     : 'Heading5',\n",
      "            'p'      : 'BodyText',\n",
      "        }\n",
      "        self.rf = report_factory\n",
      "        self.report = report_factory.report();\n",
      "        \n",
      "    def _render_simple_tag(self, el, story):\n",
      "        style_name = self._simple_tags[el.tag]\n",
      "        el.tag = 'para'\n",
      "        text = et_tostring(el)\n",
      "        story.append(plat_Paragraph(text,self.rf.styles[style_name]))\n",
      "        \n",
      "    def _render_ol(self, el, story):\n",
      "        return self._render_error(el, story)\n",
      "    \n",
      "    def _render_ul(self, ul_el, story):\n",
      "        for li_el in ul_el:\n",
      "            li_el.tag = 'para'\n",
      "            text = et_tostring(li_el)\n",
      "            story.append(plat_Paragraph(text,self.rf.styles['Bullet'], bulletText=self.rf.bullet))\n",
      "    \n",
      "    def _render_error(self, el, story):\n",
      "        story.append(plat_Paragraph(\n",
      "            \"<para fg='#ff0000' bg='#ffff00'>cannot render '%s' tag</para>\" % el.tag,self.rf.styles['Normal']))\n",
      "    \n",
      "    @staticmethod\n",
      "    def html_from_markdown(mdown, remove_newline=True, wrap=True):\n",
      "        \"\"\"convert markdown to html\n",
      "        \n",
      "        mdown - the markdown to be converted\n",
      "        remove_newline - if True, all \\n characters are removed after conversion\n",
      "        wrap - if True, the whole html is wrapped in an <html> tag\n",
      "        \"\"\"\n",
      "        html = md_markdown(mdown)\n",
      "        if remove_newline: html = html.replace(\"\\n\", \"\")\n",
      "        if wrap: html = \"<html>\"+html+\"</html>\"\n",
      "        return html\n",
      "    \n",
      "    @staticmethod\n",
      "    def dom_from_html(html, wrap=False):\n",
      "        \"\"\"convert html into a dom tree\n",
      "        \n",
      "        html - the html to be converted\n",
      "        wrap - if True, the whole html is wrapped in an <html> tag \n",
      "        \"\"\"\n",
      "        if wrap: html = \"<html>\"+html+\"</html>\"\n",
      "        dom = et_fromstring(html)\n",
      "        return (dom)\n",
      "    \n",
      "    @staticmethod\n",
      "    def dom_from_markdown(mdown):\n",
      "        \"\"\"convert markdown into a dom tree\n",
      "        \n",
      "        mdown - the markdown to be converted\n",
      "        wrap - if True, the whole html is wrapped in an <html> tag \n",
      "        \"\"\"\n",
      "        html = ReportWriter.html_from_markdown(mdown, remove_newline=True, wrap=True)\n",
      "        dom = ReportWriter.dom_from_html(html, wrap=False)\n",
      "        return (dom)\n",
      "    \n",
      "    def create_report(self, mdown):\n",
      "        \"\"\"create report and write it do disk\n",
      "        \n",
      "        mdown - markdown source of the report\n",
      "        \"\"\"\n",
      "        dom = self.dom_from_markdown(mdown)\n",
      "        story = []\n",
      "        for el in dom:\n",
      "            if el.tag in self._simple_tags:\n",
      "                self._render_simple_tag(el, story)\n",
      "            elif el.tag == 'ul':\n",
      "                self._render_ul(el, story)\n",
      "            elif el.tag == 'ol':\n",
      "                self._render_ol(el, story)\n",
      "            else:\n",
      "                self._render_error(el, story)\n",
      "        self.report.build(story)"
     ],
     "language": "python",
     "metadata": {},
     "outputs": [],
     "prompt_number": 13
    },
    {
     "cell_type": "markdown",
     "metadata": {},
     "source": [
      "create a standard report (A4, black text etc)"
     ]
    },
    {
     "cell_type": "code",
     "collapsed": false,
     "input": [
      "rfa4 = ReportFactory('report_a4.pdf')\n",
      "pdfw = ReportWriter(rfa4)\n",
      "pdfw.create_report(markdown_text*10)"
     ],
     "language": "python",
     "metadata": {},
     "outputs": [],
     "prompt_number": 14
    },
    {
     "cell_type": "markdown",
     "metadata": {},
     "source": [
      "create a second report with different parameters (A5, changed colors etc; the `__dict__` method shows all the options that can be modified for changing styles)"
     ]
    },
    {
     "cell_type": "code",
     "collapsed": false,
     "input": [
      "#rfa5.styles['Normal'].__dict__"
     ],
     "language": "python",
     "metadata": {},
     "outputs": [],
     "prompt_number": 15
    },
    {
     "cell_type": "code",
     "collapsed": false,
     "input": [
      "rfa5 = ReportFactory('report_a5.pdf')\n",
      "rfa5.pagesize = ps_portrait(ps_A5)\n",
      "#rfa5.styles['Normal'].textColor = '#664422'\n",
      "#rfa5.refresh_styles()\n",
      "rfa5.styles['BodyText'].textColor = '#666666'\n",
      "rfa5.styles['Bullet'].textColor   = '#666666'\n",
      "rfa5.styles['Heading1'].textColor = '#000066'\n",
      "rfa5.styles['Heading2'].textColor = '#000066'\n",
      "rfa5.styles['Heading3'].textColor = '#000066'\n"
     ],
     "language": "python",
     "metadata": {},
     "outputs": [],
     "prompt_number": 16
    },
    {
     "cell_type": "code",
     "collapsed": false,
     "input": [
      "pdfw = ReportWriter(rfa5)\n",
      "pdfw.create_report(markdown_text*10)"
     ],
     "language": "python",
     "metadata": {},
     "outputs": [],
     "prompt_number": 17
    }
   ],
   "metadata": {}
  }
 ]
}