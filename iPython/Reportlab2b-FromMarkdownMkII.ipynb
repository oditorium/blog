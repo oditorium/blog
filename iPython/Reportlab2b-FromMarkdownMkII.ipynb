{
 "cells": [
  {
   "cell_type": "markdown",
   "metadata": {},
   "source": [
    "#Markdown 2 Reportlab - Mark II"
   ]
  },
  {
   "cell_type": "markdown",
   "metadata": {},
   "source": [
    "## Markdown\n",
    "Here we create some lorem ipsum markdown text for testing"
   ]
  },
  {
   "cell_type": "code",
   "execution_count": 1,
   "metadata": {
    "collapsed": false
   },
   "outputs": [],
   "source": [
    "from IPython.display import HTML\n",
    "import markdown as md"
   ]
  },
  {
   "cell_type": "code",
   "execution_count": 2,
   "metadata": {
    "collapsed": false
   },
   "outputs": [],
   "source": [
    "l = \"\"\"LOREM ipsum dolor sit amet, _consectetur_ adipiscing elit. Praesent dignissim orci a leo dapibus semper eget sed \n",
    "sem. Pellentesque tellus nisl, condimentum nec libero id, __cursus consequat__ lectus. Ut quis nulla laoreet, efficitur \n",
    "metus sit amet, <strike>viverra dui. Nam tempor ornare urna a consequat</strike>. Nulla dolor velit, sollicitudin sit \n",
    "amet consectetur sed, interdum nec orci. Nunc suscipit tempus est ut porta. <u>Ut non felis a ligula suscipit \n",
    "posuere quis sit amet elit</u>.\"\"\"\n",
    "\n",
    "markdown_text = \"\"\"\n",
    "# Heading1\n",
    "## Heading 2\n",
    "\n",
    "%s %s %s\n",
    "\n",
    "\n",
    "## Heading 2\n",
    "\n",
    "%s\n",
    "\n",
    "- %s\n",
    "- %s\n",
    "- %s\n",
    "\n",
    "## Heading 2\n",
    "\n",
    "%s\n",
    "\n",
    "4. %s\n",
    "4. %s\n",
    "4. %s\n",
    "\n",
    "%s\n",
    "\"\"\" % (l,l,l,l,l,l,l,l,l,l,l,l)"
   ]
  },
  {
   "cell_type": "code",
   "execution_count": 3,
   "metadata": {
    "collapsed": false
   },
   "outputs": [],
   "source": [
    "#HTML(md.markdown(markdown_text))"
   ]
  },
  {
   "cell_type": "markdown",
   "metadata": {},
   "source": [
    "## Images\n",
    "here we create some images for testing"
   ]
  },
  {
   "cell_type": "code",
   "execution_count": 4,
   "metadata": {
    "collapsed": false
   },
   "outputs": [
    {
     "data": {
      "image/png": "[encoded data removed]",
      "text/plain": [
       "<matplotlib.figure.Figure at 0x10d40f278>"
      ]
     },
     "metadata": {},
     "output_type": "display_data"
    },
    {
     "data": {
      "text/plain": [
       "0"
      ]
     },
     "execution_count": 4,
     "metadata": {},
     "output_type": "execute_result"
    }
   ],
   "source": [
    "import matplotlib.pyplot as plt\n",
    "from io import BytesIO\n",
    "\n",
    "fig = plt.figure(figsize=(12, 9))\n",
    "plt.plot([1,2,4,8,16], 'o-', label='First Line')\n",
    "plt.plot([2,4,6,8,10], 'x--', label='Second Line')\n",
    "plt.ylabel('some numbers')\n",
    "plt.xlabel('some numbers')\n",
    "plt.title('some title')\n",
    "plt.legend()\n",
    "plt.show()\n",
    "\n",
    "fig.savefig(\"figure.jpeg\", format='jpeg')\n",
    "imgdata = BytesIO()\n",
    "fig.savefig(imgdata, format='jpeg')\n",
    "imgdata.seek(0)  # rewind the data"
   ]
  },
  {
   "cell_type": "markdown",
   "metadata": {},
   "source": [
    "## ReportLab\n",
    "import the necessary functions one by one"
   ]
  },
  {
   "cell_type": "code",
   "execution_count": 5,
   "metadata": {
    "collapsed": false
   },
   "outputs": [],
   "source": [
    "from markdown import markdown as md_markdown\n",
    "\n",
    "from xml.etree.ElementTree import fromstring as et_fromstring\n",
    "from xml.etree.ElementTree import tostring as et_tostring\n",
    "\n",
    "from PIL import Image\n",
    "\n",
    "#from reportlab.platypus import BaseDocTemplate as plat_BaseDocTemplate\n",
    "#from reportlab.platypus import Frame as plat_Frame\n",
    "#from reportlab.platypus import Paragraph as plat_Paragraph\n",
    "#from reportlab.platypus import Image as plat_Image\n",
    "#from reportlab.platypus import PageTemplate as plat_PageTemplate\n",
    "import reportlab.platypus as plat\n",
    "\n",
    "\n",
    "from reportlab.lib.styles import getSampleStyleSheet as sty_getSampleStyleSheet\n",
    "from reportlab.lib.pagesizes import A4 as ps_A4\n",
    "from reportlab.lib.pagesizes import A5 as ps_A5\n",
    "from reportlab.lib.pagesizes import landscape as ps_landscape\n",
    "from reportlab.lib.pagesizes import portrait as ps_portrait\n",
    "from reportlab.lib.units import inch as un_inch"
   ]
  },
  {
   "cell_type": "markdown",
   "metadata": {},
   "source": [
    "The `ReportFactory` class creates a ReportLab document / report object; the idea is that all style information as well as page layouts are collected in this object, so that when a different factory is passed to the writer object the report looks different."
   ]
  },
  {
   "cell_type": "code",
   "execution_count": 6,
   "metadata": {
    "collapsed": false
   },
   "outputs": [],
   "source": [
    "class ReportFactory():\n",
    "    \"\"\"create a Reportlab report object using BaseDocTemplate\n",
    "    \n",
    "    the report creation is a two-step process\n",
    "    \n",
    "    1. instantiate a ReportFactory object\n",
    "    2. retrieve the report using the report() method\n",
    "    \n",
    "    note: as it currently stands the report object is remembered in the\n",
    "    factory object, so another call to report() return the _same_ object;\n",
    "    this means that changing the paramters after report() has been called\n",
    "    for the first time will not have an impact\n",
    "    \"\"\"\n",
    "    \n",
    "    def __init__(self, filename=None):      \n",
    "        if filename == None: filename = 'report_x1.pdf'\n",
    "        # f = open (filename,'wb') -> reports can take a file handle!\n",
    "        self.filename = filename\n",
    "        self.pagesize = ps_portrait(ps_A4)\n",
    "        self.showboundary = 0\n",
    "        #PAGE_HEIGHT=defaultPageSize[1]; PAGE_WIDTH=defaultPageSize[0]\n",
    "        self.styles=sty_getSampleStyleSheet()\n",
    "        self.bullet = \"\\u2022\"\n",
    "        self._report = None\n",
    " \n",
    "    @staticmethod\n",
    "    def static_page(canvas,doc):\n",
    "        \"\"\"template for report page\n",
    "        \n",
    "        this template defines how the standard page looks (header, footer, background\n",
    "        objects; it does _not_ define the flow objects though, as those are separately\n",
    "        passed to the PageTemplate() function)\n",
    "        \"\"\"\n",
    "        canvas.saveState()\n",
    "        canvas.setFont('Times-Roman',9)\n",
    "        canvas.drawString(un_inch, 0.75 * un_inch, \"Report - Page %d\" % doc.page)\n",
    "        canvas.restoreState()\n",
    "    \n",
    "    def refresh_styles(self):\n",
    "        \"\"\"refresh all styles\n",
    "        \n",
    "        derived ReportLab styles need to be refreshed in case the parent style\n",
    "        has been modified; this does not really work though - it seems that the\n",
    "        styles are simply flattened....\n",
    "        \"\"\"\n",
    "        style_names = self.styles.__dict__['byName'].keys()\n",
    "        for name in style_names:\n",
    "            self.styles[name].refresh()\n",
    "            \n",
    "    def report(self):\n",
    "        \"\"\"initialise a report object\n",
    "        \n",
    "        this function initialised and returns a report object, based on the properties\n",
    "        set on the factory object at this point (note: the report object is only generated\n",
    "        _once_ and subsequent calls return the same object;this implies that most property\n",
    "        changes after this function has been called are not taken into account)\n",
    "        \"\"\"\n",
    "        if self._report == None:\n",
    "            rp = plat.BaseDocTemplate(self.filename,showBoundary=self.showboundary, pagesize=self.pagesize)\n",
    "            frame_page = plat.Frame(rp.leftMargin, rp.bottomMargin, rp.width, rp.height, id='main')\n",
    "            pagetemplates = [\n",
    "                plat.PageTemplate(id='Page',frames=frame_page,onPage=self.static_page),\n",
    "            ]\n",
    "            rp.addPageTemplates(pagetemplates)\n",
    "            self._report = rp\n",
    "        return self._report\n",
    "\n",
    "        "
   ]
  },
  {
   "cell_type": "markdown",
   "metadata": {},
   "source": [
    "The `ReportWriter` object executes the conversion from markdown to pdf. It is currently very simplistic - for example there is no entry hook for starting the conversion at the html level rather than at markdown, and only a few basic tags are implemented. "
   ]
  },
  {
   "cell_type": "code",
   "execution_count": 7,
   "metadata": {
    "collapsed": false
   },
   "outputs": [],
   "source": [
    "class ReportWriter():\n",
    "    \n",
    "    def __init__(self, report_factory):\n",
    "        self._simple_tags = {\n",
    "            'h1'     : 'Heading1',\n",
    "            'h2'     : 'Heading2',\n",
    "            'h3'     : 'Heading3',\n",
    "            'h4'     : 'Heading4',\n",
    "            'h5'     : 'Heading5',\n",
    "            'p'      : 'BodyText',\n",
    "        }\n",
    "        self.rf = report_factory\n",
    "        self.report = report_factory.report()\n",
    "        self.story = []\n",
    "        \n",
    "    def _render_simple_tag(self, el):\n",
    "        style_name = self._simple_tags[el.tag]\n",
    "        el.tag = 'para'\n",
    "        text = et_tostring(el)\n",
    "        self.story.append(plat.Paragraph(text,self.rf.styles[style_name]))\n",
    "        \n",
    "    def _render_ol(self, el):\n",
    "        return self._render_error(el)\n",
    "    \n",
    "    def _render_ul(self, ul_el):\n",
    "        for li_el in ul_el:\n",
    "            li_el.tag = 'para'\n",
    "            text = et_tostring(li_el)\n",
    "            self.story.append(plat.Paragraph(text,self.rf.styles['Bullet'], bulletText=self.rf.bullet))\n",
    "    \n",
    "    def _render_error(self, el):\n",
    "        self.story.append(plat.Paragraph(\n",
    "            \"<para fg='#ff0000' bg='#ffff00'>cannot render '%s' tag</para>\" % el.tag,self.rf.styles['Normal']))\n",
    "    \n",
    "    @staticmethod\n",
    "    def html_from_markdown(mdown, remove_newline=True, wrap=True):\n",
    "        \"\"\"convert markdown to html\n",
    "        \n",
    "        mdown - the markdown to be converted\n",
    "        remove_newline - if True, all \\n characters are removed after conversion\n",
    "        wrap - if True, the whole html is wrapped in an <html> tag\n",
    "        \"\"\"\n",
    "        html = md_markdown(mdown)\n",
    "        if remove_newline: html = html.replace(\"\\n\", \"\")\n",
    "        if wrap: html = \"<html>\"+html+\"</html>\"\n",
    "        return html\n",
    "    \n",
    "    @staticmethod\n",
    "    def dom_from_html(html, wrap=False):\n",
    "        \"\"\"convert html into a dom tree\n",
    "        \n",
    "        html - the html to be converted\n",
    "        wrap - if True, the whole html is wrapped in an <html> tag \n",
    "        \"\"\"\n",
    "        if wrap: html = \"<html>\"+html+\"</html>\"\n",
    "        dom = et_fromstring(html)\n",
    "        return (dom)\n",
    "    \n",
    "    @staticmethod\n",
    "    def dom_from_markdown(mdown):\n",
    "        \"\"\"convert markdown into a dom tree\n",
    "        \n",
    "        mdown - the markdown to be converted\n",
    "        wrap - if True, the whole html is wrapped in an <html> tag \n",
    "        \"\"\"\n",
    "        html = ReportWriter.html_from_markdown(mdown, remove_newline=True, wrap=True)\n",
    "        dom = ReportWriter.dom_from_html(html, wrap=False)\n",
    "        return (dom)\n",
    "    \n",
    "    def append_from_html(self, html, wrap=True):\n",
    "        \"\"\"append to the story from an html text\n",
    "        \n",
    "        html - the html text\n",
    "        wrap - whether the html must be wrapped into a single tag before rendering it into\n",
    "                the DOM tree (the tag itself does not matter, but there must be one single\n",
    "                root tag)\n",
    "        \n",
    "        Note: the html is converted into a DOM element, and then append_from_dom() is called\n",
    "        \"\"\"\n",
    "        dom = self.dom_from_html(html, wrap)\n",
    "        return self._append_from_dom(dom)\n",
    "    \n",
    "    def append_from_mdown(self, mdown):\n",
    "        \"\"\"append to the story from a markdown text\n",
    "        \n",
    "        mdown - the markdown text\n",
    "        \n",
    "        Note: the markdown is first converted into html and then into a DOM element,\n",
    "        and then append_from_dom() is called\n",
    "        \"\"\"\n",
    "        dom = self.dom_from_markdown(mdown)\n",
    "        return self._append_from_dom(dom)\n",
    "        \n",
    "        \n",
    "    def _append_from_dom(self, dom):\n",
    "        \"\"\"append to the story from a dom tree\n",
    "        \n",
    "        dom - the root element of the dom tree (note: the dom tree is modified!)\n",
    "        \n",
    "        Note: usually one would use append_from_mdown() or append_from_html() that in turn\n",
    "        call this function here, rather than calling it directly\n",
    "        \"\"\"\n",
    "        for el in dom:\n",
    "            if el.tag in self._simple_tags:\n",
    "                self._render_simple_tag(el)\n",
    "            elif el.tag == 'ul':\n",
    "                self._render_ul(el)\n",
    "            elif el.tag == 'ol':\n",
    "                self._render_ol(el)\n",
    "            else:\n",
    "                self._render_error(el)\n",
    "        \n",
    "        return self.story\n",
    "    \n",
    "    \n",
    "    def append_from_image(self, imgfile, w=None, h=None):\n",
    "        \"\"\"append an image to the story\n",
    "        \n",
    "        imgfile - an image fileobject (including BytesIO)\n",
    "        w,h - width and height of the image; both None -> page width\n",
    "        \n",
    "        note: ideally the image is in jpeg format\n",
    "        \"\"\"\n",
    "        imgfile.seek(0)\n",
    "        img = Image.open(imgfile)\n",
    "        sx, sy = img.size\n",
    "        ratio = sy/sx\n",
    "        \n",
    "        if w == None and h == None:\n",
    "            w1 = 6*un_inch\n",
    "            h1 = int(ratio * w1)\n",
    "        elif h==None:\n",
    "            w1 = w\n",
    "            h1 = int(ratio * w)\n",
    "        elif w==None:\n",
    "            w1 = int(h/ratio)\n",
    "            h1 = h\n",
    "            \n",
    "        imgfile.seek(0)\n",
    "        plat_im = plat.Image(imgfile, width=w1, height=h1)\n",
    "        plat_im.hAlign = 'CENTER'\n",
    "        self.story.append(plat_im)\n",
    "    \n",
    "    \n",
    "    def append_from_story(self, story):\n",
    "        \"\"\"append to the story from another story (or a single story element)\n",
    "\n",
    "        story - the story array, containing the story elements (or a single story element)\n",
    "        \"\"\"\n",
    "        if type(story) == 'list':\n",
    "            self.story.extend(story)\n",
    "        else:\n",
    "            self.story.append(story)\n",
    "\n",
    "    \n",
    "    def finalise(self):\n",
    "        \"\"\"create the report, based on the story collected in the object\n",
    "        \"\"\"\n",
    "        self.report.build(self.story)"
   ]
  },
  {
   "cell_type": "markdown",
   "metadata": {},
   "source": [
    "## Create Report"
   ]
  },
  {
   "cell_type": "markdown",
   "metadata": {},
   "source": [
    "create a standard report (A4, black text etc)"
   ]
  },
  {
   "cell_type": "code",
   "execution_count": 8,
   "metadata": {
    "collapsed": false
   },
   "outputs": [],
   "source": [
    "rfa4 = ReportFactory('r2port_a4.pdf')\n",
    "pdfw = ReportWriter(rfa4)\n",
    "pdfw.append_from_mdown(markdown_text)\n",
    "pdfw.append_from_image(imgdata)\n",
    "pdfw.append_from_mdown(markdown_text)\n",
    "pdfw.append_from_image(imgdata, h=3*un_inch)\n",
    "pdfw.append_from_mdown(markdown_text)\n",
    "pdfw.append_from_image(imgdata, w=3*un_inch)\n",
    "pdfw.finalise()"
   ]
  }
 ],
 "metadata": {
  "kernelspec": {
   "display_name": "Python 3",
   "language": "python",
   "name": "python3"
  },
  "language_info": {
   "codemirror_mode": {
    "name": "ipython",
    "version": 3
   },
   "file_extension": ".py",
   "mimetype": "text/x-python",
   "name": "python",
   "nbconvert_exporter": "python",
   "pygments_lexer": "ipython3",
   "version": "3.4.3"
  }
 },
 "nbformat": 4,
 "nbformat_minor": 0
}
