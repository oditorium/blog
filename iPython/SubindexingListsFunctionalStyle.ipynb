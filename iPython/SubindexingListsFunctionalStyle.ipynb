{
 "cells": [
  {
   "cell_type": "markdown",
   "metadata": {},
   "source": [
    "# Subindexing list, functional style"
   ]
  },
  {
   "cell_type": "code",
   "execution_count": 1,
   "metadata": {
    "collapsed": false
   },
   "outputs": [],
   "source": [
    "import random"
   ]
  },
  {
   "cell_type": "markdown",
   "metadata": {},
   "source": [
    "The issue is the following: we have a list where one item is a category, and another one is a sortable value. We can easily sort the list appropriately, but we would also like to have a rank function, telling us the place of an item in any category."
   ]
  },
  {
   "cell_type": "code",
   "execution_count": 12,
   "metadata": {
    "collapsed": false
   },
   "outputs": [
    {
     "data": {
      "text/plain": [
       "[(1, 52),\n",
       " (1, 77),\n",
       " (2, 2),\n",
       " (2, 4),\n",
       " (2, 8),\n",
       " (2, 11),\n",
       " (2, 53),\n",
       " (2, 79),\n",
       " (2, 99),\n",
       " (3, 12),\n",
       " (3, 29),\n",
       " (3, 35),\n",
       " (3, 49),\n",
       " (3, 51),\n",
       " (3, 52),\n",
       " (3, 59),\n",
       " (3, 69),\n",
       " (3, 90),\n",
       " (3, 93),\n",
       " (3, 95)]"
      ]
     },
     "execution_count": 12,
     "metadata": {},
     "output_type": "execute_result"
    }
   ],
   "source": [
    "mylist = [(random.randint(1,3),random.randint(1,100)) for x in range(20)]\n",
    "mylist.sort()\n",
    "mylist"
   ]
  },
  {
   "cell_type": "markdown",
   "metadata": {},
   "source": [
    "This rank function is easy to do procedural style but not that easy functional style. It can be done - we introduce a counter function with an appropriate reset"
   ]
  },
  {
   "cell_type": "code",
   "execution_count": 14,
   "metadata": {
    "collapsed": false
   },
   "outputs": [],
   "source": [
    "def new_counter ():\n",
    "    \"\"\" factory function for side-effect counter: count & reset on parameter changes\n",
    "    \n",
    "    assume we have \n",
    "    \n",
    "        counter = new_counter()\n",
    "        \n",
    "    then counter(1) would yield 1,2,3....\n",
    "    however, as soon as the parameter of counter changes, the counter is reset. For example\n",
    "    \n",
    "        counter = new_counter()\n",
    "        counter(1) # 1\n",
    "        counter(1) # 2\n",
    "        counter(1) # 3\n",
    "        counter(1) # 4\n",
    "        counter(2) # 1\n",
    "        counter(2) # 2\n",
    "        ...\n",
    "        \n",
    "    different counter generated from the same factory are independet\n",
    "    \n",
    "        counter_a = new_counter()\n",
    "        counter_b = new_counter()\n",
    "        counter_a(1) # 1\n",
    "        counter_b(1) # 1\n",
    "        counter_a(1) # 2\n",
    "        counter_b(1) # 2\n",
    "\n",
    "    \"\"\"\n",
    "    \n",
    "    counter = 0\n",
    "    old_val = 0\n",
    "    \n",
    "    def f(new_val):\n",
    "        \n",
    "        nonlocal counter\n",
    "        nonlocal old_val\n",
    "        \n",
    "        if old_val != new_val: \n",
    "            counter = 0\n",
    "            old_val = new_val\n",
    "            \n",
    "        counter +=1\n",
    "        return counter\n",
    "\n",
    "    return f"
   ]
  },
  {
   "cell_type": "code",
   "execution_count": 15,
   "metadata": {
    "collapsed": false
   },
   "outputs": [
    {
     "data": {
      "text/plain": [
       "[(1, 1, 52),\n",
       " (1, 2, 77),\n",
       " (2, 1, 2),\n",
       " (2, 2, 4),\n",
       " (2, 3, 8),\n",
       " (2, 4, 11),\n",
       " (2, 5, 53),\n",
       " (2, 6, 79),\n",
       " (2, 7, 99),\n",
       " (3, 1, 12),\n",
       " (3, 2, 29),\n",
       " (3, 3, 35),\n",
       " (3, 4, 49),\n",
       " (3, 5, 51),\n",
       " (3, 6, 52),\n",
       " (3, 7, 59),\n",
       " (3, 8, 69),\n",
       " (3, 9, 90),\n",
       " (3, 10, 93),\n",
       " (3, 11, 95)]"
      ]
     },
     "execution_count": 15,
     "metadata": {},
     "output_type": "execute_result"
    }
   ],
   "source": [
    "counter = new_counter()\n",
    "mylist = [ (x[0],counter(x[0]),x[1]) for x in mylist]\n",
    "mylist"
   ]
  },
  {
   "cell_type": "code",
   "execution_count": null,
   "metadata": {
    "collapsed": false
   },
   "outputs": [],
   "source": []
  }
 ],
 "metadata": {
  "kernelspec": {
   "display_name": "Python 3",
   "language": "python",
   "name": "python3"
  },
  "language_info": {
   "codemirror_mode": {
    "name": "ipython",
    "version": 3
   },
   "file_extension": ".py",
   "mimetype": "text/x-python",
   "name": "python",
   "nbconvert_exporter": "python",
   "pygments_lexer": "ipython3",
   "version": "3.4.3"
  }
 },
 "nbformat": 4,
 "nbformat_minor": 0
}
