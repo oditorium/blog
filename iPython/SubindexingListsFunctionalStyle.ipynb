{
 "metadata": {
  "name": "",
  "signature": "sha256:8d46b47de356cb692150925f34a653396322ca6c8aac93e97761f8b073581fa7"
 },
 "nbformat": 3,
 "nbformat_minor": 0,
 "worksheets": [
  {
   "cells": [
    {
     "cell_type": "markdown",
     "metadata": {},
     "source": [
      "# Subindexing list, functional style"
     ]
    },
    {
     "cell_type": "code",
     "collapsed": false,
     "input": [
      "import random"
     ],
     "language": "python",
     "metadata": {},
     "outputs": [],
     "prompt_number": 1
    },
    {
     "cell_type": "markdown",
     "metadata": {},
     "source": [
      "The issue is the following: we have a list where one item is a category, and another one is a sortable value. We can easily sort the list appropriately, but we would also like to have a rank function, telling us the place of an item in any category."
     ]
    },
    {
     "cell_type": "code",
     "collapsed": false,
     "input": [
      "mylist = [(random.randint(1,3),random.randint(1,100)) for x in range(20)]\n",
      "mylist.sort()\n",
      "mylist"
     ],
     "language": "python",
     "metadata": {},
     "outputs": [
      {
       "metadata": {},
       "output_type": "pyout",
       "prompt_number": 12,
       "text": [
        "[(1, 52),\n",
        " (1, 77),\n",
        " (2, 2),\n",
        " (2, 4),\n",
        " (2, 8),\n",
        " (2, 11),\n",
        " (2, 53),\n",
        " (2, 79),\n",
        " (2, 99),\n",
        " (3, 12),\n",
        " (3, 29),\n",
        " (3, 35),\n",
        " (3, 49),\n",
        " (3, 51),\n",
        " (3, 52),\n",
        " (3, 59),\n",
        " (3, 69),\n",
        " (3, 90),\n",
        " (3, 93),\n",
        " (3, 95)]"
       ]
      }
     ],
     "prompt_number": 12
    },
    {
     "cell_type": "markdown",
     "metadata": {},
     "source": [
      "This rank function is easy to do procedural style but not that easy functional style. It can be done - we introduce a counter function with an appropriate reset"
     ]
    },
    {
     "cell_type": "code",
     "collapsed": false,
     "input": [
      "def new_counter ():\n",
      "    \"\"\" factory function for side-effect counter: count & reset on parameter changes\n",
      "    \n",
      "    assume we have \n",
      "    \n",
      "        counter = new_counter()\n",
      "        \n",
      "    then counter(1) would yield 1,2,3....\n",
      "    however, as soon as the parameter of counter changes, the counter is reset. For example\n",
      "    \n",
      "        counter = new_counter()\n",
      "        counter(1) # 1\n",
      "        counter(1) # 2\n",
      "        counter(1) # 3\n",
      "        counter(1) # 4\n",
      "        counter(2) # 1\n",
      "        counter(2) # 2\n",
      "        ...\n",
      "        \n",
      "    different counter generated from the same factory are independet\n",
      "    \n",
      "        counter_a = new_counter()\n",
      "        counter_b = new_counter()\n",
      "        counter_a(1) # 1\n",
      "        counter_b(1) # 1\n",
      "        counter_a(1) # 2\n",
      "        counter_b(1) # 2\n",
      "\n",
      "    \"\"\"\n",
      "    \n",
      "    counter = 0\n",
      "    old_val = 0\n",
      "    \n",
      "    def f(new_val):\n",
      "        \n",
      "        nonlocal counter\n",
      "        nonlocal old_val\n",
      "        \n",
      "        if old_val != new_val: \n",
      "            counter = 0\n",
      "            old_val = new_val\n",
      "            \n",
      "        counter +=1\n",
      "        return counter\n",
      "\n",
      "    return f"
     ],
     "language": "python",
     "metadata": {},
     "outputs": [],
     "prompt_number": 14
    },
    {
     "cell_type": "code",
     "collapsed": false,
     "input": [
      "counter = new_counter()\n",
      "mylist = [ (x[0],counter(x[0]),x[1]) for x in mylist]\n",
      "mylist"
     ],
     "language": "python",
     "metadata": {},
     "outputs": [
      {
       "metadata": {},
       "output_type": "pyout",
       "prompt_number": 15,
       "text": [
        "[(1, 1, 52),\n",
        " (1, 2, 77),\n",
        " (2, 1, 2),\n",
        " (2, 2, 4),\n",
        " (2, 3, 8),\n",
        " (2, 4, 11),\n",
        " (2, 5, 53),\n",
        " (2, 6, 79),\n",
        " (2, 7, 99),\n",
        " (3, 1, 12),\n",
        " (3, 2, 29),\n",
        " (3, 3, 35),\n",
        " (3, 4, 49),\n",
        " (3, 5, 51),\n",
        " (3, 6, 52),\n",
        " (3, 7, 59),\n",
        " (3, 8, 69),\n",
        " (3, 9, 90),\n",
        " (3, 10, 93),\n",
        " (3, 11, 95)]"
       ]
      }
     ],
     "prompt_number": 15
    },
    {
     "cell_type": "code",
     "collapsed": false,
     "input": [],
     "language": "python",
     "metadata": {},
     "outputs": []
    }
   ],
   "metadata": {}
  }
 ]
}