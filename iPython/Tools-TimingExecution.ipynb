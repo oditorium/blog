{
 "metadata": {
  "name": "",
  "signature": "sha256:4b022d4e94f7de62416a24e0b95d05663c46cf64de5e5d3e97fe68ed21270548"
 },
 "nbformat": 3,
 "nbformat_minor": 0,
 "worksheets": [
  {
   "cells": [
    {
     "cell_type": "markdown",
     "metadata": {},
     "source": [
      "# iPython Cookbook - timing execution\n"
     ]
    },
    {
     "cell_type": "markdown",
     "metadata": {},
     "source": [
      "## Timing function execution using decorators\n",
      "We here define a decorator that at the beginning of the execution remembers the time, and at the end of the exexution prints the time elapse. Note that this is wallclock time, not process time, so it will depend on what else is going on at that moment [source][sof]\n",
      "[sof]:http://stackoverflow.com/questions/15707056/get-time-of-execution-of-a-block-of-code-in-python-2-7\n"
     ]
    },
    {
     "cell_type": "code",
     "collapsed": false,
     "input": [
      "import time\n",
      "\n",
      "def time_usage(func):\n",
      "    def wrapper(*args, **kwargs):\n",
      "        beg_ts = time.time ()\n",
      "        func(*args, **kwargs)\n",
      "        end_ts = time.time ()\n",
      "        print(\"elapsed time: %f\" % (end_ts - beg_ts))\n",
      "    return wrapper"
     ],
     "language": "python",
     "metadata": {},
     "outputs": [],
     "prompt_number": 1
    },
    {
     "cell_type": "markdown",
     "metadata": {},
     "source": [
      "To always time execution of a function, just add the decorator to its definition..."
     ]
    },
    {
     "cell_type": "code",
     "collapsed": false,
     "input": [
      "@time_usage\n",
      "def test():\n",
      "    for i in range(0, 100000):\n",
      "        pass"
     ],
     "language": "python",
     "metadata": {},
     "outputs": [],
     "prompt_number": 2
    },
    {
     "cell_type": "markdown",
     "metadata": {},
     "source": [
      "...and whenever the function is run it will print the time spent in it"
     ]
    },
    {
     "cell_type": "code",
     "collapsed": false,
     "input": [
      "test()"
     ],
     "language": "python",
     "metadata": {},
     "outputs": [
      {
       "output_type": "stream",
       "stream": "stdout",
       "text": [
        "elapsed time: 0.007669\n"
       ]
      }
     ],
     "prompt_number": 3
    },
    {
     "cell_type": "markdown",
     "metadata": {},
     "source": [
      "### Timing code segments\n",
      "This function remembers the time when it is called in a closure, and returns a function that allows to read it out."
     ]
    },
    {
     "cell_type": "code",
     "collapsed": false,
     "input": [
      "import time\n",
      "def new_timer(id=''):\n",
      "    beg_ts = time.time ()\n",
      "    \n",
      "    def finish():\n",
      "        end_ts = time.time ()\n",
      "        print(\"%s elapsed time: %f\" % (id, end_ts - beg_ts))\n",
      "        return end_ts - beg_ts\n",
      "\n",
      "    return finish"
     ],
     "language": "python",
     "metadata": {},
     "outputs": [],
     "prompt_number": 4
    },
    {
     "cell_type": "markdown",
     "metadata": {},
     "source": [
      "The way it works is as follows"
     ]
    },
    {
     "cell_type": "code",
     "collapsed": false,
     "input": [
      "mytimer = new_timer('TIMERID')\n",
      "for i in range(0, 100000):\n",
      "    pass\n",
      "mytimer()"
     ],
     "language": "python",
     "metadata": {},
     "outputs": [
      {
       "output_type": "stream",
       "stream": "stdout",
       "text": [
        "TIMERID elapsed time: 0.010734\n"
       ]
      },
      {
       "metadata": {},
       "output_type": "pyout",
       "prompt_number": 5,
       "text": [
        "0.010734081268310547"
       ]
      }
     ],
     "prompt_number": 5
    },
    {
     "cell_type": "markdown",
     "metadata": {},
     "source": [
      "## Timing snippets using `timeit`\n",
      "\n",
      "For timing the execution time of snippets - eg to compare different ways of programming the same thing - there is a function called `timeit` in the eponymous module [source][source]\n",
      "[source]:https://docs.python.org/2/library/timeit.html"
     ]
    },
    {
     "cell_type": "code",
     "collapsed": false,
     "input": [
      "import timeit\n",
      "timeit.timeit('\"-\".join(str(n) for n in range(100))', number=10000)"
     ],
     "language": "python",
     "metadata": {},
     "outputs": [
      {
       "metadata": {},
       "output_type": "pyout",
       "prompt_number": 6,
       "text": [
        "0.5182996969670057"
       ]
      }
     ],
     "prompt_number": 6
    },
    {
     "cell_type": "code",
     "collapsed": false,
     "input": [
      "timeit.timeit('\"-\".join([str(n) for n in range(100)])', number=10000)"
     ],
     "language": "python",
     "metadata": {},
     "outputs": [
      {
       "metadata": {},
       "output_type": "pyout",
       "prompt_number": 7,
       "text": [
        "0.44942053698468953"
       ]
      }
     ],
     "prompt_number": 7
    },
    {
     "cell_type": "code",
     "collapsed": false,
     "input": [
      "timeit.timeit('\"-\".join(map(str, range(100)))', number=10000)"
     ],
     "language": "python",
     "metadata": {},
     "outputs": [
      {
       "metadata": {},
       "output_type": "pyout",
       "prompt_number": 8,
       "text": [
        "0.3215365270152688"
       ]
      }
     ],
     "prompt_number": 8
    },
    {
     "cell_type": "markdown",
     "metadata": {},
     "source": [
      "## Licence and version\n",
      "*(c) Stefan Loesch / oditorium 2014; all rights reserved \n",
      "([license](https://github.com/oditorium/blog/blob/master/LICENSE))*"
     ]
    },
    {
     "cell_type": "code",
     "collapsed": false,
     "input": [
      "import sys\n",
      "print(sys.version)"
     ],
     "language": "python",
     "metadata": {},
     "outputs": [
      {
       "output_type": "stream",
       "stream": "stdout",
       "text": [
        "3.4.0 (default, Apr 11 2014, 13:05:11) \n",
        "[GCC 4.8.2]\n"
       ]
      }
     ],
     "prompt_number": 9
    }
   ],
   "metadata": {}
  }
 ]
}