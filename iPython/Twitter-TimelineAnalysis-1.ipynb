{
 "cells": [
  {
   "cell_type": "markdown",
   "metadata": {},
   "source": [
    "# Twitter - Timeline Analysis 1"
   ]
  },
  {
   "cell_type": "code",
   "execution_count": 2,
   "metadata": {
    "collapsed": false
   },
   "outputs": [],
   "source": [
    "import pandas as pd\n",
    "import matplotlib.pyplot as plt\n",
    "import glob\n",
    "runlevel = 0"
   ]
  },
  {
   "cell_type": "markdown",
   "metadata": {},
   "source": [
    "## Create timeline\n",
    "\n",
    "The tweets are captured with a simple cronjob that is running the following command every minute\n",
    "\n",
    "    /usr/local/bin/t timeline -n 10 --csv > /root/twitter/capt/twitter-data-`date +%s`.csv\n",
    "    \n",
    "I haven't figured out the API limit yet, so I am only capturing 10 tweets - dont want to get blacklisted. Those files are zipped up with the following commands (the first line deletes empty files which sometimes happen, as they pose problems downstream)\n",
    "\n",
    "    find capt -size  0 -print0 | xargs -0 rm\n",
    "    zip archive.zip capt/*.csv\n",
    "\n",
    "We can copy this one locally using\n",
    "\n",
    "    rsync user@my-twitter-server.com:/path/to/twitter/archive.zip /Users/myname/Dropbox\n",
    "    \n",
    "and we can get a dropbox link to the file that we use to get it locally using `wget`"
   ]
  },
  {
   "cell_type": "code",
   "execution_count": 3,
   "metadata": {
    "collapsed": false
   },
   "outputs": [],
   "source": [
    "if runlevel >= 100:\n",
    "    !wget https://www.dropbox.com/s/xxx/archive.zip?dl=0 -O archive.zip\n",
    "    !unzip -o archive.zip"
   ]
  },
  {
   "cell_type": "markdown",
   "metadata": {},
   "source": [
    "We now glob all the files we have received and concatenate the dataframes corresponding to the csv files, after having renamed the heading  (this is where it falls over if files are of zero length)"
   ]
  },
  {
   "cell_type": "code",
   "execution_count": 217,
   "metadata": {
    "collapsed": false
   },
   "outputs": [],
   "source": [
    "if runlevel >= 95:\n",
    "    filenames = glob.glob('capt/*.csv')\n",
    "    tweets = pd.concat(\n",
    "        [ pd.DataFrame.from_csv(fn).rename(columns = {'Posted at':'time', 'Screen name':'from', 'Text':'text' }) \n",
    "             for fn in filenames\n",
    "        ])\n",
    "    tweets.to_csv('tweets_raw.csv')\n",
    "    tweets.tail()\n",
    "    print (\"==%i== tweet files converted -> tweets_raw.csv\" % len (filenames) )"
   ]
  },
  {
   "cell_type": "code",
   "execution_count": 218,
   "metadata": {
    "collapsed": false
   },
   "outputs": [
    {
     "name": "stdout",
     "output_type": "stream",
     "text": [
      "-rw-r--r-- 1 root root 1025462 Sep  7 08:41 tweets.csv\r\n",
      "-rw-r--r-- 1 root root    8104 Sep  7 08:41 tweets_per_handle.csv\r\n",
      "-rw-r--r-- 1 root root      89 Sep  7 08:41 tweets_per_utc1.csv\r\n",
      "-rw-r--r-- 1 root root  892569 Sep  7 08:41 tweets_raw.csv\r\n"
     ]
    }
   ],
   "source": [
    "ls -l | grep tweets"
   ]
  },
  {
   "cell_type": "code",
   "execution_count": 219,
   "metadata": {
    "collapsed": false
   },
   "outputs": [
    {
     "name": "stdout",
     "output_type": "stream",
     "text": [
      "number of tweets: 5297\n"
     ]
    },
    {
     "data": {
      "text/html": [
       "<div style=\"max-height:1000px;max-width:1500px;overflow:auto;\">\n",
       "<table border=\"1\" class=\"dataframe\">\n",
       "  <thead>\n",
       "    <tr style=\"text-align: right;\">\n",
       "      <th></th>\n",
       "      <th>time</th>\n",
       "      <th>from</th>\n",
       "      <th>text</th>\n",
       "    </tr>\n",
       "    <tr>\n",
       "      <th>ID</th>\n",
       "      <th></th>\n",
       "      <th></th>\n",
       "      <th></th>\n",
       "    </tr>\n",
       "  </thead>\n",
       "  <tbody>\n",
       "    <tr>\n",
       "      <th>508463857913036802</th>\n",
       "      <td> 2014-09-07 03:56:45 +0000</td>\n",
       "      <td>       tomgara</td>\n",
       "      <td>            Is Conrad Hackett a person or an idea?</td>\n",
       "    </tr>\n",
       "    <tr>\n",
       "      <th>508463793504931842</th>\n",
       "      <td> 2014-09-07 03:56:29 +0000</td>\n",
       "      <td>  PaulGambles2</td>\n",
       "      <td> RT @MLutherKingQts: A productive and happy lif...</td>\n",
       "    </tr>\n",
       "    <tr>\n",
       "      <th>508463703197765632</th>\n",
       "      <td> 2014-09-07 03:56:08 +0000</td>\n",
       "      <td>  Sally_Hadidi</td>\n",
       "      <td> Sonoma wine tasting picnics in the sun #Califo...</td>\n",
       "    </tr>\n",
       "    <tr>\n",
       "      <th>508463524062830592</th>\n",
       "      <td> 2014-09-07 03:55:25 +0000</td>\n",
       "      <td>   A_Reader_FT</td>\n",
       "      <td> RT @SaoSasha: You can accuse the Czechs of man...</td>\n",
       "    </tr>\n",
       "    <tr>\n",
       "      <th>508463450109255680</th>\n",
       "      <td> 2014-09-07 03:55:07 +0000</td>\n",
       "      <td> RightWingNews</td>\n",
       "      <td> Even More IRS Empoyees Have “Lost” Emails http...</td>\n",
       "    </tr>\n",
       "  </tbody>\n",
       "</table>\n",
       "<p>5 rows × 3 columns</p>\n",
       "</div>"
      ],
      "text/plain": [
       "                                         time           from  \\\n",
       "ID                                                             \n",
       "508463857913036802  2014-09-07 03:56:45 +0000        tomgara   \n",
       "508463793504931842  2014-09-07 03:56:29 +0000   PaulGambles2   \n",
       "508463703197765632  2014-09-07 03:56:08 +0000   Sally_Hadidi   \n",
       "508463524062830592  2014-09-07 03:55:25 +0000    A_Reader_FT   \n",
       "508463450109255680  2014-09-07 03:55:07 +0000  RightWingNews   \n",
       "\n",
       "                                                                 text  \n",
       "ID                                                                     \n",
       "508463857913036802             Is Conrad Hackett a person or an idea?  \n",
       "508463793504931842  RT @MLutherKingQts: A productive and happy lif...  \n",
       "508463703197765632  Sonoma wine tasting picnics in the sun #Califo...  \n",
       "508463524062830592  RT @SaoSasha: You can accuse the Czechs of man...  \n",
       "508463450109255680  Even More IRS Empoyees Have “Lost” Emails http...  \n",
       "\n",
       "[5 rows x 3 columns]"
      ]
     },
     "execution_count": 219,
     "metadata": {},
     "output_type": "execute_result"
    }
   ],
   "source": [
    "tweets = pd.DataFrame.from_csv('tweets_raw.csv')\n",
    "print (\"number of tweets: %i\" % len(tweets))\n",
    "tweets.head()"
   ]
  },
  {
   "cell_type": "code",
   "execution_count": 220,
   "metadata": {
    "collapsed": false
   },
   "outputs": [],
   "source": [
    "if runlevel >= 90:\n",
    "    from datetime import datetime as dt\n",
    "    def convert_time(t):\n",
    "        o = dt.strptime(t, \"%Y-%m-%d %H:%M:%S %z\")\n",
    "        return o.hour + o.minute/60, o.hour, (o.hour//3)*3, (o.hour//6)*6, (o.hour//12)*12, o.weekday()\n",
    "\n",
    "    df1 = pd.DataFrame([ convert_time(t) for t in tweets['time']], \n",
    "                           columns=['utc', 'utc1', 'utc3', 'utc6', 'utc12', 'wday'], index=tweets.index)\n",
    "    for col in df1.columns:\n",
    "        tweets[col] = df1[col]\n",
    "    tweets.to_csv('tweets.csv')\n",
    "    print (\"reformatted time data (%i tweets)\" % len(tweets))"
   ]
  },
  {
   "cell_type": "markdown",
   "metadata": {},
   "source": [
    "## Basic analysis"
   ]
  },
  {
   "cell_type": "code",
   "execution_count": 221,
   "metadata": {
    "collapsed": false
   },
   "outputs": [
    {
     "data": {
      "text/html": [
       "<div style=\"max-height:1000px;max-width:1500px;overflow:auto;\">\n",
       "<table border=\"1\" class=\"dataframe\">\n",
       "  <thead>\n",
       "    <tr style=\"text-align: right;\">\n",
       "      <th></th>\n",
       "      <th>time</th>\n",
       "      <th>from</th>\n",
       "      <th>text</th>\n",
       "      <th>utc</th>\n",
       "      <th>utc1</th>\n",
       "      <th>utc3</th>\n",
       "      <th>utc6</th>\n",
       "      <th>utc12</th>\n",
       "      <th>wday</th>\n",
       "    </tr>\n",
       "    <tr>\n",
       "      <th>ID</th>\n",
       "      <th></th>\n",
       "      <th></th>\n",
       "      <th></th>\n",
       "      <th></th>\n",
       "      <th></th>\n",
       "      <th></th>\n",
       "      <th></th>\n",
       "      <th></th>\n",
       "      <th></th>\n",
       "    </tr>\n",
       "  </thead>\n",
       "  <tbody>\n",
       "    <tr>\n",
       "      <th>508463857913036802</th>\n",
       "      <td> 2014-09-07 03:56:45 +0000</td>\n",
       "      <td>       tomgara</td>\n",
       "      <td>            Is Conrad Hackett a person or an idea?</td>\n",
       "      <td> 3.933333</td>\n",
       "      <td> 3</td>\n",
       "      <td> 3</td>\n",
       "      <td> 0</td>\n",
       "      <td> 0</td>\n",
       "      <td> 6</td>\n",
       "    </tr>\n",
       "    <tr>\n",
       "      <th>508463793504931842</th>\n",
       "      <td> 2014-09-07 03:56:29 +0000</td>\n",
       "      <td>  PaulGambles2</td>\n",
       "      <td> RT @MLutherKingQts: A productive and happy lif...</td>\n",
       "      <td> 3.933333</td>\n",
       "      <td> 3</td>\n",
       "      <td> 3</td>\n",
       "      <td> 0</td>\n",
       "      <td> 0</td>\n",
       "      <td> 6</td>\n",
       "    </tr>\n",
       "    <tr>\n",
       "      <th>508463703197765632</th>\n",
       "      <td> 2014-09-07 03:56:08 +0000</td>\n",
       "      <td>  Sally_Hadidi</td>\n",
       "      <td> Sonoma wine tasting picnics in the sun #Califo...</td>\n",
       "      <td> 3.933333</td>\n",
       "      <td> 3</td>\n",
       "      <td> 3</td>\n",
       "      <td> 0</td>\n",
       "      <td> 0</td>\n",
       "      <td> 6</td>\n",
       "    </tr>\n",
       "    <tr>\n",
       "      <th>508463524062830592</th>\n",
       "      <td> 2014-09-07 03:55:25 +0000</td>\n",
       "      <td>   A_Reader_FT</td>\n",
       "      <td> RT @SaoSasha: You can accuse the Czechs of man...</td>\n",
       "      <td> 3.916667</td>\n",
       "      <td> 3</td>\n",
       "      <td> 3</td>\n",
       "      <td> 0</td>\n",
       "      <td> 0</td>\n",
       "      <td> 6</td>\n",
       "    </tr>\n",
       "    <tr>\n",
       "      <th>508463450109255680</th>\n",
       "      <td> 2014-09-07 03:55:07 +0000</td>\n",
       "      <td> RightWingNews</td>\n",
       "      <td> Even More IRS Empoyees Have “Lost” Emails http...</td>\n",
       "      <td> 3.916667</td>\n",
       "      <td> 3</td>\n",
       "      <td> 3</td>\n",
       "      <td> 0</td>\n",
       "      <td> 0</td>\n",
       "      <td> 6</td>\n",
       "    </tr>\n",
       "  </tbody>\n",
       "</table>\n",
       "<p>5 rows × 9 columns</p>\n",
       "</div>"
      ],
      "text/plain": [
       "                                         time           from  \\\n",
       "ID                                                             \n",
       "508463857913036802  2014-09-07 03:56:45 +0000        tomgara   \n",
       "508463793504931842  2014-09-07 03:56:29 +0000   PaulGambles2   \n",
       "508463703197765632  2014-09-07 03:56:08 +0000   Sally_Hadidi   \n",
       "508463524062830592  2014-09-07 03:55:25 +0000    A_Reader_FT   \n",
       "508463450109255680  2014-09-07 03:55:07 +0000  RightWingNews   \n",
       "\n",
       "                                                                 text  \\\n",
       "ID                                                                      \n",
       "508463857913036802             Is Conrad Hackett a person or an idea?   \n",
       "508463793504931842  RT @MLutherKingQts: A productive and happy lif...   \n",
       "508463703197765632  Sonoma wine tasting picnics in the sun #Califo...   \n",
       "508463524062830592  RT @SaoSasha: You can accuse the Czechs of man...   \n",
       "508463450109255680  Even More IRS Empoyees Have “Lost” Emails http...   \n",
       "\n",
       "                         utc  utc1  utc3  utc6  utc12  wday  \n",
       "ID                                                           \n",
       "508463857913036802  3.933333     3     3     0      0     6  \n",
       "508463793504931842  3.933333     3     3     0      0     6  \n",
       "508463703197765632  3.933333     3     3     0      0     6  \n",
       "508463524062830592  3.916667     3     3     0      0     6  \n",
       "508463450109255680  3.916667     3     3     0      0     6  \n",
       "\n",
       "[5 rows x 9 columns]"
      ]
     },
     "execution_count": 221,
     "metadata": {},
     "output_type": "execute_result"
    }
   ],
   "source": [
    "tweets = pd.DataFrame.from_csv('tweets.csv')\n",
    "tweets.head()"
   ]
  },
  {
   "cell_type": "markdown",
   "metadata": {},
   "source": [
    "### Tweets per hour"
   ]
  },
  {
   "cell_type": "code",
   "execution_count": 222,
   "metadata": {
    "collapsed": false
   },
   "outputs": [
    {
     "data": {
      "text/plain": [
       "{0, 1, 2, 3, 4, 5, 6, 7, 8, 20, 21, 22, 23}"
      ]
     },
     "execution_count": 222,
     "metadata": {},
     "output_type": "execute_result"
    }
   ],
   "source": [
    "utc1s = {x for x in tweets['utc1']}\n",
    "utc1s"
   ]
  },
  {
   "cell_type": "code",
   "execution_count": 223,
   "metadata": {
    "collapsed": false
   },
   "outputs": [
    {
     "data": {
      "text/plain": [
       "<matplotlib.text.Text at 0x7ff1da6998d0>"
      ]
     },
     "execution_count": 223,
     "metadata": {},
     "output_type": "execute_result"
    },
    {
     "data": {
      "image/png": "[encoded data removed]",
      "text/plain": [
       "<matplotlib.figure.Figure at 0x7ff1daa91630>"
      ]
     },
     "metadata": {},
     "output_type": "display_data"
    }
   ],
   "source": [
    "if runlevel >= 0:\n",
    "    mylist = [  (  utc1, len(tweets[tweets['utc1']==utc1])) for utc1 in utc1s]\n",
    "    mylist.sort(key = lambda x: int(x[0]), reverse=False)\n",
    "    index = [x[0] for x in mylist]\n",
    "    data = [x[1] for x in mylist]\n",
    "    tweets_per_utc1 = pd.DataFrame(data, index=index, columns=['count'])\n",
    "    mylist,index,data = None,None,None\n",
    "    tweets_per_utc1.to_csv('tweets_per_utc1.csv')\n",
    "    \n",
    "tweets_per_utc1 = pd.DataFrame.from_csv('tweets_per_utc1.csv')\n",
    "plt.bar(tweets_per_utc1.index, tweets_per_utc1['count'])\n",
    "plt.title('Tweets per hour (capped; UTC)')"
   ]
  },
  {
   "cell_type": "markdown",
   "metadata": {},
   "source": [
    "Note: because we only get 10 teets per minute this analysis will max out at 600 tweets / hour, regardless of how many tweets are being sent; this *is* a binding constraint, so with the present data this graph is probably not very meaningful"
   ]
  },
  {
   "cell_type": "markdown",
   "metadata": {},
   "source": [
    "### Tweets per sender\n",
    "We first look at the twitter handles that send messages into my timeline (note: for new-style RT's I won't see who RT'd it, and I also might not follow the tweep); we look at some basic stats (#tweets, #tweeps, #tweets/tweep)"
   ]
  },
  {
   "cell_type": "code",
   "execution_count": 224,
   "metadata": {
    "collapsed": false
   },
   "outputs": [],
   "source": [
    "handles = {x for x in tweets['from']}\n",
    "#handles"
   ]
  },
  {
   "cell_type": "code",
   "execution_count": 225,
   "metadata": {
    "collapsed": false
   },
   "outputs": [
    {
     "data": {
      "text/plain": [
       "(5297, 580, 9.13)"
      ]
     },
     "execution_count": 225,
     "metadata": {},
     "output_type": "execute_result"
    }
   ],
   "source": [
    "len(tweets), len(handles), round(len(tweets) / len(handles),2)"
   ]
  },
  {
   "cell_type": "code",
   "execution_count": 226,
   "metadata": {
    "collapsed": false
   },
   "outputs": [
    {
     "data": {
      "text/html": [
       "<div style=\"max-height:1000px;max-width:1500px;overflow:auto;\">\n",
       "<table border=\"1\" class=\"dataframe\">\n",
       "  <thead>\n",
       "    <tr style=\"text-align: right;\">\n",
       "      <th></th>\n",
       "      <th>count</th>\n",
       "    </tr>\n",
       "  </thead>\n",
       "  <tbody>\n",
       "    <tr>\n",
       "      <th>ManchurianDevil</th>\n",
       "      <td> 186</td>\n",
       "    </tr>\n",
       "    <tr>\n",
       "      <th>luvronandez</th>\n",
       "      <td> 143</td>\n",
       "    </tr>\n",
       "    <tr>\n",
       "      <th>CMCMFIN</th>\n",
       "      <td> 120</td>\n",
       "    </tr>\n",
       "    <tr>\n",
       "      <th>Ed_Tech_</th>\n",
       "      <td> 107</td>\n",
       "    </tr>\n",
       "    <tr>\n",
       "      <th>saserief</th>\n",
       "      <td>  86</td>\n",
       "    </tr>\n",
       "    <tr>\n",
       "      <th>beccanalia</th>\n",
       "      <td>  75</td>\n",
       "    </tr>\n",
       "    <tr>\n",
       "      <th>ao_techfreak</th>\n",
       "      <td>  71</td>\n",
       "    </tr>\n",
       "    <tr>\n",
       "      <th>AnnieSage</th>\n",
       "      <td>  69</td>\n",
       "    </tr>\n",
       "    <tr>\n",
       "      <th>Arinobe_SME</th>\n",
       "      <td>  66</td>\n",
       "    </tr>\n",
       "    <tr>\n",
       "      <th>WarrenWhitlock</th>\n",
       "      <td>  61</td>\n",
       "    </tr>\n",
       "    <tr>\n",
       "      <th>katecaldwell</th>\n",
       "      <td>  60</td>\n",
       "    </tr>\n",
       "    <tr>\n",
       "      <th>BenAtkinsonPhD</th>\n",
       "      <td>  55</td>\n",
       "    </tr>\n",
       "    <tr>\n",
       "      <th>dianewitt</th>\n",
       "      <td>  55</td>\n",
       "    </tr>\n",
       "    <tr>\n",
       "      <th>Timothy_Hughes</th>\n",
       "      <td>  52</td>\n",
       "    </tr>\n",
       "    <tr>\n",
       "      <th>TheWarRoom_Tom</th>\n",
       "      <td>  50</td>\n",
       "    </tr>\n",
       "    <tr>\n",
       "      <th>thezhanly</th>\n",
       "      <td>  45</td>\n",
       "    </tr>\n",
       "    <tr>\n",
       "      <th>ISSMAG</th>\n",
       "      <td>  44</td>\n",
       "    </tr>\n",
       "    <tr>\n",
       "      <th>OnlineMagazin</th>\n",
       "      <td>  43</td>\n",
       "    </tr>\n",
       "    <tr>\n",
       "      <th>TheFutureMedia</th>\n",
       "      <td>  40</td>\n",
       "    </tr>\n",
       "    <tr>\n",
       "      <th>elearningfeeds</th>\n",
       "      <td>  39</td>\n",
       "    </tr>\n",
       "  </tbody>\n",
       "</table>\n",
       "<p>20 rows × 1 columns</p>\n",
       "</div>"
      ],
      "text/plain": [
       "                 count\n",
       "ManchurianDevil    186\n",
       "luvronandez        143\n",
       "CMCMFIN            120\n",
       "Ed_Tech_           107\n",
       "saserief            86\n",
       "beccanalia          75\n",
       "ao_techfreak        71\n",
       "AnnieSage           69\n",
       "Arinobe_SME         66\n",
       "WarrenWhitlock      61\n",
       "katecaldwell        60\n",
       "BenAtkinsonPhD      55\n",
       "dianewitt           55\n",
       "Timothy_Hughes      52\n",
       "TheWarRoom_Tom      50\n",
       "thezhanly           45\n",
       "ISSMAG              44\n",
       "OnlineMagazin       43\n",
       "TheFutureMedia      40\n",
       "elearningfeeds      39\n",
       "\n",
       "[20 rows x 1 columns]"
      ]
     },
     "execution_count": 226,
     "metadata": {},
     "output_type": "execute_result"
    }
   ],
   "source": [
    "if runlevel > 80:\n",
    "    mylist = [  (  handle, len(tweets[tweets['from']==handle])  )\n",
    "      for handle in handles]\n",
    "    mylist.sort(key = lambda x: x[1], reverse=True)\n",
    "    index = [x[0] for x in mylist]\n",
    "    data = [x[1] for x in mylist]\n",
    "    tweets_per_handle = pd.DataFrame(data, index=index, columns=['count'])\n",
    "    mylist,index,data = None,None,None\n",
    "    tweets_per_handle.to_csv('tweets_per_handle.csv')\n",
    "    print (\"calculated number of tweets per handle (%i handles)\" % len(handles))\n",
    "\n",
    "tweets_per_handle = pd.DataFrame.from_csv('tweets_per_handle.csv')\n",
    "tweets_per_handle.head(20)"
   ]
  },
  {
   "cell_type": "code",
   "execution_count": 227,
   "metadata": {
    "collapsed": false
   },
   "outputs": [
    {
     "data": {
      "text/plain": [
       "(9.1327586206896552, 4.0)"
      ]
     },
     "execution_count": 227,
     "metadata": {},
     "output_type": "execute_result"
    }
   ],
   "source": [
    "average(tweets_per_handle), median(tweets_per_handle)"
   ]
  },
  {
   "cell_type": "code",
   "execution_count": 239,
   "metadata": {
    "collapsed": false
   },
   "outputs": [
    {
     "data": {
      "text/plain": [
       "<matplotlib.text.Text at 0x7ff1da638208>"
      ]
     },
     "execution_count": 239,
     "metadata": {},
     "output_type": "execute_result"
    },
    {
     "data": {
      "image/png": "[encoded data removed]",
      "text/plain": [
       "<matplotlib.figure.Figure at 0x7ff1da706748>"
      ]
     },
     "metadata": {},
     "output_type": "display_data"
    }
   ],
   "source": [
    "plt.plot(tweets_per_handle)\n",
    "plt.title('Tweets per handle')"
   ]
  },
  {
   "cell_type": "code",
   "execution_count": 229,
   "metadata": {
    "collapsed": false
   },
   "outputs": [
    {
     "data": {
      "text/plain": [
       "[<matplotlib.lines.Line2D at 0x7ff1da798780>]"
      ]
     },
     "execution_count": 229,
     "metadata": {},
     "output_type": "execute_result"
    },
    {
     "data": {
      "image/png": "[encoded data removed]",
      "text/plain": [
       "<matplotlib.figure.Figure at 0x7ff1da7d3c50>"
      ]
     },
     "metadata": {},
     "output_type": "display_data"
    }
   ],
   "source": [
    "plt.plot(tweets_per_handle[:50], '+-')"
   ]
  },
  {
   "cell_type": "code",
   "execution_count": 230,
   "metadata": {
    "collapsed": false
   },
   "outputs": [
    {
     "data": {
      "text/plain": [
       "[<matplotlib.lines.Line2D at 0x7ff1da6f94a8>]"
      ]
     },
     "execution_count": 230,
     "metadata": {},
     "output_type": "execute_result"
    },
    {
     "data": {
      "image/png": "[encoded data removed]",
      "text/plain": [
       "<matplotlib.figure.Figure at 0x7ff1dac22ef0>"
      ]
     },
     "metadata": {},
     "output_type": "display_data"
    }
   ],
   "source": [
    "plt.plot(tweets_per_handle[:10], 'o-')"
   ]
  },
  {
   "cell_type": "markdown",
   "metadata": {},
   "source": [
    "## Streaming API"
   ]
  },
  {
   "cell_type": "code",
   "execution_count": 231,
   "metadata": {
    "collapsed": false
   },
   "outputs": [],
   "source": [
    "import twitter\n",
    "import yaml"
   ]
  },
  {
   "cell_type": "code",
   "execution_count": 232,
   "metadata": {
    "collapsed": false
   },
   "outputs": [
    {
     "name": "stdout",
     "output_type": "stream",
     "text": [
      "-rw-r--r-- 1 root root     226 Sep  7 07:10 twitter_tokens.yaml\r\n"
     ]
    }
   ],
   "source": [
    "if False:\n",
    "    with open(\"twitter_tokens.yaml\", \"w\") as f:\n",
    "        yaml.dump(tok, f, default_flow_style=False)\n",
    "!ls -l | grep yaml"
   ]
  },
  {
   "cell_type": "code",
   "execution_count": 233,
   "metadata": {
    "collapsed": false
   },
   "outputs": [
    {
     "data": {
      "text/plain": [
       "<twitter.oauth.OAuth at 0x7ff1da8c4358>"
      ]
     },
     "execution_count": 233,
     "metadata": {},
     "output_type": "execute_result"
    }
   ],
   "source": [
    "with open(\"twitter_tokens.yaml\", \"r\") as f:\n",
    "    tok = yaml.load(f.read())\n",
    "#tok\n",
    "\n",
    "auth_obj=twitter.OAuth(\n",
    "    token = tok['token'], \n",
    "    token_secret = tok['token_secret'], \n",
    "    consumer_key = tok['consumer_key'], \n",
    "    consumer_secret = tok['consumer_secret']\n",
    ")\n",
    "auth_obj"
   ]
  },
  {
   "cell_type": "code",
   "execution_count": 238,
   "metadata": {
    "collapsed": false
   },
   "outputs": [],
   "source": [
    "#t = twitter.Twitter(auth=auth_obj)"
   ]
  },
  {
   "cell_type": "code",
   "execution_count": 235,
   "metadata": {
    "collapsed": false
   },
   "outputs": [],
   "source": [
    "#status = t.statuses.home_timeline(count=5)\n",
    "#status[0]"
   ]
  },
  {
   "cell_type": "code",
   "execution_count": 237,
   "metadata": {
    "collapsed": false
   },
   "outputs": [],
   "source": [
    "#twitter_stream = twitter.TwitterStream(auth=auth_obj, domain='userstream.twitter.com')\n",
    "twitter_stream = twitter.TwitterStream(auth=auth_obj)\n",
    "#twitterator = twitter_stream.user()\n",
    "#twitterator = twitter_stream.statuses.sample()\n",
    "#twitterator"
   ]
  },
  {
   "cell_type": "code",
   "execution_count": null,
   "metadata": {
    "collapsed": false
   },
   "outputs": [],
   "source": [
    "if False:\n",
    "    import pprint\n",
    "    for tweet in twitterator:\n",
    "        #print ('incoming')\n",
    "        pprint (tweet)\n",
    "    "
   ]
  }
 ],
 "metadata": {
  "kernelspec": {
   "display_name": "Python 3",
   "language": "python",
   "name": "python3"
  },
  "language_info": {
   "codemirror_mode": {
    "name": "ipython",
    "version": 3
   },
   "file_extension": ".py",
   "mimetype": "text/x-python",
   "name": "python",
   "nbconvert_exporter": "python",
   "pygments_lexer": "ipython3",
   "version": "3.4.3"
  }
 },
 "nbformat": 4,
 "nbformat_minor": 0
}
