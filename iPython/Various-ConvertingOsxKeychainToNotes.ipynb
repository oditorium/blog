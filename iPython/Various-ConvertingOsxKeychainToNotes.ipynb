{
 "cells": [
  {
   "cell_type": "markdown",
   "metadata": {},
   "source": [
    "# Converting on OSX Keychain into Text Notes\n",
    "The purpose of this notebook is to export the secured notes from an Apple keychain into separate files. It is pretty rough, but generally this only needs to be done once (at least for me this was the case) so no need to polish\n",
    "\n",
    "> **IMPORTANT NOTICE: Using an iPython Notebook in a browser is not particularly secure. The decrypted data migth end up in the browser cache. Use Private Browsing mode or clear the cache when you are finished**\n",
    "\n",
    "Note: `path` is where the keychain lives and where the notes will be written. It should be an encrypted volume."
   ]
  },
  {
   "cell_type": "code",
   "execution_count": 1,
   "metadata": {
    "collapsed": false
   },
   "outputs": [],
   "source": [
    "path = '/Volumes/---/keychains'"
   ]
  },
  {
   "cell_type": "code",
   "execution_count": 1,
   "metadata": {
    "collapsed": false
   },
   "outputs": [],
   "source": [
    "#!ls -l $path "
   ]
  },
  {
   "cell_type": "markdown",
   "metadata": {},
   "source": [
    "retrieve the titles of all notes, and read them into the array `list_of_notes`"
   ]
  },
  {
   "cell_type": "code",
   "execution_count": 7,
   "metadata": {
    "collapsed": false
   },
   "outputs": [],
   "source": [
    "!security dump $path/test.keychain | grep svce > $path/raw_list_of_notes.txt"
   ]
  },
  {
   "cell_type": "code",
   "execution_count": 8,
   "metadata": {
    "collapsed": false
   },
   "outputs": [],
   "source": [
    "with open(path+\"/raw_list_of_notes.txt\") as f:\n",
    "    content = f.readlines()\n",
    "#content"
   ]
  },
  {
   "cell_type": "code",
   "execution_count": 9,
   "metadata": {
    "collapsed": false
   },
   "outputs": [],
   "source": [
    "import re\n",
    "def f(txt):\n",
    "    m = re.match('.*=\\\"(.*)\\\"', txt)\n",
    "    return m.groups()[0]\n",
    "\n",
    "list_of_notes = list(map (f, content))\n",
    "#list_of_notes"
   ]
  },
  {
   "cell_type": "markdown",
   "metadata": {},
   "source": [
    "now retrieve the text of the notes; we make some very crude regex matching on the raw output here"
   ]
  },
  {
   "cell_type": "code",
   "execution_count": 47,
   "metadata": {
    "collapsed": false
   },
   "outputs": [],
   "source": [
    "def note_text(name):\n",
    "    text = !security find-generic-password -g -s \"$name\" \n",
    "    m = re.match(\".*<key>NOTE</key>.*?<string>(.*)</string>\", text[0])\n",
    "    if m == None: \n",
    "        m = re.match('.*\"(.*)\"', text[0])\n",
    "        if m == None: \n",
    "            return (name, \"-not accessible-\")\n",
    "    return (name, m.groups()[0])\n",
    "\n",
    "def note_text_raw(name):\n",
    "    text = !security find-generic-password -g -s \"$name\" \n",
    "    return (name, text)"
   ]
  },
  {
   "cell_type": "code",
   "execution_count": 50,
   "metadata": {
    "collapsed": false
   },
   "outputs": [],
   "source": [
    "note_contents = list(map(note_text, list_of_notes))"
   ]
  },
  {
   "cell_type": "code",
   "execution_count": 11,
   "metadata": {
    "collapsed": false
   },
   "outputs": [],
   "source": [
    "#note_contents"
   ]
  },
  {
   "cell_type": "code",
   "execution_count": 12,
   "metadata": {
    "collapsed": false
   },
   "outputs": [],
   "source": [
    "import pickle\n",
    "if False:\n",
    "    output = open(path+'/note_contents.pkl', 'wb')\n",
    "    pickle.dump(note_contents, output)\n",
    "    output.close()"
   ]
  },
  {
   "cell_type": "code",
   "execution_count": 13,
   "metadata": {
    "collapsed": false
   },
   "outputs": [],
   "source": [
    "if False:\n",
    "    pkl_file = open(path+'/note_contents.pkl', 'rb')\n",
    "    note_contents1 = pickle.load(pkl_file)\n",
    "    pkl_file.close()"
   ]
  },
  {
   "cell_type": "code",
   "execution_count": 14,
   "metadata": {
    "collapsed": false
   },
   "outputs": [],
   "source": [
    "#note_contents1"
   ]
  },
  {
   "cell_type": "code",
   "execution_count": 60,
   "metadata": {
    "collapsed": false
   },
   "outputs": [],
   "source": [
    "for n in note_contents1:\n",
    "    if n[1] != \"-not accessible-\":\n",
    "        fn = path+'/out/'+n[0].replace(\"/\", \"-\")+\".note\"\n",
    "        output = open(fn, 'w')\n",
    "        text = n[1].replace('\\\\012', '\\n')\n",
    "        output.write(text)\n",
    "        output.close()"
   ]
  }
 ],
 "metadata": {
  "kernelspec": {
   "display_name": "Python 3",
   "language": "python",
   "name": "python3"
  },
  "language_info": {
   "codemirror_mode": {
    "name": "ipython",
    "version": 3
   },
   "file_extension": ".py",
   "mimetype": "text/x-python",
   "name": "python",
   "nbconvert_exporter": "python",
   "pygments_lexer": "ipython3",
   "version": "3.4.3"
  }
 },
 "nbformat": 4,
 "nbformat_minor": 0
}
