{
 "metadata": {
  "name": "",
  "signature": "sha256:90a9f82bf7ead4b52906eb9386d23ad6c80f85be62609c5cb12f421c8f1a2e83"
 },
 "nbformat": 3,
 "nbformat_minor": 0,
 "worksheets": [
  {
   "cells": [
    {
     "cell_type": "markdown",
     "metadata": {},
     "source": [
      "# Converting on OSX Keychain into Text Notes\n",
      "The purpose of this notebook is to export the secured notes from an Apple keychain into separate files. It is pretty rough, but generally this only needs to be done once (at least for me this was the case) so no need to polish\n",
      "\n",
      "> **IMPORTANT NOTICE: Using an iPython Notebook in a browser is not particularly secure. The decrypted data migth end up in the browser cache. Use Private Browsing mode or clear the cache when you are finished**\n",
      "\n",
      "Note: `path` is where the keychain lives and where the notes will be written. It should be an encrypted volume."
     ]
    },
    {
     "cell_type": "code",
     "collapsed": false,
     "input": [
      "path = '/Volumes/---/keychains'"
     ],
     "language": "python",
     "metadata": {},
     "outputs": [],
     "prompt_number": 1
    },
    {
     "cell_type": "code",
     "collapsed": false,
     "input": [
      "#!ls -l $path "
     ],
     "language": "python",
     "metadata": {},
     "outputs": [],
     "prompt_number": 1
    },
    {
     "cell_type": "markdown",
     "metadata": {},
     "source": [
      "retrieve the titles of all notes, and read them into the array `list_of_notes`"
     ]
    },
    {
     "cell_type": "code",
     "collapsed": false,
     "input": [
      "!security dump $path/test.keychain | grep svce > $path/raw_list_of_notes.txt"
     ],
     "language": "python",
     "metadata": {},
     "outputs": [],
     "prompt_number": 7
    },
    {
     "cell_type": "code",
     "collapsed": false,
     "input": [
      "with open(path+\"/raw_list_of_notes.txt\") as f:\n",
      "    content = f.readlines()\n",
      "#content"
     ],
     "language": "python",
     "metadata": {},
     "outputs": [],
     "prompt_number": 8
    },
    {
     "cell_type": "code",
     "collapsed": false,
     "input": [
      "import re\n",
      "def f(txt):\n",
      "    m = re.match('.*=\\\"(.*)\\\"', txt)\n",
      "    return m.groups()[0]\n",
      "\n",
      "list_of_notes = list(map (f, content))\n",
      "#list_of_notes"
     ],
     "language": "python",
     "metadata": {},
     "outputs": [],
     "prompt_number": 9
    },
    {
     "cell_type": "markdown",
     "metadata": {},
     "source": [
      "now retrieve the text of the notes; we make some very crude regex matching on the raw output here"
     ]
    },
    {
     "cell_type": "code",
     "collapsed": false,
     "input": [
      "def note_text(name):\n",
      "    text = !security find-generic-password -g -s \"$name\" \n",
      "    m = re.match(\".*<key>NOTE</key>.*?<string>(.*)</string>\", text[0])\n",
      "    if m == None: \n",
      "        m = re.match('.*\"(.*)\"', text[0])\n",
      "        if m == None: \n",
      "            return (name, \"-not accessible-\")\n",
      "    return (name, m.groups()[0])\n",
      "\n",
      "def note_text_raw(name):\n",
      "    text = !security find-generic-password -g -s \"$name\" \n",
      "    return (name, text)"
     ],
     "language": "python",
     "metadata": {},
     "outputs": [],
     "prompt_number": 47
    },
    {
     "cell_type": "code",
     "collapsed": false,
     "input": [
      "note_contents = list(map(note_text, list_of_notes))"
     ],
     "language": "python",
     "metadata": {},
     "outputs": [],
     "prompt_number": 50
    },
    {
     "cell_type": "code",
     "collapsed": false,
     "input": [
      "#note_contents"
     ],
     "language": "python",
     "metadata": {},
     "outputs": [],
     "prompt_number": 11
    },
    {
     "cell_type": "code",
     "collapsed": false,
     "input": [
      "import pickle\n",
      "if False:\n",
      "    output = open(path+'/note_contents.pkl', 'wb')\n",
      "    pickle.dump(note_contents, output)\n",
      "    output.close()"
     ],
     "language": "python",
     "metadata": {},
     "outputs": [],
     "prompt_number": 12
    },
    {
     "cell_type": "code",
     "collapsed": false,
     "input": [
      "if False:\n",
      "    pkl_file = open(path+'/note_contents.pkl', 'rb')\n",
      "    note_contents1 = pickle.load(pkl_file)\n",
      "    pkl_file.close()"
     ],
     "language": "python",
     "metadata": {},
     "outputs": [],
     "prompt_number": 13
    },
    {
     "cell_type": "code",
     "collapsed": false,
     "input": [
      "#note_contents1"
     ],
     "language": "python",
     "metadata": {},
     "outputs": [],
     "prompt_number": 14
    },
    {
     "cell_type": "code",
     "collapsed": false,
     "input": [
      "for n in note_contents1:\n",
      "    if n[1] != \"-not accessible-\":\n",
      "        fn = path+'/out/'+n[0].replace(\"/\", \"-\")+\".note\"\n",
      "        output = open(fn, 'w')\n",
      "        text = n[1].replace('\\\\012', '\\n')\n",
      "        output.write(text)\n",
      "        output.close()"
     ],
     "language": "python",
     "metadata": {},
     "outputs": [],
     "prompt_number": 60
    }
   ],
   "metadata": {}
  }
 ]
}