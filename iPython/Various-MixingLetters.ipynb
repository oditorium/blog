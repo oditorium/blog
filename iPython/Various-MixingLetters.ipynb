{
 "metadata": {
  "name": "",
  "signature": "sha256:4cf922dcdb05951df15f534724eb7caa8ab302623a2339752e4c203bd3d0a312"
 },
 "nbformat": 3,
 "nbformat_minor": 0,
 "worksheets": [
  {
   "cells": [
    {
     "cell_type": "markdown",
     "metadata": {},
     "source": [
      "# Various-MixingLetters\n",
      "\n",
      "testing how readable a text becomes when all words are garbled, with only the firt and last letter in place (ht [Sony Kapoor](https://twitter.com/SonyKapoor/status/503080673054588928) and [Danny](https://twitter.com/fareastdan/status/503123328261832705))"
     ]
    },
    {
     "cell_type": "code",
     "collapsed": false,
     "input": [
      "from numpy.random import permutation\n",
      "\n",
      "def garblew(w):\n",
      "    if len(w) < 4: return w\n",
      "    return w[0]+\"\".join(list(permutation(list(w[1:-1]))))+w[-1]\n",
      "\n",
      "def garble(txt):\n",
      "    txt = txt.replace(\".\", \"\").replace(\";\", \"\").replace(\",\",\"\").replace(\"!\",\"\").replace(\"?\",\"\").lower()\n",
      "    words = txt.split()\n",
      "    pwords = map(garblew, words)\n",
      "    gtext = \" \".join(pwords)\n",
      "    return gtext   "
     ],
     "language": "python",
     "metadata": {},
     "outputs": [],
     "prompt_number": 1
    },
    {
     "cell_type": "code",
     "collapsed": false,
     "input": [
      "text1 = \"The narrator explains that, as a young boy, he once drew a picture of a boa constrictor with an elephant digesting in its stomach; however, every adult who saw the picture would mistakenly interpret it as a drawing of a hat. Whenever the narrator would try to correct this confusion, he was ultimately advised to set aside drawing and take up a more practical or mature hobby. The narrator laments the lack of creative understanding displayed by adults.\"\n",
      "garble(text1)"
     ],
     "language": "python",
     "metadata": {},
     "outputs": [
      {
       "metadata": {},
       "output_type": "pyout",
       "prompt_number": 2,
       "text": [
        "'the ntroraar enxaipls taht as a yunog boy he once drew a piurtce of a boa cscrttinoor with an epahlnet dgtienisg in its soctmah hwveeor evrey auldt who saw the piutrce wluod maeitsnkly irtrenept it as a dawrnig of a hat wvnheeer the ntaoarrr wolud try to crocret this cofuinosn he was ullmaittey avidsed to set aidse dranwig and take up a more ptarcacil or mrutae hbboy the ntaorrar lnteams the lack of cavritee uasnidrtdnneg dplasieyd by audlts'"
       ]
      }
     ],
     "prompt_number": 2
    },
    {
     "cell_type": "code",
     "collapsed": false,
     "input": [
      "text2 = \"I am solicited, not by a few, And those of true condition, that your subjects Are in great grievance: there have been commissions Sent down among them which hath flawed the heart Of all their loyalties; wherein, although, My good Lord Cardinal, they vent reproaches Most bitterly on you as putter on Of these exactions, yet the King our master Whose honour Heaven shield from soil even he escapes not Language unmannerly; yea, such which breaks The sides of loyalty, and almost appears In loud rebellion.\"\n",
      "garble(text2)"
     ],
     "language": "python",
     "metadata": {},
     "outputs": [
      {
       "metadata": {},
       "output_type": "pyout",
       "prompt_number": 3,
       "text": [
        "'i am sceltiiod not by a few and those of ture cdtiionon that your sutcjebs are in graet gcaenrevi: terhe hvae been cismnmoioss snet dwon anomg tehm wichh hath falwed the herat of all tehir laoitleys wreiehn alhtoguh my good lord craindal they vent rrpaoehecs most brittely on you as putetr on of tehse eionctxas yet the knig our msaetr woshe hounor haeven silhed form siol eevn he eacspes not lnauagge umanrnleny yea scuh whcih bkreas the sdeis of lltayoy and amslot aapreps in loud reoelbiln'"
       ]
      }
     ],
     "prompt_number": 3
    },
    {
     "cell_type": "code",
     "collapsed": false,
     "input": [
      "text3=\"Wozu der L\u00e4rm? was steht dem Herrn zu Diensten? Das also war des Pudels Kern! Ein fahrender Skolast? Der Kasus macht mich lachen. Ich salutiere den gelehrten Herrn! Ihr habt mich weidlich schwitzen machen. Wie nennst du dich? Die Frage scheint mir klein F\u00fcr einen, der das Wort so sehr verachtet, Der, weit entfernt von allem Schein, Nur in der Wesen Tiefe trachtet. Bei euch, ihr Herrn, kann man das Wesen Gew\u00f6hnlich aus dem Namen lesen, Wo es sich allzu deutlich weist, Wenn man euch Fliegengott, Verderber, L\u00fcgner hei\u00dft. Nun gut, wer bist du denn? Ein Teil von jener Kraft, Die stets das B\u00f6se will und stets das Gute schafft. Was ist mit diesem R\u00e4tselwort gemeint? Ich bin der Geist, der stets verneint! Und das mit Recht; denn alles, was entsteht, Ist wert, da\u00df es zugrunde geht; Drum besser w\u00e4rs, da\u00df nichts entst\u00fcnde. So ist denn alles, was ihr S\u00fcnde, Zerst\u00f6rung, kurz, das B\u00f6se nennt, Mein eigentliches Element.\"\n",
      "garble(text3)"
     ],
     "language": "python",
     "metadata": {},
     "outputs": [
      {
       "metadata": {},
       "output_type": "pyout",
       "prompt_number": 4,
       "text": [
        "'wozu der lr\u00e4m was sehtt dem hrren zu dsteienn das aslo war des peudls kern ein fahrndeer solskat der kauss macht mcih lacehn ich sruatelie den gerhlteen herrn ihr habt mcih wicliedh seczihwtn mceahn wie nnsnet du dich die frgae scihent mir klein f\u00fcr eenin der das wort so sehr veaerctht der weit enrtfent von aellm schien nur in der weesn teife tthcaret bei euch ihr herrn knan man das wseen ghlei\u00f6wnch aus dem namen leesn wo es sich allzu deciulth wseit wenn man ecuh fgolientget vrreebedr ln\u00fcegr hei\u00dft nun gut wer bsit du denn ein tiel von jener kafrt die sttes das bs\u00f6e will und setts das gtue scahfft was ist mit dsieem rt\u00e4rowselt gemneit ich bin der gesit der stets vnnieret und das mit rceht dnen alles was enthetst ist wert da\u00df es zugdrnue ghet drum beessr w\u00e4rs da\u00df ntichs ed\u00fctnnste so ist denn alles was ihr sn\u00fcde zunr\u00f6erstg kurz das b\u00f6se nnent mein eiinecgthels eenelmt'"
       ]
      }
     ],
     "prompt_number": 4
    },
    {
     "cell_type": "code",
     "collapsed": false,
     "input": [
      "text4=\"En un lugar de la Mancha, de cuyo nombre no quiero acordarme, no ha mucho tiempo que viv\u00eda un hidalgo de los de lanza en astillero, adarga antigua, roc\u00edn flaco y galgo corredor. Una olla de algo m\u00e1s vaca que carnero, salpic\u00f3n las m\u00e1s noches, duelos y quebrantos los s\u00e1bados, lantejas los viernes, alg\u00fan palomino de a\u00f1adidura los domingos, consum\u00edan las tres partes de su hacienda. El resto della conclu\u00edan sayo de velarte, calzas de velludo para las fiestas, con sus pantuflos de lo mesmo, y los d\u00edas de entresemana se honraba con su vellor\u00ed de lo m\u00e1s fino. Ten\u00eda en su casa una ama que pasaba de los cuarenta, y una sobrina que no llegaba a los veinte, y un mozo de campo y plaza, que as\u00ed ensillaba el roc\u00edn como tomaba la podadera. Frisaba la edad de nuestro hidalgo con los cincuenta a\u00f1os; era de complexi\u00f3n recia, seco de carnes, enjuto de rostro, gran madrugador y amigo de la caza. Quieren decir que ten\u00eda el sobrenombre de Quijada, o Quesada, que en esto hay alguna diferencia en los autores que deste caso escriben; aunque, por conjeturas veros\u00edmiles, se deja entender que se llamaba Quejana. Pero esto importa poco a nuestro cuento; basta que en la narraci\u00f3n d\u00e9l no se salga un punto de la verdad.\"\n",
      "garble(text4)"
     ],
     "language": "python",
     "metadata": {},
     "outputs": [
      {
       "metadata": {},
       "output_type": "pyout",
       "prompt_number": 5,
       "text": [
        "'en un lugar de la mhcana de cuyo nombre no qeurio arcmaorde no ha mhcuo tmiepo que vv\u00edia un hagildo de los de lznaa en alirtlseo adrgaa atgunia r\u00edocn fcalo y ggalo codreror una olla de algo m\u00e1s vaca que craenro sl\u00f3ciapn las m\u00e1s nhecos deuols y qetuarobns los sb\u00e1daos lejnaats los vneeirs a\u00fagln piomalno de aardd\u00f1uia los domgonis c\u00eduaosmnn las tres prteas de su hcindeaa el rseto della ccanluo\u00edn syao de varlete cazals de vudlelo praa las fasteis con sus putalfons de lo mmseo y los da\u00eds de eanmretsnea se hbaonra con su vrello\u00ed de lo m\u00e1s fino t\u00ednea en su casa una ama que psbaaa de los crntauea y una srbnoia que no llbegaa a los vetnie y un mzoo de cpamo y plaza que as\u00ed einblsala el r\u00edocn como tmobaa la pddeaora frsabia la eadd de nusrteo hglidao con los ceuintnca ao\u00f1s era de cmlie\u00f3poxn reica sceo de cerans entjuo de rtosro garn mgadruoadr y amigo de la caza qeeurin dicer que ten\u00eda el smbonorerbe de qaiudja o qaudsea que en etso hay anluga dieinfecra en los aruteos que dstee csao ebiscern anuuqe por carotneujs vrlm\u00edseioes se djea edtnneer que se lbmaala qunejaa preo esto imrtopa pcoo a nerstuo cteuno btsaa que en la nra\u00f3ircan d\u00e9l no se slaga un pntuo de la veadrd'"
       ]
      }
     ],
     "prompt_number": 5
    }
   ],
   "metadata": {}
  }
 ]
}