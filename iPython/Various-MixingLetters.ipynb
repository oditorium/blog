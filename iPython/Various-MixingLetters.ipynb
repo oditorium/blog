{
 "cells": [
  {
   "cell_type": "markdown",
   "metadata": {},
   "source": [
    "# Various-MixingLetters\n",
    "\n",
    "testing how readable a text becomes when all words are garbled, with only the firt and last letter in place (ht [Sony Kapoor](https://twitter.com/SonyKapoor/status/503080673054588928) and [Danny](https://twitter.com/fareastdan/status/503123328261832705))"
   ]
  },
  {
   "cell_type": "code",
   "execution_count": 1,
   "metadata": {
    "collapsed": false
   },
   "outputs": [],
   "source": [
    "from numpy.random import permutation\n",
    "\n",
    "def garblew(w):\n",
    "    if len(w) < 4: return w\n",
    "    return w[0]+\"\".join(list(permutation(list(w[1:-1]))))+w[-1]\n",
    "\n",
    "def garble(txt):\n",
    "    txt = txt.replace(\".\", \"\").replace(\";\", \"\").replace(\",\",\"\").replace(\"!\",\"\").replace(\"?\",\"\").lower()\n",
    "    words = txt.split()\n",
    "    pwords = map(garblew, words)\n",
    "    gtext = \" \".join(pwords)\n",
    "    return gtext   "
   ]
  },
  {
   "cell_type": "code",
   "execution_count": 2,
   "metadata": {
    "collapsed": false
   },
   "outputs": [
    {
     "data": {
      "text/plain": [
       "'the ntroraar enxaipls taht as a yunog boy he once drew a piurtce of a boa cscrttinoor with an epahlnet dgtienisg in its soctmah hwveeor evrey auldt who saw the piutrce wluod maeitsnkly irtrenept it as a dawrnig of a hat wvnheeer the ntaoarrr wolud try to crocret this cofuinosn he was ullmaittey avidsed to set aidse dranwig and take up a more ptarcacil or mrutae hbboy the ntaorrar lnteams the lack of cavritee uasnidrtdnneg dplasieyd by audlts'"
      ]
     },
     "execution_count": 2,
     "metadata": {},
     "output_type": "execute_result"
    }
   ],
   "source": [
    "text1 = \"The narrator explains that, as a young boy, he once drew a picture of a boa constrictor with an elephant digesting in its stomach; however, every adult who saw the picture would mistakenly interpret it as a drawing of a hat. Whenever the narrator would try to correct this confusion, he was ultimately advised to set aside drawing and take up a more practical or mature hobby. The narrator laments the lack of creative understanding displayed by adults.\"\n",
    "garble(text1)"
   ]
  },
  {
   "cell_type": "code",
   "execution_count": 3,
   "metadata": {
    "collapsed": false
   },
   "outputs": [
    {
     "data": {
      "text/plain": [
       "'i am sceltiiod not by a few and those of ture cdtiionon that your sutcjebs are in graet gcaenrevi: terhe hvae been cismnmoioss snet dwon anomg tehm wichh hath falwed the herat of all tehir laoitleys wreiehn alhtoguh my good lord craindal they vent rrpaoehecs most brittely on you as putetr on of tehse eionctxas yet the knig our msaetr woshe hounor haeven silhed form siol eevn he eacspes not lnauagge umanrnleny yea scuh whcih bkreas the sdeis of lltayoy and amslot aapreps in loud reoelbiln'"
      ]
     },
     "execution_count": 3,
     "metadata": {},
     "output_type": "execute_result"
    }
   ],
   "source": [
    "text2 = \"I am solicited, not by a few, And those of true condition, that your subjects Are in great grievance: there have been commissions Sent down among them which hath flawed the heart Of all their loyalties; wherein, although, My good Lord Cardinal, they vent reproaches Most bitterly on you as putter on Of these exactions, yet the King our master Whose honour Heaven shield from soil even he escapes not Language unmannerly; yea, such which breaks The sides of loyalty, and almost appears In loud rebellion.\"\n",
    "garble(text2)"
   ]
  },
  {
   "cell_type": "code",
   "execution_count": 4,
   "metadata": {
    "collapsed": false
   },
   "outputs": [
    {
     "data": {
      "text/plain": [
       "'wozu der lräm was sehtt dem hrren zu dsteienn das aslo war des peudls kern ein fahrndeer solskat der kauss macht mcih lacehn ich sruatelie den gerhlteen herrn ihr habt mcih wicliedh seczihwtn mceahn wie nnsnet du dich die frgae scihent mir klein für eenin der das wort so sehr veaerctht der weit enrtfent von aellm schien nur in der weesn teife tthcaret bei euch ihr herrn knan man das wseen ghleiöwnch aus dem namen leesn wo es sich allzu deciulth wseit wenn man ecuh fgolientget vrreebedr lnüegr heißt nun gut wer bsit du denn ein tiel von jener kafrt die sttes das bsöe will und setts das gtue scahfft was ist mit dsieem rtärowselt gemneit ich bin der gesit der stets vnnieret und das mit rceht dnen alles was enthetst ist wert daß es zugdrnue ghet drum beessr wärs daß ntichs edütnnste so ist denn alles was ihr snüde zunröerstg kurz das böse nnent mein eiinecgthels eenelmt'"
      ]
     },
     "execution_count": 4,
     "metadata": {},
     "output_type": "execute_result"
    }
   ],
   "source": [
    "text3=\"Wozu der Lärm? was steht dem Herrn zu Diensten? Das also war des Pudels Kern! Ein fahrender Skolast? Der Kasus macht mich lachen. Ich salutiere den gelehrten Herrn! Ihr habt mich weidlich schwitzen machen. Wie nennst du dich? Die Frage scheint mir klein Für einen, der das Wort so sehr verachtet, Der, weit entfernt von allem Schein, Nur in der Wesen Tiefe trachtet. Bei euch, ihr Herrn, kann man das Wesen Gewöhnlich aus dem Namen lesen, Wo es sich allzu deutlich weist, Wenn man euch Fliegengott, Verderber, Lügner heißt. Nun gut, wer bist du denn? Ein Teil von jener Kraft, Die stets das Böse will und stets das Gute schafft. Was ist mit diesem Rätselwort gemeint? Ich bin der Geist, der stets verneint! Und das mit Recht; denn alles, was entsteht, Ist wert, daß es zugrunde geht; Drum besser wärs, daß nichts entstünde. So ist denn alles, was ihr Sünde, Zerstörung, kurz, das Böse nennt, Mein eigentliches Element.\"\n",
    "garble(text3)"
   ]
  },
  {
   "cell_type": "code",
   "execution_count": 5,
   "metadata": {
    "collapsed": false
   },
   "outputs": [
    {
     "data": {
      "text/plain": [
       "'en un lugar de la mhcana de cuyo nombre no qeurio arcmaorde no ha mhcuo tmiepo que vvíia un hagildo de los de lznaa en alirtlseo adrgaa atgunia ríocn fcalo y ggalo codreror una olla de algo más vaca que craenro slóciapn las más nhecos deuols y qetuarobns los sbádaos lejnaats los vneeirs aúgln piomalno de aarddñuia los domgonis cíuaosmnn las tres prteas de su hcindeaa el rseto della ccanluoín syao de varlete cazals de vudlelo praa las fasteis con sus putalfons de lo mmseo y los daís de eanmretsnea se hbaonra con su vrelloí de lo más fino tínea en su casa una ama que psbaaa de los crntauea y una srbnoia que no llbegaa a los vetnie y un mzoo de cpamo y plaza que así einblsala el ríocn como tmobaa la pddeaora frsabia la eadd de nusrteo hglidao con los ceuintnca aoñs era de cmlieópoxn reica sceo de cerans entjuo de rtosro garn mgadruoadr y amigo de la caza qeeurin dicer que tenía el smbonorerbe de qaiudja o qaudsea que en etso hay anluga dieinfecra en los aruteos que dstee csao ebiscern anuuqe por carotneujs vrlmíseioes se djea edtnneer que se lbmaala qunejaa preo esto imrtopa pcoo a nerstuo cteuno btsaa que en la nraóircan dél no se slaga un pntuo de la veadrd'"
      ]
     },
     "execution_count": 5,
     "metadata": {},
     "output_type": "execute_result"
    }
   ],
   "source": [
    "text4=\"En un lugar de la Mancha, de cuyo nombre no quiero acordarme, no ha mucho tiempo que vivía un hidalgo de los de lanza en astillero, adarga antigua, rocín flaco y galgo corredor. Una olla de algo más vaca que carnero, salpicón las más noches, duelos y quebrantos los sábados, lantejas los viernes, algún palomino de añadidura los domingos, consumían las tres partes de su hacienda. El resto della concluían sayo de velarte, calzas de velludo para las fiestas, con sus pantuflos de lo mesmo, y los días de entresemana se honraba con su vellorí de lo más fino. Tenía en su casa una ama que pasaba de los cuarenta, y una sobrina que no llegaba a los veinte, y un mozo de campo y plaza, que así ensillaba el rocín como tomaba la podadera. Frisaba la edad de nuestro hidalgo con los cincuenta años; era de complexión recia, seco de carnes, enjuto de rostro, gran madrugador y amigo de la caza. Quieren decir que tenía el sobrenombre de Quijada, o Quesada, que en esto hay alguna diferencia en los autores que deste caso escriben; aunque, por conjeturas verosímiles, se deja entender que se llamaba Quejana. Pero esto importa poco a nuestro cuento; basta que en la narración dél no se salga un punto de la verdad.\"\n",
    "garble(text4)"
   ]
  }
 ],
 "metadata": {
  "kernelspec": {
   "display_name": "Python 3",
   "language": "python",
   "name": "python3"
  },
  "language_info": {
   "codemirror_mode": {
    "name": "ipython",
    "version": 3
   },
   "file_extension": ".py",
   "mimetype": "text/x-python",
   "name": "python",
   "nbconvert_exporter": "python",
   "pygments_lexer": "ipython3",
   "version": "3.4.3"
  }
 },
 "nbformat": 4,
 "nbformat_minor": 0
}
